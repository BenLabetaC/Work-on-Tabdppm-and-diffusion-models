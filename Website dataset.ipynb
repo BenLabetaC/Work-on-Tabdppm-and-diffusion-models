{
 "cells": [
  {
   "cell_type": "code",
   "execution_count": 3,
   "id": "22764166",
   "metadata": {},
   "outputs": [],
   "source": [
    "import argparse\n",
    "import os\n",
    "import datasets\n",
    "import torch\n",
    "import math\n",
    "import matplotlib.pyplot as plt\n",
    "import numpy as np\n",
    "import pandas as pd\n",
    "import ddpm\n",
    "import seaborn as sns\n",
    "\n",
    "from torch import nn\n",
    "from torch.nn import functional as F\n",
    "from torch.utils.data import DataLoader, TensorDataset , Dataset\n",
    "\n",
    "from tqdm.auto import tqdm\n",
    "\n",
    "from positional_embeddings import PositionalEmbedding\n",
    "\n",
    "\n",
    "from sklearn.model_selection import train_test_split\n",
    "from sklearn.preprocessing import PolynomialFeatures, StandardScaler\n",
    "from sklearn.linear_model import LinearRegression , Lasso\n",
    "from sklearn.tree import DecisionTreeRegressor\n",
    "from sklearn.tree import plot_tree\n",
    "from sklearn.decomposition import PCA\n",
    "\n",
    "from scipy import stats\n",
    "from scipy.stats import chi2_contingency\n",
    "from statsmodels.formula.api import logit\n"
   ]
  },
  {
   "cell_type": "code",
   "execution_count": 4,
   "id": "189cddd2",
   "metadata": {},
   "outputs": [],
   "source": [
    "class Block(nn.Module):\n",
    "    def __init__(self, size: int):\n",
    "        super().__init__()\n",
    "        self.ff = nn.Linear(size, size)              # Couche linéaire\n",
    "        self.act = nn.GELU()                         # Fonction d'activation GELU\n",
    "\n",
    "    def forward(self, x: torch.Tensor):\n",
    "        return x + self.act(self.ff(x))              # Residual connection\n",
    "\n",
    "\n",
    "class MLP(nn.Module):\n",
    "    def __init__(self, input_dim: int, hidden_size: int = 128, hidden_layers: int = 3,\n",
    "                 emb_size: int = 128, time_emb: str = \"sinusoidal\", input_emb: str = \"sinusoidal\"):\n",
    "        super().__init__()\n",
    "\n",
    "        self.time_mlp = PositionalEmbedding(emb_size, time_emb)                     # Embedding par rapport au temps\n",
    "        self.input_mlps = nn.ModuleList([PositionalEmbedding(emb_size, input_emb, scale=25.0)\n",
    "                                         for _ in range(input_dim)])                # Embedding pour chaque dimension de l'entrée\n",
    "\n",
    "        concat_size = len(self.time_mlp.layer) + len(self.input_mlps) * emb_size\n",
    "        layers = [nn.Linear(concat_size, hidden_size), nn.GELU()]                  # Initialise la première couche\n",
    "        for _ in range(hidden_layers):\n",
    "            layers.append(Block(hidden_size))                                      # Crée les layers cachés\n",
    "        layers.append(nn.Linear(hidden_size, input_dim))                           # Final layer de taille input_dim\n",
    "        self.joint_mlp = nn.Sequential(*layers)                                    # Ajoute tous les layers\n",
    "\n",
    "    def forward(self, x, t):\n",
    "        x_embs = [self.input_mlps[i](x[:, i]) for i in range(x.size(1))]           # Embedding pour chaque dimension de x\n",
    "        t_emb = self.time_mlp(t)\n",
    "        x = torch.cat(x_embs + [t_emb], dim=-1)                                    # Concaténation des embeddings\n",
    "        x = self.joint_mlp(x)                                                      # Application du réseau de neurones\n",
    "        return x\n"
   ]
  },
  {
   "cell_type": "markdown",
   "id": "9fa3f3c1",
   "metadata": {},
   "source": [
    "# Données : Website historique"
   ]
  },
  {
   "cell_type": "code",
   "execution_count": 7,
   "id": "e18aea55",
   "metadata": {},
   "outputs": [
    {
     "data": {
      "text/html": [
       "<div>\n",
       "<style scoped>\n",
       "    .dataframe tbody tr th:only-of-type {\n",
       "        vertical-align: middle;\n",
       "    }\n",
       "\n",
       "    .dataframe tbody tr th {\n",
       "        vertical-align: top;\n",
       "    }\n",
       "\n",
       "    .dataframe thead th {\n",
       "        text-align: right;\n",
       "    }\n",
       "</style>\n",
       "<table border=\"1\" class=\"dataframe\">\n",
       "  <thead>\n",
       "    <tr style=\"text-align: right;\">\n",
       "      <th></th>\n",
       "      <th>A</th>\n",
       "      <th>B</th>\n",
       "    </tr>\n",
       "  </thead>\n",
       "  <tbody>\n",
       "    <tr>\n",
       "      <th>count</th>\n",
       "      <td>40000.000000</td>\n",
       "      <td>40000.000000</td>\n",
       "    </tr>\n",
       "    <tr>\n",
       "      <th>mean</th>\n",
       "      <td>0.047400</td>\n",
       "      <td>0.001150</td>\n",
       "    </tr>\n",
       "    <tr>\n",
       "      <th>std</th>\n",
       "      <td>0.212496</td>\n",
       "      <td>0.033893</td>\n",
       "    </tr>\n",
       "    <tr>\n",
       "      <th>min</th>\n",
       "      <td>0.000000</td>\n",
       "      <td>0.000000</td>\n",
       "    </tr>\n",
       "    <tr>\n",
       "      <th>25%</th>\n",
       "      <td>0.000000</td>\n",
       "      <td>0.000000</td>\n",
       "    </tr>\n",
       "    <tr>\n",
       "      <th>50%</th>\n",
       "      <td>0.000000</td>\n",
       "      <td>0.000000</td>\n",
       "    </tr>\n",
       "    <tr>\n",
       "      <th>75%</th>\n",
       "      <td>0.000000</td>\n",
       "      <td>0.000000</td>\n",
       "    </tr>\n",
       "    <tr>\n",
       "      <th>max</th>\n",
       "      <td>1.000000</td>\n",
       "      <td>1.000000</td>\n",
       "    </tr>\n",
       "  </tbody>\n",
       "</table>\n",
       "</div>"
      ],
      "text/plain": [
       "                  A             B\n",
       "count  40000.000000  40000.000000\n",
       "mean       0.047400      0.001150\n",
       "std        0.212496      0.033893\n",
       "min        0.000000      0.000000\n",
       "25%        0.000000      0.000000\n",
       "50%        0.000000      0.000000\n",
       "75%        0.000000      0.000000\n",
       "max        1.000000      1.000000"
      ]
     },
     "execution_count": 7,
     "metadata": {},
     "output_type": "execute_result"
    }
   ],
   "source": [
    "df = pd.read_csv(\"mon_dataset.csv\")\n",
    "df[[\"A\"]+[\"B\"]].describe()"
   ]
  },
  {
   "cell_type": "code",
   "execution_count": 3,
   "id": "9c9faa6d",
   "metadata": {},
   "outputs": [
    {
     "data": {
      "text/html": [
       "<div>\n",
       "<style scoped>\n",
       "    .dataframe tbody tr th:only-of-type {\n",
       "        vertical-align: middle;\n",
       "    }\n",
       "\n",
       "    .dataframe tbody tr th {\n",
       "        vertical-align: top;\n",
       "    }\n",
       "\n",
       "    .dataframe thead th {\n",
       "        text-align: right;\n",
       "    }\n",
       "</style>\n",
       "<table border=\"1\" class=\"dataframe\">\n",
       "  <thead>\n",
       "    <tr style=\"text-align: right;\">\n",
       "      <th></th>\n",
       "      <th>fullVisitorId</th>\n",
       "      <th>transactions</th>\n",
       "      <th>size_time_serie</th>\n",
       "      <th>presence_time_serie</th>\n",
       "      <th>time_spend_time_serie</th>\n",
       "      <th>connexion_time_time_serie</th>\n",
       "    </tr>\n",
       "  </thead>\n",
       "  <tbody>\n",
       "    <tr>\n",
       "      <th>0</th>\n",
       "      <td>13022610131436100</td>\n",
       "      <td>0</td>\n",
       "      <td>28</td>\n",
       "      <td>[1, 0, 0, 0, 0, 0, 0, 0, 0, 0, 0, 0, 0, 0, 0, ...</td>\n",
       "      <td>[185848, 0, 0, 0, 0, 0, 0, 0, 0, 0, 0, 0, 0, 0...</td>\n",
       "      <td>[12, 0, 0, 0, 0, 0, 0, 0, 0, 0, 0, 0, 0, 0, 0,...</td>\n",
       "    </tr>\n",
       "    <tr>\n",
       "      <th>1</th>\n",
       "      <td>13022614071765116</td>\n",
       "      <td>0</td>\n",
       "      <td>5</td>\n",
       "      <td>[1, 0, 0, 0, 1]</td>\n",
       "      <td>[17562, 0, 0, 0, 2894880]</td>\n",
       "      <td>[18, 0, 0, 0, 14]</td>\n",
       "    </tr>\n",
       "    <tr>\n",
       "      <th>2</th>\n",
       "      <td>13022620563064236</td>\n",
       "      <td>1</td>\n",
       "      <td>10</td>\n",
       "      <td>[1, 0, 0, 0, 0, 0, 1, 1, 1, 1]</td>\n",
       "      <td>[19500172, 0, 0, 0, 0, 0, 96067, 253384, 74122...</td>\n",
       "      <td>[15, 0, 0, 0, 0, 0, 14, 8, 14, 7]</td>\n",
       "    </tr>\n",
       "    <tr>\n",
       "      <th>3</th>\n",
       "      <td>13022712313065416</td>\n",
       "      <td>0</td>\n",
       "      <td>6</td>\n",
       "      <td>[1, 0, 0, 1, 0, 1]</td>\n",
       "      <td>[1450416, 0, 0, 6707518, 0, 37761580]</td>\n",
       "      <td>[13, 0, 0, 18, 0, 13]</td>\n",
       "    </tr>\n",
       "    <tr>\n",
       "      <th>4</th>\n",
       "      <td>13022713270294130</td>\n",
       "      <td>0</td>\n",
       "      <td>0</td>\n",
       "      <td>[1]</td>\n",
       "      <td>[8201446]</td>\n",
       "      <td>[11]</td>\n",
       "    </tr>\n",
       "  </tbody>\n",
       "</table>\n",
       "</div>"
      ],
      "text/plain": [
       "       fullVisitorId  transactions  size_time_serie  \\\n",
       "0  13022610131436100             0               28   \n",
       "1  13022614071765116             0                5   \n",
       "2  13022620563064236             1               10   \n",
       "3  13022712313065416             0                6   \n",
       "4  13022713270294130             0                0   \n",
       "\n",
       "                                 presence_time_serie  \\\n",
       "0  [1, 0, 0, 0, 0, 0, 0, 0, 0, 0, 0, 0, 0, 0, 0, ...   \n",
       "1                                    [1, 0, 0, 0, 1]   \n",
       "2                     [1, 0, 0, 0, 0, 0, 1, 1, 1, 1]   \n",
       "3                                 [1, 0, 0, 1, 0, 1]   \n",
       "4                                                [1]   \n",
       "\n",
       "                               time_spend_time_serie  \\\n",
       "0  [185848, 0, 0, 0, 0, 0, 0, 0, 0, 0, 0, 0, 0, 0...   \n",
       "1                          [17562, 0, 0, 0, 2894880]   \n",
       "2  [19500172, 0, 0, 0, 0, 0, 96067, 253384, 74122...   \n",
       "3              [1450416, 0, 0, 6707518, 0, 37761580]   \n",
       "4                                          [8201446]   \n",
       "\n",
       "                           connexion_time_time_serie  \n",
       "0  [12, 0, 0, 0, 0, 0, 0, 0, 0, 0, 0, 0, 0, 0, 0,...  \n",
       "1                                  [18, 0, 0, 0, 14]  \n",
       "2                  [15, 0, 0, 0, 0, 0, 14, 8, 14, 7]  \n",
       "3                              [13, 0, 0, 18, 0, 13]  \n",
       "4                                               [11]  "
      ]
     },
     "execution_count": 3,
     "metadata": {},
     "output_type": "execute_result"
    }
   ],
   "source": [
    "df = pd.read_json('parcoursuserDatabaseFinalABTastyDataset1_2023.JSON')\n",
    "df.head(5)"
   ]
  },
  {
   "cell_type": "code",
   "execution_count": 4,
   "id": "15ff33d1",
   "metadata": {},
   "outputs": [
    {
     "data": {
      "text/html": [
       "<div>\n",
       "<style scoped>\n",
       "    .dataframe tbody tr th:only-of-type {\n",
       "        vertical-align: middle;\n",
       "    }\n",
       "\n",
       "    .dataframe tbody tr th {\n",
       "        vertical-align: top;\n",
       "    }\n",
       "\n",
       "    .dataframe thead th {\n",
       "        text-align: right;\n",
       "    }\n",
       "</style>\n",
       "<table border=\"1\" class=\"dataframe\">\n",
       "  <thead>\n",
       "    <tr style=\"text-align: right;\">\n",
       "      <th></th>\n",
       "      <th>fullVisitorId</th>\n",
       "      <th>transactions</th>\n",
       "      <th>size_time_serie</th>\n",
       "    </tr>\n",
       "  </thead>\n",
       "  <tbody>\n",
       "    <tr>\n",
       "      <th>count</th>\n",
       "      <td>7.987100e+04</td>\n",
       "      <td>79871.000000</td>\n",
       "      <td>79871.000000</td>\n",
       "    </tr>\n",
       "    <tr>\n",
       "      <th>mean</th>\n",
       "      <td>1.799434e+16</td>\n",
       "      <td>0.032427</td>\n",
       "      <td>2.917191</td>\n",
       "    </tr>\n",
       "    <tr>\n",
       "      <th>std</th>\n",
       "      <td>3.892371e+14</td>\n",
       "      <td>0.177133</td>\n",
       "      <td>6.381899</td>\n",
       "    </tr>\n",
       "    <tr>\n",
       "      <th>min</th>\n",
       "      <td>1.302261e+16</td>\n",
       "      <td>0.000000</td>\n",
       "      <td>0.000000</td>\n",
       "    </tr>\n",
       "    <tr>\n",
       "      <th>25%</th>\n",
       "      <td>1.809252e+16</td>\n",
       "      <td>0.000000</td>\n",
       "      <td>0.000000</td>\n",
       "    </tr>\n",
       "    <tr>\n",
       "      <th>50%</th>\n",
       "      <td>1.810091e+16</td>\n",
       "      <td>0.000000</td>\n",
       "      <td>0.000000</td>\n",
       "    </tr>\n",
       "    <tr>\n",
       "      <th>75%</th>\n",
       "      <td>1.810242e+16</td>\n",
       "      <td>0.000000</td>\n",
       "      <td>1.000000</td>\n",
       "    </tr>\n",
       "    <tr>\n",
       "      <th>max</th>\n",
       "      <td>1.811122e+16</td>\n",
       "      <td>1.000000</td>\n",
       "      <td>33.000000</td>\n",
       "    </tr>\n",
       "  </tbody>\n",
       "</table>\n",
       "</div>"
      ],
      "text/plain": [
       "       fullVisitorId  transactions  size_time_serie\n",
       "count   7.987100e+04  79871.000000     79871.000000\n",
       "mean    1.799434e+16      0.032427         2.917191\n",
       "std     3.892371e+14      0.177133         6.381899\n",
       "min     1.302261e+16      0.000000         0.000000\n",
       "25%     1.809252e+16      0.000000         0.000000\n",
       "50%     1.810091e+16      0.000000         0.000000\n",
       "75%     1.810242e+16      0.000000         1.000000\n",
       "max     1.811122e+16      1.000000        33.000000"
      ]
     },
     "execution_count": 4,
     "metadata": {},
     "output_type": "execute_result"
    }
   ],
   "source": [
    "df.describe()"
   ]
  },
  {
   "cell_type": "code",
   "execution_count": 5,
   "id": "1d6ff1fc",
   "metadata": {},
   "outputs": [
    {
     "name": "stdout",
     "output_type": "stream",
     "text": [
      "Analyse des types de données dans la colonne : time_spend_time_serie\n",
      "\n",
      "Combinations de types trouvées et leur fréquence :\n",
      "types\n",
      "{int}         79857\n",
      "{int, str}       12\n",
      "{NoneType}        2\n",
      "Name: count, dtype: int64\n",
      "Analyse des types de données dans la colonne : presence_time_serie\n",
      "\n",
      "Combinations de types trouvées et leur fréquence :\n",
      "types\n",
      "{int}    79871\n",
      "Name: count, dtype: int64\n",
      "Analyse des types de données dans la colonne : connexion_time_time_serie\n",
      "\n",
      "Combinations de types trouvées et leur fréquence :\n",
      "types\n",
      "{int}    79871\n",
      "Name: count, dtype: int64\n"
     ]
    }
   ],
   "source": [
    "def get_list_types(lst):\n",
    "    \"\"\"\n",
    "    Retourne un ensemble des types de données uniques dans la liste.\n",
    "    \"\"\"\n",
    "    return set(type(item).__name__ for item in lst)\n",
    "\n",
    "def analyze_column_types(df, column_name):\n",
    "    \"\"\"\n",
    "    Analyse les types de données dans une colonne contenant des listes.\n",
    "    \n",
    "    :param df: DataFrame pandas\n",
    "    :param column_name: Nom de la colonne à analyser\n",
    "    :return: Un nouveau DataFrame avec les résultats de l'analyse\n",
    "    \"\"\"\n",
    "    # Appliquer la fonction get_list_types à chaque liste dans la colonne\n",
    "    types_series = df[column_name].apply(get_list_types)\n",
    "    \n",
    "    # Créer un DataFrame avec les résultats\n",
    "    result_df = pd.DataFrame({\n",
    "        'index': df.index,\n",
    "        'types': types_series,\n",
    "        'list_length': df[column_name].apply(len)\n",
    "    })\n",
    "    \n",
    "    # Compter les occurrences de chaque combinaison de types\n",
    "    type_counts = result_df['types'].value_counts()\n",
    "    \n",
    "    print(\"Analyse des types de données dans la colonne :\", column_name)\n",
    "    print(\"\\nCombinations de types trouvées et leur fréquence :\")\n",
    "    print(type_counts)\n",
    "    \n",
    "   \n",
    "    \n",
    "    return result_df\n",
    "\n",
    "# Utilisation de la fonction\n",
    "result = analyze_column_types(df, \"time_spend_time_serie\")\n",
    "result = analyze_column_types(df, \"presence_time_serie\")\n",
    "result = analyze_column_types(df, \"connexion_time_time_serie\")"
   ]
  },
  {
   "cell_type": "code",
   "execution_count": 6,
   "id": "55c9fb72",
   "metadata": {},
   "outputs": [
    {
     "name": "stdout",
     "output_type": "stream",
     "text": [
      "Nombre de lignes avant suppression : 79871\n",
      "Nombre de lignes après suppression : 79857\n",
      "Nombre de lignes supprimées : 14\n"
     ]
    }
   ],
   "source": [
    "def remove_non_int_rows(df, column_name):\n",
    "    # Fonction pour vérifier si tous les éléments sont des entiers\n",
    "    def all_ints(lst):\n",
    "        return all(isinstance(item, int) for item in lst)\n",
    "    \n",
    "    # Compter le nombre de lignes avant la suppression\n",
    "    initial_count = len(df)\n",
    "    \n",
    "    # Créer un masque pour les lignes à conserver\n",
    "    mask = df[column_name].apply(all_ints)\n",
    "    \n",
    "    # Appliquer le masque pour ne garder que les lignes avec des entiers\n",
    "    df_cleaned = df[mask].copy()\n",
    "    \n",
    "    # Compter le nombre de lignes supprimées\n",
    "    removed_count = initial_count - len(df_cleaned)\n",
    "    \n",
    "    print(f\"Nombre de lignes avant suppression : {initial_count}\")\n",
    "    print(f\"Nombre de lignes après suppression : {len(df_cleaned)}\")\n",
    "    print(f\"Nombre de lignes supprimées : {removed_count}\")\n",
    "    \n",
    "    return df_cleaned\n",
    "\n",
    "\n",
    "\n",
    "# Utilisation de la fonction\n",
    "df = remove_non_int_rows(df, \"time_spend_time_serie\")\n",
    "\n",
    "\n",
    "df.head()\n",
    "\n",
    "def longest_streak(series):\n",
    "    max_streak = 0\n",
    "    current_streak = 0\n",
    "    for num in series:\n",
    "        if num == 1:\n",
    "            current_streak += 1\n",
    "            if current_streak > max_streak:\n",
    "                max_streak = current_streak\n",
    "        else:\n",
    "            current_streak = 0\n",
    "    return max_streak\n",
    "\n",
    "\n"
   ]
  },
  {
   "cell_type": "code",
   "execution_count": 7,
   "id": "0ce773a0",
   "metadata": {},
   "outputs": [
    {
     "data": {
      "text/html": [
       "<div>\n",
       "<style scoped>\n",
       "    .dataframe tbody tr th:only-of-type {\n",
       "        vertical-align: middle;\n",
       "    }\n",
       "\n",
       "    .dataframe tbody tr th {\n",
       "        vertical-align: top;\n",
       "    }\n",
       "\n",
       "    .dataframe thead th {\n",
       "        text-align: right;\n",
       "    }\n",
       "</style>\n",
       "<table border=\"1\" class=\"dataframe\">\n",
       "  <thead>\n",
       "    <tr style=\"text-align: right;\">\n",
       "      <th></th>\n",
       "      <th>transactions</th>\n",
       "      <th>size_time_serie</th>\n",
       "      <th>presence_time_serie</th>\n",
       "      <th>time_spend_time_serie</th>\n",
       "      <th>connexion_time_time_serie</th>\n",
       "      <th>total_time_spent</th>\n",
       "      <th>Number_connexion_times</th>\n",
       "      <th>highest_connexion_streak</th>\n",
       "    </tr>\n",
       "  </thead>\n",
       "  <tbody>\n",
       "    <tr>\n",
       "      <th>0</th>\n",
       "      <td>0</td>\n",
       "      <td>28</td>\n",
       "      <td>[1, 0, 0, 0, 0, 0, 0, 0, 0, 0, 0, 0, 0, 0, 0, ...</td>\n",
       "      <td>[185848, 0, 0, 0, 0, 0, 0, 0, 0, 0, 0, 0, 0, 0...</td>\n",
       "      <td>[12, 0, 0, 0, 0, 0, 0, 0, 0, 0, 0, 0, 0, 0, 0,...</td>\n",
       "      <td>89582735</td>\n",
       "      <td>4</td>\n",
       "      <td>2</td>\n",
       "    </tr>\n",
       "    <tr>\n",
       "      <th>1</th>\n",
       "      <td>0</td>\n",
       "      <td>5</td>\n",
       "      <td>[1, 0, 0, 0, 1]</td>\n",
       "      <td>[17562, 0, 0, 0, 2894880]</td>\n",
       "      <td>[18, 0, 0, 0, 14]</td>\n",
       "      <td>2912442</td>\n",
       "      <td>2</td>\n",
       "      <td>1</td>\n",
       "    </tr>\n",
       "    <tr>\n",
       "      <th>2</th>\n",
       "      <td>1</td>\n",
       "      <td>10</td>\n",
       "      <td>[1, 0, 0, 0, 0, 0, 1, 1, 1, 1]</td>\n",
       "      <td>[19500172, 0, 0, 0, 0, 0, 96067, 253384, 74122...</td>\n",
       "      <td>[15, 0, 0, 0, 0, 0, 14, 8, 14, 7]</td>\n",
       "      <td>22140033</td>\n",
       "      <td>5</td>\n",
       "      <td>4</td>\n",
       "    </tr>\n",
       "    <tr>\n",
       "      <th>3</th>\n",
       "      <td>0</td>\n",
       "      <td>6</td>\n",
       "      <td>[1, 0, 0, 1, 0, 1]</td>\n",
       "      <td>[1450416, 0, 0, 6707518, 0, 37761580]</td>\n",
       "      <td>[13, 0, 0, 18, 0, 13]</td>\n",
       "      <td>45919514</td>\n",
       "      <td>3</td>\n",
       "      <td>1</td>\n",
       "    </tr>\n",
       "    <tr>\n",
       "      <th>4</th>\n",
       "      <td>0</td>\n",
       "      <td>0</td>\n",
       "      <td>[1]</td>\n",
       "      <td>[8201446]</td>\n",
       "      <td>[11]</td>\n",
       "      <td>8201446</td>\n",
       "      <td>1</td>\n",
       "      <td>1</td>\n",
       "    </tr>\n",
       "  </tbody>\n",
       "</table>\n",
       "</div>"
      ],
      "text/plain": [
       "   transactions  size_time_serie  \\\n",
       "0             0               28   \n",
       "1             0                5   \n",
       "2             1               10   \n",
       "3             0                6   \n",
       "4             0                0   \n",
       "\n",
       "                                 presence_time_serie  \\\n",
       "0  [1, 0, 0, 0, 0, 0, 0, 0, 0, 0, 0, 0, 0, 0, 0, ...   \n",
       "1                                    [1, 0, 0, 0, 1]   \n",
       "2                     [1, 0, 0, 0, 0, 0, 1, 1, 1, 1]   \n",
       "3                                 [1, 0, 0, 1, 0, 1]   \n",
       "4                                                [1]   \n",
       "\n",
       "                               time_spend_time_serie  \\\n",
       "0  [185848, 0, 0, 0, 0, 0, 0, 0, 0, 0, 0, 0, 0, 0...   \n",
       "1                          [17562, 0, 0, 0, 2894880]   \n",
       "2  [19500172, 0, 0, 0, 0, 0, 96067, 253384, 74122...   \n",
       "3              [1450416, 0, 0, 6707518, 0, 37761580]   \n",
       "4                                          [8201446]   \n",
       "\n",
       "                           connexion_time_time_serie  total_time_spent  \\\n",
       "0  [12, 0, 0, 0, 0, 0, 0, 0, 0, 0, 0, 0, 0, 0, 0,...          89582735   \n",
       "1                                  [18, 0, 0, 0, 14]           2912442   \n",
       "2                  [15, 0, 0, 0, 0, 0, 14, 8, 14, 7]          22140033   \n",
       "3                              [13, 0, 0, 18, 0, 13]          45919514   \n",
       "4                                               [11]           8201446   \n",
       "\n",
       "   Number_connexion_times  highest_connexion_streak  \n",
       "0                       4                         2  \n",
       "1                       2                         1  \n",
       "2                       5                         4  \n",
       "3                       3                         1  \n",
       "4                       1                         1  "
      ]
     },
     "execution_count": 7,
     "metadata": {},
     "output_type": "execute_result"
    }
   ],
   "source": [
    "df[\"total_time_spent\"]=df[\"time_spend_time_serie\"].apply(sum)\n",
    "df[\"Number_connexion_times\"]=df[\"presence_time_serie\"].apply(sum)\n",
    "df['highest_connexion_streak'] = df['presence_time_serie'].apply(longest_streak)\n",
    "df.drop('fullVisitorId', axis=1, inplace=True)\n",
    "df.head(5)"
   ]
  },
  {
   "cell_type": "code",
   "execution_count": 8,
   "id": "51853a31",
   "metadata": {},
   "outputs": [
    {
     "data": {
      "text/html": [
       "<div>\n",
       "<style scoped>\n",
       "    .dataframe tbody tr th:only-of-type {\n",
       "        vertical-align: middle;\n",
       "    }\n",
       "\n",
       "    .dataframe tbody tr th {\n",
       "        vertical-align: top;\n",
       "    }\n",
       "\n",
       "    .dataframe thead th {\n",
       "        text-align: right;\n",
       "    }\n",
       "</style>\n",
       "<table border=\"1\" class=\"dataframe\">\n",
       "  <thead>\n",
       "    <tr style=\"text-align: right;\">\n",
       "      <th></th>\n",
       "      <th>transactions</th>\n",
       "      <th>size_time_serie</th>\n",
       "      <th>total_time_spent</th>\n",
       "      <th>Number_connexion_times</th>\n",
       "      <th>highest_connexion_streak</th>\n",
       "    </tr>\n",
       "  </thead>\n",
       "  <tbody>\n",
       "    <tr>\n",
       "      <th>count</th>\n",
       "      <td>79857.000000</td>\n",
       "      <td>79857.000000</td>\n",
       "      <td>7.985700e+04</td>\n",
       "      <td>79857.000000</td>\n",
       "      <td>79857.000000</td>\n",
       "    </tr>\n",
       "    <tr>\n",
       "      <th>mean</th>\n",
       "      <td>0.032333</td>\n",
       "      <td>2.914698</td>\n",
       "      <td>1.630566e+07</td>\n",
       "      <td>1.776989</td>\n",
       "      <td>1.240079</td>\n",
       "    </tr>\n",
       "    <tr>\n",
       "      <th>std</th>\n",
       "      <td>0.176884</td>\n",
       "      <td>6.378226</td>\n",
       "      <td>9.930219e+07</td>\n",
       "      <td>2.191258</td>\n",
       "      <td>0.989623</td>\n",
       "    </tr>\n",
       "    <tr>\n",
       "      <th>min</th>\n",
       "      <td>0.000000</td>\n",
       "      <td>0.000000</td>\n",
       "      <td>0.000000e+00</td>\n",
       "      <td>1.000000</td>\n",
       "      <td>1.000000</td>\n",
       "    </tr>\n",
       "    <tr>\n",
       "      <th>25%</th>\n",
       "      <td>0.000000</td>\n",
       "      <td>0.000000</td>\n",
       "      <td>6.325500e+04</td>\n",
       "      <td>1.000000</td>\n",
       "      <td>1.000000</td>\n",
       "    </tr>\n",
       "    <tr>\n",
       "      <th>50%</th>\n",
       "      <td>0.000000</td>\n",
       "      <td>0.000000</td>\n",
       "      <td>2.928620e+05</td>\n",
       "      <td>1.000000</td>\n",
       "      <td>1.000000</td>\n",
       "    </tr>\n",
       "    <tr>\n",
       "      <th>75%</th>\n",
       "      <td>0.000000</td>\n",
       "      <td>1.000000</td>\n",
       "      <td>2.094492e+06</td>\n",
       "      <td>1.000000</td>\n",
       "      <td>1.000000</td>\n",
       "    </tr>\n",
       "    <tr>\n",
       "      <th>max</th>\n",
       "      <td>1.000000</td>\n",
       "      <td>33.000000</td>\n",
       "      <td>6.320772e+09</td>\n",
       "      <td>27.000000</td>\n",
       "      <td>25.000000</td>\n",
       "    </tr>\n",
       "  </tbody>\n",
       "</table>\n",
       "</div>"
      ],
      "text/plain": [
       "       transactions  size_time_serie  total_time_spent  \\\n",
       "count  79857.000000     79857.000000      7.985700e+04   \n",
       "mean       0.032333         2.914698      1.630566e+07   \n",
       "std        0.176884         6.378226      9.930219e+07   \n",
       "min        0.000000         0.000000      0.000000e+00   \n",
       "25%        0.000000         0.000000      6.325500e+04   \n",
       "50%        0.000000         0.000000      2.928620e+05   \n",
       "75%        0.000000         1.000000      2.094492e+06   \n",
       "max        1.000000        33.000000      6.320772e+09   \n",
       "\n",
       "       Number_connexion_times  highest_connexion_streak  \n",
       "count            79857.000000              79857.000000  \n",
       "mean                 1.776989                  1.240079  \n",
       "std                  2.191258                  0.989623  \n",
       "min                  1.000000                  1.000000  \n",
       "25%                  1.000000                  1.000000  \n",
       "50%                  1.000000                  1.000000  \n",
       "75%                  1.000000                  1.000000  \n",
       "max                 27.000000                 25.000000  "
      ]
     },
     "execution_count": 8,
     "metadata": {},
     "output_type": "execute_result"
    }
   ],
   "source": [
    "df.describe()"
   ]
  },
  {
   "cell_type": "markdown",
   "id": "34fcc9ee",
   "metadata": {},
   "source": [
    "## Quelles corrélations à tester ?\n",
    "\n",
    "Transactions f° size_time_serie\n",
    "<br>\n",
    "Transactions f° total_time_spent\n",
    "<br>\n",
    "Transactions f° Number_connexion_times\n",
    "<br>\n",
    "Transactions f° Highest_presence_time_streak\n",
    "<br>\n",
    "time_spend_time_serie f° connexion_time_time_serie\n",
    "<br>\n",
    "Mean_spent_time f° Number_connexion_times"
   ]
  },
  {
   "cell_type": "markdown",
   "id": "ef823130",
   "metadata": {},
   "source": [
    "Transactions f° size_time_serie"
   ]
  },
  {
   "cell_type": "code",
   "execution_count": 9,
   "id": "282fecbf",
   "metadata": {},
   "outputs": [
    {
     "name": "stdout",
     "output_type": "stream",
     "text": [
      "Optimization terminated successfully.\n",
      "         Current function value: 0.125108\n",
      "         Iterations 8\n",
      "Logistic regression for transaction and total_time_spent:\n",
      "                           Logit Regression Results                           \n",
      "==============================================================================\n",
      "Dep. Variable:           transactions   No. Observations:                79857\n",
      "Model:                          Logit   Df Residuals:                    79855\n",
      "Method:                           MLE   Df Model:                            1\n",
      "Date:                Fri, 23 Aug 2024   Pseudo R-squ.:                  0.1237\n",
      "Time:                        13:32:10   Log-Likelihood:                -9990.7\n",
      "converged:                       True   LL-Null:                       -11400.\n",
      "Covariance Type:            nonrobust   LLR p-value:                     0.000\n",
      "====================================================================================\n",
      "                       coef    std err          z      P>|z|      [0.025      0.975]\n",
      "------------------------------------------------------------------------------------\n",
      "Intercept           -3.6842      0.023   -161.513      0.000      -3.729      -3.639\n",
      "total_time_spent   6.67e-09   1.59e-10     42.019      0.000    6.36e-09    6.98e-09\n",
      "====================================================================================\n",
      "\n",
      "==================================================\n",
      "\n",
      "Optimization terminated successfully.\n",
      "         Current function value: 0.121230\n",
      "         Iterations 8\n",
      "Logistic regression for transaction and Number_connexion_times:\n",
      "                           Logit Regression Results                           \n",
      "==============================================================================\n",
      "Dep. Variable:           transactions   No. Observations:                79857\n",
      "Model:                          Logit   Df Residuals:                    79855\n",
      "Method:                           MLE   Df Model:                            1\n",
      "Date:                Fri, 23 Aug 2024   Pseudo R-squ.:                  0.1508\n",
      "Time:                        13:32:10   Log-Likelihood:                -9681.0\n",
      "converged:                       True   LL-Null:                       -11400.\n",
      "Covariance Type:            nonrobust   LLR p-value:                     0.000\n",
      "==========================================================================================\n",
      "                             coef    std err          z      P>|z|      [0.025      0.975]\n",
      "------------------------------------------------------------------------------------------\n",
      "Intercept                 -4.2214      0.028   -148.132      0.000      -4.277      -4.166\n",
      "Number_connexion_times     0.2861      0.005     60.641      0.000       0.277       0.295\n",
      "==========================================================================================\n",
      "\n",
      "==================================================\n",
      "\n",
      "Optimization terminated successfully.\n",
      "         Current function value: 0.120570\n",
      "         Iterations 8\n",
      "Logistic regression for transaction and size_time_serie:\n",
      "                           Logit Regression Results                           \n",
      "==============================================================================\n",
      "Dep. Variable:           transactions   No. Observations:                79857\n",
      "Model:                          Logit   Df Residuals:                    79855\n",
      "Method:                           MLE   Df Model:                            1\n",
      "Date:                Fri, 23 Aug 2024   Pseudo R-squ.:                  0.1554\n",
      "Time:                        13:32:11   Log-Likelihood:                -9628.3\n",
      "converged:                       True   LL-Null:                       -11400.\n",
      "Covariance Type:            nonrobust   LLR p-value:                     0.000\n",
      "===================================================================================\n",
      "                      coef    std err          z      P>|z|      [0.025      0.975]\n",
      "-----------------------------------------------------------------------------------\n",
      "Intercept          -4.2316      0.031   -137.866      0.000      -4.292      -4.171\n",
      "size_time_serie     0.1266      0.002     62.398      0.000       0.123       0.131\n",
      "===================================================================================\n",
      "\n",
      "==================================================\n",
      "\n",
      "Optimization terminated successfully.\n",
      "         Current function value: 0.129457\n",
      "         Iterations 8\n",
      "Logistic regression for transaction and highest_connexion_streak:\n",
      "                           Logit Regression Results                           \n",
      "==============================================================================\n",
      "Dep. Variable:           transactions   No. Observations:                79857\n",
      "Model:                          Logit   Df Residuals:                    79855\n",
      "Method:                           MLE   Df Model:                            1\n",
      "Date:                Fri, 23 Aug 2024   Pseudo R-squ.:                 0.09318\n",
      "Time:                        13:32:11   Log-Likelihood:                -10338.\n",
      "converged:                       True   LL-Null:                       -11400.\n",
      "Covariance Type:            nonrobust   LLR p-value:                     0.000\n",
      "============================================================================================\n",
      "                               coef    std err          z      P>|z|      [0.025      0.975]\n",
      "--------------------------------------------------------------------------------------------\n",
      "Intercept                   -4.1844      0.030   -141.466      0.000      -4.242      -4.126\n",
      "highest_connexion_streak     0.5025      0.012     42.757      0.000       0.479       0.526\n",
      "============================================================================================\n",
      "\n",
      "==================================================\n",
      "\n"
     ]
    }
   ],
   "source": [
    "\n",
    "\n",
    "# Liste des colonnes spécifiques à analyser\n",
    "columns_to_analyze = ['total_time_spent', 'Number_connexion_times',\"size_time_serie\",\"highest_connexion_streak\"]\n",
    "\n",
    "for column in columns_to_analyze:\n",
    "    if column in df.columns and df[column].dtype != 'object':\n",
    "        model = logit(f\"transactions ~ {column}\", data=df).fit()\n",
    "        print(f\"Logistic regression for transaction and {column}:\")\n",
    "        print(model.summary())\n",
    "        print(\"\\n\" + \"=\"*50 + \"\\n\")  # Séparateur pour une meilleure lisibilité"
   ]
  },
  {
   "cell_type": "markdown",
   "id": "9ddad77e",
   "metadata": {},
   "source": [
    "Dans toutes ces régressions logistiques, le R^2 est bas , donc le modèle n'explique qu'une faible partie de la variabilité des données."
   ]
  },
  {
   "cell_type": "code",
   "execution_count": 10,
   "id": "e613e10a",
   "metadata": {},
   "outputs": [
    {
     "name": "stdout",
     "output_type": "stream",
     "text": [
      "Chi-square test for transaction and total_time_spent:\n",
      "chi2 = 7279.2224\n",
      "p-value = 0.0000\n",
      "degrees of freedom = 3\n",
      "\n",
      "Contingency table:\n",
      "total_time_spent_cat    Low  Medium-Low  Medium-High   High\n",
      "transactions                                               \n",
      "0                     19938       19950        19915  17472\n",
      "1                        28          13           49   2492\n",
      "\n",
      "==================================================\n",
      "\n",
      "Chi-square test for transaction and Number_connexion_times:\n",
      "chi2 = 4938.7561\n",
      "p-value = 0.0000\n",
      "degrees of freedom = 3\n",
      "\n",
      "Contingency table:\n",
      "Number_connexion_times_cat    Low  Medium-Low  Medium-High  High\n",
      "transactions                                                    \n",
      "0                           75395        1580          248    52\n",
      "1                            1892         512          143    35\n",
      "\n",
      "==================================================\n",
      "\n",
      "Chi-square test for transaction and size_time_serie:\n",
      "chi2 = 5123.3158\n",
      "p-value = 0.0000\n",
      "degrees of freedom = 3\n",
      "\n",
      "Contingency table:\n",
      "size_time_serie_cat    Low  Medium-Low  Medium-High  High\n",
      "transactions                                             \n",
      "0                    67123        4853         4707   592\n",
      "1                      969         629          815   169\n",
      "\n",
      "==================================================\n",
      "\n",
      "Chi-square test for transaction and highest_connexion_streak:\n",
      "chi2 = 1361.9162\n",
      "p-value = 0.0000\n",
      "degrees of freedom = 3\n",
      "\n",
      "Contingency table:\n",
      "highest_connexion_streak_cat    Low  Medium-Low  Medium-High  High\n",
      "transactions                                                      \n",
      "0                             77050         163           53     9\n",
      "1                              2447         102           27     6\n",
      "\n",
      "==================================================\n",
      "\n"
     ]
    }
   ],
   "source": [
    "\n",
    "\n",
    "# Liste des variables à analyser\n",
    "variables_to_analyze = ['total_time_spent', 'Number_connexion_times', \"size_time_serie\",\"highest_connexion_streak\"]\n",
    "\n",
    "def discretize(series):\n",
    "    \"\"\"Fonction pour discrétiser une série en 4 catégories\"\"\"\n",
    "    try:\n",
    "        # Essayez d'abord avec qcut\n",
    "        return pd.qcut(series, q=4, labels=['Low', 'Medium-Low', 'Medium-High', 'High'])\n",
    "    except ValueError:\n",
    "        # Si qcut échoue, utilisez cut avec des bins personnalisés\n",
    "        min_val = series.min()\n",
    "        max_val = series.max()\n",
    "        bins = [min_val, min_val + (max_val - min_val)/4, min_val + 2*(max_val - min_val)/4, \n",
    "                min_val + 3*(max_val - min_val)/4, max_val]\n",
    "        return pd.cut(series, bins=bins, labels=['Low', 'Medium-Low', 'Medium-High', 'High'], include_lowest=True)\n",
    "\n",
    "for column in variables_to_analyze:\n",
    "    if column in df.columns:\n",
    "        # Discrétisation de la variable numérique\n",
    "        df[f'{column}_cat'] = discretize(df[column])\n",
    "        \n",
    "        # Création de la table de contingence\n",
    "        contingency_table = pd.crosstab(df['transactions'], df[f'{column}_cat'])\n",
    "        \n",
    "        # Test du chi-carré\n",
    "        chi2, p_value, dof, expected = chi2_contingency(contingency_table)\n",
    "        \n",
    "        print(f\"Chi-square test for transaction and {column}:\")\n",
    "        print(f\"chi2 = {chi2:.4f}\")\n",
    "        print(f\"p-value = {p_value:.4f}\")\n",
    "        print(f\"degrees of freedom = {dof}\")\n",
    "        print(\"\\nContingency table:\")\n",
    "        print(contingency_table)\n",
    "        print(\"\\n\" + \"=\"*50 + \"\\n\")\n"
   ]
  },
  {
   "cell_type": "code",
   "execution_count": 11,
   "id": "45a1a5f5",
   "metadata": {},
   "outputs": [
    {
     "name": "stdout",
     "output_type": "stream",
     "text": [
      "Optimization terminated successfully.\n",
      "         Current function value: 0.112601\n",
      "         Iterations 8\n",
      "                           Logit Regression Results                           \n",
      "==============================================================================\n",
      "Dep. Variable:           transactions   No. Observations:                79857\n",
      "Model:                          Logit   Df Residuals:                    79852\n",
      "Method:                           MLE   Df Model:                            4\n",
      "Date:                Fri, 23 Aug 2024   Pseudo R-squ.:                  0.2113\n",
      "Time:                        13:32:13   Log-Likelihood:                -8992.0\n",
      "converged:                       True   LL-Null:                       -11400.\n",
      "Covariance Type:            nonrobust   LLR p-value:                     0.000\n",
      "============================================================================================\n",
      "                               coef    std err          z      P>|z|      [0.025      0.975]\n",
      "--------------------------------------------------------------------------------------------\n",
      "const                       -4.3269      0.033   -130.271      0.000      -4.392      -4.262\n",
      "total_time_spent          3.633e-09   1.46e-10     24.909      0.000    3.35e-09    3.92e-09\n",
      "Number_connexion_times       0.0800      0.014      5.797      0.000       0.053       0.107\n",
      "size_time_serie              0.0807      0.004     21.652      0.000       0.073       0.088\n",
      "highest_connexion_streak    -0.0007      0.021     -0.033      0.974      -0.041       0.040\n",
      "============================================================================================\n"
     ]
    }
   ],
   "source": [
    "import statsmodels.api as sm\n",
    "\n",
    "# Ajoutez une constante à vos variables indépendantes\n",
    "X = sm.add_constant(df[['total_time_spent', 'Number_connexion_times', 'size_time_serie',\"highest_connexion_streak\"]])\n",
    "y = df['transactions']\n",
    "\n",
    "# Créez et ajustez le modèle\n",
    "model = sm.Logit(y, X).fit()\n",
    "\n",
    "# Affichez le résumé du modèle\n",
    "print(model.summary())\n"
   ]
  },
  {
   "cell_type": "code",
   "execution_count": 12,
   "id": "d9ee95b3",
   "metadata": {},
   "outputs": [
    {
     "data": {
      "image/png": "[encoded data removed]",
      "text/plain": [
       "<Figure size 1000x600 with 1 Axes>"
      ]
     },
     "metadata": {},
     "output_type": "display_data"
    }
   ],
   "source": [
    "# Calculer les coefficients standardisés\n",
    "std_X = X.std()\n",
    "std_coef = model.params[1:] * std_X[1:]  # Exclure la constante\n",
    "\n",
    "# Créer un graphique à barres des coefficients standardisés\n",
    "plt.figure(figsize=(10, 6))\n",
    "plt.bar(X.columns[1:], std_coef)\n",
    "plt.title('Importance relative des variables')\n",
    "plt.xlabel('Variables')\n",
    "plt.ylabel('Coefficient standardisé')\n",
    "plt.xticks(rotation=45)\n",
    "plt.tight_layout()\n",
    "plt.show()\n"
   ]
  },
  {
   "cell_type": "markdown",
   "id": "3fc6bf20",
   "metadata": {},
   "source": [
    "Interprétation globale :\n",
    "Le modèle suggère que toutes ces variables contribuent de manière significative et indépendante à la prédiction des transactions ; le temps passé en ligne , le nombre de connexions et le nombre total de jours entre la première connexion et la dernière influe sur la probabilité de transaction positivement ; augmenter ces variables augmentent la probabilité de transaction.\n"
   ]
  },
  {
   "cell_type": "code",
   "execution_count": 13,
   "id": "27b73045",
   "metadata": {},
   "outputs": [
    {
     "data": {
      "image/png": "[encoded data removed]",
      "text/plain": [
       "<Figure size 640x480 with 1 Axes>"
      ]
     },
     "metadata": {},
     "output_type": "display_data"
    }
   ],
   "source": [
    "import numpy as np\n",
    "from sklearn.metrics import roc_curve, auc\n",
    "import matplotlib.pyplot as plt\n",
    "\n",
    "# Calculer les probabilités prédites\n",
    "y_pred_proba = model.predict(X)\n",
    "\n",
    "# Calculer la courbe ROC\n",
    "fpr, tpr, _ = roc_curve(y, y_pred_proba)\n",
    "roc_auc = auc(fpr, tpr)\n",
    "\n",
    "# Tracer la courbe ROC\n",
    "plt.figure()\n",
    "plt.plot(fpr, tpr, color='darkorange', lw=2, label='ROC curve (AUC = %0.2f)' % roc_auc)\n",
    "plt.plot([0, 1], [0, 1], color='navy', lw=2, linestyle='--')\n",
    "plt.xlim([0.0, 1.0])\n",
    "plt.ylim([0.0, 1.05])\n",
    "plt.xlabel('False Positive Rate')\n",
    "plt.ylabel('True Positive Rate')\n",
    "plt.title('Receiver Operating Characteristic (ROC) Curve')\n",
    "plt.legend(loc=\"lower right\")\n",
    "plt.show()\n"
   ]
  },
  {
   "cell_type": "markdown",
   "id": "a1f79646",
   "metadata": {},
   "source": [
    "On voit tout d'abord que la courbe ROC s'élève rapidement vers le coin gauche , ce qui caractérise une bonne classification. Ensuite, l'AUC est de 0.91 ce qui est une excellente performance."
   ]
  },
  {
   "cell_type": "code",
   "execution_count": 14,
   "id": "61b90a5b",
   "metadata": {},
   "outputs": [
    {
     "data": {
      "image/png": "[encoded data removed]",
      "text/plain": [
       "<Figure size 640x480 with 1 Axes>"
      ]
     },
     "metadata": {},
     "output_type": "display_data"
    }
   ],
   "source": [
    "import numpy as np\n",
    "from sklearn.metrics import roc_curve, auc, accuracy_score\n",
    "\n",
    "# Calculer les probabilités prédites\n",
    "y_pred_proba = model.predict(X)\n",
    "\n",
    "# Calculer la courbe ROC\n",
    "fpr, tpr, thresholds = roc_curve(y, y_pred_proba)\n",
    "roc_auc = auc(fpr, tpr)\n",
    "\n",
    "# Calculer la sensibilité (taux de vrais positifs) au seuil optimal\n",
    "optimal_idx = np.argmax(tpr - fpr)  # Index du seuil optimal basé sur la distance au point (0,1)\n",
    "optimal_threshold = thresholds[optimal_idx]\n",
    "\n",
    "# Prédictions binaires au seuil optimal\n",
    "y_pred_optimal = (y_pred_proba >= optimal_threshold).astype(int)\n",
    "\n",
    "# Calculer la sensibilité (TPR) pour les cas où Transactions = 1\n",
    "true_positives = np.sum((y == 1) & (y_pred_optimal == 1))\n",
    "total_positives = np.sum(y == 1)\n",
    "sensitivity = true_positives / total_positives\n",
    "\n",
    "# Tracer la courbe ROC\n",
    "plt.figure()\n",
    "plt.plot(fpr, tpr, color='darkorange', lw=2, label='ROC curve (AUC = %0.2f)' % roc_auc)\n",
    "plt.plot([0, 1], [0, 1], color='navy', lw=2, linestyle='--')\n",
    "plt.xlim([0.0, 1.0])\n",
    "plt.ylim([0.0, 1.05])\n",
    "plt.xlabel('False Positive Rate')\n",
    "plt.ylabel('True Positive Rate')\n",
    "plt.title('Receiver Operating Characteristic (ROC) Curve')\n",
    "plt.legend(loc=\"lower right\")\n",
    "\n",
    "# Ajouter le taux de prédictions correctes pour Transactions=1\n",
    "plt.text(0.6, 0.2, f'Taux correct pour Transactions=1: {sensitivity:.2f}', fontsize=12, color='blue')\n",
    "\n",
    "plt.show()\n"
   ]
  },
  {
   "cell_type": "markdown",
   "id": "f191801c",
   "metadata": {},
   "source": [
    "Vérifier taux prédiction correctes pour transaction = 1\n",
    "GAN time series\n",
    "Etat de l'art génération time series"
   ]
  },
  {
   "cell_type": "markdown",
   "id": "b47c109e",
   "metadata": {},
   "source": [
    "### Analyse A-B"
   ]
  },
  {
   "cell_type": "code",
   "execution_count": 14,
   "id": "c9bb1a85",
   "metadata": {},
   "outputs": [
    {
     "data": {
      "text/html": [
       "<div>\n",
       "<style scoped>\n",
       "    .dataframe tbody tr th:only-of-type {\n",
       "        vertical-align: middle;\n",
       "    }\n",
       "\n",
       "    .dataframe tbody tr th {\n",
       "        vertical-align: top;\n",
       "    }\n",
       "\n",
       "    .dataframe thead th {\n",
       "        text-align: right;\n",
       "    }\n",
       "</style>\n",
       "<table border=\"1\" class=\"dataframe\">\n",
       "  <thead>\n",
       "    <tr style=\"text-align: right;\">\n",
       "      <th></th>\n",
       "      <th>fullVisitorId</th>\n",
       "      <th>B</th>\n",
       "      <th>A</th>\n",
       "      <th>transactions</th>\n",
       "      <th>size_time_serie</th>\n",
       "      <th>presence_time_serie</th>\n",
       "      <th>time_spend_time_serie</th>\n",
       "      <th>connexion_time_time_serie</th>\n",
       "    </tr>\n",
       "  </thead>\n",
       "  <tbody>\n",
       "    <tr>\n",
       "      <th>0</th>\n",
       "      <td>13022610131436100</td>\n",
       "      <td>0.0</td>\n",
       "      <td>NaN</td>\n",
       "      <td>0</td>\n",
       "      <td>28</td>\n",
       "      <td>[1, 0, 0, 0, 0, 0, 0, 0, 0, 0, 0, 0, 0, 0, 0, ...</td>\n",
       "      <td>[185848, 0, 0, 0, 0, 0, 0, 0, 0, 0, 0, 0, 0, 0...</td>\n",
       "      <td>[12, 0, 0, 0, 0, 0, 0, 0, 0, 0, 0, 0, 0, 0, 0,...</td>\n",
       "    </tr>\n",
       "    <tr>\n",
       "      <th>1</th>\n",
       "      <td>13022620563064236</td>\n",
       "      <td>NaN</td>\n",
       "      <td>1.0</td>\n",
       "      <td>1</td>\n",
       "      <td>10</td>\n",
       "      <td>[1, 0, 0, 0, 0, 0, 1, 1, 1, 1]</td>\n",
       "      <td>[19500172, 0, 0, 0, 0, 0, 96067, 253384, 74122...</td>\n",
       "      <td>[15, 0, 0, 0, 0, 0, 14, 8, 14, 7]</td>\n",
       "    </tr>\n",
       "    <tr>\n",
       "      <th>2</th>\n",
       "      <td>13022713270294130</td>\n",
       "      <td>NaN</td>\n",
       "      <td>0.0</td>\n",
       "      <td>0</td>\n",
       "      <td>0</td>\n",
       "      <td>[1]</td>\n",
       "      <td>[8201446]</td>\n",
       "      <td>[11]</td>\n",
       "    </tr>\n",
       "    <tr>\n",
       "      <th>3</th>\n",
       "      <td>13022721164897174</td>\n",
       "      <td>0.0</td>\n",
       "      <td>NaN</td>\n",
       "      <td>0</td>\n",
       "      <td>20</td>\n",
       "      <td>[1, 1, 0, 1, 1, 0, 0, 0, 0, 0, 0, 1, 0, 0, 0, ...</td>\n",
       "      <td>[8197, 6255, 0, 17320, 4724, 0, 0, 0, 0, 0, 0,...</td>\n",
       "      <td>[5, 6, 0, 22, 12, 0, 0, 0, 0, 0, 0, 11, 0, 0, ...</td>\n",
       "    </tr>\n",
       "    <tr>\n",
       "      <th>4</th>\n",
       "      <td>13030421473111988</td>\n",
       "      <td>NaN</td>\n",
       "      <td>0.0</td>\n",
       "      <td>0</td>\n",
       "      <td>12</td>\n",
       "      <td>[1, 0, 0, 0, 0, 0, 0, 0, 1, 0, 0, 1]</td>\n",
       "      <td>[67390, 0, 0, 0, 0, 0, 0, 0, 2329514, 0, 0, 79...</td>\n",
       "      <td>[21, 0, 0, 0, 0, 0, 0, 0, 19, 0, 0, 15]</td>\n",
       "    </tr>\n",
       "    <tr>\n",
       "      <th>5</th>\n",
       "      <td>13030715103604264</td>\n",
       "      <td>NaN</td>\n",
       "      <td>0.0</td>\n",
       "      <td>0</td>\n",
       "      <td>12</td>\n",
       "      <td>[1, 1, 0, 0, 0, 1, 0, 0, 0, 0, 0, 1]</td>\n",
       "      <td>[1310, 8003457, 0, 0, 0, 1218018, 0, 0, 0, 0, ...</td>\n",
       "      <td>[5, 18, 0, 0, 0, 20, 0, 0, 0, 0, 0, 11]</td>\n",
       "    </tr>\n",
       "    <tr>\n",
       "      <th>6</th>\n",
       "      <td>13030813525084544</td>\n",
       "      <td>NaN</td>\n",
       "      <td>0.0</td>\n",
       "      <td>0</td>\n",
       "      <td>18</td>\n",
       "      <td>[1, 1, 0, 0, 0, 0, 1, 1, 0, 1, 0, 0, 0, 0, 0, ...</td>\n",
       "      <td>[483337, 12182987, 0, 0, 0, 0, 1292840, 758898...</td>\n",
       "      <td>[8, 11, 0, 0, 0, 0, 13, 9, 0, 13, 0, 0, 0, 0, ...</td>\n",
       "    </tr>\n",
       "    <tr>\n",
       "      <th>7</th>\n",
       "      <td>13033122341720506</td>\n",
       "      <td>NaN</td>\n",
       "      <td>0.0</td>\n",
       "      <td>0</td>\n",
       "      <td>0</td>\n",
       "      <td>[1]</td>\n",
       "      <td>[584483]</td>\n",
       "      <td>[9]</td>\n",
       "    </tr>\n",
       "    <tr>\n",
       "      <th>8</th>\n",
       "      <td>13041708062955420</td>\n",
       "      <td>NaN</td>\n",
       "      <td>0.0</td>\n",
       "      <td>0</td>\n",
       "      <td>0</td>\n",
       "      <td>[1]</td>\n",
       "      <td>[20623]</td>\n",
       "      <td>[8]</td>\n",
       "    </tr>\n",
       "    <tr>\n",
       "      <th>9</th>\n",
       "      <td>13042223263884986</td>\n",
       "      <td>NaN</td>\n",
       "      <td>0.0</td>\n",
       "      <td>0</td>\n",
       "      <td>15</td>\n",
       "      <td>[1, 0, 0, 0, 0, 0, 1, 1, 0, 1, 1, 0, 1, 1, 1]</td>\n",
       "      <td>[364990, 0, 0, 0, 0, 0, 1481278, 973528, 0, 26...</td>\n",
       "      <td>[19, 0, 0, 0, 0, 0, 20, 19, 0, 19, 19, 0, 8, 1...</td>\n",
       "    </tr>\n",
       "    <tr>\n",
       "      <th>10</th>\n",
       "      <td>13042619585221022</td>\n",
       "      <td>NaN</td>\n",
       "      <td>0.0</td>\n",
       "      <td>0</td>\n",
       "      <td>0</td>\n",
       "      <td>[1]</td>\n",
       "      <td>[123033]</td>\n",
       "      <td>[15]</td>\n",
       "    </tr>\n",
       "    <tr>\n",
       "      <th>11</th>\n",
       "      <td>13051923531118004</td>\n",
       "      <td>NaN</td>\n",
       "      <td>0.0</td>\n",
       "      <td>0</td>\n",
       "      <td>17</td>\n",
       "      <td>[1, 0, 0, 0, 0, 0, 0, 0, 0, 0, 0, 0, 0, 0, 0, ...</td>\n",
       "      <td>[50260, 0, 0, 0, 0, 0, 0, 0, 0, 0, 0, 0, 0, 0,...</td>\n",
       "      <td>[17, 0, 0, 0, 0, 0, 0, 0, 0, 0, 0, 0, 0, 0, 0,...</td>\n",
       "    </tr>\n",
       "    <tr>\n",
       "      <th>12</th>\n",
       "      <td>13060919511841082</td>\n",
       "      <td>NaN</td>\n",
       "      <td>0.0</td>\n",
       "      <td>0</td>\n",
       "      <td>0</td>\n",
       "      <td>[1]</td>\n",
       "      <td>[2190876]</td>\n",
       "      <td>[11]</td>\n",
       "    </tr>\n",
       "    <tr>\n",
       "      <th>13</th>\n",
       "      <td>13061918282001496</td>\n",
       "      <td>NaN</td>\n",
       "      <td>0.0</td>\n",
       "      <td>0</td>\n",
       "      <td>0</td>\n",
       "      <td>[1]</td>\n",
       "      <td>[5666]</td>\n",
       "      <td>[18]</td>\n",
       "    </tr>\n",
       "    <tr>\n",
       "      <th>14</th>\n",
       "      <td>13062600043792682</td>\n",
       "      <td>0.0</td>\n",
       "      <td>NaN</td>\n",
       "      <td>0</td>\n",
       "      <td>23</td>\n",
       "      <td>[1, 0, 0, 0, 1, 0, 0, 0, 0, 1, 1, 1, 0, 0, 1, ...</td>\n",
       "      <td>[2294782, 0, 0, 0, 1255414, 0, 0, 0, 0, 976989...</td>\n",
       "      <td>[6, 0, 0, 0, 7, 0, 0, 0, 0, 14, 16, 12, 0, 0, ...</td>\n",
       "    </tr>\n",
       "    <tr>\n",
       "      <th>15</th>\n",
       "      <td>13070721395011514</td>\n",
       "      <td>NaN</td>\n",
       "      <td>0.0</td>\n",
       "      <td>0</td>\n",
       "      <td>12</td>\n",
       "      <td>[1, 0, 0, 0, 0, 0, 0, 0, 0, 0, 0, 1]</td>\n",
       "      <td>[24178, 0, 0, 0, 0, 0, 0, 0, 0, 0, 0, 29372]</td>\n",
       "      <td>[19, 0, 0, 0, 0, 0, 0, 0, 0, 0, 0, 16]</td>\n",
       "    </tr>\n",
       "    <tr>\n",
       "      <th>16</th>\n",
       "      <td>13071021540027000</td>\n",
       "      <td>0.0</td>\n",
       "      <td>NaN</td>\n",
       "      <td>0</td>\n",
       "      <td>19</td>\n",
       "      <td>[1, 0, 0, 0, 0, 0, 0, 0, 0, 0, 0, 0, 0, 0, 0, ...</td>\n",
       "      <td>[204050093, 0, 0, 0, 0, 0, 0, 0, 0, 0, 0, 0, 0...</td>\n",
       "      <td>[18, 0, 0, 0, 0, 0, 0, 0, 0, 0, 0, 0, 0, 0, 0,...</td>\n",
       "    </tr>\n",
       "    <tr>\n",
       "      <th>17</th>\n",
       "      <td>13072610130143926</td>\n",
       "      <td>0.0</td>\n",
       "      <td>NaN</td>\n",
       "      <td>0</td>\n",
       "      <td>0</td>\n",
       "      <td>[1]</td>\n",
       "      <td>[25284714]</td>\n",
       "      <td>[21]</td>\n",
       "    </tr>\n",
       "    <tr>\n",
       "      <th>18</th>\n",
       "      <td>13080120054466758</td>\n",
       "      <td>1.0</td>\n",
       "      <td>NaN</td>\n",
       "      <td>1</td>\n",
       "      <td>4</td>\n",
       "      <td>[1, 1, 1, 1]</td>\n",
       "      <td>[10008523, 52637722, 795603, 137947]</td>\n",
       "      <td>[13, 14, 13, 10]</td>\n",
       "    </tr>\n",
       "    <tr>\n",
       "      <th>19</th>\n",
       "      <td>13092818433789052</td>\n",
       "      <td>0.0</td>\n",
       "      <td>NaN</td>\n",
       "      <td>0</td>\n",
       "      <td>0</td>\n",
       "      <td>[1]</td>\n",
       "      <td>[11088]</td>\n",
       "      <td>[13]</td>\n",
       "    </tr>\n",
       "    <tr>\n",
       "      <th>20</th>\n",
       "      <td>13100500171935288</td>\n",
       "      <td>0.0</td>\n",
       "      <td>NaN</td>\n",
       "      <td>0</td>\n",
       "      <td>23</td>\n",
       "      <td>[1, 0, 0, 0, 0, 0, 1, 0, 0, 0, 0, 0, 0, 1, 0, ...</td>\n",
       "      <td>[78969, 0, 0, 0, 0, 0, 10354694, 0, 0, 0, 0, 0...</td>\n",
       "      <td>[8, 0, 0, 0, 0, 0, 9, 0, 0, 0, 0, 0, 0, 13, 0,...</td>\n",
       "    </tr>\n",
       "    <tr>\n",
       "      <th>21</th>\n",
       "      <td>13101211243852220</td>\n",
       "      <td>1.0</td>\n",
       "      <td>NaN</td>\n",
       "      <td>1</td>\n",
       "      <td>27</td>\n",
       "      <td>[1, 0, 0, 0, 0, 0, 0, 0, 1, 1, 0, 0, 0, 0, 0, ...</td>\n",
       "      <td>[0, 0, 0, 0, 0, 0, 0, 0, 106022, 568690, 0, 0,...</td>\n",
       "      <td>[12, 0, 0, 0, 0, 0, 0, 0, 13, 18, 0, 0, 0, 0, ...</td>\n",
       "    </tr>\n",
       "    <tr>\n",
       "      <th>22</th>\n",
       "      <td>13101518513920276</td>\n",
       "      <td>NaN</td>\n",
       "      <td>0.0</td>\n",
       "      <td>0</td>\n",
       "      <td>22</td>\n",
       "      <td>[1, 1, 0, 0, 1, 0, 1, 1, 1, 1, 1, 1, 0, 1, 1, ...</td>\n",
       "      <td>[4198903, 335655, 0, 0, 104402, 0, 3143729, 17...</td>\n",
       "      <td>[9, 15, 0, 0, 9, 0, 15, 18, 10, 9, 16, 12, 0, ...</td>\n",
       "    </tr>\n",
       "    <tr>\n",
       "      <th>23</th>\n",
       "      <td>13101705230321168</td>\n",
       "      <td>NaN</td>\n",
       "      <td>0.0</td>\n",
       "      <td>0</td>\n",
       "      <td>0</td>\n",
       "      <td>[1]</td>\n",
       "      <td>[445348]</td>\n",
       "      <td>[15]</td>\n",
       "    </tr>\n",
       "    <tr>\n",
       "      <th>24</th>\n",
       "      <td>13102421463842906</td>\n",
       "      <td>NaN</td>\n",
       "      <td>0.0</td>\n",
       "      <td>0</td>\n",
       "      <td>0</td>\n",
       "      <td>[1]</td>\n",
       "      <td>[312883]</td>\n",
       "      <td>[15]</td>\n",
       "    </tr>\n",
       "  </tbody>\n",
       "</table>\n",
       "</div>"
      ],
      "text/plain": [
       "        fullVisitorId    B    A  transactions  size_time_serie  \\\n",
       "0   13022610131436100  0.0  NaN             0               28   \n",
       "1   13022620563064236  NaN  1.0             1               10   \n",
       "2   13022713270294130  NaN  0.0             0                0   \n",
       "3   13022721164897174  0.0  NaN             0               20   \n",
       "4   13030421473111988  NaN  0.0             0               12   \n",
       "5   13030715103604264  NaN  0.0             0               12   \n",
       "6   13030813525084544  NaN  0.0             0               18   \n",
       "7   13033122341720506  NaN  0.0             0                0   \n",
       "8   13041708062955420  NaN  0.0             0                0   \n",
       "9   13042223263884986  NaN  0.0             0               15   \n",
       "10  13042619585221022  NaN  0.0             0                0   \n",
       "11  13051923531118004  NaN  0.0             0               17   \n",
       "12  13060919511841082  NaN  0.0             0                0   \n",
       "13  13061918282001496  NaN  0.0             0                0   \n",
       "14  13062600043792682  0.0  NaN             0               23   \n",
       "15  13070721395011514  NaN  0.0             0               12   \n",
       "16  13071021540027000  0.0  NaN             0               19   \n",
       "17  13072610130143926  0.0  NaN             0                0   \n",
       "18  13080120054466758  1.0  NaN             1                4   \n",
       "19  13092818433789052  0.0  NaN             0                0   \n",
       "20  13100500171935288  0.0  NaN             0               23   \n",
       "21  13101211243852220  1.0  NaN             1               27   \n",
       "22  13101518513920276  NaN  0.0             0               22   \n",
       "23  13101705230321168  NaN  0.0             0                0   \n",
       "24  13102421463842906  NaN  0.0             0                0   \n",
       "\n",
       "                                  presence_time_serie  \\\n",
       "0   [1, 0, 0, 0, 0, 0, 0, 0, 0, 0, 0, 0, 0, 0, 0, ...   \n",
       "1                      [1, 0, 0, 0, 0, 0, 1, 1, 1, 1]   \n",
       "2                                                 [1]   \n",
       "3   [1, 1, 0, 1, 1, 0, 0, 0, 0, 0, 0, 1, 0, 0, 0, ...   \n",
       "4                [1, 0, 0, 0, 0, 0, 0, 0, 1, 0, 0, 1]   \n",
       "5                [1, 1, 0, 0, 0, 1, 0, 0, 0, 0, 0, 1]   \n",
       "6   [1, 1, 0, 0, 0, 0, 1, 1, 0, 1, 0, 0, 0, 0, 0, ...   \n",
       "7                                                 [1]   \n",
       "8                                                 [1]   \n",
       "9       [1, 0, 0, 0, 0, 0, 1, 1, 0, 1, 1, 0, 1, 1, 1]   \n",
       "10                                                [1]   \n",
       "11  [1, 0, 0, 0, 0, 0, 0, 0, 0, 0, 0, 0, 0, 0, 0, ...   \n",
       "12                                                [1]   \n",
       "13                                                [1]   \n",
       "14  [1, 0, 0, 0, 1, 0, 0, 0, 0, 1, 1, 1, 0, 0, 1, ...   \n",
       "15               [1, 0, 0, 0, 0, 0, 0, 0, 0, 0, 0, 1]   \n",
       "16  [1, 0, 0, 0, 0, 0, 0, 0, 0, 0, 0, 0, 0, 0, 0, ...   \n",
       "17                                                [1]   \n",
       "18                                       [1, 1, 1, 1]   \n",
       "19                                                [1]   \n",
       "20  [1, 0, 0, 0, 0, 0, 1, 0, 0, 0, 0, 0, 0, 1, 0, ...   \n",
       "21  [1, 0, 0, 0, 0, 0, 0, 0, 1, 1, 0, 0, 0, 0, 0, ...   \n",
       "22  [1, 1, 0, 0, 1, 0, 1, 1, 1, 1, 1, 1, 0, 1, 1, ...   \n",
       "23                                                [1]   \n",
       "24                                                [1]   \n",
       "\n",
       "                                time_spend_time_serie  \\\n",
       "0   [185848, 0, 0, 0, 0, 0, 0, 0, 0, 0, 0, 0, 0, 0...   \n",
       "1   [19500172, 0, 0, 0, 0, 0, 96067, 253384, 74122...   \n",
       "2                                           [8201446]   \n",
       "3   [8197, 6255, 0, 17320, 4724, 0, 0, 0, 0, 0, 0,...   \n",
       "4   [67390, 0, 0, 0, 0, 0, 0, 0, 2329514, 0, 0, 79...   \n",
       "5   [1310, 8003457, 0, 0, 0, 1218018, 0, 0, 0, 0, ...   \n",
       "6   [483337, 12182987, 0, 0, 0, 0, 1292840, 758898...   \n",
       "7                                            [584483]   \n",
       "8                                             [20623]   \n",
       "9   [364990, 0, 0, 0, 0, 0, 1481278, 973528, 0, 26...   \n",
       "10                                           [123033]   \n",
       "11  [50260, 0, 0, 0, 0, 0, 0, 0, 0, 0, 0, 0, 0, 0,...   \n",
       "12                                          [2190876]   \n",
       "13                                             [5666]   \n",
       "14  [2294782, 0, 0, 0, 1255414, 0, 0, 0, 0, 976989...   \n",
       "15       [24178, 0, 0, 0, 0, 0, 0, 0, 0, 0, 0, 29372]   \n",
       "16  [204050093, 0, 0, 0, 0, 0, 0, 0, 0, 0, 0, 0, 0...   \n",
       "17                                         [25284714]   \n",
       "18               [10008523, 52637722, 795603, 137947]   \n",
       "19                                            [11088]   \n",
       "20  [78969, 0, 0, 0, 0, 0, 10354694, 0, 0, 0, 0, 0...   \n",
       "21  [0, 0, 0, 0, 0, 0, 0, 0, 106022, 568690, 0, 0,...   \n",
       "22  [4198903, 335655, 0, 0, 104402, 0, 3143729, 17...   \n",
       "23                                           [445348]   \n",
       "24                                           [312883]   \n",
       "\n",
       "                            connexion_time_time_serie  \n",
       "0   [12, 0, 0, 0, 0, 0, 0, 0, 0, 0, 0, 0, 0, 0, 0,...  \n",
       "1                   [15, 0, 0, 0, 0, 0, 14, 8, 14, 7]  \n",
       "2                                                [11]  \n",
       "3   [5, 6, 0, 22, 12, 0, 0, 0, 0, 0, 0, 11, 0, 0, ...  \n",
       "4             [21, 0, 0, 0, 0, 0, 0, 0, 19, 0, 0, 15]  \n",
       "5             [5, 18, 0, 0, 0, 20, 0, 0, 0, 0, 0, 11]  \n",
       "6   [8, 11, 0, 0, 0, 0, 13, 9, 0, 13, 0, 0, 0, 0, ...  \n",
       "7                                                 [9]  \n",
       "8                                                 [8]  \n",
       "9   [19, 0, 0, 0, 0, 0, 20, 19, 0, 19, 19, 0, 8, 1...  \n",
       "10                                               [15]  \n",
       "11  [17, 0, 0, 0, 0, 0, 0, 0, 0, 0, 0, 0, 0, 0, 0,...  \n",
       "12                                               [11]  \n",
       "13                                               [18]  \n",
       "14  [6, 0, 0, 0, 7, 0, 0, 0, 0, 14, 16, 12, 0, 0, ...  \n",
       "15             [19, 0, 0, 0, 0, 0, 0, 0, 0, 0, 0, 16]  \n",
       "16  [18, 0, 0, 0, 0, 0, 0, 0, 0, 0, 0, 0, 0, 0, 0,...  \n",
       "17                                               [21]  \n",
       "18                                   [13, 14, 13, 10]  \n",
       "19                                               [13]  \n",
       "20  [8, 0, 0, 0, 0, 0, 9, 0, 0, 0, 0, 0, 0, 13, 0,...  \n",
       "21  [12, 0, 0, 0, 0, 0, 0, 0, 13, 18, 0, 0, 0, 0, ...  \n",
       "22  [9, 15, 0, 0, 9, 0, 15, 18, 10, 9, 16, 12, 0, ...  \n",
       "23                                               [15]  \n",
       "24                                               [15]  "
      ]
     },
     "execution_count": 14,
     "metadata": {},
     "output_type": "execute_result"
    }
   ],
   "source": [
    "df = pd.read_json('parcoursuserDatabaseFinalABTastyDataset1_2023.JSON')\n",
    "dg = pd.read_json('parcours_reward_ABTastyDataset1_2023.JSON')\n",
    "\n",
    "df_merged = pd.merge(dg, df, on='fullVisitorId', how='left')\n",
    "\n",
    "df_merged = df_merged.drop(columns=['B'])\n",
    "\n",
    "df_A = df_merged.dropna(subset=['A'])\n",
    "\n",
    "\n",
    "\n",
    "df_merged.head(25)\n"
   ]
  },
  {
   "cell_type": "code",
   "execution_count": 15,
   "id": "c1b661b3",
   "metadata": {},
   "outputs": [
    {
     "name": "stdout",
     "output_type": "stream",
     "text": [
      "Nombre de lignes avant suppression : 39372\n",
      "Nombre de lignes après suppression : 39359\n",
      "Nombre de lignes supprimées : 13\n"
     ]
    },
    {
     "data": {
      "text/html": [
       "<div>\n",
       "<style scoped>\n",
       "    .dataframe tbody tr th:only-of-type {\n",
       "        vertical-align: middle;\n",
       "    }\n",
       "\n",
       "    .dataframe tbody tr th {\n",
       "        vertical-align: top;\n",
       "    }\n",
       "\n",
       "    .dataframe thead th {\n",
       "        text-align: right;\n",
       "    }\n",
       "</style>\n",
       "<table border=\"1\" class=\"dataframe\">\n",
       "  <thead>\n",
       "    <tr style=\"text-align: right;\">\n",
       "      <th></th>\n",
       "      <th>B</th>\n",
       "      <th>A</th>\n",
       "      <th>transactions</th>\n",
       "      <th>size_time_serie</th>\n",
       "      <th>presence_time_serie</th>\n",
       "      <th>time_spend_time_serie</th>\n",
       "      <th>connexion_time_time_serie</th>\n",
       "      <th>total_time_spent</th>\n",
       "      <th>Number_connexion_times</th>\n",
       "    </tr>\n",
       "  </thead>\n",
       "  <tbody>\n",
       "    <tr>\n",
       "      <th>0</th>\n",
       "      <td>0.0</td>\n",
       "      <td>NaN</td>\n",
       "      <td>0</td>\n",
       "      <td>28</td>\n",
       "      <td>[1, 0, 0, 0, 0, 0, 0, 0, 0, 0, 0, 0, 0, 0, 0, ...</td>\n",
       "      <td>[185848, 0, 0, 0, 0, 0, 0, 0, 0, 0, 0, 0, 0, 0...</td>\n",
       "      <td>[12, 0, 0, 0, 0, 0, 0, 0, 0, 0, 0, 0, 0, 0, 0,...</td>\n",
       "      <td>89582735</td>\n",
       "      <td>4</td>\n",
       "    </tr>\n",
       "    <tr>\n",
       "      <th>1</th>\n",
       "      <td>NaN</td>\n",
       "      <td>1.0</td>\n",
       "      <td>1</td>\n",
       "      <td>10</td>\n",
       "      <td>[1, 0, 0, 0, 0, 0, 1, 1, 1, 1]</td>\n",
       "      <td>[19500172, 0, 0, 0, 0, 0, 96067, 253384, 74122...</td>\n",
       "      <td>[15, 0, 0, 0, 0, 0, 14, 8, 14, 7]</td>\n",
       "      <td>22140033</td>\n",
       "      <td>5</td>\n",
       "    </tr>\n",
       "    <tr>\n",
       "      <th>2</th>\n",
       "      <td>NaN</td>\n",
       "      <td>0.0</td>\n",
       "      <td>0</td>\n",
       "      <td>0</td>\n",
       "      <td>[1]</td>\n",
       "      <td>[8201446]</td>\n",
       "      <td>[11]</td>\n",
       "      <td>8201446</td>\n",
       "      <td>1</td>\n",
       "    </tr>\n",
       "    <tr>\n",
       "      <th>3</th>\n",
       "      <td>0.0</td>\n",
       "      <td>NaN</td>\n",
       "      <td>0</td>\n",
       "      <td>20</td>\n",
       "      <td>[1, 1, 0, 1, 1, 0, 0, 0, 0, 0, 0, 1, 0, 0, 0, ...</td>\n",
       "      <td>[8197, 6255, 0, 17320, 4724, 0, 0, 0, 0, 0, 0,...</td>\n",
       "      <td>[5, 6, 0, 22, 12, 0, 0, 0, 0, 0, 0, 11, 0, 0, ...</td>\n",
       "      <td>12988161</td>\n",
       "      <td>7</td>\n",
       "    </tr>\n",
       "    <tr>\n",
       "      <th>4</th>\n",
       "      <td>NaN</td>\n",
       "      <td>0.0</td>\n",
       "      <td>0</td>\n",
       "      <td>12</td>\n",
       "      <td>[1, 0, 0, 0, 0, 0, 0, 0, 1, 0, 0, 1]</td>\n",
       "      <td>[67390, 0, 0, 0, 0, 0, 0, 0, 2329514, 0, 0, 79...</td>\n",
       "      <td>[21, 0, 0, 0, 0, 0, 0, 0, 19, 0, 0, 15]</td>\n",
       "      <td>10384434</td>\n",
       "      <td>3</td>\n",
       "    </tr>\n",
       "  </tbody>\n",
       "</table>\n",
       "</div>"
      ],
      "text/plain": [
       "     B    A  transactions  size_time_serie  \\\n",
       "0  0.0  NaN             0               28   \n",
       "1  NaN  1.0             1               10   \n",
       "2  NaN  0.0             0                0   \n",
       "3  0.0  NaN             0               20   \n",
       "4  NaN  0.0             0               12   \n",
       "\n",
       "                                 presence_time_serie  \\\n",
       "0  [1, 0, 0, 0, 0, 0, 0, 0, 0, 0, 0, 0, 0, 0, 0, ...   \n",
       "1                     [1, 0, 0, 0, 0, 0, 1, 1, 1, 1]   \n",
       "2                                                [1]   \n",
       "3  [1, 1, 0, 1, 1, 0, 0, 0, 0, 0, 0, 1, 0, 0, 0, ...   \n",
       "4               [1, 0, 0, 0, 0, 0, 0, 0, 1, 0, 0, 1]   \n",
       "\n",
       "                               time_spend_time_serie  \\\n",
       "0  [185848, 0, 0, 0, 0, 0, 0, 0, 0, 0, 0, 0, 0, 0...   \n",
       "1  [19500172, 0, 0, 0, 0, 0, 96067, 253384, 74122...   \n",
       "2                                          [8201446]   \n",
       "3  [8197, 6255, 0, 17320, 4724, 0, 0, 0, 0, 0, 0,...   \n",
       "4  [67390, 0, 0, 0, 0, 0, 0, 0, 2329514, 0, 0, 79...   \n",
       "\n",
       "                           connexion_time_time_serie  total_time_spent  \\\n",
       "0  [12, 0, 0, 0, 0, 0, 0, 0, 0, 0, 0, 0, 0, 0, 0,...          89582735   \n",
       "1                  [15, 0, 0, 0, 0, 0, 14, 8, 14, 7]          22140033   \n",
       "2                                               [11]           8201446   \n",
       "3  [5, 6, 0, 22, 12, 0, 0, 0, 0, 0, 0, 11, 0, 0, ...          12988161   \n",
       "4            [21, 0, 0, 0, 0, 0, 0, 0, 19, 0, 0, 15]          10384434   \n",
       "\n",
       "   Number_connexion_times  \n",
       "0                       4  \n",
       "1                       5  \n",
       "2                       1  \n",
       "3                       7  \n",
       "4                       3  "
      ]
     },
     "execution_count": 15,
     "metadata": {},
     "output_type": "execute_result"
    }
   ],
   "source": [
    "df= df_merged\n",
    "df = remove_non_int_rows(df, \"time_spend_time_serie\")\n",
    "df[\"total_time_spent\"]=df[\"time_spend_time_serie\"].apply(sum)\n",
    "df[\"Number_connexion_times\"]=df[\"presence_time_serie\"].apply(sum)\n",
    "df.drop('fullVisitorId', axis=1, inplace=True)\n",
    "df.head(5)"
   ]
  },
  {
   "cell_type": "code",
   "execution_count": 16,
   "id": "6d0f5919",
   "metadata": {},
   "outputs": [
    {
     "data": {
      "text/html": [
       "<div>\n",
       "<style scoped>\n",
       "    .dataframe tbody tr th:only-of-type {\n",
       "        vertical-align: middle;\n",
       "    }\n",
       "\n",
       "    .dataframe tbody tr th {\n",
       "        vertical-align: top;\n",
       "    }\n",
       "\n",
       "    .dataframe thead th {\n",
       "        text-align: right;\n",
       "    }\n",
       "</style>\n",
       "<table border=\"1\" class=\"dataframe\">\n",
       "  <thead>\n",
       "    <tr style=\"text-align: right;\">\n",
       "      <th></th>\n",
       "      <th>B</th>\n",
       "      <th>A</th>\n",
       "      <th>transactions</th>\n",
       "      <th>size_time_serie</th>\n",
       "      <th>total_time_spent</th>\n",
       "      <th>Number_connexion_times</th>\n",
       "    </tr>\n",
       "  </thead>\n",
       "  <tbody>\n",
       "    <tr>\n",
       "      <th>count</th>\n",
       "      <td>0.0</td>\n",
       "      <td>22239.000000</td>\n",
       "      <td>22239.000000</td>\n",
       "      <td>22239.000000</td>\n",
       "      <td>2.223900e+04</td>\n",
       "      <td>22239.000000</td>\n",
       "    </tr>\n",
       "    <tr>\n",
       "      <th>mean</th>\n",
       "      <td>NaN</td>\n",
       "      <td>0.043392</td>\n",
       "      <td>0.043392</td>\n",
       "      <td>3.869104</td>\n",
       "      <td>2.336729e+07</td>\n",
       "      <td>2.112820</td>\n",
       "    </tr>\n",
       "    <tr>\n",
       "      <th>std</th>\n",
       "      <td>NaN</td>\n",
       "      <td>0.203743</td>\n",
       "      <td>0.203743</td>\n",
       "      <td>7.262231</td>\n",
       "      <td>1.181898e+08</td>\n",
       "      <td>2.666692</td>\n",
       "    </tr>\n",
       "    <tr>\n",
       "      <th>min</th>\n",
       "      <td>NaN</td>\n",
       "      <td>0.000000</td>\n",
       "      <td>0.000000</td>\n",
       "      <td>0.000000</td>\n",
       "      <td>0.000000e+00</td>\n",
       "      <td>1.000000</td>\n",
       "    </tr>\n",
       "    <tr>\n",
       "      <th>25%</th>\n",
       "      <td>NaN</td>\n",
       "      <td>0.000000</td>\n",
       "      <td>0.000000</td>\n",
       "      <td>0.000000</td>\n",
       "      <td>7.809950e+04</td>\n",
       "      <td>1.000000</td>\n",
       "    </tr>\n",
       "    <tr>\n",
       "      <th>50%</th>\n",
       "      <td>NaN</td>\n",
       "      <td>0.000000</td>\n",
       "      <td>0.000000</td>\n",
       "      <td>0.000000</td>\n",
       "      <td>4.779960e+05</td>\n",
       "      <td>1.000000</td>\n",
       "    </tr>\n",
       "    <tr>\n",
       "      <th>75%</th>\n",
       "      <td>NaN</td>\n",
       "      <td>0.000000</td>\n",
       "      <td>0.000000</td>\n",
       "      <td>3.000000</td>\n",
       "      <td>3.941746e+06</td>\n",
       "      <td>2.000000</td>\n",
       "    </tr>\n",
       "    <tr>\n",
       "      <th>max</th>\n",
       "      <td>NaN</td>\n",
       "      <td>1.000000</td>\n",
       "      <td>1.000000</td>\n",
       "      <td>33.000000</td>\n",
       "      <td>3.444280e+09</td>\n",
       "      <td>27.000000</td>\n",
       "    </tr>\n",
       "  </tbody>\n",
       "</table>\n",
       "</div>"
      ],
      "text/plain": [
       "         B             A  transactions  size_time_serie  total_time_spent  \\\n",
       "count  0.0  22239.000000  22239.000000     22239.000000      2.223900e+04   \n",
       "mean   NaN      0.043392      0.043392         3.869104      2.336729e+07   \n",
       "std    NaN      0.203743      0.203743         7.262231      1.181898e+08   \n",
       "min    NaN      0.000000      0.000000         0.000000      0.000000e+00   \n",
       "25%    NaN      0.000000      0.000000         0.000000      7.809950e+04   \n",
       "50%    NaN      0.000000      0.000000         0.000000      4.779960e+05   \n",
       "75%    NaN      0.000000      0.000000         3.000000      3.941746e+06   \n",
       "max    NaN      1.000000      1.000000        33.000000      3.444280e+09   \n",
       "\n",
       "       Number_connexion_times  \n",
       "count            22239.000000  \n",
       "mean                 2.112820  \n",
       "std                  2.666692  \n",
       "min                  1.000000  \n",
       "25%                  1.000000  \n",
       "50%                  1.000000  \n",
       "75%                  2.000000  \n",
       "max                 27.000000  "
      ]
     },
     "execution_count": 16,
     "metadata": {},
     "output_type": "execute_result"
    }
   ],
   "source": [
    "# Créer le dataset avec les valeurs de A\n",
    "df_A = df[df['A'].notna()].copy()\n",
    "\n",
    "# Créer le dataset avec les valeurs de B\n",
    "df_B = df[df['B'].notna()].copy()\n",
    "df_A.describe()\n"
   ]
  },
  {
   "cell_type": "code",
   "execution_count": 17,
   "id": "bd57220f",
   "metadata": {},
   "outputs": [
    {
     "data": {
      "text/html": [
       "<div>\n",
       "<style scoped>\n",
       "    .dataframe tbody tr th:only-of-type {\n",
       "        vertical-align: middle;\n",
       "    }\n",
       "\n",
       "    .dataframe tbody tr th {\n",
       "        vertical-align: top;\n",
       "    }\n",
       "\n",
       "    .dataframe thead th {\n",
       "        text-align: right;\n",
       "    }\n",
       "</style>\n",
       "<table border=\"1\" class=\"dataframe\">\n",
       "  <thead>\n",
       "    <tr style=\"text-align: right;\">\n",
       "      <th></th>\n",
       "      <th>B</th>\n",
       "      <th>A</th>\n",
       "      <th>transactions</th>\n",
       "      <th>size_time_serie</th>\n",
       "      <th>total_time_spent</th>\n",
       "      <th>Number_connexion_times</th>\n",
       "    </tr>\n",
       "  </thead>\n",
       "  <tbody>\n",
       "    <tr>\n",
       "      <th>count</th>\n",
       "      <td>17120.000000</td>\n",
       "      <td>0.0</td>\n",
       "      <td>17120.000000</td>\n",
       "      <td>17120.000000</td>\n",
       "      <td>1.712000e+04</td>\n",
       "      <td>17120.000000</td>\n",
       "    </tr>\n",
       "    <tr>\n",
       "      <th>mean</th>\n",
       "      <td>0.040129</td>\n",
       "      <td>NaN</td>\n",
       "      <td>0.040129</td>\n",
       "      <td>3.857301</td>\n",
       "      <td>2.429400e+07</td>\n",
       "      <td>2.148773</td>\n",
       "    </tr>\n",
       "    <tr>\n",
       "      <th>std</th>\n",
       "      <td>0.196266</td>\n",
       "      <td>NaN</td>\n",
       "      <td>0.196266</td>\n",
       "      <td>7.355455</td>\n",
       "      <td>1.250063e+08</td>\n",
       "      <td>2.814660</td>\n",
       "    </tr>\n",
       "    <tr>\n",
       "      <th>min</th>\n",
       "      <td>0.000000</td>\n",
       "      <td>NaN</td>\n",
       "      <td>0.000000</td>\n",
       "      <td>0.000000</td>\n",
       "      <td>0.000000e+00</td>\n",
       "      <td>1.000000</td>\n",
       "    </tr>\n",
       "    <tr>\n",
       "      <th>25%</th>\n",
       "      <td>0.000000</td>\n",
       "      <td>NaN</td>\n",
       "      <td>0.000000</td>\n",
       "      <td>0.000000</td>\n",
       "      <td>5.151875e+04</td>\n",
       "      <td>1.000000</td>\n",
       "    </tr>\n",
       "    <tr>\n",
       "      <th>50%</th>\n",
       "      <td>0.000000</td>\n",
       "      <td>NaN</td>\n",
       "      <td>0.000000</td>\n",
       "      <td>0.000000</td>\n",
       "      <td>3.911550e+05</td>\n",
       "      <td>1.000000</td>\n",
       "    </tr>\n",
       "    <tr>\n",
       "      <th>75%</th>\n",
       "      <td>0.000000</td>\n",
       "      <td>NaN</td>\n",
       "      <td>0.000000</td>\n",
       "      <td>3.000000</td>\n",
       "      <td>3.492845e+06</td>\n",
       "      <td>2.000000</td>\n",
       "    </tr>\n",
       "    <tr>\n",
       "      <th>max</th>\n",
       "      <td>1.000000</td>\n",
       "      <td>NaN</td>\n",
       "      <td>1.000000</td>\n",
       "      <td>33.000000</td>\n",
       "      <td>4.401504e+09</td>\n",
       "      <td>26.000000</td>\n",
       "    </tr>\n",
       "  </tbody>\n",
       "</table>\n",
       "</div>"
      ],
      "text/plain": [
       "                  B    A  transactions  size_time_serie  total_time_spent  \\\n",
       "count  17120.000000  0.0  17120.000000     17120.000000      1.712000e+04   \n",
       "mean       0.040129  NaN      0.040129         3.857301      2.429400e+07   \n",
       "std        0.196266  NaN      0.196266         7.355455      1.250063e+08   \n",
       "min        0.000000  NaN      0.000000         0.000000      0.000000e+00   \n",
       "25%        0.000000  NaN      0.000000         0.000000      5.151875e+04   \n",
       "50%        0.000000  NaN      0.000000         0.000000      3.911550e+05   \n",
       "75%        0.000000  NaN      0.000000         3.000000      3.492845e+06   \n",
       "max        1.000000  NaN      1.000000        33.000000      4.401504e+09   \n",
       "\n",
       "       Number_connexion_times  \n",
       "count            17120.000000  \n",
       "mean                 2.148773  \n",
       "std                  2.814660  \n",
       "min                  1.000000  \n",
       "25%                  1.000000  \n",
       "50%                  1.000000  \n",
       "75%                  2.000000  \n",
       "max                 26.000000  "
      ]
     },
     "execution_count": 17,
     "metadata": {},
     "output_type": "execute_result"
    }
   ],
   "source": [
    "df_B.describe()"
   ]
  },
  {
   "cell_type": "code",
   "execution_count": 18,
   "id": "39b87e2a",
   "metadata": {},
   "outputs": [
    {
     "data": {
      "image/png": "[encoded data removed]",
      "text/plain": [
       "<Figure size 2000x1000 with 4 Axes>"
      ]
     },
     "metadata": {},
     "output_type": "display_data"
    },
    {
     "name": "stdout",
     "output_type": "stream",
     "text": [
      "Colonnes traitées dans df_A: ['presence_time_serie', 'time_spend_time_serie', 'connexion_time_time_serie']\n",
      "Colonnes traitées dans df_B: ['presence_time_serie', 'time_spend_time_serie', 'connexion_time_time_serie']\n"
     ]
    }
   ],
   "source": [
    "# Fonction pour vérifier si une colonne contient des listes\n",
    "def contains_list(series):\n",
    "    return series.apply(lambda x: isinstance(x, list)).any()\n",
    "\n",
    "# Fonction pour extraire une caractéristique d'une liste (par exemple, la moyenne)\n",
    "def extract_feature(x):\n",
    "    if isinstance(x, list):\n",
    "        return np.mean(x) if len(x) > 0 else np.nan\n",
    "    return x\n",
    "\n",
    "# Identifier les colonnes contenant des listes\n",
    "list_columns_A = [col for col in df_A.columns if contains_list(df_A[col])]\n",
    "list_columns_B = [col for col in df_B.columns if contains_list(df_B[col])]\n",
    "\n",
    "# Traiter ces colonnes en extrayant une caractéristique\n",
    "for col in list_columns_A:\n",
    "    df_A[f'{col}_mean'] = df_A[col].apply(extract_feature)\n",
    "\n",
    "for col in list_columns_B:\n",
    "    df_B[f'{col}_mean'] = df_B[col].apply(extract_feature)\n",
    "\n",
    "# Sélectionner uniquement les colonnes numériques pour la corrélation\n",
    "numeric_columns_A = df_A.select_dtypes(include=[np.number]).columns\n",
    "numeric_columns_B = df_B.select_dtypes(include=[np.number]).columns\n",
    "\n",
    "# Calculer les corrélations\n",
    "corr_A = df_A[numeric_columns_A].corr()\n",
    "corr_B = df_B[numeric_columns_B].corr()\n",
    "\n",
    "# Visualiser les matrices de corrélation\n",
    "fig, (ax1, ax2) = plt.subplots(1, 2, figsize=(20, 10))\n",
    "\n",
    "sns.heatmap(corr_A, annot=False, cmap='coolwarm', ax=ax1)\n",
    "ax1.set_title(\"Corrélations pour l'objet A\")\n",
    "\n",
    "sns.heatmap(corr_B, annot=False, cmap='coolwarm', ax=ax2)\n",
    "ax2.set_title(\"Corrélations pour l'objet B\")\n",
    "\n",
    "plt.tight_layout()\n",
    "plt.show()\n",
    "\n",
    "# Afficher les colonnes traitées\n",
    "print(\"Colonnes traitées dans df_A:\", list_columns_A)\n",
    "print(\"Colonnes traitées dans df_B:\", list_columns_B)"
   ]
  },
  {
   "cell_type": "markdown",
   "id": "5e16136f",
   "metadata": {},
   "source": [
    "De manière assez évidente , la colonne de transaction est corrélée à A et B , en effet , la colonne est égale au max entre A et B . De même , le nombre de connexions est corrélé à la période de connexion totale. Finalement, le temps total passé et le nombre de connexions semblent influencer légèrement la transaction."
   ]
  },
  {
   "cell_type": "markdown",
   "id": "77e8ca28",
   "metadata": {},
   "source": [
    "# Générations de données"
   ]
  },
  {
   "cell_type": "code",
   "execution_count": 20,
   "id": "b8b30511",
   "metadata": {},
   "outputs": [
    {
     "name": "stdout",
     "output_type": "stream",
     "text": [
      "Nombre de listes avec une taille supérieure à 20 : 2061\n"
     ]
    }
   ],
   "source": [
    "# 1. Compter combien de listes ont une taille supérieure à 20\n",
    "count_over_20 = (df_merged['presence_time_serie'].apply(len) > 20).sum()\n",
    "print(f\"Nombre de listes avec une taille supérieure à 20 : {count_over_20}\")"
   ]
  },
  {
   "cell_type": "code",
   "execution_count": 21,
   "id": "8db356fc",
   "metadata": {},
   "outputs": [
    {
     "data": {
      "text/html": [
       "<div>\n",
       "<style scoped>\n",
       "    .dataframe tbody tr th:only-of-type {\n",
       "        vertical-align: middle;\n",
       "    }\n",
       "\n",
       "    .dataframe tbody tr th {\n",
       "        vertical-align: top;\n",
       "    }\n",
       "\n",
       "    .dataframe thead th {\n",
       "        text-align: right;\n",
       "    }\n",
       "</style>\n",
       "<table border=\"1\" class=\"dataframe\">\n",
       "  <thead>\n",
       "    <tr style=\"text-align: right;\">\n",
       "      <th></th>\n",
       "      <th>fullVisitorId</th>\n",
       "      <th>B</th>\n",
       "      <th>A</th>\n",
       "      <th>transactions</th>\n",
       "      <th>size_time_serie</th>\n",
       "      <th>presence_time_serie</th>\n",
       "      <th>time_spend_time_serie</th>\n",
       "      <th>connexion_time_time_serie</th>\n",
       "      <th>presence_1</th>\n",
       "      <th>time_spend_1</th>\n",
       "      <th>...</th>\n",
       "      <th>presence_16</th>\n",
       "      <th>time_spend_16</th>\n",
       "      <th>presence_17</th>\n",
       "      <th>time_spend_17</th>\n",
       "      <th>presence_18</th>\n",
       "      <th>time_spend_18</th>\n",
       "      <th>presence_19</th>\n",
       "      <th>time_spend_19</th>\n",
       "      <th>presence_20</th>\n",
       "      <th>time_spend_20</th>\n",
       "    </tr>\n",
       "  </thead>\n",
       "  <tbody>\n",
       "    <tr>\n",
       "      <th>0</th>\n",
       "      <td>13022610131436100</td>\n",
       "      <td>0.0</td>\n",
       "      <td>0.0</td>\n",
       "      <td>0</td>\n",
       "      <td>28</td>\n",
       "      <td>[1, 0, 0, 0, 0, 0, 0, 0, 0, 0, 0, 0, 0, 0, 0, ...</td>\n",
       "      <td>[185848, 0, 0, 0, 0, 0, 0, 0, 0, 0, 0, 0, 0, 0...</td>\n",
       "      <td>[12, 0, 0, 0, 0, 0, 0, 0, 0, 0, 0, 0, 0, 0, 0,...</td>\n",
       "      <td>1.0</td>\n",
       "      <td>0.185848</td>\n",
       "      <td>...</td>\n",
       "      <td>0.0</td>\n",
       "      <td>0.000000</td>\n",
       "      <td>0.0</td>\n",
       "      <td>0.0</td>\n",
       "      <td>1.0</td>\n",
       "      <td>0.515901</td>\n",
       "      <td>0.0</td>\n",
       "      <td>0.0</td>\n",
       "      <td>0.0</td>\n",
       "      <td>0.000000</td>\n",
       "    </tr>\n",
       "    <tr>\n",
       "      <th>1</th>\n",
       "      <td>13022620563064236</td>\n",
       "      <td>0.0</td>\n",
       "      <td>1.0</td>\n",
       "      <td>1</td>\n",
       "      <td>10</td>\n",
       "      <td>[1, 0, 0, 0, 0, 0, 1, 1, 1, 1]</td>\n",
       "      <td>[19500172, 0, 0, 0, 0, 0, 96067, 253384, 74122...</td>\n",
       "      <td>[15, 0, 0, 0, 0, 0, 14, 8, 14, 7]</td>\n",
       "      <td>1.0</td>\n",
       "      <td>19.500172</td>\n",
       "      <td>...</td>\n",
       "      <td>0.0</td>\n",
       "      <td>0.000000</td>\n",
       "      <td>0.0</td>\n",
       "      <td>0.0</td>\n",
       "      <td>0.0</td>\n",
       "      <td>0.000000</td>\n",
       "      <td>0.0</td>\n",
       "      <td>0.0</td>\n",
       "      <td>0.0</td>\n",
       "      <td>0.000000</td>\n",
       "    </tr>\n",
       "    <tr>\n",
       "      <th>2</th>\n",
       "      <td>13022713270294130</td>\n",
       "      <td>0.0</td>\n",
       "      <td>0.0</td>\n",
       "      <td>0</td>\n",
       "      <td>0</td>\n",
       "      <td>[1]</td>\n",
       "      <td>[8201446]</td>\n",
       "      <td>[11]</td>\n",
       "      <td>1.0</td>\n",
       "      <td>8.201446</td>\n",
       "      <td>...</td>\n",
       "      <td>0.0</td>\n",
       "      <td>0.000000</td>\n",
       "      <td>0.0</td>\n",
       "      <td>0.0</td>\n",
       "      <td>0.0</td>\n",
       "      <td>0.000000</td>\n",
       "      <td>0.0</td>\n",
       "      <td>0.0</td>\n",
       "      <td>0.0</td>\n",
       "      <td>0.000000</td>\n",
       "    </tr>\n",
       "    <tr>\n",
       "      <th>3</th>\n",
       "      <td>13022721164897174</td>\n",
       "      <td>0.0</td>\n",
       "      <td>0.0</td>\n",
       "      <td>0</td>\n",
       "      <td>20</td>\n",
       "      <td>[1, 1, 0, 1, 1, 0, 0, 0, 0, 0, 0, 1, 0, 0, 0, ...</td>\n",
       "      <td>[8197, 6255, 0, 17320, 4724, 0, 0, 0, 0, 0, 0,...</td>\n",
       "      <td>[5, 6, 0, 22, 12, 0, 0, 0, 0, 0, 0, 11, 0, 0, ...</td>\n",
       "      <td>1.0</td>\n",
       "      <td>0.008197</td>\n",
       "      <td>...</td>\n",
       "      <td>1.0</td>\n",
       "      <td>12.936865</td>\n",
       "      <td>0.0</td>\n",
       "      <td>0.0</td>\n",
       "      <td>0.0</td>\n",
       "      <td>0.000000</td>\n",
       "      <td>0.0</td>\n",
       "      <td>0.0</td>\n",
       "      <td>1.0</td>\n",
       "      <td>0.008881</td>\n",
       "    </tr>\n",
       "    <tr>\n",
       "      <th>4</th>\n",
       "      <td>13030421473111988</td>\n",
       "      <td>0.0</td>\n",
       "      <td>0.0</td>\n",
       "      <td>0</td>\n",
       "      <td>12</td>\n",
       "      <td>[1, 0, 0, 0, 0, 0, 0, 0, 1, 0, 0, 1]</td>\n",
       "      <td>[67390, 0, 0, 0, 0, 0, 0, 0, 2329514, 0, 0, 79...</td>\n",
       "      <td>[21, 0, 0, 0, 0, 0, 0, 0, 19, 0, 0, 15]</td>\n",
       "      <td>1.0</td>\n",
       "      <td>0.067390</td>\n",
       "      <td>...</td>\n",
       "      <td>0.0</td>\n",
       "      <td>0.000000</td>\n",
       "      <td>0.0</td>\n",
       "      <td>0.0</td>\n",
       "      <td>0.0</td>\n",
       "      <td>0.000000</td>\n",
       "      <td>0.0</td>\n",
       "      <td>0.0</td>\n",
       "      <td>0.0</td>\n",
       "      <td>0.000000</td>\n",
       "    </tr>\n",
       "  </tbody>\n",
       "</table>\n",
       "<p>5 rows × 48 columns</p>\n",
       "</div>"
      ],
      "text/plain": [
       "       fullVisitorId    B    A  transactions  size_time_serie  \\\n",
       "0  13022610131436100  0.0  0.0             0               28   \n",
       "1  13022620563064236  0.0  1.0             1               10   \n",
       "2  13022713270294130  0.0  0.0             0                0   \n",
       "3  13022721164897174  0.0  0.0             0               20   \n",
       "4  13030421473111988  0.0  0.0             0               12   \n",
       "\n",
       "                                 presence_time_serie  \\\n",
       "0  [1, 0, 0, 0, 0, 0, 0, 0, 0, 0, 0, 0, 0, 0, 0, ...   \n",
       "1                     [1, 0, 0, 0, 0, 0, 1, 1, 1, 1]   \n",
       "2                                                [1]   \n",
       "3  [1, 1, 0, 1, 1, 0, 0, 0, 0, 0, 0, 1, 0, 0, 0, ...   \n",
       "4               [1, 0, 0, 0, 0, 0, 0, 0, 1, 0, 0, 1]   \n",
       "\n",
       "                               time_spend_time_serie  \\\n",
       "0  [185848, 0, 0, 0, 0, 0, 0, 0, 0, 0, 0, 0, 0, 0...   \n",
       "1  [19500172, 0, 0, 0, 0, 0, 96067, 253384, 74122...   \n",
       "2                                          [8201446]   \n",
       "3  [8197, 6255, 0, 17320, 4724, 0, 0, 0, 0, 0, 0,...   \n",
       "4  [67390, 0, 0, 0, 0, 0, 0, 0, 2329514, 0, 0, 79...   \n",
       "\n",
       "                           connexion_time_time_serie  presence_1  \\\n",
       "0  [12, 0, 0, 0, 0, 0, 0, 0, 0, 0, 0, 0, 0, 0, 0,...         1.0   \n",
       "1                  [15, 0, 0, 0, 0, 0, 14, 8, 14, 7]         1.0   \n",
       "2                                               [11]         1.0   \n",
       "3  [5, 6, 0, 22, 12, 0, 0, 0, 0, 0, 0, 11, 0, 0, ...         1.0   \n",
       "4            [21, 0, 0, 0, 0, 0, 0, 0, 19, 0, 0, 15]         1.0   \n",
       "\n",
       "   time_spend_1  ...  presence_16  time_spend_16  presence_17  time_spend_17  \\\n",
       "0      0.185848  ...          0.0       0.000000          0.0            0.0   \n",
       "1     19.500172  ...          0.0       0.000000          0.0            0.0   \n",
       "2      8.201446  ...          0.0       0.000000          0.0            0.0   \n",
       "3      0.008197  ...          1.0      12.936865          0.0            0.0   \n",
       "4      0.067390  ...          0.0       0.000000          0.0            0.0   \n",
       "\n",
       "   presence_18  time_spend_18  presence_19  time_spend_19  presence_20  \\\n",
       "0          1.0       0.515901          0.0            0.0          0.0   \n",
       "1          0.0       0.000000          0.0            0.0          0.0   \n",
       "2          0.0       0.000000          0.0            0.0          0.0   \n",
       "3          0.0       0.000000          0.0            0.0          1.0   \n",
       "4          0.0       0.000000          0.0            0.0          0.0   \n",
       "\n",
       "   time_spend_20  \n",
       "0       0.000000  \n",
       "1       0.000000  \n",
       "2       0.000000  \n",
       "3       0.008881  \n",
       "4       0.000000  \n",
       "\n",
       "[5 rows x 48 columns]"
      ]
     },
     "execution_count": 21,
     "metadata": {},
     "output_type": "execute_result"
    }
   ],
   "source": [
    "def pad_list(lst, target_length=20, pad_value=0):\n",
    "    return lst + [pad_value] * (target_length - len(lst))\n",
    "\n",
    "\n",
    "def normalize_column(df, column_name):\n",
    "    # Ignorer les NaN pour les calculs de min et max\n",
    "    x_min = df[column_name].min()\n",
    "    x_max = df[column_name].max()\n",
    "    \n",
    "    # Vérifier si toutes les valeurs non-NaN sont identiques\n",
    "    if x_min == x_max:\n",
    "        print(f\"Attention : Toutes les valeurs non-NaN de {column_name} sont identiques. Normalisation ignorée.\")\n",
    "        return df\n",
    "    \n",
    "    a = 8 / (x_max - x_min)\n",
    "    b = -a * (x_min + x_max) / 2\n",
    "    \n",
    "    \n",
    "    # Appliquer la normalisation seulement aux valeurs non-NaN\n",
    "    df[column_name] = df[column_name].apply(lambda x: x * a + b if not np.isnan(x) else x)\n",
    "    \n",
    "    return df\n"
   ]
  },
  {
   "cell_type": "code",
   "execution_count": 24,
   "id": "25f735b6",
   "metadata": {
    "scrolled": false
   },
   "outputs": [
    {
     "name": "stdout",
     "output_type": "stream",
     "text": [
      "Nombre de lignes avant suppression : 39372\n",
      "Nombre de lignes après suppression : 39359\n",
      "Nombre de lignes supprimées : 13\n"
     ]
    },
    {
     "data": {
      "text/html": [
       "<div>\n",
       "<style scoped>\n",
       "    .dataframe tbody tr th:only-of-type {\n",
       "        vertical-align: middle;\n",
       "    }\n",
       "\n",
       "    .dataframe tbody tr th {\n",
       "        vertical-align: top;\n",
       "    }\n",
       "\n",
       "    .dataframe thead th {\n",
       "        text-align: right;\n",
       "    }\n",
       "</style>\n",
       "<table border=\"1\" class=\"dataframe\">\n",
       "  <thead>\n",
       "    <tr style=\"text-align: right;\">\n",
       "      <th></th>\n",
       "      <th>fullVisitorId</th>\n",
       "      <th>B</th>\n",
       "      <th>A</th>\n",
       "      <th>transactions</th>\n",
       "      <th>size_time_serie</th>\n",
       "      <th>presence_time_serie</th>\n",
       "      <th>time_spend_time_serie</th>\n",
       "      <th>connexion_time_time_serie</th>\n",
       "      <th>presence_1</th>\n",
       "      <th>time_spend_1</th>\n",
       "      <th>...</th>\n",
       "      <th>presence_17</th>\n",
       "      <th>time_spend_17</th>\n",
       "      <th>presence_18</th>\n",
       "      <th>time_spend_18</th>\n",
       "      <th>presence_19</th>\n",
       "      <th>time_spend_19</th>\n",
       "      <th>presence_20</th>\n",
       "      <th>time_spend_20</th>\n",
       "      <th>check A</th>\n",
       "      <th>check B</th>\n",
       "    </tr>\n",
       "  </thead>\n",
       "  <tbody>\n",
       "    <tr>\n",
       "      <th>0</th>\n",
       "      <td>13022610131436100</td>\n",
       "      <td>0.0</td>\n",
       "      <td>0.0</td>\n",
       "      <td>0</td>\n",
       "      <td>28</td>\n",
       "      <td>[1, 0, 0, 0, 0, 0, 0, 0, 0, 0, 0, 0, 0, 0, 0, ...</td>\n",
       "      <td>[185848, 0, 0, 0, 0, 0, 0, 0, 0, 0, 0, 0, 0, 0...</td>\n",
       "      <td>[12, 0, 0, 0, 0, 0, 0, 0, 0, 0, 0, 0, 0, 0, 0,...</td>\n",
       "      <td>1</td>\n",
       "      <td>-3.999188</td>\n",
       "      <td>...</td>\n",
       "      <td>0</td>\n",
       "      <td>-4.0</td>\n",
       "      <td>1</td>\n",
       "      <td>-3.996709</td>\n",
       "      <td>0</td>\n",
       "      <td>-4.0</td>\n",
       "      <td>0</td>\n",
       "      <td>-4.000000</td>\n",
       "      <td>-4</td>\n",
       "      <td>4</td>\n",
       "    </tr>\n",
       "    <tr>\n",
       "      <th>1</th>\n",
       "      <td>13022620563064236</td>\n",
       "      <td>0.0</td>\n",
       "      <td>1.0</td>\n",
       "      <td>1</td>\n",
       "      <td>10</td>\n",
       "      <td>[1, 0, 0, 0, 0, 0, 1, 1, 1, 1]</td>\n",
       "      <td>[19500172, 0, 0, 0, 0, 0, 96067, 253384, 74122...</td>\n",
       "      <td>[15, 0, 0, 0, 0, 0, 14, 8, 14, 7]</td>\n",
       "      <td>1</td>\n",
       "      <td>-3.914806</td>\n",
       "      <td>...</td>\n",
       "      <td>0</td>\n",
       "      <td>-4.0</td>\n",
       "      <td>0</td>\n",
       "      <td>-4.000000</td>\n",
       "      <td>0</td>\n",
       "      <td>-4.0</td>\n",
       "      <td>0</td>\n",
       "      <td>-4.000000</td>\n",
       "      <td>4</td>\n",
       "      <td>-4</td>\n",
       "    </tr>\n",
       "    <tr>\n",
       "      <th>2</th>\n",
       "      <td>13022713270294130</td>\n",
       "      <td>0.0</td>\n",
       "      <td>0.0</td>\n",
       "      <td>0</td>\n",
       "      <td>0</td>\n",
       "      <td>[1]</td>\n",
       "      <td>[8201446]</td>\n",
       "      <td>[11]</td>\n",
       "      <td>1</td>\n",
       "      <td>-3.964169</td>\n",
       "      <td>...</td>\n",
       "      <td>0</td>\n",
       "      <td>-4.0</td>\n",
       "      <td>0</td>\n",
       "      <td>-4.000000</td>\n",
       "      <td>0</td>\n",
       "      <td>-4.0</td>\n",
       "      <td>0</td>\n",
       "      <td>-4.000000</td>\n",
       "      <td>4</td>\n",
       "      <td>-4</td>\n",
       "    </tr>\n",
       "    <tr>\n",
       "      <th>3</th>\n",
       "      <td>13022721164897174</td>\n",
       "      <td>0.0</td>\n",
       "      <td>0.0</td>\n",
       "      <td>0</td>\n",
       "      <td>20</td>\n",
       "      <td>[1, 1, 0, 1, 1, 0, 0, 0, 0, 0, 0, 1, 0, 0, 0, ...</td>\n",
       "      <td>[8197, 6255, 0, 17320, 4724, 0, 0, 0, 0, 0, 0,...</td>\n",
       "      <td>[5, 6, 0, 22, 12, 0, 0, 0, 0, 0, 0, 11, 0, 0, ...</td>\n",
       "      <td>1</td>\n",
       "      <td>-3.999964</td>\n",
       "      <td>...</td>\n",
       "      <td>0</td>\n",
       "      <td>-4.0</td>\n",
       "      <td>0</td>\n",
       "      <td>-4.000000</td>\n",
       "      <td>0</td>\n",
       "      <td>-4.0</td>\n",
       "      <td>1</td>\n",
       "      <td>-3.999947</td>\n",
       "      <td>-4</td>\n",
       "      <td>4</td>\n",
       "    </tr>\n",
       "    <tr>\n",
       "      <th>4</th>\n",
       "      <td>13030421473111988</td>\n",
       "      <td>0.0</td>\n",
       "      <td>0.0</td>\n",
       "      <td>0</td>\n",
       "      <td>12</td>\n",
       "      <td>[1, 0, 0, 0, 0, 0, 0, 0, 1, 0, 0, 1]</td>\n",
       "      <td>[67390, 0, 0, 0, 0, 0, 0, 0, 2329514, 0, 0, 79...</td>\n",
       "      <td>[21, 0, 0, 0, 0, 0, 0, 0, 19, 0, 0, 15]</td>\n",
       "      <td>1</td>\n",
       "      <td>-3.999706</td>\n",
       "      <td>...</td>\n",
       "      <td>0</td>\n",
       "      <td>-4.0</td>\n",
       "      <td>0</td>\n",
       "      <td>-4.000000</td>\n",
       "      <td>0</td>\n",
       "      <td>-4.0</td>\n",
       "      <td>0</td>\n",
       "      <td>-4.000000</td>\n",
       "      <td>4</td>\n",
       "      <td>-4</td>\n",
       "    </tr>\n",
       "  </tbody>\n",
       "</table>\n",
       "<p>5 rows × 50 columns</p>\n",
       "</div>"
      ],
      "text/plain": [
       "       fullVisitorId    B    A  transactions  size_time_serie  \\\n",
       "0  13022610131436100  0.0  0.0             0               28   \n",
       "1  13022620563064236  0.0  1.0             1               10   \n",
       "2  13022713270294130  0.0  0.0             0                0   \n",
       "3  13022721164897174  0.0  0.0             0               20   \n",
       "4  13030421473111988  0.0  0.0             0               12   \n",
       "\n",
       "                                 presence_time_serie  \\\n",
       "0  [1, 0, 0, 0, 0, 0, 0, 0, 0, 0, 0, 0, 0, 0, 0, ...   \n",
       "1                     [1, 0, 0, 0, 0, 0, 1, 1, 1, 1]   \n",
       "2                                                [1]   \n",
       "3  [1, 1, 0, 1, 1, 0, 0, 0, 0, 0, 0, 1, 0, 0, 0, ...   \n",
       "4               [1, 0, 0, 0, 0, 0, 0, 0, 1, 0, 0, 1]   \n",
       "\n",
       "                               time_spend_time_serie  \\\n",
       "0  [185848, 0, 0, 0, 0, 0, 0, 0, 0, 0, 0, 0, 0, 0...   \n",
       "1  [19500172, 0, 0, 0, 0, 0, 96067, 253384, 74122...   \n",
       "2                                          [8201446]   \n",
       "3  [8197, 6255, 0, 17320, 4724, 0, 0, 0, 0, 0, 0,...   \n",
       "4  [67390, 0, 0, 0, 0, 0, 0, 0, 2329514, 0, 0, 79...   \n",
       "\n",
       "                           connexion_time_time_serie  presence_1  \\\n",
       "0  [12, 0, 0, 0, 0, 0, 0, 0, 0, 0, 0, 0, 0, 0, 0,...           1   \n",
       "1                  [15, 0, 0, 0, 0, 0, 14, 8, 14, 7]           1   \n",
       "2                                               [11]           1   \n",
       "3  [5, 6, 0, 22, 12, 0, 0, 0, 0, 0, 0, 11, 0, 0, ...           1   \n",
       "4            [21, 0, 0, 0, 0, 0, 0, 0, 19, 0, 0, 15]           1   \n",
       "\n",
       "   time_spend_1  ...  presence_17  time_spend_17  presence_18  time_spend_18  \\\n",
       "0     -3.999188  ...            0           -4.0            1      -3.996709   \n",
       "1     -3.914806  ...            0           -4.0            0      -4.000000   \n",
       "2     -3.964169  ...            0           -4.0            0      -4.000000   \n",
       "3     -3.999964  ...            0           -4.0            0      -4.000000   \n",
       "4     -3.999706  ...            0           -4.0            0      -4.000000   \n",
       "\n",
       "   presence_19  time_spend_19  presence_20  time_spend_20  check A  check B  \n",
       "0            0           -4.0            0      -4.000000       -4        4  \n",
       "1            0           -4.0            0      -4.000000        4       -4  \n",
       "2            0           -4.0            0      -4.000000        4       -4  \n",
       "3            0           -4.0            1      -3.999947       -4        4  \n",
       "4            0           -4.0            0      -4.000000        4       -4  \n",
       "\n",
       "[5 rows x 50 columns]"
      ]
     },
     "execution_count": 24,
     "metadata": {},
     "output_type": "execute_result"
    }
   ],
   "source": [
    "df = pd.read_json('parcoursuserDatabaseFinalABTastyDataset1_2023.JSON')\n",
    "dg = pd.read_json('parcours_reward_ABTastyDataset1_2023.JSON')\n",
    "\n",
    "df_merged = pd.merge(dg, df, on='fullVisitorId', how='left')\n",
    "\n",
    "df_merged = remove_non_int_rows(df_merged, \"time_spend_time_serie\")\n",
    "\n",
    "\n",
    "padded_series = df_merged['presence_time_serie'].apply(pad_list)\n",
    "padded_series2= df_merged['time_spend_time_serie'].apply(pad_list)\n",
    "\n",
    "\n",
    "for i in range(20):\n",
    "    df_merged[f'presence_{i+1}'] = padded_series.apply(lambda x: x[i])\n",
    "    df_merged[f'time_spend_{i+1}'] = padded_series2.apply(lambda x: x[i])\n",
    "    \n",
    "    \n",
    "    \n",
    "column_names = [f'presence_{i}' for i in range(1, 21)]\n",
    "column_names2 = [f'time_spend_{i}' for i in range(1, 21)]\n",
    "\n",
    "\n",
    "all_columns =  [\"A\", \"B\"] + column_names + column_names2\n",
    "\n",
    "df_merged = df_merged.replace('NA', np.nan)\n",
    "df_merged[all_columns] = df_merged[all_columns].astype(float).fillna(0)\n",
    "\n",
    "\n",
    "df_merged[column_names2]=df_merged[column_names2]/(10**6)\n",
    "df_merged['check A'] = np.where(df_merged['A'].isna(), -4, 4)\n",
    "df_merged['check B'] = np.where(df_merged['B'].isna(), -4, 4)    \n",
    "    \n",
    "\n",
    "for i in range(1, 21):\n",
    "    column_name = f'time_spend_{i}'\n",
    "    if column_name in df_merged.columns:\n",
    "        df_merged = normalize_column(df_merged, column_name)\n",
    "\n",
    "        \n",
    "df_merged['A'] = df_merged['A'].fillna(0)\n",
    "df_merged['B'] = df_merged['B'].fillna(0)\n",
    "df_merged.head()"
   ]
  },
  {
   "cell_type": "code",
   "execution_count": 25,
   "id": "ffbc4cc2",
   "metadata": {},
   "outputs": [
    {
     "name": "stdout",
     "output_type": "stream",
     "text": [
      "torch.Size([39359, 44])\n",
      "tensor([[ 0.,  0.,  1.,  ..., -4., -4.,  4.],\n",
      "        [ 1.,  0.,  1.,  ..., -4.,  4., -4.],\n",
      "        [ 0.,  0.,  1.,  ..., -4.,  4., -4.],\n",
      "        ...,\n",
      "        [ 0.,  0.,  1.,  ..., -4., -4.,  4.],\n",
      "        [ 0.,  0.,  1.,  ..., -4., -4.,  4.],\n",
      "        [ 0.,  0.,  1.,  ..., -4., -4.,  4.]])\n",
      "44\n"
     ]
    }
   ],
   "source": [
    "all_columns =  [\"A\", \"B\"] + column_names + column_names2 +['check A','check B']\n",
    "dataset = df_merged[all_columns].values\n",
    "\n",
    "# Convertir en tensor PyTorch\n",
    "tensor = torch.from_numpy(dataset).float()\n",
    "\n",
    "# Créer le TensorDataset\n",
    "dataset = TensorDataset(tensor)\n",
    "data_tensor = dataset.tensors[0]\n",
    "\n",
    "print(data_tensor.shape)\n",
    "print(data_tensor)\n",
    "print(len(all_columns))"
   ]
  },
  {
   "cell_type": "code",
   "execution_count": 34,
   "id": "9113cae0",
   "metadata": {
    "scrolled": true
   },
   "outputs": [
    {
     "name": "stdout",
     "output_type": "stream",
     "text": [
      "Training model\n"
     ]
    },
    {
     "data": {
      "application/vnd.jupyter.widget-view+json": {
       "model_id": "1bbd7d56805f46bd9adbfbed84c02b0c",
       "version_major": 2,
       "version_minor": 0
      },
      "text/plain": [
       "  0%|          | 0/393 [00:00<?, ?it/s]"
      ]
     },
     "metadata": {},
     "output_type": "display_data"
    },
    {
     "data": {
      "application/vnd.jupyter.widget-view+json": {
       "model_id": "c7b2f3dd54474a1786ba501c5478ffd4",
       "version_major": 2,
       "version_minor": 0
      },
      "text/plain": [
       "  0%|          | 0/393 [00:00<?, ?it/s]"
      ]
     },
     "metadata": {},
     "output_type": "display_data"
    },
    {
     "data": {
      "application/vnd.jupyter.widget-view+json": {
       "model_id": "8fceaf05f8e945f3a13197e62c27f18d",
       "version_major": 2,
       "version_minor": 0
      },
      "text/plain": [
       "  0%|          | 0/393 [00:00<?, ?it/s]"
      ]
     },
     "metadata": {},
     "output_type": "display_data"
    },
    {
     "data": {
      "application/vnd.jupyter.widget-view+json": {
       "model_id": "4361cfb5210e43d881c08465ca3f5dda",
       "version_major": 2,
       "version_minor": 0
      },
      "text/plain": [
       "  0%|          | 0/393 [00:00<?, ?it/s]"
      ]
     },
     "metadata": {},
     "output_type": "display_data"
    },
    {
     "data": {
      "application/vnd.jupyter.widget-view+json": {
       "model_id": "321110d4c50342d8956cef7c52b29057",
       "version_major": 2,
       "version_minor": 0
      },
      "text/plain": [
       "  0%|          | 0/393 [00:00<?, ?it/s]"
      ]
     },
     "metadata": {},
     "output_type": "display_data"
    },
    {
     "data": {
      "application/vnd.jupyter.widget-view+json": {
       "model_id": "d403d4855fe846d8a742f7bfb1783b48",
       "version_major": 2,
       "version_minor": 0
      },
      "text/plain": [
       "  0%|          | 0/393 [00:00<?, ?it/s]"
      ]
     },
     "metadata": {},
     "output_type": "display_data"
    },
    {
     "data": {
      "application/vnd.jupyter.widget-view+json": {
       "model_id": "a7916950f95148ba8be01566d330f4d1",
       "version_major": 2,
       "version_minor": 0
      },
      "text/plain": [
       "  0%|          | 0/393 [00:00<?, ?it/s]"
      ]
     },
     "metadata": {},
     "output_type": "display_data"
    },
    {
     "data": {
      "application/vnd.jupyter.widget-view+json": {
       "model_id": "ea58af2159374cac865edecbe0d0667e",
       "version_major": 2,
       "version_minor": 0
      },
      "text/plain": [
       "  0%|          | 0/393 [00:00<?, ?it/s]"
      ]
     },
     "metadata": {},
     "output_type": "display_data"
    },
    {
     "data": {
      "application/vnd.jupyter.widget-view+json": {
       "model_id": "24c46b62ac114a0eb6d1a50dad189db9",
       "version_major": 2,
       "version_minor": 0
      },
      "text/plain": [
       "  0%|          | 0/393 [00:00<?, ?it/s]"
      ]
     },
     "metadata": {},
     "output_type": "display_data"
    },
    {
     "data": {
      "application/vnd.jupyter.widget-view+json": {
       "model_id": "635f004d15514127bc80f65e0415032f",
       "version_major": 2,
       "version_minor": 0
      },
      "text/plain": [
       "  0%|          | 0/393 [00:00<?, ?it/s]"
      ]
     },
     "metadata": {},
     "output_type": "display_data"
    },
    {
     "data": {
      "application/vnd.jupyter.widget-view+json": {
       "model_id": "b8778b8eb63545c39cdaa1d3abf9aa1b",
       "version_major": 2,
       "version_minor": 0
      },
      "text/plain": [
       "  0%|          | 0/393 [00:00<?, ?it/s]"
      ]
     },
     "metadata": {},
     "output_type": "display_data"
    },
    {
     "data": {
      "application/vnd.jupyter.widget-view+json": {
       "model_id": "78680703e9214a938d7b454b3e866c79",
       "version_major": 2,
       "version_minor": 0
      },
      "text/plain": [
       "  0%|          | 0/393 [00:00<?, ?it/s]"
      ]
     },
     "metadata": {},
     "output_type": "display_data"
    },
    {
     "data": {
      "application/vnd.jupyter.widget-view+json": {
       "model_id": "09de5ca4359845f1a38f9af88b888c15",
       "version_major": 2,
       "version_minor": 0
      },
      "text/plain": [
       "  0%|          | 0/393 [00:00<?, ?it/s]"
      ]
     },
     "metadata": {},
     "output_type": "display_data"
    },
    {
     "data": {
      "application/vnd.jupyter.widget-view+json": {
       "model_id": "e89eaa6083ea46718433c35dc5fda3de",
       "version_major": 2,
       "version_minor": 0
      },
      "text/plain": [
       "  0%|          | 0/393 [00:00<?, ?it/s]"
      ]
     },
     "metadata": {},
     "output_type": "display_data"
    },
    {
     "data": {
      "application/vnd.jupyter.widget-view+json": {
       "model_id": "18ed700ad5d54a278645b5ff33701115",
       "version_major": 2,
       "version_minor": 0
      },
      "text/plain": [
       "  0%|          | 0/393 [00:00<?, ?it/s]"
      ]
     },
     "metadata": {},
     "output_type": "display_data"
    },
    {
     "data": {
      "application/vnd.jupyter.widget-view+json": {
       "model_id": "3efd68926db345cf9a7f649c90108c36",
       "version_major": 2,
       "version_minor": 0
      },
      "text/plain": [
       "  0%|          | 0/393 [00:00<?, ?it/s]"
      ]
     },
     "metadata": {},
     "output_type": "display_data"
    },
    {
     "data": {
      "application/vnd.jupyter.widget-view+json": {
       "model_id": "575b7665971e4f8e87136fdb9add0092",
       "version_major": 2,
       "version_minor": 0
      },
      "text/plain": [
       "  0%|          | 0/393 [00:00<?, ?it/s]"
      ]
     },
     "metadata": {},
     "output_type": "display_data"
    },
    {
     "data": {
      "application/vnd.jupyter.widget-view+json": {
       "model_id": "f2b04d18f294477389c16f7e9ff4fa7d",
       "version_major": 2,
       "version_minor": 0
      },
      "text/plain": [
       "  0%|          | 0/393 [00:00<?, ?it/s]"
      ]
     },
     "metadata": {},
     "output_type": "display_data"
    },
    {
     "data": {
      "application/vnd.jupyter.widget-view+json": {
       "model_id": "277865b9838247b8afb6774b761311db",
       "version_major": 2,
       "version_minor": 0
      },
      "text/plain": [
       "  0%|          | 0/393 [00:00<?, ?it/s]"
      ]
     },
     "metadata": {},
     "output_type": "display_data"
    },
    {
     "data": {
      "application/vnd.jupyter.widget-view+json": {
       "model_id": "0109aa8ff42242e49fc34ce85deb6bec",
       "version_major": 2,
       "version_minor": 0
      },
      "text/plain": [
       "  0%|          | 0/393 [00:00<?, ?it/s]"
      ]
     },
     "metadata": {},
     "output_type": "display_data"
    },
    {
     "data": {
      "application/vnd.jupyter.widget-view+json": {
       "model_id": "365fbf9216ee4e8781e756c583209efa",
       "version_major": 2,
       "version_minor": 0
      },
      "text/plain": [
       "  0%|          | 0/393 [00:00<?, ?it/s]"
      ]
     },
     "metadata": {},
     "output_type": "display_data"
    },
    {
     "data": {
      "application/vnd.jupyter.widget-view+json": {
       "model_id": "0a6fbfb11ea54c5f99360bfc491677ca",
       "version_major": 2,
       "version_minor": 0
      },
      "text/plain": [
       "  0%|          | 0/393 [00:00<?, ?it/s]"
      ]
     },
     "metadata": {},
     "output_type": "display_data"
    },
    {
     "data": {
      "application/vnd.jupyter.widget-view+json": {
       "model_id": "7b5fa9f9889f45f38a5c32a740094d7d",
       "version_major": 2,
       "version_minor": 0
      },
      "text/plain": [
       "  0%|          | 0/393 [00:00<?, ?it/s]"
      ]
     },
     "metadata": {},
     "output_type": "display_data"
    },
    {
     "data": {
      "application/vnd.jupyter.widget-view+json": {
       "model_id": "2b144d7c70ee419a85b7be05f7c4470d",
       "version_major": 2,
       "version_minor": 0
      },
      "text/plain": [
       "  0%|          | 0/393 [00:00<?, ?it/s]"
      ]
     },
     "metadata": {},
     "output_type": "display_data"
    },
    {
     "data": {
      "application/vnd.jupyter.widget-view+json": {
       "model_id": "f4b60c73a76e431cb41f1a533ddbb89c",
       "version_major": 2,
       "version_minor": 0
      },
      "text/plain": [
       "  0%|          | 0/393 [00:00<?, ?it/s]"
      ]
     },
     "metadata": {},
     "output_type": "display_data"
    },
    {
     "data": {
      "application/vnd.jupyter.widget-view+json": {
       "model_id": "e6e815ad65184aa7aa52de4b5a169199",
       "version_major": 2,
       "version_minor": 0
      },
      "text/plain": [
       "  0%|          | 0/393 [00:00<?, ?it/s]"
      ]
     },
     "metadata": {},
     "output_type": "display_data"
    },
    {
     "data": {
      "application/vnd.jupyter.widget-view+json": {
       "model_id": "0db6c16caa0d4ad58429aae8df158c35",
       "version_major": 2,
       "version_minor": 0
      },
      "text/plain": [
       "  0%|          | 0/393 [00:00<?, ?it/s]"
      ]
     },
     "metadata": {},
     "output_type": "display_data"
    },
    {
     "data": {
      "application/vnd.jupyter.widget-view+json": {
       "model_id": "63cbcc8c9a184c85a5532aec43b35183",
       "version_major": 2,
       "version_minor": 0
      },
      "text/plain": [
       "  0%|          | 0/393 [00:00<?, ?it/s]"
      ]
     },
     "metadata": {},
     "output_type": "display_data"
    },
    {
     "data": {
      "application/vnd.jupyter.widget-view+json": {
       "model_id": "030762e004f64ffa9534fec39e9fb084",
       "version_major": 2,
       "version_minor": 0
      },
      "text/plain": [
       "  0%|          | 0/393 [00:00<?, ?it/s]"
      ]
     },
     "metadata": {},
     "output_type": "display_data"
    },
    {
     "data": {
      "application/vnd.jupyter.widget-view+json": {
       "model_id": "952d754de2694f1a89b6e95ac44ca9ca",
       "version_major": 2,
       "version_minor": 0
      },
      "text/plain": [
       "  0%|          | 0/393 [00:00<?, ?it/s]"
      ]
     },
     "metadata": {},
     "output_type": "display_data"
    },
    {
     "data": {
      "application/vnd.jupyter.widget-view+json": {
       "model_id": "ed68cb99ebdc4e6ab845314489a99885",
       "version_major": 2,
       "version_minor": 0
      },
      "text/plain": [
       "  0%|          | 0/393 [00:00<?, ?it/s]"
      ]
     },
     "metadata": {},
     "output_type": "display_data"
    },
    {
     "data": {
      "application/vnd.jupyter.widget-view+json": {
       "model_id": "aac7314556724907a4d0be5e1cf328b5",
       "version_major": 2,
       "version_minor": 0
      },
      "text/plain": [
       "  0%|          | 0/393 [00:00<?, ?it/s]"
      ]
     },
     "metadata": {},
     "output_type": "display_data"
    },
    {
     "data": {
      "application/vnd.jupyter.widget-view+json": {
       "model_id": "e59e94fd9e5944858cb2ae95c4eac6ec",
       "version_major": 2,
       "version_minor": 0
      },
      "text/plain": [
       "  0%|          | 0/393 [00:00<?, ?it/s]"
      ]
     },
     "metadata": {},
     "output_type": "display_data"
    },
    {
     "data": {
      "application/vnd.jupyter.widget-view+json": {
       "model_id": "2397ff4704b24fa78791035f44556e41",
       "version_major": 2,
       "version_minor": 0
      },
      "text/plain": [
       "  0%|          | 0/393 [00:00<?, ?it/s]"
      ]
     },
     "metadata": {},
     "output_type": "display_data"
    },
    {
     "data": {
      "application/vnd.jupyter.widget-view+json": {
       "model_id": "6b55d78cca6f4c0aa9df444277da0699",
       "version_major": 2,
       "version_minor": 0
      },
      "text/plain": [
       "  0%|          | 0/393 [00:00<?, ?it/s]"
      ]
     },
     "metadata": {},
     "output_type": "display_data"
    },
    {
     "data": {
      "application/vnd.jupyter.widget-view+json": {
       "model_id": "6a3dbebe37314cee9db433b6671fc089",
       "version_major": 2,
       "version_minor": 0
      },
      "text/plain": [
       "  0%|          | 0/393 [00:00<?, ?it/s]"
      ]
     },
     "metadata": {},
     "output_type": "display_data"
    },
    {
     "data": {
      "application/vnd.jupyter.widget-view+json": {
       "model_id": "802ee8c9485545b7aa154ae6818f36dc",
       "version_major": 2,
       "version_minor": 0
      },
      "text/plain": [
       "  0%|          | 0/393 [00:00<?, ?it/s]"
      ]
     },
     "metadata": {},
     "output_type": "display_data"
    },
    {
     "data": {
      "application/vnd.jupyter.widget-view+json": {
       "model_id": "2841699cd1fc467f8a19601f2fc006ff",
       "version_major": 2,
       "version_minor": 0
      },
      "text/plain": [
       "  0%|          | 0/393 [00:00<?, ?it/s]"
      ]
     },
     "metadata": {},
     "output_type": "display_data"
    },
    {
     "data": {
      "application/vnd.jupyter.widget-view+json": {
       "model_id": "03752805d5584139b73d45833c6776a4",
       "version_major": 2,
       "version_minor": 0
      },
      "text/plain": [
       "  0%|          | 0/393 [00:00<?, ?it/s]"
      ]
     },
     "metadata": {},
     "output_type": "display_data"
    },
    {
     "data": {
      "application/vnd.jupyter.widget-view+json": {
       "model_id": "2c6ec3fa34b94a9693d9a31f846e8c6e",
       "version_major": 2,
       "version_minor": 0
      },
      "text/plain": [
       "  0%|          | 0/393 [00:00<?, ?it/s]"
      ]
     },
     "metadata": {},
     "output_type": "display_data"
    },
    {
     "data": {
      "application/vnd.jupyter.widget-view+json": {
       "model_id": "6a59811bb13b48608cad5c4f82bf7c77",
       "version_major": 2,
       "version_minor": 0
      },
      "text/plain": [
       "  0%|          | 0/393 [00:00<?, ?it/s]"
      ]
     },
     "metadata": {},
     "output_type": "display_data"
    },
    {
     "data": {
      "application/vnd.jupyter.widget-view+json": {
       "model_id": "033641e7bc74496dba049d20fb028ac6",
       "version_major": 2,
       "version_minor": 0
      },
      "text/plain": [
       "  0%|          | 0/393 [00:00<?, ?it/s]"
      ]
     },
     "metadata": {},
     "output_type": "display_data"
    },
    {
     "data": {
      "application/vnd.jupyter.widget-view+json": {
       "model_id": "bde507ccbdc04f71aee0829cdf584af2",
       "version_major": 2,
       "version_minor": 0
      },
      "text/plain": [
       "  0%|          | 0/393 [00:00<?, ?it/s]"
      ]
     },
     "metadata": {},
     "output_type": "display_data"
    },
    {
     "data": {
      "application/vnd.jupyter.widget-view+json": {
       "model_id": "55a38d324f8049f4884f8e8e40503615",
       "version_major": 2,
       "version_minor": 0
      },
      "text/plain": [
       "  0%|          | 0/393 [00:00<?, ?it/s]"
      ]
     },
     "metadata": {},
     "output_type": "display_data"
    },
    {
     "data": {
      "application/vnd.jupyter.widget-view+json": {
       "model_id": "8157b6d53e5643be994bf1e332bba147",
       "version_major": 2,
       "version_minor": 0
      },
      "text/plain": [
       "  0%|          | 0/393 [00:00<?, ?it/s]"
      ]
     },
     "metadata": {},
     "output_type": "display_data"
    },
    {
     "data": {
      "application/vnd.jupyter.widget-view+json": {
       "model_id": "b30f705c6f604cb88abd0a39d25b06d8",
       "version_major": 2,
       "version_minor": 0
      },
      "text/plain": [
       "  0%|          | 0/393 [00:00<?, ?it/s]"
      ]
     },
     "metadata": {},
     "output_type": "display_data"
    },
    {
     "data": {
      "application/vnd.jupyter.widget-view+json": {
       "model_id": "9651d5163ac54837a04dd8d51abef043",
       "version_major": 2,
       "version_minor": 0
      },
      "text/plain": [
       "  0%|          | 0/393 [00:00<?, ?it/s]"
      ]
     },
     "metadata": {},
     "output_type": "display_data"
    },
    {
     "data": {
      "application/vnd.jupyter.widget-view+json": {
       "model_id": "fc2feb41fb1b41a08184d38b131a7292",
       "version_major": 2,
       "version_minor": 0
      },
      "text/plain": [
       "  0%|          | 0/393 [00:00<?, ?it/s]"
      ]
     },
     "metadata": {},
     "output_type": "display_data"
    },
    {
     "data": {
      "application/vnd.jupyter.widget-view+json": {
       "model_id": "8038dbba49a04b8bb9681dad014b74e0",
       "version_major": 2,
       "version_minor": 0
      },
      "text/plain": [
       "  0%|          | 0/393 [00:00<?, ?it/s]"
      ]
     },
     "metadata": {},
     "output_type": "display_data"
    },
    {
     "data": {
      "application/vnd.jupyter.widget-view+json": {
       "model_id": "aa2e87073a91435e844b7eeb628f21bd",
       "version_major": 2,
       "version_minor": 0
      },
      "text/plain": [
       "  0%|          | 0/393 [00:00<?, ?it/s]"
      ]
     },
     "metadata": {},
     "output_type": "display_data"
    },
    {
     "data": {
      "application/vnd.jupyter.widget-view+json": {
       "model_id": "c0968d3823d94013abab3a5e8a30e5f6",
       "version_major": 2,
       "version_minor": 0
      },
      "text/plain": [
       "  0%|          | 0/393 [00:00<?, ?it/s]"
      ]
     },
     "metadata": {},
     "output_type": "display_data"
    },
    {
     "data": {
      "application/vnd.jupyter.widget-view+json": {
       "model_id": "8cdfe2ca9f3f4796a5b0ee0ef734710e",
       "version_major": 2,
       "version_minor": 0
      },
      "text/plain": [
       "  0%|          | 0/393 [00:00<?, ?it/s]"
      ]
     },
     "metadata": {},
     "output_type": "display_data"
    },
    {
     "data": {
      "application/vnd.jupyter.widget-view+json": {
       "model_id": "071ed900f37344189015695977af16c0",
       "version_major": 2,
       "version_minor": 0
      },
      "text/plain": [
       "  0%|          | 0/393 [00:00<?, ?it/s]"
      ]
     },
     "metadata": {},
     "output_type": "display_data"
    },
    {
     "data": {
      "application/vnd.jupyter.widget-view+json": {
       "model_id": "c255b390248a47fba4c17e01cb9c9030",
       "version_major": 2,
       "version_minor": 0
      },
      "text/plain": [
       "  0%|          | 0/393 [00:00<?, ?it/s]"
      ]
     },
     "metadata": {},
     "output_type": "display_data"
    },
    {
     "data": {
      "application/vnd.jupyter.widget-view+json": {
       "model_id": "b3fcbf45da1141d0bb493d53d2de49f4",
       "version_major": 2,
       "version_minor": 0
      },
      "text/plain": [
       "  0%|          | 0/393 [00:00<?, ?it/s]"
      ]
     },
     "metadata": {},
     "output_type": "display_data"
    },
    {
     "data": {
      "application/vnd.jupyter.widget-view+json": {
       "model_id": "7b981c7434cc44ff873f73646f9a327d",
       "version_major": 2,
       "version_minor": 0
      },
      "text/plain": [
       "  0%|          | 0/393 [00:00<?, ?it/s]"
      ]
     },
     "metadata": {},
     "output_type": "display_data"
    },
    {
     "data": {
      "application/vnd.jupyter.widget-view+json": {
       "model_id": "7f299e48f9574a5ba5d7a18488a9041e",
       "version_major": 2,
       "version_minor": 0
      },
      "text/plain": [
       "  0%|          | 0/393 [00:00<?, ?it/s]"
      ]
     },
     "metadata": {},
     "output_type": "display_data"
    },
    {
     "data": {
      "application/vnd.jupyter.widget-view+json": {
       "model_id": "6fdeb1f325a74118b07c8518936cdae9",
       "version_major": 2,
       "version_minor": 0
      },
      "text/plain": [
       "  0%|          | 0/393 [00:00<?, ?it/s]"
      ]
     },
     "metadata": {},
     "output_type": "display_data"
    },
    {
     "data": {
      "application/vnd.jupyter.widget-view+json": {
       "model_id": "90d88c3178d045e9bc4f0e91b5ee4517",
       "version_major": 2,
       "version_minor": 0
      },
      "text/plain": [
       "  0%|          | 0/393 [00:00<?, ?it/s]"
      ]
     },
     "metadata": {},
     "output_type": "display_data"
    },
    {
     "data": {
      "application/vnd.jupyter.widget-view+json": {
       "model_id": "4ccd8ac4dca7441987afc4b86f49f136",
       "version_major": 2,
       "version_minor": 0
      },
      "text/plain": [
       "  0%|          | 0/393 [00:00<?, ?it/s]"
      ]
     },
     "metadata": {},
     "output_type": "display_data"
    },
    {
     "data": {
      "application/vnd.jupyter.widget-view+json": {
       "model_id": "c641615bf2404fd1b286038830508b65",
       "version_major": 2,
       "version_minor": 0
      },
      "text/plain": [
       "  0%|          | 0/393 [00:00<?, ?it/s]"
      ]
     },
     "metadata": {},
     "output_type": "display_data"
    },
    {
     "data": {
      "application/vnd.jupyter.widget-view+json": {
       "model_id": "242a254075db44afae4e248cf60f9fc7",
       "version_major": 2,
       "version_minor": 0
      },
      "text/plain": [
       "  0%|          | 0/393 [00:00<?, ?it/s]"
      ]
     },
     "metadata": {},
     "output_type": "display_data"
    },
    {
     "data": {
      "application/vnd.jupyter.widget-view+json": {
       "model_id": "574cced73f364f5f8867747c81b9670f",
       "version_major": 2,
       "version_minor": 0
      },
      "text/plain": [
       "  0%|          | 0/393 [00:00<?, ?it/s]"
      ]
     },
     "metadata": {},
     "output_type": "display_data"
    },
    {
     "data": {
      "application/vnd.jupyter.widget-view+json": {
       "model_id": "9d4ad0f2ff684ada828335494547ff35",
       "version_major": 2,
       "version_minor": 0
      },
      "text/plain": [
       "  0%|          | 0/393 [00:00<?, ?it/s]"
      ]
     },
     "metadata": {},
     "output_type": "display_data"
    },
    {
     "data": {
      "application/vnd.jupyter.widget-view+json": {
       "model_id": "ff3fdfc9e4a7457999b954e5ab5a6c2d",
       "version_major": 2,
       "version_minor": 0
      },
      "text/plain": [
       "  0%|          | 0/393 [00:00<?, ?it/s]"
      ]
     },
     "metadata": {},
     "output_type": "display_data"
    },
    {
     "data": {
      "application/vnd.jupyter.widget-view+json": {
       "model_id": "7a21cb100cdc4052aef53a9ad60d96b4",
       "version_major": 2,
       "version_minor": 0
      },
      "text/plain": [
       "  0%|          | 0/393 [00:00<?, ?it/s]"
      ]
     },
     "metadata": {},
     "output_type": "display_data"
    },
    {
     "data": {
      "application/vnd.jupyter.widget-view+json": {
       "model_id": "0b5757fad49440a794871b92e044a2a5",
       "version_major": 2,
       "version_minor": 0
      },
      "text/plain": [
       "  0%|          | 0/393 [00:00<?, ?it/s]"
      ]
     },
     "metadata": {},
     "output_type": "display_data"
    },
    {
     "data": {
      "application/vnd.jupyter.widget-view+json": {
       "model_id": "614f63271adb490d8cec572a50a0d69c",
       "version_major": 2,
       "version_minor": 0
      },
      "text/plain": [
       "  0%|          | 0/393 [00:00<?, ?it/s]"
      ]
     },
     "metadata": {},
     "output_type": "display_data"
    },
    {
     "data": {
      "application/vnd.jupyter.widget-view+json": {
       "model_id": "02c7879d113d4cc9ad3b77428ab21261",
       "version_major": 2,
       "version_minor": 0
      },
      "text/plain": [
       "  0%|          | 0/393 [00:00<?, ?it/s]"
      ]
     },
     "metadata": {},
     "output_type": "display_data"
    },
    {
     "data": {
      "application/vnd.jupyter.widget-view+json": {
       "model_id": "79aef842417749dc92a92a2c3df5377e",
       "version_major": 2,
       "version_minor": 0
      },
      "text/plain": [
       "  0%|          | 0/393 [00:00<?, ?it/s]"
      ]
     },
     "metadata": {},
     "output_type": "display_data"
    },
    {
     "data": {
      "application/vnd.jupyter.widget-view+json": {
       "model_id": "b4634af282ab41d5810c3bed8f817151",
       "version_major": 2,
       "version_minor": 0
      },
      "text/plain": [
       "  0%|          | 0/393 [00:00<?, ?it/s]"
      ]
     },
     "metadata": {},
     "output_type": "display_data"
    },
    {
     "data": {
      "application/vnd.jupyter.widget-view+json": {
       "model_id": "0c6caa98310f480191e0e28223fb1b9e",
       "version_major": 2,
       "version_minor": 0
      },
      "text/plain": [
       "  0%|          | 0/393 [00:00<?, ?it/s]"
      ]
     },
     "metadata": {},
     "output_type": "display_data"
    },
    {
     "data": {
      "application/vnd.jupyter.widget-view+json": {
       "model_id": "690eaed603a3400d83d9537526b96d4e",
       "version_major": 2,
       "version_minor": 0
      },
      "text/plain": [
       "  0%|          | 0/393 [00:00<?, ?it/s]"
      ]
     },
     "metadata": {},
     "output_type": "display_data"
    },
    {
     "data": {
      "application/vnd.jupyter.widget-view+json": {
       "model_id": "bd3d0323bc8345f2a8d7fd8248f184aa",
       "version_major": 2,
       "version_minor": 0
      },
      "text/plain": [
       "  0%|          | 0/393 [00:00<?, ?it/s]"
      ]
     },
     "metadata": {},
     "output_type": "display_data"
    },
    {
     "data": {
      "application/vnd.jupyter.widget-view+json": {
       "model_id": "00c0075225f14351b88bfa36e19acba6",
       "version_major": 2,
       "version_minor": 0
      },
      "text/plain": [
       "  0%|          | 0/393 [00:00<?, ?it/s]"
      ]
     },
     "metadata": {},
     "output_type": "display_data"
    },
    {
     "data": {
      "application/vnd.jupyter.widget-view+json": {
       "model_id": "03577bec79364807bbcbc2ba527a2a1f",
       "version_major": 2,
       "version_minor": 0
      },
      "text/plain": [
       "  0%|          | 0/393 [00:00<?, ?it/s]"
      ]
     },
     "metadata": {},
     "output_type": "display_data"
    },
    {
     "data": {
      "application/vnd.jupyter.widget-view+json": {
       "model_id": "53f4b92877744d4cb39fba07d17bf190",
       "version_major": 2,
       "version_minor": 0
      },
      "text/plain": [
       "  0%|          | 0/393 [00:00<?, ?it/s]"
      ]
     },
     "metadata": {},
     "output_type": "display_data"
    },
    {
     "data": {
      "application/vnd.jupyter.widget-view+json": {
       "model_id": "f2bed258b523461e91fca565727a6dd3",
       "version_major": 2,
       "version_minor": 0
      },
      "text/plain": [
       "  0%|          | 0/393 [00:00<?, ?it/s]"
      ]
     },
     "metadata": {},
     "output_type": "display_data"
    },
    {
     "data": {
      "application/vnd.jupyter.widget-view+json": {
       "model_id": "c78972d10aae4321b192faad205ddfe4",
       "version_major": 2,
       "version_minor": 0
      },
      "text/plain": [
       "  0%|          | 0/393 [00:00<?, ?it/s]"
      ]
     },
     "metadata": {},
     "output_type": "display_data"
    },
    {
     "data": {
      "application/vnd.jupyter.widget-view+json": {
       "model_id": "44187ccbe14d4bb0bf65f724e4c48b63",
       "version_major": 2,
       "version_minor": 0
      },
      "text/plain": [
       "  0%|          | 0/393 [00:00<?, ?it/s]"
      ]
     },
     "metadata": {},
     "output_type": "display_data"
    },
    {
     "data": {
      "application/vnd.jupyter.widget-view+json": {
       "model_id": "038a24cf1e3d41df9421c980487bb836",
       "version_major": 2,
       "version_minor": 0
      },
      "text/plain": [
       "  0%|          | 0/393 [00:00<?, ?it/s]"
      ]
     },
     "metadata": {},
     "output_type": "display_data"
    },
    {
     "data": {
      "application/vnd.jupyter.widget-view+json": {
       "model_id": "ad9b0462fe794f4c91c0ffaba88296a1",
       "version_major": 2,
       "version_minor": 0
      },
      "text/plain": [
       "  0%|          | 0/393 [00:00<?, ?it/s]"
      ]
     },
     "metadata": {},
     "output_type": "display_data"
    },
    {
     "data": {
      "application/vnd.jupyter.widget-view+json": {
       "model_id": "a1401795faca4690b15efe2dae18f553",
       "version_major": 2,
       "version_minor": 0
      },
      "text/plain": [
       "  0%|          | 0/393 [00:00<?, ?it/s]"
      ]
     },
     "metadata": {},
     "output_type": "display_data"
    },
    {
     "data": {
      "application/vnd.jupyter.widget-view+json": {
       "model_id": "cf66da5674884c28b0f7460b62312046",
       "version_major": 2,
       "version_minor": 0
      },
      "text/plain": [
       "  0%|          | 0/393 [00:00<?, ?it/s]"
      ]
     },
     "metadata": {},
     "output_type": "display_data"
    },
    {
     "data": {
      "application/vnd.jupyter.widget-view+json": {
       "model_id": "7a00922d08034292b059c341bf4da39a",
       "version_major": 2,
       "version_minor": 0
      },
      "text/plain": [
       "  0%|          | 0/393 [00:00<?, ?it/s]"
      ]
     },
     "metadata": {},
     "output_type": "display_data"
    },
    {
     "data": {
      "application/vnd.jupyter.widget-view+json": {
       "model_id": "7f33adc238f9487db054c7f6d7533672",
       "version_major": 2,
       "version_minor": 0
      },
      "text/plain": [
       "  0%|          | 0/393 [00:00<?, ?it/s]"
      ]
     },
     "metadata": {},
     "output_type": "display_data"
    },
    {
     "data": {
      "application/vnd.jupyter.widget-view+json": {
       "model_id": "e4951dbd4966487d8c422da38e001475",
       "version_major": 2,
       "version_minor": 0
      },
      "text/plain": [
       "  0%|          | 0/393 [00:00<?, ?it/s]"
      ]
     },
     "metadata": {},
     "output_type": "display_data"
    },
    {
     "data": {
      "application/vnd.jupyter.widget-view+json": {
       "model_id": "a15c738fc23e490bae0b9a164b89f77d",
       "version_major": 2,
       "version_minor": 0
      },
      "text/plain": [
       "  0%|          | 0/393 [00:00<?, ?it/s]"
      ]
     },
     "metadata": {},
     "output_type": "display_data"
    },
    {
     "data": {
      "application/vnd.jupyter.widget-view+json": {
       "model_id": "67c00e7a017c411ca6bde07054c34e4b",
       "version_major": 2,
       "version_minor": 0
      },
      "text/plain": [
       "  0%|          | 0/393 [00:00<?, ?it/s]"
      ]
     },
     "metadata": {},
     "output_type": "display_data"
    },
    {
     "data": {
      "application/vnd.jupyter.widget-view+json": {
       "model_id": "0bf318cff2854e5b99d06d5197200f34",
       "version_major": 2,
       "version_minor": 0
      },
      "text/plain": [
       "  0%|          | 0/393 [00:00<?, ?it/s]"
      ]
     },
     "metadata": {},
     "output_type": "display_data"
    },
    {
     "data": {
      "application/vnd.jupyter.widget-view+json": {
       "model_id": "a283c912f9814a4a850125f2a9a4b6e6",
       "version_major": 2,
       "version_minor": 0
      },
      "text/plain": [
       "  0%|          | 0/393 [00:00<?, ?it/s]"
      ]
     },
     "metadata": {},
     "output_type": "display_data"
    },
    {
     "data": {
      "application/vnd.jupyter.widget-view+json": {
       "model_id": "43bf3299a9144a44ac20f776e904bca3",
       "version_major": 2,
       "version_minor": 0
      },
      "text/plain": [
       "  0%|          | 0/393 [00:00<?, ?it/s]"
      ]
     },
     "metadata": {},
     "output_type": "display_data"
    },
    {
     "data": {
      "application/vnd.jupyter.widget-view+json": {
       "model_id": "e2b7678738c54015b8987f8efea5c553",
       "version_major": 2,
       "version_minor": 0
      },
      "text/plain": [
       "  0%|          | 0/393 [00:00<?, ?it/s]"
      ]
     },
     "metadata": {},
     "output_type": "display_data"
    },
    {
     "data": {
      "application/vnd.jupyter.widget-view+json": {
       "model_id": "14f8e8e3d7aa415cbfd9738982398044",
       "version_major": 2,
       "version_minor": 0
      },
      "text/plain": [
       "  0%|          | 0/393 [00:00<?, ?it/s]"
      ]
     },
     "metadata": {},
     "output_type": "display_data"
    },
    {
     "data": {
      "application/vnd.jupyter.widget-view+json": {
       "model_id": "47ee69129239429ea6b8e9e7cf20dcbd",
       "version_major": 2,
       "version_minor": 0
      },
      "text/plain": [
       "  0%|          | 0/393 [00:00<?, ?it/s]"
      ]
     },
     "metadata": {},
     "output_type": "display_data"
    },
    {
     "data": {
      "application/vnd.jupyter.widget-view+json": {
       "model_id": "fd9d2575348548cf8e0fc69e2aeb3bbf",
       "version_major": 2,
       "version_minor": 0
      },
      "text/plain": [
       "  0%|          | 0/393 [00:00<?, ?it/s]"
      ]
     },
     "metadata": {},
     "output_type": "display_data"
    },
    {
     "data": {
      "application/vnd.jupyter.widget-view+json": {
       "model_id": "beffeda7490b40f19e1b67eac61a665e",
       "version_major": 2,
       "version_minor": 0
      },
      "text/plain": [
       "  0%|          | 0/393 [00:00<?, ?it/s]"
      ]
     },
     "metadata": {},
     "output_type": "display_data"
    },
    {
     "data": {
      "application/vnd.jupyter.widget-view+json": {
       "model_id": "68bab33283ed4c5a98f3c7497a2bbd5b",
       "version_major": 2,
       "version_minor": 0
      },
      "text/plain": [
       "  0%|          | 0/393 [00:00<?, ?it/s]"
      ]
     },
     "metadata": {},
     "output_type": "display_data"
    },
    {
     "data": {
      "application/vnd.jupyter.widget-view+json": {
       "model_id": "576e1b85d4ce4c16b7e5a25ed7b98761",
       "version_major": 2,
       "version_minor": 0
      },
      "text/plain": [
       "  0%|          | 0/393 [00:00<?, ?it/s]"
      ]
     },
     "metadata": {},
     "output_type": "display_data"
    },
    {
     "data": {
      "application/vnd.jupyter.widget-view+json": {
       "model_id": "f9e8b259b4d7481ea9c7b45c26899d48",
       "version_major": 2,
       "version_minor": 0
      },
      "text/plain": [
       "  0%|          | 0/393 [00:00<?, ?it/s]"
      ]
     },
     "metadata": {},
     "output_type": "display_data"
    },
    {
     "data": {
      "application/vnd.jupyter.widget-view+json": {
       "model_id": "a2d5bb33080c46ce8e75dc146432038a",
       "version_major": 2,
       "version_minor": 0
      },
      "text/plain": [
       "  0%|          | 0/393 [00:00<?, ?it/s]"
      ]
     },
     "metadata": {},
     "output_type": "display_data"
    },
    {
     "data": {
      "application/vnd.jupyter.widget-view+json": {
       "model_id": "45eb3af196a649d1adc757ed4aef8873",
       "version_major": 2,
       "version_minor": 0
      },
      "text/plain": [
       "  0%|          | 0/393 [00:00<?, ?it/s]"
      ]
     },
     "metadata": {},
     "output_type": "display_data"
    },
    {
     "data": {
      "application/vnd.jupyter.widget-view+json": {
       "model_id": "86eb84b718914968b9321d5d4a99f7a1",
       "version_major": 2,
       "version_minor": 0
      },
      "text/plain": [
       "  0%|          | 0/393 [00:00<?, ?it/s]"
      ]
     },
     "metadata": {},
     "output_type": "display_data"
    },
    {
     "data": {
      "application/vnd.jupyter.widget-view+json": {
       "model_id": "a92a2427225b4b479e949e081a670cd7",
       "version_major": 2,
       "version_minor": 0
      },
      "text/plain": [
       "  0%|          | 0/393 [00:00<?, ?it/s]"
      ]
     },
     "metadata": {},
     "output_type": "display_data"
    },
    {
     "data": {
      "application/vnd.jupyter.widget-view+json": {
       "model_id": "9a2cca35f3e8414592eae0123cee7998",
       "version_major": 2,
       "version_minor": 0
      },
      "text/plain": [
       "  0%|          | 0/393 [00:00<?, ?it/s]"
      ]
     },
     "metadata": {},
     "output_type": "display_data"
    },
    {
     "data": {
      "application/vnd.jupyter.widget-view+json": {
       "model_id": "450bcfd182a0468582951cde524ca1af",
       "version_major": 2,
       "version_minor": 0
      },
      "text/plain": [
       "  0%|          | 0/393 [00:00<?, ?it/s]"
      ]
     },
     "metadata": {},
     "output_type": "display_data"
    },
    {
     "data": {
      "application/vnd.jupyter.widget-view+json": {
       "model_id": "da8c8f0bf7c44d37b224dd1510ab428b",
       "version_major": 2,
       "version_minor": 0
      },
      "text/plain": [
       "  0%|          | 0/393 [00:00<?, ?it/s]"
      ]
     },
     "metadata": {},
     "output_type": "display_data"
    },
    {
     "data": {
      "application/vnd.jupyter.widget-view+json": {
       "model_id": "169804d8922849aaa9c474c4caaf457f",
       "version_major": 2,
       "version_minor": 0
      },
      "text/plain": [
       "  0%|          | 0/393 [00:00<?, ?it/s]"
      ]
     },
     "metadata": {},
     "output_type": "display_data"
    },
    {
     "data": {
      "application/vnd.jupyter.widget-view+json": {
       "model_id": "946f369de65147538805ade280e46b1c",
       "version_major": 2,
       "version_minor": 0
      },
      "text/plain": [
       "  0%|          | 0/393 [00:00<?, ?it/s]"
      ]
     },
     "metadata": {},
     "output_type": "display_data"
    },
    {
     "data": {
      "application/vnd.jupyter.widget-view+json": {
       "model_id": "4b1c6e538eb24851b4a6627966e1c6c8",
       "version_major": 2,
       "version_minor": 0
      },
      "text/plain": [
       "  0%|          | 0/393 [00:00<?, ?it/s]"
      ]
     },
     "metadata": {},
     "output_type": "display_data"
    },
    {
     "data": {
      "application/vnd.jupyter.widget-view+json": {
       "model_id": "0a9925dc330e488696ed7d9d35027cb5",
       "version_major": 2,
       "version_minor": 0
      },
      "text/plain": [
       "  0%|          | 0/393 [00:00<?, ?it/s]"
      ]
     },
     "metadata": {},
     "output_type": "display_data"
    },
    {
     "data": {
      "application/vnd.jupyter.widget-view+json": {
       "model_id": "c8cee1848a2b4f3f8deeffe0341c07cb",
       "version_major": 2,
       "version_minor": 0
      },
      "text/plain": [
       "  0%|          | 0/393 [00:00<?, ?it/s]"
      ]
     },
     "metadata": {},
     "output_type": "display_data"
    },
    {
     "data": {
      "application/vnd.jupyter.widget-view+json": {
       "model_id": "119cec415ebf4dbfbd200072732cb571",
       "version_major": 2,
       "version_minor": 0
      },
      "text/plain": [
       "  0%|          | 0/393 [00:00<?, ?it/s]"
      ]
     },
     "metadata": {},
     "output_type": "display_data"
    },
    {
     "data": {
      "application/vnd.jupyter.widget-view+json": {
       "model_id": "5c4360fa02c84b17b3eb4bc14877d6a2",
       "version_major": 2,
       "version_minor": 0
      },
      "text/plain": [
       "  0%|          | 0/393 [00:00<?, ?it/s]"
      ]
     },
     "metadata": {},
     "output_type": "display_data"
    },
    {
     "data": {
      "application/vnd.jupyter.widget-view+json": {
       "model_id": "e4a78ef22ca643e49add6dd0eb774484",
       "version_major": 2,
       "version_minor": 0
      },
      "text/plain": [
       "  0%|          | 0/393 [00:00<?, ?it/s]"
      ]
     },
     "metadata": {},
     "output_type": "display_data"
    },
    {
     "data": {
      "application/vnd.jupyter.widget-view+json": {
       "model_id": "4d4228e71f47467ba87078a9d8789a68",
       "version_major": 2,
       "version_minor": 0
      },
      "text/plain": [
       "  0%|          | 0/393 [00:00<?, ?it/s]"
      ]
     },
     "metadata": {},
     "output_type": "display_data"
    },
    {
     "data": {
      "application/vnd.jupyter.widget-view+json": {
       "model_id": "be4df30c8cb9458b834a7c60afd90e54",
       "version_major": 2,
       "version_minor": 0
      },
      "text/plain": [
       "  0%|          | 0/393 [00:00<?, ?it/s]"
      ]
     },
     "metadata": {},
     "output_type": "display_data"
    },
    {
     "data": {
      "application/vnd.jupyter.widget-view+json": {
       "model_id": "df9d4bd0162642b7ba0c6fe7422bdc3e",
       "version_major": 2,
       "version_minor": 0
      },
      "text/plain": [
       "  0%|          | 0/393 [00:00<?, ?it/s]"
      ]
     },
     "metadata": {},
     "output_type": "display_data"
    },
    {
     "data": {
      "application/vnd.jupyter.widget-view+json": {
       "model_id": "3985867ddfb544c18d50466d6826e844",
       "version_major": 2,
       "version_minor": 0
      },
      "text/plain": [
       "  0%|          | 0/393 [00:00<?, ?it/s]"
      ]
     },
     "metadata": {},
     "output_type": "display_data"
    },
    {
     "data": {
      "application/vnd.jupyter.widget-view+json": {
       "model_id": "0a1d1c839bf14d51a86cf375798112d8",
       "version_major": 2,
       "version_minor": 0
      },
      "text/plain": [
       "  0%|          | 0/393 [00:00<?, ?it/s]"
      ]
     },
     "metadata": {},
     "output_type": "display_data"
    },
    {
     "data": {
      "application/vnd.jupyter.widget-view+json": {
       "model_id": "ba7fca7788f04cbf82351fd61db32dda",
       "version_major": 2,
       "version_minor": 0
      },
      "text/plain": [
       "  0%|          | 0/393 [00:00<?, ?it/s]"
      ]
     },
     "metadata": {},
     "output_type": "display_data"
    },
    {
     "data": {
      "application/vnd.jupyter.widget-view+json": {
       "model_id": "1f22327efac34f18b3b54836cae08c41",
       "version_major": 2,
       "version_minor": 0
      },
      "text/plain": [
       "  0%|          | 0/393 [00:00<?, ?it/s]"
      ]
     },
     "metadata": {},
     "output_type": "display_data"
    },
    {
     "data": {
      "application/vnd.jupyter.widget-view+json": {
       "model_id": "d9829f85c971421fb2e5b191f8c200ef",
       "version_major": 2,
       "version_minor": 0
      },
      "text/plain": [
       "  0%|          | 0/393 [00:00<?, ?it/s]"
      ]
     },
     "metadata": {},
     "output_type": "display_data"
    },
    {
     "data": {
      "application/vnd.jupyter.widget-view+json": {
       "model_id": "7c79adddda3f497aa18836fda7277302",
       "version_major": 2,
       "version_minor": 0
      },
      "text/plain": [
       "  0%|          | 0/393 [00:00<?, ?it/s]"
      ]
     },
     "metadata": {},
     "output_type": "display_data"
    },
    {
     "data": {
      "application/vnd.jupyter.widget-view+json": {
       "model_id": "fd881f939b054d3cae83a06154ce817b",
       "version_major": 2,
       "version_minor": 0
      },
      "text/plain": [
       "  0%|          | 0/393 [00:00<?, ?it/s]"
      ]
     },
     "metadata": {},
     "output_type": "display_data"
    },
    {
     "data": {
      "application/vnd.jupyter.widget-view+json": {
       "model_id": "9eb95f9854304d73b97bc6dcdffee0ab",
       "version_major": 2,
       "version_minor": 0
      },
      "text/plain": [
       "  0%|          | 0/393 [00:00<?, ?it/s]"
      ]
     },
     "metadata": {},
     "output_type": "display_data"
    },
    {
     "data": {
      "application/vnd.jupyter.widget-view+json": {
       "model_id": "947b83bfc3324862a41fc0398512de1a",
       "version_major": 2,
       "version_minor": 0
      },
      "text/plain": [
       "  0%|          | 0/393 [00:00<?, ?it/s]"
      ]
     },
     "metadata": {},
     "output_type": "display_data"
    },
    {
     "data": {
      "application/vnd.jupyter.widget-view+json": {
       "model_id": "b36a1dc368e14d39812d42daba5dbe3d",
       "version_major": 2,
       "version_minor": 0
      },
      "text/plain": [
       "  0%|          | 0/393 [00:00<?, ?it/s]"
      ]
     },
     "metadata": {},
     "output_type": "display_data"
    },
    {
     "data": {
      "application/vnd.jupyter.widget-view+json": {
       "model_id": "ad98bc583428435fb04542e3bcceb2c1",
       "version_major": 2,
       "version_minor": 0
      },
      "text/plain": [
       "  0%|          | 0/393 [00:00<?, ?it/s]"
      ]
     },
     "metadata": {},
     "output_type": "display_data"
    },
    {
     "data": {
      "application/vnd.jupyter.widget-view+json": {
       "model_id": "5ba41497e80544faba8e3fa373060af1",
       "version_major": 2,
       "version_minor": 0
      },
      "text/plain": [
       "  0%|          | 0/393 [00:00<?, ?it/s]"
      ]
     },
     "metadata": {},
     "output_type": "display_data"
    },
    {
     "data": {
      "application/vnd.jupyter.widget-view+json": {
       "model_id": "296e995553af4a3dacae8146b5050640",
       "version_major": 2,
       "version_minor": 0
      },
      "text/plain": [
       "  0%|          | 0/393 [00:00<?, ?it/s]"
      ]
     },
     "metadata": {},
     "output_type": "display_data"
    },
    {
     "data": {
      "application/vnd.jupyter.widget-view+json": {
       "model_id": "8c554153325c4c4f86c8f1e565a4d3a8",
       "version_major": 2,
       "version_minor": 0
      },
      "text/plain": [
       "  0%|          | 0/393 [00:00<?, ?it/s]"
      ]
     },
     "metadata": {},
     "output_type": "display_data"
    },
    {
     "data": {
      "application/vnd.jupyter.widget-view+json": {
       "model_id": "458b7b6e87e24755904d4c477ca9165d",
       "version_major": 2,
       "version_minor": 0
      },
      "text/plain": [
       "  0%|          | 0/393 [00:00<?, ?it/s]"
      ]
     },
     "metadata": {},
     "output_type": "display_data"
    },
    {
     "data": {
      "application/vnd.jupyter.widget-view+json": {
       "model_id": "a7bcde0de6514a96910a4b666d0148a0",
       "version_major": 2,
       "version_minor": 0
      },
      "text/plain": [
       "  0%|          | 0/393 [00:00<?, ?it/s]"
      ]
     },
     "metadata": {},
     "output_type": "display_data"
    },
    {
     "data": {
      "application/vnd.jupyter.widget-view+json": {
       "model_id": "fa0dc35968724c57bacb4b7c5f1410b3",
       "version_major": 2,
       "version_minor": 0
      },
      "text/plain": [
       "  0%|          | 0/393 [00:00<?, ?it/s]"
      ]
     },
     "metadata": {},
     "output_type": "display_data"
    },
    {
     "data": {
      "application/vnd.jupyter.widget-view+json": {
       "model_id": "cdfd3714d1844c29944ef881e189cb8a",
       "version_major": 2,
       "version_minor": 0
      },
      "text/plain": [
       "  0%|          | 0/393 [00:00<?, ?it/s]"
      ]
     },
     "metadata": {},
     "output_type": "display_data"
    },
    {
     "data": {
      "application/vnd.jupyter.widget-view+json": {
       "model_id": "9dfb22f803ff4813b909358d20b79575",
       "version_major": 2,
       "version_minor": 0
      },
      "text/plain": [
       "  0%|          | 0/393 [00:00<?, ?it/s]"
      ]
     },
     "metadata": {},
     "output_type": "display_data"
    },
    {
     "data": {
      "application/vnd.jupyter.widget-view+json": {
       "model_id": "4eb655090e0145dd8b12c99dc5950867",
       "version_major": 2,
       "version_minor": 0
      },
      "text/plain": [
       "  0%|          | 0/393 [00:00<?, ?it/s]"
      ]
     },
     "metadata": {},
     "output_type": "display_data"
    },
    {
     "data": {
      "application/vnd.jupyter.widget-view+json": {
       "model_id": "d97820802edb419c9ffdfa70c714dc64",
       "version_major": 2,
       "version_minor": 0
      },
      "text/plain": [
       "  0%|          | 0/393 [00:00<?, ?it/s]"
      ]
     },
     "metadata": {},
     "output_type": "display_data"
    },
    {
     "data": {
      "application/vnd.jupyter.widget-view+json": {
       "model_id": "ad6465a3f55e45529eacf6dc8258a59a",
       "version_major": 2,
       "version_minor": 0
      },
      "text/plain": [
       "  0%|          | 0/393 [00:00<?, ?it/s]"
      ]
     },
     "metadata": {},
     "output_type": "display_data"
    },
    {
     "data": {
      "application/vnd.jupyter.widget-view+json": {
       "model_id": "0a77d6f4cf8948598ee06d626b8900ca",
       "version_major": 2,
       "version_minor": 0
      },
      "text/plain": [
       "  0%|          | 0/393 [00:00<?, ?it/s]"
      ]
     },
     "metadata": {},
     "output_type": "display_data"
    },
    {
     "data": {
      "application/vnd.jupyter.widget-view+json": {
       "model_id": "e644ed6e30d64047829d8e732d637add",
       "version_major": 2,
       "version_minor": 0
      },
      "text/plain": [
       "  0%|          | 0/393 [00:00<?, ?it/s]"
      ]
     },
     "metadata": {},
     "output_type": "display_data"
    },
    {
     "data": {
      "application/vnd.jupyter.widget-view+json": {
       "model_id": "2ff8fed65472402e9db5ac03beaae851",
       "version_major": 2,
       "version_minor": 0
      },
      "text/plain": [
       "  0%|          | 0/393 [00:00<?, ?it/s]"
      ]
     },
     "metadata": {},
     "output_type": "display_data"
    },
    {
     "data": {
      "application/vnd.jupyter.widget-view+json": {
       "model_id": "01dd02b44d914acfbd5def32b2608905",
       "version_major": 2,
       "version_minor": 0
      },
      "text/plain": [
       "  0%|          | 0/393 [00:00<?, ?it/s]"
      ]
     },
     "metadata": {},
     "output_type": "display_data"
    },
    {
     "data": {
      "application/vnd.jupyter.widget-view+json": {
       "model_id": "97acdc3562a54316a39e95108db5dcd0",
       "version_major": 2,
       "version_minor": 0
      },
      "text/plain": [
       "  0%|          | 0/393 [00:00<?, ?it/s]"
      ]
     },
     "metadata": {},
     "output_type": "display_data"
    },
    {
     "data": {
      "application/vnd.jupyter.widget-view+json": {
       "model_id": "43a19cab56984c419caa38e2f9019dd9",
       "version_major": 2,
       "version_minor": 0
      },
      "text/plain": [
       "  0%|          | 0/393 [00:00<?, ?it/s]"
      ]
     },
     "metadata": {},
     "output_type": "display_data"
    },
    {
     "data": {
      "application/vnd.jupyter.widget-view+json": {
       "model_id": "4c331b8bc7fc4ea1a39035c1ccd0bbdc",
       "version_major": 2,
       "version_minor": 0
      },
      "text/plain": [
       "  0%|          | 0/393 [00:00<?, ?it/s]"
      ]
     },
     "metadata": {},
     "output_type": "display_data"
    },
    {
     "data": {
      "application/vnd.jupyter.widget-view+json": {
       "model_id": "21973ee161504037a556a8a01018a5ed",
       "version_major": 2,
       "version_minor": 0
      },
      "text/plain": [
       "  0%|          | 0/393 [00:00<?, ?it/s]"
      ]
     },
     "metadata": {},
     "output_type": "display_data"
    },
    {
     "data": {
      "application/vnd.jupyter.widget-view+json": {
       "model_id": "70a85aa3803f47b585968000043055b5",
       "version_major": 2,
       "version_minor": 0
      },
      "text/plain": [
       "  0%|          | 0/393 [00:00<?, ?it/s]"
      ]
     },
     "metadata": {},
     "output_type": "display_data"
    },
    {
     "data": {
      "application/vnd.jupyter.widget-view+json": {
       "model_id": "c38492f52ec64e2bad1c30917cc56e45",
       "version_major": 2,
       "version_minor": 0
      },
      "text/plain": [
       "  0%|          | 0/393 [00:00<?, ?it/s]"
      ]
     },
     "metadata": {},
     "output_type": "display_data"
    },
    {
     "data": {
      "application/vnd.jupyter.widget-view+json": {
       "model_id": "a5c0042ff1ef49a3b84a0efdc9ac7d4e",
       "version_major": 2,
       "version_minor": 0
      },
      "text/plain": [
       "  0%|          | 0/393 [00:00<?, ?it/s]"
      ]
     },
     "metadata": {},
     "output_type": "display_data"
    },
    {
     "data": {
      "application/vnd.jupyter.widget-view+json": {
       "model_id": "eecfe913f9254e099ade3e57d7b383c3",
       "version_major": 2,
       "version_minor": 0
      },
      "text/plain": [
       "  0%|          | 0/393 [00:00<?, ?it/s]"
      ]
     },
     "metadata": {},
     "output_type": "display_data"
    },
    {
     "data": {
      "application/vnd.jupyter.widget-view+json": {
       "model_id": "c4f9d6e2e0ce4037b685883ccb15ace3",
       "version_major": 2,
       "version_minor": 0
      },
      "text/plain": [
       "  0%|          | 0/393 [00:00<?, ?it/s]"
      ]
     },
     "metadata": {},
     "output_type": "display_data"
    },
    {
     "data": {
      "application/vnd.jupyter.widget-view+json": {
       "model_id": "248dcb7ea3094739858fc3791de4db0e",
       "version_major": 2,
       "version_minor": 0
      },
      "text/plain": [
       "  0%|          | 0/393 [00:00<?, ?it/s]"
      ]
     },
     "metadata": {},
     "output_type": "display_data"
    },
    {
     "data": {
      "application/vnd.jupyter.widget-view+json": {
       "model_id": "fd417a4c4fa3482ea4e6a4d6e0d949b2",
       "version_major": 2,
       "version_minor": 0
      },
      "text/plain": [
       "  0%|          | 0/393 [00:00<?, ?it/s]"
      ]
     },
     "metadata": {},
     "output_type": "display_data"
    },
    {
     "data": {
      "application/vnd.jupyter.widget-view+json": {
       "model_id": "2fface48e66948cc8a8cf1952d6a0ad6",
       "version_major": 2,
       "version_minor": 0
      },
      "text/plain": [
       "  0%|          | 0/393 [00:00<?, ?it/s]"
      ]
     },
     "metadata": {},
     "output_type": "display_data"
    },
    {
     "data": {
      "application/vnd.jupyter.widget-view+json": {
       "model_id": "3be8efe44dee4dbea5aa75e48e9127a8",
       "version_major": 2,
       "version_minor": 0
      },
      "text/plain": [
       "  0%|          | 0/393 [00:00<?, ?it/s]"
      ]
     },
     "metadata": {},
     "output_type": "display_data"
    },
    {
     "data": {
      "application/vnd.jupyter.widget-view+json": {
       "model_id": "8644f4c519284dc5964bccf53ccff2cb",
       "version_major": 2,
       "version_minor": 0
      },
      "text/plain": [
       "  0%|          | 0/393 [00:00<?, ?it/s]"
      ]
     },
     "metadata": {},
     "output_type": "display_data"
    },
    {
     "data": {
      "application/vnd.jupyter.widget-view+json": {
       "model_id": "e7b9ed058e414626a230a348be2a39fd",
       "version_major": 2,
       "version_minor": 0
      },
      "text/plain": [
       "  0%|          | 0/393 [00:00<?, ?it/s]"
      ]
     },
     "metadata": {},
     "output_type": "display_data"
    },
    {
     "data": {
      "application/vnd.jupyter.widget-view+json": {
       "model_id": "8b9cd726db134afb981d90d130179d0a",
       "version_major": 2,
       "version_minor": 0
      },
      "text/plain": [
       "  0%|          | 0/393 [00:00<?, ?it/s]"
      ]
     },
     "metadata": {},
     "output_type": "display_data"
    },
    {
     "data": {
      "application/vnd.jupyter.widget-view+json": {
       "model_id": "7eee1999600c4aee8470452c89dcf84a",
       "version_major": 2,
       "version_minor": 0
      },
      "text/plain": [
       "  0%|          | 0/393 [00:00<?, ?it/s]"
      ]
     },
     "metadata": {},
     "output_type": "display_data"
    },
    {
     "data": {
      "application/vnd.jupyter.widget-view+json": {
       "model_id": "1afa21c8f24d4cf28951b7a8417ac80a",
       "version_major": 2,
       "version_minor": 0
      },
      "text/plain": [
       "  0%|          | 0/393 [00:00<?, ?it/s]"
      ]
     },
     "metadata": {},
     "output_type": "display_data"
    },
    {
     "data": {
      "application/vnd.jupyter.widget-view+json": {
       "model_id": "cebbdb4aeeb944948a4cb1e6051e50a8",
       "version_major": 2,
       "version_minor": 0
      },
      "text/plain": [
       "  0%|          | 0/393 [00:00<?, ?it/s]"
      ]
     },
     "metadata": {},
     "output_type": "display_data"
    },
    {
     "data": {
      "application/vnd.jupyter.widget-view+json": {
       "model_id": "33e4244e30814f0aa942316e48080913",
       "version_major": 2,
       "version_minor": 0
      },
      "text/plain": [
       "  0%|          | 0/393 [00:00<?, ?it/s]"
      ]
     },
     "metadata": {},
     "output_type": "display_data"
    },
    {
     "data": {
      "application/vnd.jupyter.widget-view+json": {
       "model_id": "7562f8c6e26e4e1da70b1d47b30a3e77",
       "version_major": 2,
       "version_minor": 0
      },
      "text/plain": [
       "  0%|          | 0/393 [00:00<?, ?it/s]"
      ]
     },
     "metadata": {},
     "output_type": "display_data"
    },
    {
     "data": {
      "application/vnd.jupyter.widget-view+json": {
       "model_id": "18a16d22a5914486bf1c9fe640598d4c",
       "version_major": 2,
       "version_minor": 0
      },
      "text/plain": [
       "  0%|          | 0/393 [00:00<?, ?it/s]"
      ]
     },
     "metadata": {},
     "output_type": "display_data"
    },
    {
     "data": {
      "application/vnd.jupyter.widget-view+json": {
       "model_id": "31f52188ebee4f76be8ee60398ccbbf5",
       "version_major": 2,
       "version_minor": 0
      },
      "text/plain": [
       "  0%|          | 0/393 [00:00<?, ?it/s]"
      ]
     },
     "metadata": {},
     "output_type": "display_data"
    },
    {
     "data": {
      "application/vnd.jupyter.widget-view+json": {
       "model_id": "d7efddb1545c4e3fad923c59b5c8ebc8",
       "version_major": 2,
       "version_minor": 0
      },
      "text/plain": [
       "  0%|          | 0/393 [00:00<?, ?it/s]"
      ]
     },
     "metadata": {},
     "output_type": "display_data"
    },
    {
     "data": {
      "application/vnd.jupyter.widget-view+json": {
       "model_id": "f02adcd2e8b245229f4db5dcae965424",
       "version_major": 2,
       "version_minor": 0
      },
      "text/plain": [
       "  0%|          | 0/393 [00:00<?, ?it/s]"
      ]
     },
     "metadata": {},
     "output_type": "display_data"
    },
    {
     "data": {
      "application/vnd.jupyter.widget-view+json": {
       "model_id": "1fe9f905ccf54d57a0c704dcb7be5c88",
       "version_major": 2,
       "version_minor": 0
      },
      "text/plain": [
       "  0%|          | 0/393 [00:00<?, ?it/s]"
      ]
     },
     "metadata": {},
     "output_type": "display_data"
    },
    {
     "data": {
      "application/vnd.jupyter.widget-view+json": {
       "model_id": "a9c25a3843524a9e93a86644c6798ba5",
       "version_major": 2,
       "version_minor": 0
      },
      "text/plain": [
       "  0%|          | 0/393 [00:00<?, ?it/s]"
      ]
     },
     "metadata": {},
     "output_type": "display_data"
    },
    {
     "data": {
      "application/vnd.jupyter.widget-view+json": {
       "model_id": "4198d713988b40caaecdbe074cc3dde3",
       "version_major": 2,
       "version_minor": 0
      },
      "text/plain": [
       "  0%|          | 0/393 [00:00<?, ?it/s]"
      ]
     },
     "metadata": {},
     "output_type": "display_data"
    },
    {
     "data": {
      "application/vnd.jupyter.widget-view+json": {
       "model_id": "47e7c37dec6b45afae97ae49f9f6eb97",
       "version_major": 2,
       "version_minor": 0
      },
      "text/plain": [
       "  0%|          | 0/393 [00:00<?, ?it/s]"
      ]
     },
     "metadata": {},
     "output_type": "display_data"
    },
    {
     "data": {
      "application/vnd.jupyter.widget-view+json": {
       "model_id": "50c02d0f560d4777a45052a245135e1c",
       "version_major": 2,
       "version_minor": 0
      },
      "text/plain": [
       "  0%|          | 0/393 [00:00<?, ?it/s]"
      ]
     },
     "metadata": {},
     "output_type": "display_data"
    },
    {
     "data": {
      "application/vnd.jupyter.widget-view+json": {
       "model_id": "c380ecc4142940e09df38c5877c2fa71",
       "version_major": 2,
       "version_minor": 0
      },
      "text/plain": [
       "  0%|          | 0/393 [00:00<?, ?it/s]"
      ]
     },
     "metadata": {},
     "output_type": "display_data"
    },
    {
     "data": {
      "application/vnd.jupyter.widget-view+json": {
       "model_id": "14d554492da74aa9a40f294a878edcd7",
       "version_major": 2,
       "version_minor": 0
      },
      "text/plain": [
       "  0%|          | 0/393 [00:00<?, ?it/s]"
      ]
     },
     "metadata": {},
     "output_type": "display_data"
    },
    {
     "data": {
      "application/vnd.jupyter.widget-view+json": {
       "model_id": "5d2e0b49437d44e88982a76db10e0289",
       "version_major": 2,
       "version_minor": 0
      },
      "text/plain": [
       "  0%|          | 0/393 [00:00<?, ?it/s]"
      ]
     },
     "metadata": {},
     "output_type": "display_data"
    },
    {
     "data": {
      "application/vnd.jupyter.widget-view+json": {
       "model_id": "5631dd6e0889491ea5b25cc3666f5252",
       "version_major": 2,
       "version_minor": 0
      },
      "text/plain": [
       "  0%|          | 0/393 [00:00<?, ?it/s]"
      ]
     },
     "metadata": {},
     "output_type": "display_data"
    },
    {
     "data": {
      "application/vnd.jupyter.widget-view+json": {
       "model_id": "134aa2156725441e8ce71311d6844b91",
       "version_major": 2,
       "version_minor": 0
      },
      "text/plain": [
       "  0%|          | 0/393 [00:00<?, ?it/s]"
      ]
     },
     "metadata": {},
     "output_type": "display_data"
    },
    {
     "data": {
      "application/vnd.jupyter.widget-view+json": {
       "model_id": "01cd4d3db90546dea9e68170a464be06",
       "version_major": 2,
       "version_minor": 0
      },
      "text/plain": [
       "  0%|          | 0/393 [00:00<?, ?it/s]"
      ]
     },
     "metadata": {},
     "output_type": "display_data"
    },
    {
     "data": {
      "application/vnd.jupyter.widget-view+json": {
       "model_id": "c6507b6636914979bf3d6d91402bf915",
       "version_major": 2,
       "version_minor": 0
      },
      "text/plain": [
       "  0%|          | 0/393 [00:00<?, ?it/s]"
      ]
     },
     "metadata": {},
     "output_type": "display_data"
    },
    {
     "data": {
      "application/vnd.jupyter.widget-view+json": {
       "model_id": "03f11c93fa8a46dd918e0907b0ea21e5",
       "version_major": 2,
       "version_minor": 0
      },
      "text/plain": [
       "  0%|          | 0/393 [00:00<?, ?it/s]"
      ]
     },
     "metadata": {},
     "output_type": "display_data"
    },
    {
     "data": {
      "application/vnd.jupyter.widget-view+json": {
       "model_id": "e63662ab8893462bb93fb8a7434d870b",
       "version_major": 2,
       "version_minor": 0
      },
      "text/plain": [
       "  0%|          | 0/393 [00:00<?, ?it/s]"
      ]
     },
     "metadata": {},
     "output_type": "display_data"
    },
    {
     "data": {
      "application/vnd.jupyter.widget-view+json": {
       "model_id": "704e27dc5d9c492a8414b0f61a898a61",
       "version_major": 2,
       "version_minor": 0
      },
      "text/plain": [
       "  0%|          | 0/393 [00:00<?, ?it/s]"
      ]
     },
     "metadata": {},
     "output_type": "display_data"
    },
    {
     "data": {
      "application/vnd.jupyter.widget-view+json": {
       "model_id": "23642dcc0e394a3a9af49c96d9a04f1f",
       "version_major": 2,
       "version_minor": 0
      },
      "text/plain": [
       "  0%|          | 0/393 [00:00<?, ?it/s]"
      ]
     },
     "metadata": {},
     "output_type": "display_data"
    },
    {
     "data": {
      "application/vnd.jupyter.widget-view+json": {
       "model_id": "d917c363e65d40f49d6fbf71b1d3d977",
       "version_major": 2,
       "version_minor": 0
      },
      "text/plain": [
       "  0%|          | 0/393 [00:00<?, ?it/s]"
      ]
     },
     "metadata": {},
     "output_type": "display_data"
    },
    {
     "data": {
      "application/vnd.jupyter.widget-view+json": {
       "model_id": "1a003f18b4fd4be88bc3b0ab6a08c197",
       "version_major": 2,
       "version_minor": 0
      },
      "text/plain": [
       "  0%|          | 0/393 [00:00<?, ?it/s]"
      ]
     },
     "metadata": {},
     "output_type": "display_data"
    },
    {
     "data": {
      "application/vnd.jupyter.widget-view+json": {
       "model_id": "90655df8ebda4146819462ecb7703474",
       "version_major": 2,
       "version_minor": 0
      },
      "text/plain": [
       "  0%|          | 0/393 [00:00<?, ?it/s]"
      ]
     },
     "metadata": {},
     "output_type": "display_data"
    },
    {
     "data": {
      "application/vnd.jupyter.widget-view+json": {
       "model_id": "60c1562179e741bc8fd5b1c9cdd95df0",
       "version_major": 2,
       "version_minor": 0
      },
      "text/plain": [
       "  0%|          | 0/393 [00:00<?, ?it/s]"
      ]
     },
     "metadata": {},
     "output_type": "display_data"
    },
    {
     "data": {
      "application/vnd.jupyter.widget-view+json": {
       "model_id": "48d94152e20a4904b9ec9c2f9703caec",
       "version_major": 2,
       "version_minor": 0
      },
      "text/plain": [
       "  0%|          | 0/393 [00:00<?, ?it/s]"
      ]
     },
     "metadata": {},
     "output_type": "display_data"
    },
    {
     "data": {
      "application/vnd.jupyter.widget-view+json": {
       "model_id": "98fd65229c3448618a471b60c07079d2",
       "version_major": 2,
       "version_minor": 0
      },
      "text/plain": [
       "  0%|          | 0/393 [00:00<?, ?it/s]"
      ]
     },
     "metadata": {},
     "output_type": "display_data"
    },
    {
     "data": {
      "application/vnd.jupyter.widget-view+json": {
       "model_id": "e0e1f721065c41e7b4738f8dec3168b9",
       "version_major": 2,
       "version_minor": 0
      },
      "text/plain": [
       "  0%|          | 0/393 [00:00<?, ?it/s]"
      ]
     },
     "metadata": {},
     "output_type": "display_data"
    },
    {
     "data": {
      "application/vnd.jupyter.widget-view+json": {
       "model_id": "e06ac43d2a6449908abf43709e8e6626",
       "version_major": 2,
       "version_minor": 0
      },
      "text/plain": [
       "  0%|          | 0/393 [00:00<?, ?it/s]"
      ]
     },
     "metadata": {},
     "output_type": "display_data"
    },
    {
     "data": {
      "application/vnd.jupyter.widget-view+json": {
       "model_id": "b8938bed86a94507b78fb428a7a38e55",
       "version_major": 2,
       "version_minor": 0
      },
      "text/plain": [
       "  0%|          | 0/393 [00:00<?, ?it/s]"
      ]
     },
     "metadata": {},
     "output_type": "display_data"
    },
    {
     "data": {
      "application/vnd.jupyter.widget-view+json": {
       "model_id": "0a1d7c3fb98f46db86fc061c277fed79",
       "version_major": 2,
       "version_minor": 0
      },
      "text/plain": [
       "  0%|          | 0/393 [00:00<?, ?it/s]"
      ]
     },
     "metadata": {},
     "output_type": "display_data"
    },
    {
     "data": {
      "application/vnd.jupyter.widget-view+json": {
       "model_id": "55a7dbc6e171480790bcb88f4497cb86",
       "version_major": 2,
       "version_minor": 0
      },
      "text/plain": [
       "  0%|          | 0/393 [00:00<?, ?it/s]"
      ]
     },
     "metadata": {},
     "output_type": "display_data"
    },
    {
     "data": {
      "application/vnd.jupyter.widget-view+json": {
       "model_id": "0d6412525f1c45aa87cbce1794600d8f",
       "version_major": 2,
       "version_minor": 0
      },
      "text/plain": [
       "  0%|          | 0/393 [00:00<?, ?it/s]"
      ]
     },
     "metadata": {},
     "output_type": "display_data"
    },
    {
     "data": {
      "application/vnd.jupyter.widget-view+json": {
       "model_id": "19e6e4d812774244958c0974ac585145",
       "version_major": 2,
       "version_minor": 0
      },
      "text/plain": [
       "  0%|          | 0/393 [00:00<?, ?it/s]"
      ]
     },
     "metadata": {},
     "output_type": "display_data"
    },
    {
     "data": {
      "application/vnd.jupyter.widget-view+json": {
       "model_id": "1db61ddd8b4d40a2b1b0e7c25511b8eb",
       "version_major": 2,
       "version_minor": 0
      },
      "text/plain": [
       "  0%|          | 0/393 [00:00<?, ?it/s]"
      ]
     },
     "metadata": {},
     "output_type": "display_data"
    },
    {
     "data": {
      "application/vnd.jupyter.widget-view+json": {
       "model_id": "371c29e184d34095bfef461c3081d53f",
       "version_major": 2,
       "version_minor": 0
      },
      "text/plain": [
       "  0%|          | 0/393 [00:00<?, ?it/s]"
      ]
     },
     "metadata": {},
     "output_type": "display_data"
    },
    {
     "data": {
      "application/vnd.jupyter.widget-view+json": {
       "model_id": "ec65aed9bc9445f0919b5f80a3ed7b45",
       "version_major": 2,
       "version_minor": 0
      },
      "text/plain": [
       "  0%|          | 0/393 [00:00<?, ?it/s]"
      ]
     },
     "metadata": {},
     "output_type": "display_data"
    },
    {
     "data": {
      "application/vnd.jupyter.widget-view+json": {
       "model_id": "cea588ea226e46298287736c701f7171",
       "version_major": 2,
       "version_minor": 0
      },
      "text/plain": [
       "  0%|          | 0/393 [00:00<?, ?it/s]"
      ]
     },
     "metadata": {},
     "output_type": "display_data"
    },
    {
     "data": {
      "application/vnd.jupyter.widget-view+json": {
       "model_id": "ffe117e3bafb4c5191013d06561f492d",
       "version_major": 2,
       "version_minor": 0
      },
      "text/plain": [
       "  0%|          | 0/393 [00:00<?, ?it/s]"
      ]
     },
     "metadata": {},
     "output_type": "display_data"
    },
    {
     "data": {
      "application/vnd.jupyter.widget-view+json": {
       "model_id": "27d4df4bbf4548fe8c7a3b0f77362680",
       "version_major": 2,
       "version_minor": 0
      },
      "text/plain": [
       "  0%|          | 0/393 [00:00<?, ?it/s]"
      ]
     },
     "metadata": {},
     "output_type": "display_data"
    },
    {
     "data": {
      "application/vnd.jupyter.widget-view+json": {
       "model_id": "3a98e8d06bd948d2821983b130ff33fc",
       "version_major": 2,
       "version_minor": 0
      },
      "text/plain": [
       "  0%|          | 0/393 [00:00<?, ?it/s]"
      ]
     },
     "metadata": {},
     "output_type": "display_data"
    },
    {
     "data": {
      "application/vnd.jupyter.widget-view+json": {
       "model_id": "4a5969a73ad342c09b9b0752c29fc50f",
       "version_major": 2,
       "version_minor": 0
      },
      "text/plain": [
       "  0%|          | 0/393 [00:00<?, ?it/s]"
      ]
     },
     "metadata": {},
     "output_type": "display_data"
    },
    {
     "data": {
      "application/vnd.jupyter.widget-view+json": {
       "model_id": "0c45b3ee25fb4d028dca7cac54684a68",
       "version_major": 2,
       "version_minor": 0
      },
      "text/plain": [
       "  0%|          | 0/393 [00:00<?, ?it/s]"
      ]
     },
     "metadata": {},
     "output_type": "display_data"
    },
    {
     "data": {
      "application/vnd.jupyter.widget-view+json": {
       "model_id": "78c5531a01f04901afdcc0567e315609",
       "version_major": 2,
       "version_minor": 0
      },
      "text/plain": [
       "  0%|          | 0/393 [00:00<?, ?it/s]"
      ]
     },
     "metadata": {},
     "output_type": "display_data"
    },
    {
     "data": {
      "application/vnd.jupyter.widget-view+json": {
       "model_id": "1ca16306b53f4219a0e56cf14e834a4a",
       "version_major": 2,
       "version_minor": 0
      },
      "text/plain": [
       "  0%|          | 0/393 [00:00<?, ?it/s]"
      ]
     },
     "metadata": {},
     "output_type": "display_data"
    },
    {
     "data": {
      "application/vnd.jupyter.widget-view+json": {
       "model_id": "00b69c7c6c684e5f943002c0632509c4",
       "version_major": 2,
       "version_minor": 0
      },
      "text/plain": [
       "  0%|          | 0/393 [00:00<?, ?it/s]"
      ]
     },
     "metadata": {},
     "output_type": "display_data"
    },
    {
     "data": {
      "application/vnd.jupyter.widget-view+json": {
       "model_id": "7209a09c99f04c648bdf972a991cf7fe",
       "version_major": 2,
       "version_minor": 0
      },
      "text/plain": [
       "  0%|          | 0/393 [00:00<?, ?it/s]"
      ]
     },
     "metadata": {},
     "output_type": "display_data"
    },
    {
     "data": {
      "application/vnd.jupyter.widget-view+json": {
       "model_id": "bda4543098f444c6a5c212da25c7798a",
       "version_major": 2,
       "version_minor": 0
      },
      "text/plain": [
       "  0%|          | 0/393 [00:00<?, ?it/s]"
      ]
     },
     "metadata": {},
     "output_type": "display_data"
    },
    {
     "data": {
      "application/vnd.jupyter.widget-view+json": {
       "model_id": "d65b79d31c06452584cb69c230e57e15",
       "version_major": 2,
       "version_minor": 0
      },
      "text/plain": [
       "  0%|          | 0/393 [00:00<?, ?it/s]"
      ]
     },
     "metadata": {},
     "output_type": "display_data"
    },
    {
     "data": {
      "application/vnd.jupyter.widget-view+json": {
       "model_id": "3b118016b9b64f37ad0888d0d2762008",
       "version_major": 2,
       "version_minor": 0
      },
      "text/plain": [
       "  0%|          | 0/393 [00:00<?, ?it/s]"
      ]
     },
     "metadata": {},
     "output_type": "display_data"
    },
    {
     "data": {
      "application/vnd.jupyter.widget-view+json": {
       "model_id": "c17df9048fb94145806a4fc5f169b2ca",
       "version_major": 2,
       "version_minor": 0
      },
      "text/plain": [
       "  0%|          | 0/393 [00:00<?, ?it/s]"
      ]
     },
     "metadata": {},
     "output_type": "display_data"
    },
    {
     "data": {
      "application/vnd.jupyter.widget-view+json": {
       "model_id": "75c46ef173fb408598c1eba8d5128b4d",
       "version_major": 2,
       "version_minor": 0
      },
      "text/plain": [
       "  0%|          | 0/393 [00:00<?, ?it/s]"
      ]
     },
     "metadata": {},
     "output_type": "display_data"
    },
    {
     "data": {
      "application/vnd.jupyter.widget-view+json": {
       "model_id": "17c2d9aabdfc4855898af8c1bd74d5e6",
       "version_major": 2,
       "version_minor": 0
      },
      "text/plain": [
       "  0%|          | 0/393 [00:00<?, ?it/s]"
      ]
     },
     "metadata": {},
     "output_type": "display_data"
    },
    {
     "data": {
      "application/vnd.jupyter.widget-view+json": {
       "model_id": "000e0384ed46472fae7a687368e70039",
       "version_major": 2,
       "version_minor": 0
      },
      "text/plain": [
       "  0%|          | 0/393 [00:00<?, ?it/s]"
      ]
     },
     "metadata": {},
     "output_type": "display_data"
    },
    {
     "data": {
      "application/vnd.jupyter.widget-view+json": {
       "model_id": "6977e874e2ad47b799c3630c140aec45",
       "version_major": 2,
       "version_minor": 0
      },
      "text/plain": [
       "  0%|          | 0/393 [00:00<?, ?it/s]"
      ]
     },
     "metadata": {},
     "output_type": "display_data"
    },
    {
     "data": {
      "application/vnd.jupyter.widget-view+json": {
       "model_id": "63a3a41f4f134ad6b7c12b998d6f432b",
       "version_major": 2,
       "version_minor": 0
      },
      "text/plain": [
       "  0%|          | 0/393 [00:00<?, ?it/s]"
      ]
     },
     "metadata": {},
     "output_type": "display_data"
    },
    {
     "data": {
      "application/vnd.jupyter.widget-view+json": {
       "model_id": "093aa4dbc96d43e4a7dabc46e2903a64",
       "version_major": 2,
       "version_minor": 0
      },
      "text/plain": [
       "  0%|          | 0/393 [00:00<?, ?it/s]"
      ]
     },
     "metadata": {},
     "output_type": "display_data"
    },
    {
     "data": {
      "application/vnd.jupyter.widget-view+json": {
       "model_id": "91a37c1cdf484f16b7dc63990abb8350",
       "version_major": 2,
       "version_minor": 0
      },
      "text/plain": [
       "  0%|          | 0/393 [00:00<?, ?it/s]"
      ]
     },
     "metadata": {},
     "output_type": "display_data"
    },
    {
     "data": {
      "application/vnd.jupyter.widget-view+json": {
       "model_id": "b441b2a286454e82a22f9665eb9dfb98",
       "version_major": 2,
       "version_minor": 0
      },
      "text/plain": [
       "  0%|          | 0/393 [00:00<?, ?it/s]"
      ]
     },
     "metadata": {},
     "output_type": "display_data"
    },
    {
     "data": {
      "application/vnd.jupyter.widget-view+json": {
       "model_id": "81b55a2e5001496cabbedf19239dada3",
       "version_major": 2,
       "version_minor": 0
      },
      "text/plain": [
       "  0%|          | 0/393 [00:00<?, ?it/s]"
      ]
     },
     "metadata": {},
     "output_type": "display_data"
    },
    {
     "data": {
      "application/vnd.jupyter.widget-view+json": {
       "model_id": "569e11d596b64229aa62126ecf1371e3",
       "version_major": 2,
       "version_minor": 0
      },
      "text/plain": [
       "  0%|          | 0/393 [00:00<?, ?it/s]"
      ]
     },
     "metadata": {},
     "output_type": "display_data"
    },
    {
     "data": {
      "application/vnd.jupyter.widget-view+json": {
       "model_id": "cb9b20c78d7a43ff90642afaba6a2793",
       "version_major": 2,
       "version_minor": 0
      },
      "text/plain": [
       "  0%|          | 0/393 [00:00<?, ?it/s]"
      ]
     },
     "metadata": {},
     "output_type": "display_data"
    },
    {
     "data": {
      "application/vnd.jupyter.widget-view+json": {
       "model_id": "8fe84c72588641bf89fe6986263b1902",
       "version_major": 2,
       "version_minor": 0
      },
      "text/plain": [
       "  0%|          | 0/393 [00:00<?, ?it/s]"
      ]
     },
     "metadata": {},
     "output_type": "display_data"
    },
    {
     "data": {
      "application/vnd.jupyter.widget-view+json": {
       "model_id": "595727d2807148459d8fd60c0f3d9bc2",
       "version_major": 2,
       "version_minor": 0
      },
      "text/plain": [
       "  0%|          | 0/393 [00:00<?, ?it/s]"
      ]
     },
     "metadata": {},
     "output_type": "display_data"
    },
    {
     "data": {
      "application/vnd.jupyter.widget-view+json": {
       "model_id": "4cfc172abd8a4976b68e6f067125f696",
       "version_major": 2,
       "version_minor": 0
      },
      "text/plain": [
       "  0%|          | 0/393 [00:00<?, ?it/s]"
      ]
     },
     "metadata": {},
     "output_type": "display_data"
    },
    {
     "data": {
      "application/vnd.jupyter.widget-view+json": {
       "model_id": "5063658c6a4849b6b227f162bedf93d6",
       "version_major": 2,
       "version_minor": 0
      },
      "text/plain": [
       "  0%|          | 0/393 [00:00<?, ?it/s]"
      ]
     },
     "metadata": {},
     "output_type": "display_data"
    },
    {
     "data": {
      "application/vnd.jupyter.widget-view+json": {
       "model_id": "ff8302fb83764c93a7ff954f1a9529bb",
       "version_major": 2,
       "version_minor": 0
      },
      "text/plain": [
       "  0%|          | 0/393 [00:00<?, ?it/s]"
      ]
     },
     "metadata": {},
     "output_type": "display_data"
    },
    {
     "data": {
      "application/vnd.jupyter.widget-view+json": {
       "model_id": "de59e9a6d9c949bf920c232698ca3617",
       "version_major": 2,
       "version_minor": 0
      },
      "text/plain": [
       "  0%|          | 0/393 [00:00<?, ?it/s]"
      ]
     },
     "metadata": {},
     "output_type": "display_data"
    },
    {
     "data": {
      "application/vnd.jupyter.widget-view+json": {
       "model_id": "fa7776fd10cd467382917c128c75fabd",
       "version_major": 2,
       "version_minor": 0
      },
      "text/plain": [
       "  0%|          | 0/393 [00:00<?, ?it/s]"
      ]
     },
     "metadata": {},
     "output_type": "display_data"
    },
    {
     "data": {
      "application/vnd.jupyter.widget-view+json": {
       "model_id": "3db546529afa4f27988f8cef6bb5e7e3",
       "version_major": 2,
       "version_minor": 0
      },
      "text/plain": [
       "  0%|          | 0/393 [00:00<?, ?it/s]"
      ]
     },
     "metadata": {},
     "output_type": "display_data"
    },
    {
     "data": {
      "application/vnd.jupyter.widget-view+json": {
       "model_id": "0dc7e7984d434ccd8f5304adebaa1a66",
       "version_major": 2,
       "version_minor": 0
      },
      "text/plain": [
       "  0%|          | 0/393 [00:00<?, ?it/s]"
      ]
     },
     "metadata": {},
     "output_type": "display_data"
    },
    {
     "data": {
      "application/vnd.jupyter.widget-view+json": {
       "model_id": "73653a1106874a3eb445e10aeff16452",
       "version_major": 2,
       "version_minor": 0
      },
      "text/plain": [
       "  0%|          | 0/393 [00:00<?, ?it/s]"
      ]
     },
     "metadata": {},
     "output_type": "display_data"
    },
    {
     "data": {
      "application/vnd.jupyter.widget-view+json": {
       "model_id": "03a7cf12795f4391a342d3b5ba50da56",
       "version_major": 2,
       "version_minor": 0
      },
      "text/plain": [
       "  0%|          | 0/393 [00:00<?, ?it/s]"
      ]
     },
     "metadata": {},
     "output_type": "display_data"
    },
    {
     "data": {
      "application/vnd.jupyter.widget-view+json": {
       "model_id": "e96270c03f29454a862cc55ba95408ad",
       "version_major": 2,
       "version_minor": 0
      },
      "text/plain": [
       "  0%|          | 0/393 [00:00<?, ?it/s]"
      ]
     },
     "metadata": {},
     "output_type": "display_data"
    },
    {
     "data": {
      "application/vnd.jupyter.widget-view+json": {
       "model_id": "5023e535b64d4da7ba976cd0db5a1a76",
       "version_major": 2,
       "version_minor": 0
      },
      "text/plain": [
       "  0%|          | 0/393 [00:00<?, ?it/s]"
      ]
     },
     "metadata": {},
     "output_type": "display_data"
    },
    {
     "data": {
      "application/vnd.jupyter.widget-view+json": {
       "model_id": "3e8d625d577f40d8a2fd6b7df6459349",
       "version_major": 2,
       "version_minor": 0
      },
      "text/plain": [
       "  0%|          | 0/393 [00:00<?, ?it/s]"
      ]
     },
     "metadata": {},
     "output_type": "display_data"
    },
    {
     "data": {
      "application/vnd.jupyter.widget-view+json": {
       "model_id": "d797a9c25c6c4dcda35bc19761c39555",
       "version_major": 2,
       "version_minor": 0
      },
      "text/plain": [
       "  0%|          | 0/393 [00:00<?, ?it/s]"
      ]
     },
     "metadata": {},
     "output_type": "display_data"
    },
    {
     "data": {
      "application/vnd.jupyter.widget-view+json": {
       "model_id": "7abae8da40d34c169f8ccc421aef9d31",
       "version_major": 2,
       "version_minor": 0
      },
      "text/plain": [
       "  0%|          | 0/393 [00:00<?, ?it/s]"
      ]
     },
     "metadata": {},
     "output_type": "display_data"
    },
    {
     "data": {
      "application/vnd.jupyter.widget-view+json": {
       "model_id": "1f5e6e479277400caa275117618fc1d3",
       "version_major": 2,
       "version_minor": 0
      },
      "text/plain": [
       "  0%|          | 0/393 [00:00<?, ?it/s]"
      ]
     },
     "metadata": {},
     "output_type": "display_data"
    },
    {
     "data": {
      "application/vnd.jupyter.widget-view+json": {
       "model_id": "54d17bbef4b24066aa92b53698ceb43c",
       "version_major": 2,
       "version_minor": 0
      },
      "text/plain": [
       "  0%|          | 0/393 [00:00<?, ?it/s]"
      ]
     },
     "metadata": {},
     "output_type": "display_data"
    },
    {
     "data": {
      "application/vnd.jupyter.widget-view+json": {
       "model_id": "034e505be32f4ecbae6ff88cb1949065",
       "version_major": 2,
       "version_minor": 0
      },
      "text/plain": [
       "  0%|          | 0/393 [00:00<?, ?it/s]"
      ]
     },
     "metadata": {},
     "output_type": "display_data"
    },
    {
     "data": {
      "application/vnd.jupyter.widget-view+json": {
       "model_id": "7295de9925594e38a2cc39da151d0eeb",
       "version_major": 2,
       "version_minor": 0
      },
      "text/plain": [
       "  0%|          | 0/393 [00:00<?, ?it/s]"
      ]
     },
     "metadata": {},
     "output_type": "display_data"
    },
    {
     "data": {
      "application/vnd.jupyter.widget-view+json": {
       "model_id": "31111f2ca27e42ec81fb40407f87a459",
       "version_major": 2,
       "version_minor": 0
      },
      "text/plain": [
       "  0%|          | 0/393 [00:00<?, ?it/s]"
      ]
     },
     "metadata": {},
     "output_type": "display_data"
    },
    {
     "data": {
      "application/vnd.jupyter.widget-view+json": {
       "model_id": "6b7cde9747fb4b86a3045d2a5f08a650",
       "version_major": 2,
       "version_minor": 0
      },
      "text/plain": [
       "  0%|          | 0/393 [00:00<?, ?it/s]"
      ]
     },
     "metadata": {},
     "output_type": "display_data"
    },
    {
     "data": {
      "application/vnd.jupyter.widget-view+json": {
       "model_id": "5987cd95ea994b37ac1bb1892934e433",
       "version_major": 2,
       "version_minor": 0
      },
      "text/plain": [
       "  0%|          | 0/393 [00:00<?, ?it/s]"
      ]
     },
     "metadata": {},
     "output_type": "display_data"
    },
    {
     "data": {
      "application/vnd.jupyter.widget-view+json": {
       "model_id": "54e40940d66f4698aede9c5da50adf5b",
       "version_major": 2,
       "version_minor": 0
      },
      "text/plain": [
       "  0%|          | 0/393 [00:00<?, ?it/s]"
      ]
     },
     "metadata": {},
     "output_type": "display_data"
    },
    {
     "data": {
      "application/vnd.jupyter.widget-view+json": {
       "model_id": "e903047b8bf04b12bf73372dc1836bb5",
       "version_major": 2,
       "version_minor": 0
      },
      "text/plain": [
       "  0%|          | 0/393 [00:00<?, ?it/s]"
      ]
     },
     "metadata": {},
     "output_type": "display_data"
    },
    {
     "data": {
      "application/vnd.jupyter.widget-view+json": {
       "model_id": "95da9e918ec84512bab320e78c86aa83",
       "version_major": 2,
       "version_minor": 0
      },
      "text/plain": [
       "  0%|          | 0/393 [00:00<?, ?it/s]"
      ]
     },
     "metadata": {},
     "output_type": "display_data"
    },
    {
     "data": {
      "application/vnd.jupyter.widget-view+json": {
       "model_id": "fd854693567f4ad589bd5d2986384a09",
       "version_major": 2,
       "version_minor": 0
      },
      "text/plain": [
       "  0%|          | 0/393 [00:00<?, ?it/s]"
      ]
     },
     "metadata": {},
     "output_type": "display_data"
    },
    {
     "data": {
      "application/vnd.jupyter.widget-view+json": {
       "model_id": "c496da606fe44dcabe7e3467f0a2d724",
       "version_major": 2,
       "version_minor": 0
      },
      "text/plain": [
       "  0%|          | 0/393 [00:00<?, ?it/s]"
      ]
     },
     "metadata": {},
     "output_type": "display_data"
    },
    {
     "data": {
      "application/vnd.jupyter.widget-view+json": {
       "model_id": "d02b8bbf390948aba4bd5c3a146df13f",
       "version_major": 2,
       "version_minor": 0
      },
      "text/plain": [
       "  0%|          | 0/393 [00:00<?, ?it/s]"
      ]
     },
     "metadata": {},
     "output_type": "display_data"
    },
    {
     "data": {
      "application/vnd.jupyter.widget-view+json": {
       "model_id": "5fed5b42bdea43bcaf7274ea33d4b427",
       "version_major": 2,
       "version_minor": 0
      },
      "text/plain": [
       "  0%|          | 0/393 [00:00<?, ?it/s]"
      ]
     },
     "metadata": {},
     "output_type": "display_data"
    },
    {
     "data": {
      "application/vnd.jupyter.widget-view+json": {
       "model_id": "8ffa26983e3843cfa7912807dacd9539",
       "version_major": 2,
       "version_minor": 0
      },
      "text/plain": [
       "  0%|          | 0/393 [00:00<?, ?it/s]"
      ]
     },
     "metadata": {},
     "output_type": "display_data"
    },
    {
     "data": {
      "application/vnd.jupyter.widget-view+json": {
       "model_id": "2b620dd65da6498d85a52fe03885752c",
       "version_major": 2,
       "version_minor": 0
      },
      "text/plain": [
       "  0%|          | 0/393 [00:00<?, ?it/s]"
      ]
     },
     "metadata": {},
     "output_type": "display_data"
    },
    {
     "data": {
      "application/vnd.jupyter.widget-view+json": {
       "model_id": "c1fe046d289147ec99ebd320368169f1",
       "version_major": 2,
       "version_minor": 0
      },
      "text/plain": [
       "  0%|          | 0/393 [00:00<?, ?it/s]"
      ]
     },
     "metadata": {},
     "output_type": "display_data"
    },
    {
     "data": {
      "application/vnd.jupyter.widget-view+json": {
       "model_id": "7db3feb86c8c45829f2aaea3ce1a243c",
       "version_major": 2,
       "version_minor": 0
      },
      "text/plain": [
       "  0%|          | 0/393 [00:00<?, ?it/s]"
      ]
     },
     "metadata": {},
     "output_type": "display_data"
    },
    {
     "data": {
      "application/vnd.jupyter.widget-view+json": {
       "model_id": "1804160552fc4b49a87f260de0ee80b9",
       "version_major": 2,
       "version_minor": 0
      },
      "text/plain": [
       "  0%|          | 0/393 [00:00<?, ?it/s]"
      ]
     },
     "metadata": {},
     "output_type": "display_data"
    },
    {
     "data": {
      "application/vnd.jupyter.widget-view+json": {
       "model_id": "dde2554e24014eff90aab02b34603d4f",
       "version_major": 2,
       "version_minor": 0
      },
      "text/plain": [
       "  0%|          | 0/393 [00:00<?, ?it/s]"
      ]
     },
     "metadata": {},
     "output_type": "display_data"
    },
    {
     "data": {
      "application/vnd.jupyter.widget-view+json": {
       "model_id": "bbe8ae409ffe4f028085ae1566b03cf7",
       "version_major": 2,
       "version_minor": 0
      },
      "text/plain": [
       "  0%|          | 0/393 [00:00<?, ?it/s]"
      ]
     },
     "metadata": {},
     "output_type": "display_data"
    },
    {
     "data": {
      "application/vnd.jupyter.widget-view+json": {
       "model_id": "b9f84125f8534f8fa10ad178c0830963",
       "version_major": 2,
       "version_minor": 0
      },
      "text/plain": [
       "  0%|          | 0/393 [00:00<?, ?it/s]"
      ]
     },
     "metadata": {},
     "output_type": "display_data"
    },
    {
     "data": {
      "application/vnd.jupyter.widget-view+json": {
       "model_id": "e4b47959360442429d415bfdd116f214",
       "version_major": 2,
       "version_minor": 0
      },
      "text/plain": [
       "  0%|          | 0/393 [00:00<?, ?it/s]"
      ]
     },
     "metadata": {},
     "output_type": "display_data"
    },
    {
     "data": {
      "application/vnd.jupyter.widget-view+json": {
       "model_id": "597810c932914b04bc36745ffc6cb94c",
       "version_major": 2,
       "version_minor": 0
      },
      "text/plain": [
       "  0%|          | 0/393 [00:00<?, ?it/s]"
      ]
     },
     "metadata": {},
     "output_type": "display_data"
    },
    {
     "data": {
      "application/vnd.jupyter.widget-view+json": {
       "model_id": "e341adbbdc334d3bb01561f9f0d9fb2b",
       "version_major": 2,
       "version_minor": 0
      },
      "text/plain": [
       "  0%|          | 0/393 [00:00<?, ?it/s]"
      ]
     },
     "metadata": {},
     "output_type": "display_data"
    },
    {
     "data": {
      "application/vnd.jupyter.widget-view+json": {
       "model_id": "83de746ae5c64fdebc7c3c0bfbbbdf4e",
       "version_major": 2,
       "version_minor": 0
      },
      "text/plain": [
       "  0%|          | 0/393 [00:00<?, ?it/s]"
      ]
     },
     "metadata": {},
     "output_type": "display_data"
    },
    {
     "data": {
      "application/vnd.jupyter.widget-view+json": {
       "model_id": "b2ae19df2e544e2f8d2db1ed3a76da03",
       "version_major": 2,
       "version_minor": 0
      },
      "text/plain": [
       "  0%|          | 0/393 [00:00<?, ?it/s]"
      ]
     },
     "metadata": {},
     "output_type": "display_data"
    },
    {
     "data": {
      "application/vnd.jupyter.widget-view+json": {
       "model_id": "0c87f48ec5964df4be6aab42dac98b48",
       "version_major": 2,
       "version_minor": 0
      },
      "text/plain": [
       "  0%|          | 0/393 [00:00<?, ?it/s]"
      ]
     },
     "metadata": {},
     "output_type": "display_data"
    },
    {
     "data": {
      "application/vnd.jupyter.widget-view+json": {
       "model_id": "af541daac91b4e7988bf6a6ac0c0aa21",
       "version_major": 2,
       "version_minor": 0
      },
      "text/plain": [
       "  0%|          | 0/393 [00:00<?, ?it/s]"
      ]
     },
     "metadata": {},
     "output_type": "display_data"
    },
    {
     "data": {
      "application/vnd.jupyter.widget-view+json": {
       "model_id": "77d72e7b65c4408db599fa3452931b0c",
       "version_major": 2,
       "version_minor": 0
      },
      "text/plain": [
       "  0%|          | 0/393 [00:00<?, ?it/s]"
      ]
     },
     "metadata": {},
     "output_type": "display_data"
    },
    {
     "data": {
      "application/vnd.jupyter.widget-view+json": {
       "model_id": "f082521dcf244944afd3e95684095ec6",
       "version_major": 2,
       "version_minor": 0
      },
      "text/plain": [
       "  0%|          | 0/393 [00:00<?, ?it/s]"
      ]
     },
     "metadata": {},
     "output_type": "display_data"
    },
    {
     "data": {
      "application/vnd.jupyter.widget-view+json": {
       "model_id": "af2d1df42814496ea825c1398496c08f",
       "version_major": 2,
       "version_minor": 0
      },
      "text/plain": [
       "  0%|          | 0/393 [00:00<?, ?it/s]"
      ]
     },
     "metadata": {},
     "output_type": "display_data"
    },
    {
     "data": {
      "application/vnd.jupyter.widget-view+json": {
       "model_id": "783efd1faa5f49268ea963295f046eb6",
       "version_major": 2,
       "version_minor": 0
      },
      "text/plain": [
       "  0%|          | 0/393 [00:00<?, ?it/s]"
      ]
     },
     "metadata": {},
     "output_type": "display_data"
    },
    {
     "data": {
      "application/vnd.jupyter.widget-view+json": {
       "model_id": "01cde274251d45218ef2eb4f2dac8159",
       "version_major": 2,
       "version_minor": 0
      },
      "text/plain": [
       "  0%|          | 0/393 [00:00<?, ?it/s]"
      ]
     },
     "metadata": {},
     "output_type": "display_data"
    },
    {
     "data": {
      "application/vnd.jupyter.widget-view+json": {
       "model_id": "57aadbad1bd54d9b819fe59f0dbeaf83",
       "version_major": 2,
       "version_minor": 0
      },
      "text/plain": [
       "  0%|          | 0/393 [00:00<?, ?it/s]"
      ]
     },
     "metadata": {},
     "output_type": "display_data"
    },
    {
     "data": {
      "application/vnd.jupyter.widget-view+json": {
       "model_id": "de0641c51a6a42e895a5e11fae859a01",
       "version_major": 2,
       "version_minor": 0
      },
      "text/plain": [
       "  0%|          | 0/393 [00:00<?, ?it/s]"
      ]
     },
     "metadata": {},
     "output_type": "display_data"
    },
    {
     "data": {
      "application/vnd.jupyter.widget-view+json": {
       "model_id": "6936fa79bb9642d5b97e040c36f791df",
       "version_major": 2,
       "version_minor": 0
      },
      "text/plain": [
       "  0%|          | 0/393 [00:00<?, ?it/s]"
      ]
     },
     "metadata": {},
     "output_type": "display_data"
    },
    {
     "data": {
      "application/vnd.jupyter.widget-view+json": {
       "model_id": "637a077987df48a0a3d6322a93561c1e",
       "version_major": 2,
       "version_minor": 0
      },
      "text/plain": [
       "  0%|          | 0/393 [00:00<?, ?it/s]"
      ]
     },
     "metadata": {},
     "output_type": "display_data"
    },
    {
     "data": {
      "application/vnd.jupyter.widget-view+json": {
       "model_id": "ff7b4093f7d54a4aae3b81fc2f9eaf5e",
       "version_major": 2,
       "version_minor": 0
      },
      "text/plain": [
       "  0%|          | 0/393 [00:00<?, ?it/s]"
      ]
     },
     "metadata": {},
     "output_type": "display_data"
    },
    {
     "data": {
      "application/vnd.jupyter.widget-view+json": {
       "model_id": "86347a607444430cb0b0a2854a252386",
       "version_major": 2,
       "version_minor": 0
      },
      "text/plain": [
       "  0%|          | 0/393 [00:00<?, ?it/s]"
      ]
     },
     "metadata": {},
     "output_type": "display_data"
    },
    {
     "data": {
      "application/vnd.jupyter.widget-view+json": {
       "model_id": "64be4691055f40d0b0ff4ee7b73563d1",
       "version_major": 2,
       "version_minor": 0
      },
      "text/plain": [
       "  0%|          | 0/393 [00:00<?, ?it/s]"
      ]
     },
     "metadata": {},
     "output_type": "display_data"
    },
    {
     "data": {
      "application/vnd.jupyter.widget-view+json": {
       "model_id": "de4b33c4b2a5497b85215b3eb9f15add",
       "version_major": 2,
       "version_minor": 0
      },
      "text/plain": [
       "  0%|          | 0/393 [00:00<?, ?it/s]"
      ]
     },
     "metadata": {},
     "output_type": "display_data"
    },
    {
     "data": {
      "application/vnd.jupyter.widget-view+json": {
       "model_id": "086d9bcbe59248b68ec9331c71a2a73b",
       "version_major": 2,
       "version_minor": 0
      },
      "text/plain": [
       "  0%|          | 0/393 [00:00<?, ?it/s]"
      ]
     },
     "metadata": {},
     "output_type": "display_data"
    },
    {
     "data": {
      "application/vnd.jupyter.widget-view+json": {
       "model_id": "04225f88f040497793fb5956e9ce1df6",
       "version_major": 2,
       "version_minor": 0
      },
      "text/plain": [
       "  0%|          | 0/393 [00:00<?, ?it/s]"
      ]
     },
     "metadata": {},
     "output_type": "display_data"
    },
    {
     "data": {
      "application/vnd.jupyter.widget-view+json": {
       "model_id": "944e2fe3cb28478cb586406d056d7895",
       "version_major": 2,
       "version_minor": 0
      },
      "text/plain": [
       "  0%|          | 0/393 [00:00<?, ?it/s]"
      ]
     },
     "metadata": {},
     "output_type": "display_data"
    },
    {
     "data": {
      "application/vnd.jupyter.widget-view+json": {
       "model_id": "84808ce1b0e64354aae3118c3147369c",
       "version_major": 2,
       "version_minor": 0
      },
      "text/plain": [
       "  0%|          | 0/393 [00:00<?, ?it/s]"
      ]
     },
     "metadata": {},
     "output_type": "display_data"
    },
    {
     "data": {
      "application/vnd.jupyter.widget-view+json": {
       "model_id": "714b7b0434d44beba9b7649961493f5f",
       "version_major": 2,
       "version_minor": 0
      },
      "text/plain": [
       "  0%|          | 0/393 [00:00<?, ?it/s]"
      ]
     },
     "metadata": {},
     "output_type": "display_data"
    },
    {
     "data": {
      "application/vnd.jupyter.widget-view+json": {
       "model_id": "cbeedfc4293e49048287c951894f0916",
       "version_major": 2,
       "version_minor": 0
      },
      "text/plain": [
       "  0%|          | 0/393 [00:00<?, ?it/s]"
      ]
     },
     "metadata": {},
     "output_type": "display_data"
    },
    {
     "data": {
      "application/vnd.jupyter.widget-view+json": {
       "model_id": "d63ed7b4d556485eb8a28becbdb093dc",
       "version_major": 2,
       "version_minor": 0
      },
      "text/plain": [
       "  0%|          | 0/393 [00:00<?, ?it/s]"
      ]
     },
     "metadata": {},
     "output_type": "display_data"
    },
    {
     "data": {
      "application/vnd.jupyter.widget-view+json": {
       "model_id": "01b589da21114b28b699ac8b68ef9ba9",
       "version_major": 2,
       "version_minor": 0
      },
      "text/plain": [
       "  0%|          | 0/393 [00:00<?, ?it/s]"
      ]
     },
     "metadata": {},
     "output_type": "display_data"
    },
    {
     "data": {
      "application/vnd.jupyter.widget-view+json": {
       "model_id": "27ff255c86e34b5c8cad41daa3b90e66",
       "version_major": 2,
       "version_minor": 0
      },
      "text/plain": [
       "  0%|          | 0/393 [00:00<?, ?it/s]"
      ]
     },
     "metadata": {},
     "output_type": "display_data"
    },
    {
     "data": {
      "application/vnd.jupyter.widget-view+json": {
       "model_id": "881c89be60ba456cb2de00b5f9f0b131",
       "version_major": 2,
       "version_minor": 0
      },
      "text/plain": [
       "  0%|          | 0/393 [00:00<?, ?it/s]"
      ]
     },
     "metadata": {},
     "output_type": "display_data"
    },
    {
     "data": {
      "application/vnd.jupyter.widget-view+json": {
       "model_id": "57b9b2e1b7fd4776a1aed189a450dff1",
       "version_major": 2,
       "version_minor": 0
      },
      "text/plain": [
       "  0%|          | 0/393 [00:00<?, ?it/s]"
      ]
     },
     "metadata": {},
     "output_type": "display_data"
    },
    {
     "data": {
      "application/vnd.jupyter.widget-view+json": {
       "model_id": "f9a0c652e8f9436b9252655da579c982",
       "version_major": 2,
       "version_minor": 0
      },
      "text/plain": [
       "  0%|          | 0/393 [00:00<?, ?it/s]"
      ]
     },
     "metadata": {},
     "output_type": "display_data"
    },
    {
     "data": {
      "application/vnd.jupyter.widget-view+json": {
       "model_id": "836a183ba3ba4b1eadfc7cd620534af4",
       "version_major": 2,
       "version_minor": 0
      },
      "text/plain": [
       "  0%|          | 0/393 [00:00<?, ?it/s]"
      ]
     },
     "metadata": {},
     "output_type": "display_data"
    },
    {
     "data": {
      "application/vnd.jupyter.widget-view+json": {
       "model_id": "961d0da9bca3420c92314fc1e65f951f",
       "version_major": 2,
       "version_minor": 0
      },
      "text/plain": [
       "  0%|          | 0/393 [00:00<?, ?it/s]"
      ]
     },
     "metadata": {},
     "output_type": "display_data"
    },
    {
     "data": {
      "application/vnd.jupyter.widget-view+json": {
       "model_id": "bdfa2dc7bfc74828b4a8f0601e8e0818",
       "version_major": 2,
       "version_minor": 0
      },
      "text/plain": [
       "  0%|          | 0/393 [00:00<?, ?it/s]"
      ]
     },
     "metadata": {},
     "output_type": "display_data"
    },
    {
     "data": {
      "application/vnd.jupyter.widget-view+json": {
       "model_id": "a644dfad526a47bd9ecee5e87724c59f",
       "version_major": 2,
       "version_minor": 0
      },
      "text/plain": [
       "  0%|          | 0/393 [00:00<?, ?it/s]"
      ]
     },
     "metadata": {},
     "output_type": "display_data"
    },
    {
     "data": {
      "application/vnd.jupyter.widget-view+json": {
       "model_id": "96b61e054477445a8ab39c497f748194",
       "version_major": 2,
       "version_minor": 0
      },
      "text/plain": [
       "  0%|          | 0/393 [00:00<?, ?it/s]"
      ]
     },
     "metadata": {},
     "output_type": "display_data"
    },
    {
     "data": {
      "application/vnd.jupyter.widget-view+json": {
       "model_id": "665c47c5ab944f388c28e3d7ecf4c141",
       "version_major": 2,
       "version_minor": 0
      },
      "text/plain": [
       "  0%|          | 0/393 [00:00<?, ?it/s]"
      ]
     },
     "metadata": {},
     "output_type": "display_data"
    },
    {
     "data": {
      "application/vnd.jupyter.widget-view+json": {
       "model_id": "7972030c4f604dc1a11e94fc6edad42f",
       "version_major": 2,
       "version_minor": 0
      },
      "text/plain": [
       "  0%|          | 0/393 [00:00<?, ?it/s]"
      ]
     },
     "metadata": {},
     "output_type": "display_data"
    },
    {
     "data": {
      "application/vnd.jupyter.widget-view+json": {
       "model_id": "2e2b51bf1a424bff96317073812df3be",
       "version_major": 2,
       "version_minor": 0
      },
      "text/plain": [
       "  0%|          | 0/393 [00:00<?, ?it/s]"
      ]
     },
     "metadata": {},
     "output_type": "display_data"
    },
    {
     "data": {
      "application/vnd.jupyter.widget-view+json": {
       "model_id": "0e6893c1ae8f4af99d05733699f841e0",
       "version_major": 2,
       "version_minor": 0
      },
      "text/plain": [
       "  0%|          | 0/393 [00:00<?, ?it/s]"
      ]
     },
     "metadata": {},
     "output_type": "display_data"
    },
    {
     "data": {
      "application/vnd.jupyter.widget-view+json": {
       "model_id": "f614b074039d457abc6d75f5ed76a82c",
       "version_major": 2,
       "version_minor": 0
      },
      "text/plain": [
       "  0%|          | 0/393 [00:00<?, ?it/s]"
      ]
     },
     "metadata": {},
     "output_type": "display_data"
    },
    {
     "data": {
      "application/vnd.jupyter.widget-view+json": {
       "model_id": "bda4a8f8cf364277907dc9759476d1f7",
       "version_major": 2,
       "version_minor": 0
      },
      "text/plain": [
       "  0%|          | 0/393 [00:00<?, ?it/s]"
      ]
     },
     "metadata": {},
     "output_type": "display_data"
    },
    {
     "data": {
      "application/vnd.jupyter.widget-view+json": {
       "model_id": "3378bddaba704e0f975ef1fda0a699e0",
       "version_major": 2,
       "version_minor": 0
      },
      "text/plain": [
       "  0%|          | 0/393 [00:00<?, ?it/s]"
      ]
     },
     "metadata": {},
     "output_type": "display_data"
    },
    {
     "data": {
      "application/vnd.jupyter.widget-view+json": {
       "model_id": "46816fbaa980494d943ba4ab9d5e9376",
       "version_major": 2,
       "version_minor": 0
      },
      "text/plain": [
       "  0%|          | 0/393 [00:00<?, ?it/s]"
      ]
     },
     "metadata": {},
     "output_type": "display_data"
    },
    {
     "data": {
      "application/vnd.jupyter.widget-view+json": {
       "model_id": "cfe8edef3d144293b4e1c40921dc6bde",
       "version_major": 2,
       "version_minor": 0
      },
      "text/plain": [
       "  0%|          | 0/393 [00:00<?, ?it/s]"
      ]
     },
     "metadata": {},
     "output_type": "display_data"
    },
    {
     "data": {
      "application/vnd.jupyter.widget-view+json": {
       "model_id": "e05fb9e2badc4cfe98d61b79ea705355",
       "version_major": 2,
       "version_minor": 0
      },
      "text/plain": [
       "  0%|          | 0/393 [00:00<?, ?it/s]"
      ]
     },
     "metadata": {},
     "output_type": "display_data"
    },
    {
     "data": {
      "application/vnd.jupyter.widget-view+json": {
       "model_id": "c1fb77b53cd54282bf3aa74a6529893c",
       "version_major": 2,
       "version_minor": 0
      },
      "text/plain": [
       "  0%|          | 0/393 [00:00<?, ?it/s]"
      ]
     },
     "metadata": {},
     "output_type": "display_data"
    },
    {
     "data": {
      "application/vnd.jupyter.widget-view+json": {
       "model_id": "b20a4485f3894911984b9601948986bf",
       "version_major": 2,
       "version_minor": 0
      },
      "text/plain": [
       "  0%|          | 0/393 [00:00<?, ?it/s]"
      ]
     },
     "metadata": {},
     "output_type": "display_data"
    },
    {
     "data": {
      "application/vnd.jupyter.widget-view+json": {
       "model_id": "5d26e7a7e8e1476caf6b8d7072f55471",
       "version_major": 2,
       "version_minor": 0
      },
      "text/plain": [
       "  0%|          | 0/393 [00:00<?, ?it/s]"
      ]
     },
     "metadata": {},
     "output_type": "display_data"
    },
    {
     "data": {
      "application/vnd.jupyter.widget-view+json": {
       "model_id": "9107a4b58c8842d3989428cd486e5963",
       "version_major": 2,
       "version_minor": 0
      },
      "text/plain": [
       "  0%|          | 0/393 [00:00<?, ?it/s]"
      ]
     },
     "metadata": {},
     "output_type": "display_data"
    },
    {
     "data": {
      "application/vnd.jupyter.widget-view+json": {
       "model_id": "ed56aea58e4c4557bf494c6ebf39a616",
       "version_major": 2,
       "version_minor": 0
      },
      "text/plain": [
       "  0%|          | 0/393 [00:00<?, ?it/s]"
      ]
     },
     "metadata": {},
     "output_type": "display_data"
    },
    {
     "data": {
      "application/vnd.jupyter.widget-view+json": {
       "model_id": "a3fae4a4855c48b4b8dcb1471ed4a909",
       "version_major": 2,
       "version_minor": 0
      },
      "text/plain": [
       "  0%|          | 0/393 [00:00<?, ?it/s]"
      ]
     },
     "metadata": {},
     "output_type": "display_data"
    },
    {
     "data": {
      "application/vnd.jupyter.widget-view+json": {
       "model_id": "824aeb5363a04aba934bb85d7c68268d",
       "version_major": 2,
       "version_minor": 0
      },
      "text/plain": [
       "  0%|          | 0/393 [00:00<?, ?it/s]"
      ]
     },
     "metadata": {},
     "output_type": "display_data"
    },
    {
     "data": {
      "application/vnd.jupyter.widget-view+json": {
       "model_id": "ccc700470653450894b7cbaeb9ba223a",
       "version_major": 2,
       "version_minor": 0
      },
      "text/plain": [
       "  0%|          | 0/393 [00:00<?, ?it/s]"
      ]
     },
     "metadata": {},
     "output_type": "display_data"
    },
    {
     "data": {
      "application/vnd.jupyter.widget-view+json": {
       "model_id": "cec473451ba14e7d9afd7761b8ded985",
       "version_major": 2,
       "version_minor": 0
      },
      "text/plain": [
       "  0%|          | 0/393 [00:00<?, ?it/s]"
      ]
     },
     "metadata": {},
     "output_type": "display_data"
    },
    {
     "data": {
      "application/vnd.jupyter.widget-view+json": {
       "model_id": "218baff304a5474fb174cdc4bab99364",
       "version_major": 2,
       "version_minor": 0
      },
      "text/plain": [
       "  0%|          | 0/393 [00:00<?, ?it/s]"
      ]
     },
     "metadata": {},
     "output_type": "display_data"
    },
    {
     "data": {
      "application/vnd.jupyter.widget-view+json": {
       "model_id": "c95cb1f6b45e47b2a3eaf7dfdca358a6",
       "version_major": 2,
       "version_minor": 0
      },
      "text/plain": [
       "  0%|          | 0/393 [00:00<?, ?it/s]"
      ]
     },
     "metadata": {},
     "output_type": "display_data"
    },
    {
     "data": {
      "application/vnd.jupyter.widget-view+json": {
       "model_id": "80420638411a48ecb07f38f7b703939a",
       "version_major": 2,
       "version_minor": 0
      },
      "text/plain": [
       "  0%|          | 0/393 [00:00<?, ?it/s]"
      ]
     },
     "metadata": {},
     "output_type": "display_data"
    },
    {
     "data": {
      "application/vnd.jupyter.widget-view+json": {
       "model_id": "1237fa8f959b47d9a40d3b7ca76ccd66",
       "version_major": 2,
       "version_minor": 0
      },
      "text/plain": [
       "  0%|          | 0/393 [00:00<?, ?it/s]"
      ]
     },
     "metadata": {},
     "output_type": "display_data"
    },
    {
     "data": {
      "application/vnd.jupyter.widget-view+json": {
       "model_id": "798d96afb45b421abc278a998522ed89",
       "version_major": 2,
       "version_minor": 0
      },
      "text/plain": [
       "  0%|          | 0/393 [00:00<?, ?it/s]"
      ]
     },
     "metadata": {},
     "output_type": "display_data"
    },
    {
     "data": {
      "application/vnd.jupyter.widget-view+json": {
       "model_id": "2f89a48920c44042a08058bb2bbcb8f6",
       "version_major": 2,
       "version_minor": 0
      },
      "text/plain": [
       "  0%|          | 0/393 [00:00<?, ?it/s]"
      ]
     },
     "metadata": {},
     "output_type": "display_data"
    },
    {
     "data": {
      "application/vnd.jupyter.widget-view+json": {
       "model_id": "2df8fa8a7f214c0ebea4cdef3eebab84",
       "version_major": 2,
       "version_minor": 0
      },
      "text/plain": [
       "  0%|          | 0/393 [00:00<?, ?it/s]"
      ]
     },
     "metadata": {},
     "output_type": "display_data"
    },
    {
     "data": {
      "application/vnd.jupyter.widget-view+json": {
       "model_id": "097ee507195c4a85a006c3960efdcfd9",
       "version_major": 2,
       "version_minor": 0
      },
      "text/plain": [
       "  0%|          | 0/393 [00:00<?, ?it/s]"
      ]
     },
     "metadata": {},
     "output_type": "display_data"
    },
    {
     "data": {
      "application/vnd.jupyter.widget-view+json": {
       "model_id": "41102663622748e58e69b08f4afc0a9b",
       "version_major": 2,
       "version_minor": 0
      },
      "text/plain": [
       "  0%|          | 0/393 [00:00<?, ?it/s]"
      ]
     },
     "metadata": {},
     "output_type": "display_data"
    },
    {
     "data": {
      "application/vnd.jupyter.widget-view+json": {
       "model_id": "77b41bbbc9dd4e09a2de9c46462b0b7c",
       "version_major": 2,
       "version_minor": 0
      },
      "text/plain": [
       "  0%|          | 0/393 [00:00<?, ?it/s]"
      ]
     },
     "metadata": {},
     "output_type": "display_data"
    },
    {
     "data": {
      "application/vnd.jupyter.widget-view+json": {
       "model_id": "4dc427a8e5314867a99ea1f3cbd041f7",
       "version_major": 2,
       "version_minor": 0
      },
      "text/plain": [
       "  0%|          | 0/393 [00:00<?, ?it/s]"
      ]
     },
     "metadata": {},
     "output_type": "display_data"
    },
    {
     "data": {
      "application/vnd.jupyter.widget-view+json": {
       "model_id": "40ba2776d9734b4898c1da84a9300729",
       "version_major": 2,
       "version_minor": 0
      },
      "text/plain": [
       "  0%|          | 0/393 [00:00<?, ?it/s]"
      ]
     },
     "metadata": {},
     "output_type": "display_data"
    },
    {
     "data": {
      "application/vnd.jupyter.widget-view+json": {
       "model_id": "c98fb1fe936c4931ad7e46f852d2c221",
       "version_major": 2,
       "version_minor": 0
      },
      "text/plain": [
       "  0%|          | 0/393 [00:00<?, ?it/s]"
      ]
     },
     "metadata": {},
     "output_type": "display_data"
    },
    {
     "data": {
      "application/vnd.jupyter.widget-view+json": {
       "model_id": "b69717f14f274191b83077c3e12632a9",
       "version_major": 2,
       "version_minor": 0
      },
      "text/plain": [
       "  0%|          | 0/393 [00:00<?, ?it/s]"
      ]
     },
     "metadata": {},
     "output_type": "display_data"
    },
    {
     "data": {
      "application/vnd.jupyter.widget-view+json": {
       "model_id": "a8154a9f464247d9a5d1f0fdfc78a99f",
       "version_major": 2,
       "version_minor": 0
      },
      "text/plain": [
       "  0%|          | 0/393 [00:00<?, ?it/s]"
      ]
     },
     "metadata": {},
     "output_type": "display_data"
    },
    {
     "data": {
      "application/vnd.jupyter.widget-view+json": {
       "model_id": "b4b2d5b203594df7a6879921e3ec9971",
       "version_major": 2,
       "version_minor": 0
      },
      "text/plain": [
       "  0%|          | 0/393 [00:00<?, ?it/s]"
      ]
     },
     "metadata": {},
     "output_type": "display_data"
    },
    {
     "data": {
      "application/vnd.jupyter.widget-view+json": {
       "model_id": "035b35a29fa64bb3915d421de6d0dfd6",
       "version_major": 2,
       "version_minor": 0
      },
      "text/plain": [
       "  0%|          | 0/393 [00:00<?, ?it/s]"
      ]
     },
     "metadata": {},
     "output_type": "display_data"
    },
    {
     "data": {
      "application/vnd.jupyter.widget-view+json": {
       "model_id": "c7df7344ea1a4a71bf06a2f7968a1906",
       "version_major": 2,
       "version_minor": 0
      },
      "text/plain": [
       "  0%|          | 0/393 [00:00<?, ?it/s]"
      ]
     },
     "metadata": {},
     "output_type": "display_data"
    },
    {
     "data": {
      "application/vnd.jupyter.widget-view+json": {
       "model_id": "9e2e10988f5747fa82da12c52e22b2b4",
       "version_major": 2,
       "version_minor": 0
      },
      "text/plain": [
       "  0%|          | 0/393 [00:00<?, ?it/s]"
      ]
     },
     "metadata": {},
     "output_type": "display_data"
    },
    {
     "data": {
      "application/vnd.jupyter.widget-view+json": {
       "model_id": "75a8ccc632624353ac6c3afe20979fc9",
       "version_major": 2,
       "version_minor": 0
      },
      "text/plain": [
       "  0%|          | 0/393 [00:00<?, ?it/s]"
      ]
     },
     "metadata": {},
     "output_type": "display_data"
    },
    {
     "data": {
      "application/vnd.jupyter.widget-view+json": {
       "model_id": "f4d66fd7fe474afab0a5b1b110007809",
       "version_major": 2,
       "version_minor": 0
      },
      "text/plain": [
       "  0%|          | 0/393 [00:00<?, ?it/s]"
      ]
     },
     "metadata": {},
     "output_type": "display_data"
    },
    {
     "data": {
      "application/vnd.jupyter.widget-view+json": {
       "model_id": "a4df20bf0aa5479e89901aae4c202220",
       "version_major": 2,
       "version_minor": 0
      },
      "text/plain": [
       "  0%|          | 0/393 [00:00<?, ?it/s]"
      ]
     },
     "metadata": {},
     "output_type": "display_data"
    },
    {
     "data": {
      "application/vnd.jupyter.widget-view+json": {
       "model_id": "eb336f1bafd148489e81185f68859b5c",
       "version_major": 2,
       "version_minor": 0
      },
      "text/plain": [
       "  0%|          | 0/393 [00:00<?, ?it/s]"
      ]
     },
     "metadata": {},
     "output_type": "display_data"
    },
    {
     "data": {
      "application/vnd.jupyter.widget-view+json": {
       "model_id": "9fd214af9c344cb2a4aaa614e7155e83",
       "version_major": 2,
       "version_minor": 0
      },
      "text/plain": [
       "  0%|          | 0/393 [00:00<?, ?it/s]"
      ]
     },
     "metadata": {},
     "output_type": "display_data"
    },
    {
     "data": {
      "application/vnd.jupyter.widget-view+json": {
       "model_id": "6ae12f9ea8324c629bfff1f9852dfcea",
       "version_major": 2,
       "version_minor": 0
      },
      "text/plain": [
       "  0%|          | 0/393 [00:00<?, ?it/s]"
      ]
     },
     "metadata": {},
     "output_type": "display_data"
    },
    {
     "data": {
      "application/vnd.jupyter.widget-view+json": {
       "model_id": "6b3296eb68284a458f6303556fc4ac86",
       "version_major": 2,
       "version_minor": 0
      },
      "text/plain": [
       "  0%|          | 0/393 [00:00<?, ?it/s]"
      ]
     },
     "metadata": {},
     "output_type": "display_data"
    },
    {
     "data": {
      "application/vnd.jupyter.widget-view+json": {
       "model_id": "4d1b77e2d2e24cf78d77a014a591574d",
       "version_major": 2,
       "version_minor": 0
      },
      "text/plain": [
       "  0%|          | 0/393 [00:00<?, ?it/s]"
      ]
     },
     "metadata": {},
     "output_type": "display_data"
    },
    {
     "data": {
      "application/vnd.jupyter.widget-view+json": {
       "model_id": "6167a327d4e643f699eb32b8b0d5b69c",
       "version_major": 2,
       "version_minor": 0
      },
      "text/plain": [
       "  0%|          | 0/393 [00:00<?, ?it/s]"
      ]
     },
     "metadata": {},
     "output_type": "display_data"
    },
    {
     "data": {
      "application/vnd.jupyter.widget-view+json": {
       "model_id": "2b7be736928348a6a5b337b87feb206d",
       "version_major": 2,
       "version_minor": 0
      },
      "text/plain": [
       "  0%|          | 0/393 [00:00<?, ?it/s]"
      ]
     },
     "metadata": {},
     "output_type": "display_data"
    },
    {
     "data": {
      "application/vnd.jupyter.widget-view+json": {
       "model_id": "ce071232d2ec4b68bfd570ad38da2412",
       "version_major": 2,
       "version_minor": 0
      },
      "text/plain": [
       "  0%|          | 0/393 [00:00<?, ?it/s]"
      ]
     },
     "metadata": {},
     "output_type": "display_data"
    },
    {
     "data": {
      "application/vnd.jupyter.widget-view+json": {
       "model_id": "8c8512e6e6134c07810bb9bc05ff6a07",
       "version_major": 2,
       "version_minor": 0
      },
      "text/plain": [
       "  0%|          | 0/393 [00:00<?, ?it/s]"
      ]
     },
     "metadata": {},
     "output_type": "display_data"
    },
    {
     "data": {
      "application/vnd.jupyter.widget-view+json": {
       "model_id": "649cee62aecf4a868bc500e0b70868b4",
       "version_major": 2,
       "version_minor": 0
      },
      "text/plain": [
       "  0%|          | 0/393 [00:00<?, ?it/s]"
      ]
     },
     "metadata": {},
     "output_type": "display_data"
    },
    {
     "data": {
      "application/vnd.jupyter.widget-view+json": {
       "model_id": "011e45ba53b641178af26ab4c68a1cad",
       "version_major": 2,
       "version_minor": 0
      },
      "text/plain": [
       "  0%|          | 0/393 [00:00<?, ?it/s]"
      ]
     },
     "metadata": {},
     "output_type": "display_data"
    },
    {
     "data": {
      "application/vnd.jupyter.widget-view+json": {
       "model_id": "f87674c809ad48228a018ef4327f9c9f",
       "version_major": 2,
       "version_minor": 0
      },
      "text/plain": [
       "  0%|          | 0/393 [00:00<?, ?it/s]"
      ]
     },
     "metadata": {},
     "output_type": "display_data"
    },
    {
     "data": {
      "application/vnd.jupyter.widget-view+json": {
       "model_id": "7912bd3b5acb4b9fad6d0072cb1d03a8",
       "version_major": 2,
       "version_minor": 0
      },
      "text/plain": [
       "  0%|          | 0/393 [00:00<?, ?it/s]"
      ]
     },
     "metadata": {},
     "output_type": "display_data"
    },
    {
     "data": {
      "application/vnd.jupyter.widget-view+json": {
       "model_id": "a26ba486c7c74a9bbeb9048b997a016d",
       "version_major": 2,
       "version_minor": 0
      },
      "text/plain": [
       "  0%|          | 0/393 [00:00<?, ?it/s]"
      ]
     },
     "metadata": {},
     "output_type": "display_data"
    },
    {
     "data": {
      "application/vnd.jupyter.widget-view+json": {
       "model_id": "edf93cf563e0424eab22bfc1e995663e",
       "version_major": 2,
       "version_minor": 0
      },
      "text/plain": [
       "  0%|          | 0/393 [00:00<?, ?it/s]"
      ]
     },
     "metadata": {},
     "output_type": "display_data"
    },
    {
     "data": {
      "application/vnd.jupyter.widget-view+json": {
       "model_id": "04ddafd5e5bc42d69e7acb4a2c1e4460",
       "version_major": 2,
       "version_minor": 0
      },
      "text/plain": [
       "  0%|          | 0/393 [00:00<?, ?it/s]"
      ]
     },
     "metadata": {},
     "output_type": "display_data"
    },
    {
     "data": {
      "application/vnd.jupyter.widget-view+json": {
       "model_id": "d0dd43f7462444948605dee82d9287a9",
       "version_major": 2,
       "version_minor": 0
      },
      "text/plain": [
       "  0%|          | 0/393 [00:00<?, ?it/s]"
      ]
     },
     "metadata": {},
     "output_type": "display_data"
    },
    {
     "data": {
      "application/vnd.jupyter.widget-view+json": {
       "model_id": "4221647e323e46dcae3f0e8e11d0ae58",
       "version_major": 2,
       "version_minor": 0
      },
      "text/plain": [
       "  0%|          | 0/393 [00:00<?, ?it/s]"
      ]
     },
     "metadata": {},
     "output_type": "display_data"
    },
    {
     "data": {
      "application/vnd.jupyter.widget-view+json": {
       "model_id": "51bcfd8c83b64b0ab8c333fdbeca9f6f",
       "version_major": 2,
       "version_minor": 0
      },
      "text/plain": [
       "  0%|          | 0/393 [00:00<?, ?it/s]"
      ]
     },
     "metadata": {},
     "output_type": "display_data"
    },
    {
     "data": {
      "application/vnd.jupyter.widget-view+json": {
       "model_id": "68ce9c224d244514a08abf40cca326c1",
       "version_major": 2,
       "version_minor": 0
      },
      "text/plain": [
       "  0%|          | 0/393 [00:00<?, ?it/s]"
      ]
     },
     "metadata": {},
     "output_type": "display_data"
    },
    {
     "data": {
      "application/vnd.jupyter.widget-view+json": {
       "model_id": "d5f29d9e527e498092e07da908cd09db",
       "version_major": 2,
       "version_minor": 0
      },
      "text/plain": [
       "  0%|          | 0/393 [00:00<?, ?it/s]"
      ]
     },
     "metadata": {},
     "output_type": "display_data"
    },
    {
     "data": {
      "application/vnd.jupyter.widget-view+json": {
       "model_id": "4630a0a562974d4e88c2a6462202d019",
       "version_major": 2,
       "version_minor": 0
      },
      "text/plain": [
       "  0%|          | 0/393 [00:00<?, ?it/s]"
      ]
     },
     "metadata": {},
     "output_type": "display_data"
    },
    {
     "data": {
      "application/vnd.jupyter.widget-view+json": {
       "model_id": "ab9df3e614e74c9fa1d170084ca1506f",
       "version_major": 2,
       "version_minor": 0
      },
      "text/plain": [
       "  0%|          | 0/393 [00:00<?, ?it/s]"
      ]
     },
     "metadata": {},
     "output_type": "display_data"
    },
    {
     "data": {
      "application/vnd.jupyter.widget-view+json": {
       "model_id": "993f6e016b9b4a09ba0727daaba39668",
       "version_major": 2,
       "version_minor": 0
      },
      "text/plain": [
       "  0%|          | 0/393 [00:00<?, ?it/s]"
      ]
     },
     "metadata": {},
     "output_type": "display_data"
    },
    {
     "data": {
      "application/vnd.jupyter.widget-view+json": {
       "model_id": "d77cc591dd7140dcb726851946d30d4e",
       "version_major": 2,
       "version_minor": 0
      },
      "text/plain": [
       "  0%|          | 0/393 [00:00<?, ?it/s]"
      ]
     },
     "metadata": {},
     "output_type": "display_data"
    },
    {
     "data": {
      "application/vnd.jupyter.widget-view+json": {
       "model_id": "a8f9abc68ae64ed282d191edc9c97325",
       "version_major": 2,
       "version_minor": 0
      },
      "text/plain": [
       "  0%|          | 0/393 [00:00<?, ?it/s]"
      ]
     },
     "metadata": {},
     "output_type": "display_data"
    },
    {
     "data": {
      "application/vnd.jupyter.widget-view+json": {
       "model_id": "5b0635524be24898ba34cc8b774cc821",
       "version_major": 2,
       "version_minor": 0
      },
      "text/plain": [
       "  0%|          | 0/393 [00:00<?, ?it/s]"
      ]
     },
     "metadata": {},
     "output_type": "display_data"
    },
    {
     "data": {
      "application/vnd.jupyter.widget-view+json": {
       "model_id": "d8a96d770607487d823daf48aca3f1d6",
       "version_major": 2,
       "version_minor": 0
      },
      "text/plain": [
       "  0%|          | 0/393 [00:00<?, ?it/s]"
      ]
     },
     "metadata": {},
     "output_type": "display_data"
    },
    {
     "data": {
      "application/vnd.jupyter.widget-view+json": {
       "model_id": "e1f68637945b43c9a7f6c4c3d4e6a9be",
       "version_major": 2,
       "version_minor": 0
      },
      "text/plain": [
       "  0%|          | 0/393 [00:00<?, ?it/s]"
      ]
     },
     "metadata": {},
     "output_type": "display_data"
    },
    {
     "data": {
      "application/vnd.jupyter.widget-view+json": {
       "model_id": "0f579aac534c4acdbfea37030bf5d801",
       "version_major": 2,
       "version_minor": 0
      },
      "text/plain": [
       "  0%|          | 0/393 [00:00<?, ?it/s]"
      ]
     },
     "metadata": {},
     "output_type": "display_data"
    },
    {
     "data": {
      "application/vnd.jupyter.widget-view+json": {
       "model_id": "cd4105e3b9b64e188a2b6aba02535d80",
       "version_major": 2,
       "version_minor": 0
      },
      "text/plain": [
       "  0%|          | 0/393 [00:00<?, ?it/s]"
      ]
     },
     "metadata": {},
     "output_type": "display_data"
    },
    {
     "data": {
      "application/vnd.jupyter.widget-view+json": {
       "model_id": "45f6859a819747a0a48761f1e22a03d4",
       "version_major": 2,
       "version_minor": 0
      },
      "text/plain": [
       "  0%|          | 0/393 [00:00<?, ?it/s]"
      ]
     },
     "metadata": {},
     "output_type": "display_data"
    },
    {
     "data": {
      "application/vnd.jupyter.widget-view+json": {
       "model_id": "bc657e80e6074a679c3e54314b5472c0",
       "version_major": 2,
       "version_minor": 0
      },
      "text/plain": [
       "  0%|          | 0/393 [00:00<?, ?it/s]"
      ]
     },
     "metadata": {},
     "output_type": "display_data"
    },
    {
     "data": {
      "application/vnd.jupyter.widget-view+json": {
       "model_id": "37eb16b6b994415a8e1b0d5f0ae5a062",
       "version_major": 2,
       "version_minor": 0
      },
      "text/plain": [
       "  0%|          | 0/393 [00:00<?, ?it/s]"
      ]
     },
     "metadata": {},
     "output_type": "display_data"
    },
    {
     "data": {
      "application/vnd.jupyter.widget-view+json": {
       "model_id": "122988187e1e4b6cbc2c57976edd9e3a",
       "version_major": 2,
       "version_minor": 0
      },
      "text/plain": [
       "  0%|          | 0/393 [00:00<?, ?it/s]"
      ]
     },
     "metadata": {},
     "output_type": "display_data"
    },
    {
     "data": {
      "application/vnd.jupyter.widget-view+json": {
       "model_id": "aa6b5bb225a5439189a8bdf70b013231",
       "version_major": 2,
       "version_minor": 0
      },
      "text/plain": [
       "  0%|          | 0/393 [00:00<?, ?it/s]"
      ]
     },
     "metadata": {},
     "output_type": "display_data"
    },
    {
     "data": {
      "application/vnd.jupyter.widget-view+json": {
       "model_id": "70c580c71da14a8d9ff82419c583c09f",
       "version_major": 2,
       "version_minor": 0
      },
      "text/plain": [
       "  0%|          | 0/393 [00:00<?, ?it/s]"
      ]
     },
     "metadata": {},
     "output_type": "display_data"
    },
    {
     "data": {
      "application/vnd.jupyter.widget-view+json": {
       "model_id": "4e68b30a3295464c82495d3b9bada36f",
       "version_major": 2,
       "version_minor": 0
      },
      "text/plain": [
       "  0%|          | 0/393 [00:00<?, ?it/s]"
      ]
     },
     "metadata": {},
     "output_type": "display_data"
    },
    {
     "data": {
      "application/vnd.jupyter.widget-view+json": {
       "model_id": "a182b7e6d6a14c0d9e7bbdd21af0596a",
       "version_major": 2,
       "version_minor": 0
      },
      "text/plain": [
       "  0%|          | 0/393 [00:00<?, ?it/s]"
      ]
     },
     "metadata": {},
     "output_type": "display_data"
    },
    {
     "data": {
      "application/vnd.jupyter.widget-view+json": {
       "model_id": "ed86b0e0ff49431ab0fa323fc447661f",
       "version_major": 2,
       "version_minor": 0
      },
      "text/plain": [
       "  0%|          | 0/393 [00:00<?, ?it/s]"
      ]
     },
     "metadata": {},
     "output_type": "display_data"
    },
    {
     "data": {
      "application/vnd.jupyter.widget-view+json": {
       "model_id": "5689becaa7c9455880a2f1946fe6d6a8",
       "version_major": 2,
       "version_minor": 0
      },
      "text/plain": [
       "  0%|          | 0/393 [00:00<?, ?it/s]"
      ]
     },
     "metadata": {},
     "output_type": "display_data"
    },
    {
     "data": {
      "application/vnd.jupyter.widget-view+json": {
       "model_id": "8f2bbc67f4474290868dc6abbf184e1a",
       "version_major": 2,
       "version_minor": 0
      },
      "text/plain": [
       "  0%|          | 0/393 [00:00<?, ?it/s]"
      ]
     },
     "metadata": {},
     "output_type": "display_data"
    },
    {
     "data": {
      "application/vnd.jupyter.widget-view+json": {
       "model_id": "2ff751fc30f34765aa65672251ffac07",
       "version_major": 2,
       "version_minor": 0
      },
      "text/plain": [
       "  0%|          | 0/393 [00:00<?, ?it/s]"
      ]
     },
     "metadata": {},
     "output_type": "display_data"
    },
    {
     "data": {
      "application/vnd.jupyter.widget-view+json": {
       "model_id": "9f3b687e4ed44c128387229968cf62ed",
       "version_major": 2,
       "version_minor": 0
      },
      "text/plain": [
       "  0%|          | 0/393 [00:00<?, ?it/s]"
      ]
     },
     "metadata": {},
     "output_type": "display_data"
    },
    {
     "data": {
      "application/vnd.jupyter.widget-view+json": {
       "model_id": "a9f6fc5d645c494ea3e28d0d6275087c",
       "version_major": 2,
       "version_minor": 0
      },
      "text/plain": [
       "  0%|          | 0/393 [00:00<?, ?it/s]"
      ]
     },
     "metadata": {},
     "output_type": "display_data"
    },
    {
     "data": {
      "application/vnd.jupyter.widget-view+json": {
       "model_id": "85684d376242445cb0a0aea27179c083",
       "version_major": 2,
       "version_minor": 0
      },
      "text/plain": [
       "  0%|          | 0/393 [00:00<?, ?it/s]"
      ]
     },
     "metadata": {},
     "output_type": "display_data"
    },
    {
     "data": {
      "application/vnd.jupyter.widget-view+json": {
       "model_id": "72bd1daddbaf48bfadbc88e7be83c6cb",
       "version_major": 2,
       "version_minor": 0
      },
      "text/plain": [
       "  0%|          | 0/393 [00:00<?, ?it/s]"
      ]
     },
     "metadata": {},
     "output_type": "display_data"
    },
    {
     "data": {
      "application/vnd.jupyter.widget-view+json": {
       "model_id": "5144cf832f5d45ddb776d22060d4a27e",
       "version_major": 2,
       "version_minor": 0
      },
      "text/plain": [
       "  0%|          | 0/393 [00:00<?, ?it/s]"
      ]
     },
     "metadata": {},
     "output_type": "display_data"
    },
    {
     "data": {
      "application/vnd.jupyter.widget-view+json": {
       "model_id": "1e7945764f1646c5bf0bc9a398d66708",
       "version_major": 2,
       "version_minor": 0
      },
      "text/plain": [
       "  0%|          | 0/393 [00:00<?, ?it/s]"
      ]
     },
     "metadata": {},
     "output_type": "display_data"
    },
    {
     "data": {
      "application/vnd.jupyter.widget-view+json": {
       "model_id": "8bbb1266f4e2415890f7cf349254210d",
       "version_major": 2,
       "version_minor": 0
      },
      "text/plain": [
       "  0%|          | 0/393 [00:00<?, ?it/s]"
      ]
     },
     "metadata": {},
     "output_type": "display_data"
    },
    {
     "data": {
      "application/vnd.jupyter.widget-view+json": {
       "model_id": "dba55646e2f64be086cddce6ce995479",
       "version_major": 2,
       "version_minor": 0
      },
      "text/plain": [
       "  0%|          | 0/393 [00:00<?, ?it/s]"
      ]
     },
     "metadata": {},
     "output_type": "display_data"
    },
    {
     "data": {
      "application/vnd.jupyter.widget-view+json": {
       "model_id": "df38f56939aa4be0974bdbecd1245777",
       "version_major": 2,
       "version_minor": 0
      },
      "text/plain": [
       "  0%|          | 0/393 [00:00<?, ?it/s]"
      ]
     },
     "metadata": {},
     "output_type": "display_data"
    },
    {
     "data": {
      "application/vnd.jupyter.widget-view+json": {
       "model_id": "1915897f56da4c34af9e4408cb29402d",
       "version_major": 2,
       "version_minor": 0
      },
      "text/plain": [
       "  0%|          | 0/393 [00:00<?, ?it/s]"
      ]
     },
     "metadata": {},
     "output_type": "display_data"
    },
    {
     "data": {
      "application/vnd.jupyter.widget-view+json": {
       "model_id": "91c0cfe3b61d4c2a81401fc199d1ac58",
       "version_major": 2,
       "version_minor": 0
      },
      "text/plain": [
       "  0%|          | 0/393 [00:00<?, ?it/s]"
      ]
     },
     "metadata": {},
     "output_type": "display_data"
    },
    {
     "data": {
      "application/vnd.jupyter.widget-view+json": {
       "model_id": "23afcb9c09084c0dad90c0af4beaaa01",
       "version_major": 2,
       "version_minor": 0
      },
      "text/plain": [
       "  0%|          | 0/393 [00:00<?, ?it/s]"
      ]
     },
     "metadata": {},
     "output_type": "display_data"
    },
    {
     "data": {
      "application/vnd.jupyter.widget-view+json": {
       "model_id": "2b4f6be38d2a441a92ef8770385bb6b4",
       "version_major": 2,
       "version_minor": 0
      },
      "text/plain": [
       "  0%|          | 0/393 [00:00<?, ?it/s]"
      ]
     },
     "metadata": {},
     "output_type": "display_data"
    },
    {
     "data": {
      "application/vnd.jupyter.widget-view+json": {
       "model_id": "99d2e31cc67849d6919ff8b848b6fb39",
       "version_major": 2,
       "version_minor": 0
      },
      "text/plain": [
       "  0%|          | 0/393 [00:00<?, ?it/s]"
      ]
     },
     "metadata": {},
     "output_type": "display_data"
    },
    {
     "data": {
      "application/vnd.jupyter.widget-view+json": {
       "model_id": "09630d271645482a9d7f6b90513efb30",
       "version_major": 2,
       "version_minor": 0
      },
      "text/plain": [
       "  0%|          | 0/393 [00:00<?, ?it/s]"
      ]
     },
     "metadata": {},
     "output_type": "display_data"
    }
   ],
   "source": [
    "num_epochs = 400\n",
    "lr = 1e-4\n",
    "num_timesteps = 100\n",
    "hidden_size = 256\n",
    "hidden_layers = 3\n",
    "time_emb = \"sinusoidal\"\n",
    "input_emb = \"sinusoidal\"\n",
    "batch_size = 100\n",
    "emb_size = 128\n",
    "input_dim = len(all_columns)\n",
    "\n",
    "\n",
    "dataloader = DataLoader(dataset, batch_size, shuffle=True, drop_last=True)\n",
    "model = MLP(input_dim, hidden_size, hidden_layers, emb_size, time_emb, input_emb)\n",
    "noise_scheduler = ddpm.NoiseScheduler(num_timesteps, beta_end=0.02, beta_schedule=\"linear\")\n",
    "\n",
    "optimizer = torch.optim.AdamW(model.parameters(), lr)\n",
    "global_step = 0\n",
    "frames = []\n",
    "losses = []\n",
    "\n",
    "\n",
    "print(\"Training model\")\n",
    "for epoch in range(num_epochs):\n",
    "    model.train()\n",
    "    progress_bar = tqdm(total=len(dataloader))\n",
    "    progress_bar.set_description(f\"Epoch {epoch}\")\n",
    "    \n",
    "    for step, batch in enumerate(dataloader):\n",
    "        batch = batch[0]\n",
    "        noise = torch.randn(batch.shape).float()  # Assurez-vous que le bruit est de type float\n",
    "        timesteps = torch.randint(0, noise_scheduler.num_timesteps, (batch.shape[0],)).long()\n",
    "\n",
    "        noisy = noise_scheduler.add_noise(batch, noise, timesteps)\n",
    "        noisy = noisy.float()  # Assurez-vous que le tenseur noisy est de type float\n",
    "        noise_pred = model(noisy, timesteps)\n",
    "        \n",
    "        loss = F.mse_loss(noise_pred, noise)\n",
    "        loss.backward()\n",
    "\n",
    "        nn.utils.clip_grad_norm_(model.parameters(), 1.0)\n",
    "        optimizer.step()\n",
    "        optimizer.zero_grad()\n",
    "\n",
    "        progress_bar.update(1)\n",
    "        logs = {\"loss\": loss.detach().item(), \"step\": global_step}\n",
    "        losses.append(loss.detach().item())\n",
    "        progress_bar.set_postfix(**logs)\n",
    "        global_step += 1\n",
    "    progress_bar.close()\n",
    "\n"
   ]
  },
  {
   "cell_type": "code",
   "execution_count": 35,
   "id": "fc615ee7",
   "metadata": {},
   "outputs": [
    {
     "name": "stdout",
     "output_type": "stream",
     "text": [
      "Saving model...\n"
     ]
    }
   ],
   "source": [
    "print(\"Saving model...\")\n",
    "outdir = \"exps/base\"\n",
    "os.makedirs(outdir, exist_ok=True)\n",
    "torch.save(model.state_dict(), f\"{outdir}/modelWEBFINALlr10-4.pth\")"
   ]
  },
  {
   "cell_type": "code",
   "execution_count": 37,
   "id": "bdfb1efd",
   "metadata": {},
   "outputs": [
    {
     "data": {
      "application/vnd.jupyter.widget-view+json": {
       "model_id": "39befb14cb734bb392df9e25a6e993fe",
       "version_major": 2,
       "version_minor": 0
      },
      "text/plain": [
       "  0%|          | 0/100 [00:00<?, ?it/s]"
      ]
     },
     "metadata": {},
     "output_type": "display_data"
    },
    {
     "name": "stdout",
     "output_type": "stream",
     "text": [
      "Jeu de données 1:\n",
      "  Moyenne - A: 0.01523986217863769, B: 0.005831612197788847\n",
      "  Écart-type - A: 0.12250825175274399, B: 0.07614431495134613\n",
      "  Médiane - A: 0.0, B: 0.0\n"
     ]
    },
    {
     "data": {
      "application/vnd.jupyter.widget-view+json": {
       "model_id": "6b99772717d54eee868b992e9d784f16",
       "version_major": 2,
       "version_minor": 0
      },
      "text/plain": [
       "  0%|          | 0/100 [00:00<?, ?it/s]"
      ]
     },
     "metadata": {},
     "output_type": "display_data"
    },
    {
     "name": "stdout",
     "output_type": "stream",
     "text": [
      "Jeu de données 2:\n",
      "  Moyenne - A: 0.0008499597387492171, B: 0.0012525348920434211\n",
      "  Écart-type - A: 0.029142328309306208, B: 0.03537005323865841\n",
      "  Médiane - A: 0.0, B: 0.0\n"
     ]
    },
    {
     "data": {
      "application/vnd.jupyter.widget-view+json": {
       "model_id": "e99f47427e804b859e3e0810b70a013d",
       "version_major": 2,
       "version_minor": 0
      },
      "text/plain": [
       "  0%|          | 0/100 [00:00<?, ?it/s]"
      ]
     },
     "metadata": {},
     "output_type": "display_data"
    },
    {
     "name": "stdout",
     "output_type": "stream",
     "text": [
      "Jeu de données 3:\n",
      "  Moyenne - A: 0.2674020370946938, B: 0.13585111542192047\n",
      "  Écart-type - A: 0.44261371556838197, B: 0.3426407840603359\n",
      "  Médiane - A: 0.0, B: 0.0\n"
     ]
    },
    {
     "data": {
      "application/vnd.jupyter.widget-view+json": {
       "model_id": "6ba85c0508af41dc8b57da14ce82a0d2",
       "version_major": 2,
       "version_minor": 0
      },
      "text/plain": [
       "  0%|          | 0/100 [00:00<?, ?it/s]"
      ]
     },
     "metadata": {},
     "output_type": "display_data"
    },
    {
     "name": "stdout",
     "output_type": "stream",
     "text": [
      "Jeu de données 4:\n",
      "  Moyenne - A: 0.0010280708027892009, B: 0.0005961251862891207\n",
      "  Écart-type - A: 0.03204777342472346, B: 0.024409124083182233\n",
      "  Médiane - A: 0.0, B: 0.0\n"
     ]
    },
    {
     "data": {
      "application/vnd.jupyter.widget-view+json": {
       "model_id": "4126f7d3c03744bb942152f367b30a79",
       "version_major": 2,
       "version_minor": 0
      },
      "text/plain": [
       "  0%|          | 0/100 [00:00<?, ?it/s]"
      ]
     },
     "metadata": {},
     "output_type": "display_data"
    },
    {
     "name": "stdout",
     "output_type": "stream",
     "text": [
      "Jeu de données 5:\n",
      "  Moyenne - A: 0.0007556227220197351, B: 0.0019271303824149352\n",
      "  Écart-type - A: 0.027478815816053142, B: 0.043858093796442954\n",
      "  Médiane - A: 0.0, B: 0.0\n"
     ]
    },
    {
     "data": {
      "application/vnd.jupyter.widget-view+json": {
       "model_id": "8beee305dc504216b6a5abd35af9c71c",
       "version_major": 2,
       "version_minor": 0
      },
      "text/plain": [
       "  0%|          | 0/100 [00:00<?, ?it/s]"
      ]
     },
     "metadata": {},
     "output_type": "display_data"
    },
    {
     "name": "stdout",
     "output_type": "stream",
     "text": [
      "Jeu de données 6:\n",
      "  Moyenne - A: 0.0012522361359570662, B: 0.004581349086744228\n",
      "  Écart-type - A: 0.03536557614961011, B: 0.06753247549533473\n",
      "  Médiane - A: 0.0, B: 0.0\n"
     ]
    },
    {
     "data": {
      "application/vnd.jupyter.widget-view+json": {
       "model_id": "75379b84503547eb9febd123b799bf67",
       "version_major": 2,
       "version_minor": 0
      },
      "text/plain": [
       "  0%|          | 0/100 [00:00<?, ?it/s]"
      ]
     },
     "metadata": {},
     "output_type": "display_data"
    },
    {
     "name": "stdout",
     "output_type": "stream",
     "text": [
      "Jeu de données 7:\n",
      "  Moyenne - A: 0.016826277633580956, B: 0.0033456804875134426\n",
      "  Écart-type - A: 0.128623070893461, B: 0.057746741363129704\n",
      "  Médiane - A: 0.0, B: 0.0\n"
     ]
    },
    {
     "data": {
      "application/vnd.jupyter.widget-view+json": {
       "model_id": "1e32a935c00c4db291deb3c281a46e9d",
       "version_major": 2,
       "version_minor": 0
      },
      "text/plain": [
       "  0%|          | 0/100 [00:00<?, ?it/s]"
      ]
     },
     "metadata": {},
     "output_type": "display_data"
    },
    {
     "name": "stdout",
     "output_type": "stream",
     "text": [
      "Jeu de données 8:\n",
      "  Moyenne - A: 0.2845601436265709, B: 0.013842281879194632\n",
      "  Écart-type - A: 0.4512148116952188, B: 0.11683959583100534\n",
      "  Médiane - A: 0.0, B: 0.0\n"
     ]
    },
    {
     "data": {
      "application/vnd.jupyter.widget-view+json": {
       "model_id": "eccb215b539a4a768ef12376fb0c5354",
       "version_major": 2,
       "version_minor": 0
      },
      "text/plain": [
       "  0%|          | 0/100 [00:00<?, ?it/s]"
      ]
     },
     "metadata": {},
     "output_type": "display_data"
    },
    {
     "name": "stdout",
     "output_type": "stream",
     "text": [
      "Jeu de données 9:\n",
      "  Moyenne - A: 0.016027936962750716, B: 0.38058887677208286\n",
      "  Écart-type - A: 0.12558562144145016, B: 0.48554635891290104\n",
      "  Médiane - A: 0.0, B: 0.0\n"
     ]
    },
    {
     "data": {
      "application/vnd.jupyter.widget-view+json": {
       "model_id": "9eb2f6b441a14658a281ccd2d1588e41",
       "version_major": 2,
       "version_minor": 0
      },
      "text/plain": [
       "  0%|          | 0/100 [00:00<?, ?it/s]"
      ]
     },
     "metadata": {},
     "output_type": "display_data"
    },
    {
     "name": "stdout",
     "output_type": "stream",
     "text": [
      "Jeu de données 10:\n",
      "  Moyenne - A: 0.0004444641984088182, B: 0.00619797046849365\n",
      "  Écart-type - A: 0.021078102308437704, B: 0.078485221125472\n",
      "  Médiane - A: 0.0, B: 0.0\n",
      "\n",
      "Résultats finaux:\n",
      "Moyennes des moyennes:\n",
      "  A: 0.060438661109415814\n",
      "  B: 0.055401467677448565\n",
      "Moyennes des écarts-types:\n",
      "  A: 0.14156580673593866\n",
      "  B: 0.13285727628578087\n",
      "Moyennes des médianes:\n",
      "  A: 0.0\n",
      "  B: 0.0\n"
     ]
    }
   ],
   "source": [
    "# Initialisation des listes pour stocker les moyennes, écarts-types et médianes\n",
    "L_mean = []\n",
    "L_std = []\n",
    "L_median = []\n",
    "\n",
    "for j in range(10):\n",
    "    eval_batch_size = 39372\n",
    "    num_timesteps = 100\n",
    "    plot_step=10\n",
    "    sample = torch.randn(eval_batch_size, input_dim)\n",
    "    timesteps = list(range(num_timesteps))[::-1]\n",
    "    samples = []\n",
    "\n",
    "    for i, t in enumerate(tqdm(timesteps)):\n",
    "        t = torch.from_numpy(np.repeat(t, eval_batch_size)).long()\n",
    "        with torch.no_grad():\n",
    "            residual = model(sample, t)\n",
    "        sample = noise_scheduler.step(residual, t[0], sample)\n",
    "        if (i + 1) % plot_step == 0:\n",
    "            samples.append(sample.numpy())\n",
    "\n",
    "    generated_data = samples[-1]\n",
    "    df = pd.DataFrame(generated_data, columns=all_columns)\n",
    "\n",
    "    for i in range(len(all_columns)-2):\n",
    "        x_min, x_max = df[all_columns[i]].min(), df[all_columns[i]].max()\n",
    "        y_min, y_max = df_merged[all_columns[i]].min(), df_merged[all_columns[i]].max()\n",
    "\n",
    "        if y_max != y_min:\n",
    "            a = (y_max - y_min) / (x_max - x_min)\n",
    "            b = y_max - a * x_max\n",
    "            df[all_columns[i]] = a * df[all_columns[i]] + b\n",
    "\n",
    "    for column in [\"A\", \"B\"]:\n",
    "        df[column] = (df[column] >= 0.5).astype(int)\n",
    "    \n",
    "    df.loc[df['check A'] < 0, 'A'] = np.nan\n",
    "    df.loc[df['check B'] < 0, 'B'] = np.nan\n",
    "\n",
    "    mean_A, mean_B = df['A'].mean(), df['B'].mean()\n",
    "    std_A, std_B = df['A'].std(), df['B'].std()\n",
    "    median_A, median_B = df['A'].median(), df['B'].median()\n",
    "    \n",
    "    L_mean.append([mean_A, mean_B])\n",
    "    L_std.append([std_A, std_B])\n",
    "    L_median.append([median_A, median_B])\n",
    "    \n",
    "    print(f\"Jeu de données {j+1}:\")\n",
    "    print(f\"  Moyenne - A: {mean_A}, B: {mean_B}\")\n",
    "    print(f\"  Écart-type - A: {std_A}, B: {std_B}\")\n",
    "    print(f\"  Médiane - A: {median_A}, B: {median_B}\")\n",
    "\n",
    "# Conversion des listes en arrays numpy\n",
    "L_mean = np.array(L_mean)\n",
    "L_std = np.array(L_std)\n",
    "L_median = np.array(L_median)\n",
    "\n",
    "# Calcul des moyennes finales pour chaque métrique\n",
    "moyennes_finales = np.mean(L_mean, axis=0)\n",
    "std_finales = np.mean(L_std, axis=0)\n",
    "medianes_finales = np.mean(L_median, axis=0)\n",
    "\n",
    "print(\"\\nRésultats finaux:\")\n",
    "print(\"Moyennes des moyennes:\")\n",
    "print(\"  A:\", moyennes_finales[0])\n",
    "print(\"  B:\", moyennes_finales[1])\n",
    "print(\"Moyennes des écarts-types:\")\n",
    "print(\"  A:\", std_finales[0])\n",
    "print(\"  B:\", std_finales[1])\n",
    "print(\"Moyennes des médianes:\")\n",
    "print(\"  A:\", medianes_finales[0])\n",
    "print(\"  B:\", medianes_finales[1])"
   ]
  },
  {
   "cell_type": "code",
   "execution_count": 78,
   "id": "696004ab",
   "metadata": {
    "scrolled": true
   },
   "outputs": [
    {
     "data": {
      "text/html": [
       "<div>\n",
       "<style scoped>\n",
       "    .dataframe tbody tr th:only-of-type {\n",
       "        vertical-align: middle;\n",
       "    }\n",
       "\n",
       "    .dataframe tbody tr th {\n",
       "        vertical-align: top;\n",
       "    }\n",
       "\n",
       "    .dataframe thead th {\n",
       "        text-align: right;\n",
       "    }\n",
       "</style>\n",
       "<table border=\"1\" class=\"dataframe\">\n",
       "  <thead>\n",
       "    <tr style=\"text-align: right;\">\n",
       "      <th></th>\n",
       "      <th>A</th>\n",
       "      <th>B</th>\n",
       "      <th>transaction</th>\n",
       "      <th>presence_1</th>\n",
       "      <th>presence_2</th>\n",
       "      <th>presence_3</th>\n",
       "      <th>presence_4</th>\n",
       "      <th>presence_5</th>\n",
       "      <th>presence_6</th>\n",
       "      <th>presence_7</th>\n",
       "      <th>...</th>\n",
       "      <th>time_spend_13</th>\n",
       "      <th>time_spend_14</th>\n",
       "      <th>time_spend_15</th>\n",
       "      <th>time_spend_16</th>\n",
       "      <th>time_spend_17</th>\n",
       "      <th>time_spend_18</th>\n",
       "      <th>time_spend_19</th>\n",
       "      <th>time_spend_20</th>\n",
       "      <th>check A</th>\n",
       "      <th>check B</th>\n",
       "    </tr>\n",
       "  </thead>\n",
       "  <tbody>\n",
       "    <tr>\n",
       "      <th>0</th>\n",
       "      <td>0.0</td>\n",
       "      <td>NaN</td>\n",
       "      <td>0.0</td>\n",
       "      <td>1</td>\n",
       "      <td>0</td>\n",
       "      <td>0</td>\n",
       "      <td>1</td>\n",
       "      <td>0</td>\n",
       "      <td>0</td>\n",
       "      <td>1</td>\n",
       "      <td>...</td>\n",
       "      <td>558</td>\n",
       "      <td>387</td>\n",
       "      <td>493</td>\n",
       "      <td>347</td>\n",
       "      <td>133</td>\n",
       "      <td>443</td>\n",
       "      <td>809</td>\n",
       "      <td>327</td>\n",
       "      <td>3.910782</td>\n",
       "      <td>-3.795597</td>\n",
       "    </tr>\n",
       "    <tr>\n",
       "      <th>1</th>\n",
       "      <td>NaN</td>\n",
       "      <td>0.0</td>\n",
       "      <td>0.0</td>\n",
       "      <td>1</td>\n",
       "      <td>0</td>\n",
       "      <td>0</td>\n",
       "      <td>0</td>\n",
       "      <td>0</td>\n",
       "      <td>0</td>\n",
       "      <td>1</td>\n",
       "      <td>...</td>\n",
       "      <td>913</td>\n",
       "      <td>268</td>\n",
       "      <td>402</td>\n",
       "      <td>31</td>\n",
       "      <td>26</td>\n",
       "      <td>14</td>\n",
       "      <td>108</td>\n",
       "      <td>181</td>\n",
       "      <td>-4.045590</td>\n",
       "      <td>4.021294</td>\n",
       "    </tr>\n",
       "    <tr>\n",
       "      <th>2</th>\n",
       "      <td>0.0</td>\n",
       "      <td>NaN</td>\n",
       "      <td>0.0</td>\n",
       "      <td>1</td>\n",
       "      <td>0</td>\n",
       "      <td>0</td>\n",
       "      <td>0</td>\n",
       "      <td>0</td>\n",
       "      <td>1</td>\n",
       "      <td>0</td>\n",
       "      <td>...</td>\n",
       "      <td>95</td>\n",
       "      <td>59</td>\n",
       "      <td>282</td>\n",
       "      <td>183</td>\n",
       "      <td>63</td>\n",
       "      <td>99</td>\n",
       "      <td>822</td>\n",
       "      <td>71</td>\n",
       "      <td>3.716434</td>\n",
       "      <td>-3.908454</td>\n",
       "    </tr>\n",
       "    <tr>\n",
       "      <th>3</th>\n",
       "      <td>0.0</td>\n",
       "      <td>NaN</td>\n",
       "      <td>0.0</td>\n",
       "      <td>1</td>\n",
       "      <td>0</td>\n",
       "      <td>0</td>\n",
       "      <td>0</td>\n",
       "      <td>0</td>\n",
       "      <td>0</td>\n",
       "      <td>0</td>\n",
       "      <td>...</td>\n",
       "      <td>989</td>\n",
       "      <td>155</td>\n",
       "      <td>148</td>\n",
       "      <td>139</td>\n",
       "      <td>34</td>\n",
       "      <td>16</td>\n",
       "      <td>132</td>\n",
       "      <td>88</td>\n",
       "      <td>2.757301</td>\n",
       "      <td>-3.791925</td>\n",
       "    </tr>\n",
       "    <tr>\n",
       "      <th>4</th>\n",
       "      <td>NaN</td>\n",
       "      <td>0.0</td>\n",
       "      <td>0.0</td>\n",
       "      <td>1</td>\n",
       "      <td>0</td>\n",
       "      <td>0</td>\n",
       "      <td>1</td>\n",
       "      <td>0</td>\n",
       "      <td>0</td>\n",
       "      <td>0</td>\n",
       "      <td>...</td>\n",
       "      <td>263</td>\n",
       "      <td>261</td>\n",
       "      <td>244</td>\n",
       "      <td>560</td>\n",
       "      <td>237</td>\n",
       "      <td>295</td>\n",
       "      <td>293</td>\n",
       "      <td>371</td>\n",
       "      <td>-4.030721</td>\n",
       "      <td>4.105596</td>\n",
       "    </tr>\n",
       "    <tr>\n",
       "      <th>5</th>\n",
       "      <td>NaN</td>\n",
       "      <td>0.0</td>\n",
       "      <td>0.0</td>\n",
       "      <td>1</td>\n",
       "      <td>0</td>\n",
       "      <td>0</td>\n",
       "      <td>0</td>\n",
       "      <td>0</td>\n",
       "      <td>1</td>\n",
       "      <td>1</td>\n",
       "      <td>...</td>\n",
       "      <td>764</td>\n",
       "      <td>275</td>\n",
       "      <td>193</td>\n",
       "      <td>280</td>\n",
       "      <td>406</td>\n",
       "      <td>133</td>\n",
       "      <td>474</td>\n",
       "      <td>288</td>\n",
       "      <td>-4.028588</td>\n",
       "      <td>4.017562</td>\n",
       "    </tr>\n",
       "    <tr>\n",
       "      <th>6</th>\n",
       "      <td>0.0</td>\n",
       "      <td>NaN</td>\n",
       "      <td>0.0</td>\n",
       "      <td>1</td>\n",
       "      <td>0</td>\n",
       "      <td>0</td>\n",
       "      <td>0</td>\n",
       "      <td>0</td>\n",
       "      <td>0</td>\n",
       "      <td>0</td>\n",
       "      <td>...</td>\n",
       "      <td>689</td>\n",
       "      <td>245</td>\n",
       "      <td>316</td>\n",
       "      <td>102</td>\n",
       "      <td>371</td>\n",
       "      <td>269</td>\n",
       "      <td>463</td>\n",
       "      <td>265</td>\n",
       "      <td>3.949123</td>\n",
       "      <td>-3.933426</td>\n",
       "    </tr>\n",
       "    <tr>\n",
       "      <th>7</th>\n",
       "      <td>0.0</td>\n",
       "      <td>NaN</td>\n",
       "      <td>0.0</td>\n",
       "      <td>1</td>\n",
       "      <td>0</td>\n",
       "      <td>0</td>\n",
       "      <td>1</td>\n",
       "      <td>0</td>\n",
       "      <td>0</td>\n",
       "      <td>1</td>\n",
       "      <td>...</td>\n",
       "      <td>81</td>\n",
       "      <td>140</td>\n",
       "      <td>391</td>\n",
       "      <td>453</td>\n",
       "      <td>101</td>\n",
       "      <td>112</td>\n",
       "      <td>782</td>\n",
       "      <td>603</td>\n",
       "      <td>3.070143</td>\n",
       "      <td>-3.604497</td>\n",
       "    </tr>\n",
       "    <tr>\n",
       "      <th>8</th>\n",
       "      <td>0.0</td>\n",
       "      <td>0.0</td>\n",
       "      <td>0.0</td>\n",
       "      <td>1</td>\n",
       "      <td>0</td>\n",
       "      <td>1</td>\n",
       "      <td>0</td>\n",
       "      <td>0</td>\n",
       "      <td>0</td>\n",
       "      <td>0</td>\n",
       "      <td>...</td>\n",
       "      <td>717</td>\n",
       "      <td>113</td>\n",
       "      <td>242</td>\n",
       "      <td>209</td>\n",
       "      <td>185</td>\n",
       "      <td>365</td>\n",
       "      <td>189</td>\n",
       "      <td>279</td>\n",
       "      <td>2.794520</td>\n",
       "      <td>0.722861</td>\n",
       "    </tr>\n",
       "    <tr>\n",
       "      <th>9</th>\n",
       "      <td>0.0</td>\n",
       "      <td>NaN</td>\n",
       "      <td>0.0</td>\n",
       "      <td>1</td>\n",
       "      <td>0</td>\n",
       "      <td>0</td>\n",
       "      <td>0</td>\n",
       "      <td>0</td>\n",
       "      <td>0</td>\n",
       "      <td>0</td>\n",
       "      <td>...</td>\n",
       "      <td>750</td>\n",
       "      <td>673</td>\n",
       "      <td>335</td>\n",
       "      <td>206</td>\n",
       "      <td>238</td>\n",
       "      <td>799</td>\n",
       "      <td>526</td>\n",
       "      <td>321</td>\n",
       "      <td>3.964870</td>\n",
       "      <td>-3.984332</td>\n",
       "    </tr>\n",
       "  </tbody>\n",
       "</table>\n",
       "<p>10 rows × 45 columns</p>\n",
       "</div>"
      ],
      "text/plain": [
       "     A    B  transaction  presence_1  presence_2  presence_3  presence_4  \\\n",
       "0  0.0  NaN          0.0           1           0           0           1   \n",
       "1  NaN  0.0          0.0           1           0           0           0   \n",
       "2  0.0  NaN          0.0           1           0           0           0   \n",
       "3  0.0  NaN          0.0           1           0           0           0   \n",
       "4  NaN  0.0          0.0           1           0           0           1   \n",
       "5  NaN  0.0          0.0           1           0           0           0   \n",
       "6  0.0  NaN          0.0           1           0           0           0   \n",
       "7  0.0  NaN          0.0           1           0           0           1   \n",
       "8  0.0  0.0          0.0           1           0           1           0   \n",
       "9  0.0  NaN          0.0           1           0           0           0   \n",
       "\n",
       "   presence_5  presence_6  presence_7  ...  time_spend_13  time_spend_14  \\\n",
       "0           0           0           1  ...            558            387   \n",
       "1           0           0           1  ...            913            268   \n",
       "2           0           1           0  ...             95             59   \n",
       "3           0           0           0  ...            989            155   \n",
       "4           0           0           0  ...            263            261   \n",
       "5           0           1           1  ...            764            275   \n",
       "6           0           0           0  ...            689            245   \n",
       "7           0           0           1  ...             81            140   \n",
       "8           0           0           0  ...            717            113   \n",
       "9           0           0           0  ...            750            673   \n",
       "\n",
       "   time_spend_15  time_spend_16  time_spend_17  time_spend_18  time_spend_19  \\\n",
       "0            493            347            133            443            809   \n",
       "1            402             31             26             14            108   \n",
       "2            282            183             63             99            822   \n",
       "3            148            139             34             16            132   \n",
       "4            244            560            237            295            293   \n",
       "5            193            280            406            133            474   \n",
       "6            316            102            371            269            463   \n",
       "7            391            453            101            112            782   \n",
       "8            242            209            185            365            189   \n",
       "9            335            206            238            799            526   \n",
       "\n",
       "   time_spend_20   check A   check B  \n",
       "0            327  3.910782 -3.795597  \n",
       "1            181 -4.045590  4.021294  \n",
       "2             71  3.716434 -3.908454  \n",
       "3             88  2.757301 -3.791925  \n",
       "4            371 -4.030721  4.105596  \n",
       "5            288 -4.028588  4.017562  \n",
       "6            265  3.949123 -3.933426  \n",
       "7            603  3.070143 -3.604497  \n",
       "8            279  2.794520  0.722861  \n",
       "9            321  3.964870 -3.984332  \n",
       "\n",
       "[10 rows x 45 columns]"
      ]
     },
     "execution_count": 78,
     "metadata": {},
     "output_type": "execute_result"
    }
   ],
   "source": [
    "generated_data = samples[-1]\n",
    "df = pd.DataFrame(generated_data, columns=all_columns)\n",
    "    \n",
    "for i in range(len(all_columns)-2):\n",
    "    x_min ,x_max =df[all_columns[i]].min() , df[all_columns[i]].max()\n",
    "    y_min , y_max = df_merged[all_columns[i]].min() , df_merged[all_columns[i]].max()\n",
    "    \n",
    "    if y_max != y_min :\n",
    "        a=(y_max-y_min)/(x_max-x_min)\n",
    "        b=y_max-a*x_max\n",
    "        df[all_columns[i]]=a*df[all_columns[i]]+b\n",
    "df['presence_1'] = df['presence_1'].apply(lambda x: 0 if x < 0.5 else 1)\n",
    "#renormalisation\n",
    "\n",
    "Col=[\"A\",\"B\"] +column_names\n",
    "for column in Col:\n",
    "    df[column] = (df[column] >= 0.5).astype(int)\n",
    "#Presence et transaction 0 ou 1\n",
    "\n",
    "df.loc[df['check A'] < 0, 'A'] = np.nan\n",
    "df.loc[df['check B'] < 0, 'B'] = np.nan\n",
    "#Simuler les NaN\n",
    "\n",
    "df['transaction'] = df[['A', 'B']].max(axis=1).fillna(0)\n",
    "\n",
    "for i in range(1, 21):\n",
    "    column_name = f'time_spend_{i}'\n",
    "    if column_name in df.columns:\n",
    "        df[column_name] = np.round(df[column_name]).astype(int)\n",
    "#arrondir à l'entier par soucis de lisibilité\n",
    "\n",
    "cols = df.columns.tolist()\n",
    "cols.remove('transaction')\n",
    "cols.insert(2, 'transaction')\n",
    "df = df[cols]\n",
    "\n",
    "\n",
    "df.head(10)"
   ]
  },
  {
   "cell_type": "code",
   "execution_count": 1,
   "id": "edac9ccf",
   "metadata": {},
   "outputs": [
    {
     "ename": "NameError",
     "evalue": "name 'df' is not defined",
     "output_type": "error",
     "traceback": [
      "\u001b[1;31m---------------------------------------------------------------------------\u001b[0m",
      "\u001b[1;31mNameError\u001b[0m                                 Traceback (most recent call last)",
      "Cell \u001b[1;32mIn[1], line 1\u001b[0m\n\u001b[1;32m----> 1\u001b[0m df[[\u001b[38;5;124m\"\u001b[39m\u001b[38;5;124mA\u001b[39m\u001b[38;5;124m\"\u001b[39m,\u001b[38;5;124m\"\u001b[39m\u001b[38;5;124mB\u001b[39m\u001b[38;5;124m\"\u001b[39m]]\u001b[38;5;241m.\u001b[39mdescribe()\n",
      "\u001b[1;31mNameError\u001b[0m: name 'df' is not defined"
     ]
    }
   ],
   "source": [
    "df[[\"A\",\"B\"]].describe()"
   ]
  },
  {
   "cell_type": "code",
   "execution_count": 80,
   "id": "da5f6bda",
   "metadata": {},
   "outputs": [
    {
     "name": "stdout",
     "output_type": "stream",
     "text": [
      "Nombre de lignes avant suppression : 39372\n",
      "Nombre de lignes après suppression : 39359\n",
      "Nombre de lignes supprimées : 13\n"
     ]
    },
    {
     "data": {
      "text/html": [
       "<div>\n",
       "<style scoped>\n",
       "    .dataframe tbody tr th:only-of-type {\n",
       "        vertical-align: middle;\n",
       "    }\n",
       "\n",
       "    .dataframe tbody tr th {\n",
       "        vertical-align: top;\n",
       "    }\n",
       "\n",
       "    .dataframe thead th {\n",
       "        text-align: right;\n",
       "    }\n",
       "</style>\n",
       "<table border=\"1\" class=\"dataframe\">\n",
       "  <thead>\n",
       "    <tr style=\"text-align: right;\">\n",
       "      <th></th>\n",
       "      <th>A</th>\n",
       "      <th>B</th>\n",
       "    </tr>\n",
       "  </thead>\n",
       "  <tbody>\n",
       "    <tr>\n",
       "      <th>count</th>\n",
       "      <td>22239.000000</td>\n",
       "      <td>17120.000000</td>\n",
       "    </tr>\n",
       "    <tr>\n",
       "      <th>mean</th>\n",
       "      <td>0.043392</td>\n",
       "      <td>0.040129</td>\n",
       "    </tr>\n",
       "    <tr>\n",
       "      <th>std</th>\n",
       "      <td>0.203743</td>\n",
       "      <td>0.196266</td>\n",
       "    </tr>\n",
       "    <tr>\n",
       "      <th>min</th>\n",
       "      <td>0.000000</td>\n",
       "      <td>0.000000</td>\n",
       "    </tr>\n",
       "    <tr>\n",
       "      <th>25%</th>\n",
       "      <td>0.000000</td>\n",
       "      <td>0.000000</td>\n",
       "    </tr>\n",
       "    <tr>\n",
       "      <th>50%</th>\n",
       "      <td>0.000000</td>\n",
       "      <td>0.000000</td>\n",
       "    </tr>\n",
       "    <tr>\n",
       "      <th>75%</th>\n",
       "      <td>0.000000</td>\n",
       "      <td>0.000000</td>\n",
       "    </tr>\n",
       "    <tr>\n",
       "      <th>max</th>\n",
       "      <td>1.000000</td>\n",
       "      <td>1.000000</td>\n",
       "    </tr>\n",
       "  </tbody>\n",
       "</table>\n",
       "</div>"
      ],
      "text/plain": [
       "                  A             B\n",
       "count  22239.000000  17120.000000\n",
       "mean       0.043392      0.040129\n",
       "std        0.203743      0.196266\n",
       "min        0.000000      0.000000\n",
       "25%        0.000000      0.000000\n",
       "50%        0.000000      0.000000\n",
       "75%        0.000000      0.000000\n",
       "max        1.000000      1.000000"
      ]
     },
     "execution_count": 80,
     "metadata": {},
     "output_type": "execute_result"
    }
   ],
   "source": [
    "dt = pd.read_json('parcoursuserDatabaseFinalABTastyDataset1_2023.JSON')\n",
    "dg = pd.read_json('parcours_reward_ABTastyDataset1_2023.JSON')\n",
    "df_merged = pd.merge(dg, dt, on='fullVisitorId', how='left')\n",
    "df_merged = remove_non_int_rows(df_merged, \"time_spend_time_serie\")\n",
    "\n",
    "padded_series = df_merged['presence_time_serie'].apply(pad_list)\n",
    "padded_series2= df_merged['time_spend_time_serie'].apply(pad_list)\n",
    "\n",
    "for i in range(20):\n",
    "    df_merged[f'presence_{i+1}'] = padded_series.apply(lambda x: x[i])\n",
    "for i in range(20):\n",
    "    df_merged[f'time_spend_{i+1}'] = padded_series2.apply(lambda x: x[i])/(10**6)\n",
    "\n",
    "df_merged.drop('fullVisitorId', axis=1, inplace=True)\n",
    "df_merged.drop('presence_time_serie' , axis=1 , inplace=True)\n",
    "df_merged.drop('time_spend_time_serie' , axis=1 , inplace=True)\n",
    "df_merged.drop('connexion_time_time_serie' , axis=1 , inplace=True)\n",
    "df_merged[[\"A\" , \"B\"]].describe()\n",
    "#df_merged.head()"
   ]
  },
  {
   "cell_type": "markdown",
   "id": "a02d6b61",
   "metadata": {},
   "source": [
    "Tout d'abord, sur 10 générations la moyenne des moyennes pour A est à peu près la même que la moyenne du dataset de base . Quand à la moyenne des moyennes de B , elle est 1.5 fois trop petite. Si on s'intéresse désormais à la médiane , les deux correspondent à ce qu'on s'attendait. Finalement, l'écart type est 10 fois plus petit pour les valeurs de A , et du bon ordre de grandeur pour B. La génération de données sur ces colonnes est donc décente. \n",
    "\n",
    "Intéressons nous alors aux colonnes de présence"
   ]
  },
  {
   "cell_type": "code",
   "execution_count": 81,
   "id": "afae9e36",
   "metadata": {},
   "outputs": [
    {
     "data": {
      "text/html": [
       "<div>\n",
       "<style scoped>\n",
       "    .dataframe tbody tr th:only-of-type {\n",
       "        vertical-align: middle;\n",
       "    }\n",
       "\n",
       "    .dataframe tbody tr th {\n",
       "        vertical-align: top;\n",
       "    }\n",
       "\n",
       "    .dataframe thead th {\n",
       "        text-align: right;\n",
       "    }\n",
       "</style>\n",
       "<table border=\"1\" class=\"dataframe\">\n",
       "  <thead>\n",
       "    <tr style=\"text-align: right;\">\n",
       "      <th></th>\n",
       "      <th>presence_1</th>\n",
       "      <th>presence_2</th>\n",
       "      <th>presence_3</th>\n",
       "      <th>presence_4</th>\n",
       "      <th>presence_5</th>\n",
       "      <th>presence_6</th>\n",
       "      <th>presence_7</th>\n",
       "      <th>presence_8</th>\n",
       "      <th>presence_9</th>\n",
       "      <th>presence_10</th>\n",
       "      <th>presence_11</th>\n",
       "      <th>presence_12</th>\n",
       "      <th>presence_13</th>\n",
       "      <th>presence_14</th>\n",
       "      <th>presence_15</th>\n",
       "      <th>presence_16</th>\n",
       "      <th>presence_17</th>\n",
       "      <th>presence_18</th>\n",
       "      <th>presence_19</th>\n",
       "      <th>presence_20</th>\n",
       "    </tr>\n",
       "  </thead>\n",
       "  <tbody>\n",
       "    <tr>\n",
       "      <th>count</th>\n",
       "      <td>39372.000000</td>\n",
       "      <td>39372.000000</td>\n",
       "      <td>39372.000000</td>\n",
       "      <td>39372.000000</td>\n",
       "      <td>39372.000000</td>\n",
       "      <td>39372.000000</td>\n",
       "      <td>39372.000000</td>\n",
       "      <td>39372.000000</td>\n",
       "      <td>39372.000000</td>\n",
       "      <td>39372.000000</td>\n",
       "      <td>39372.000000</td>\n",
       "      <td>39372.000000</td>\n",
       "      <td>39372.000000</td>\n",
       "      <td>39372.000000</td>\n",
       "      <td>39372.000000</td>\n",
       "      <td>39372.000000</td>\n",
       "      <td>39372.000000</td>\n",
       "      <td>39372.000000</td>\n",
       "      <td>39372.000000</td>\n",
       "      <td>39372.000000</td>\n",
       "    </tr>\n",
       "    <tr>\n",
       "      <th>mean</th>\n",
       "      <td>0.999975</td>\n",
       "      <td>0.001245</td>\n",
       "      <td>0.319745</td>\n",
       "      <td>0.015315</td>\n",
       "      <td>0.001143</td>\n",
       "      <td>0.185411</td>\n",
       "      <td>0.339378</td>\n",
       "      <td>0.078558</td>\n",
       "      <td>0.022097</td>\n",
       "      <td>0.371635</td>\n",
       "      <td>0.271640</td>\n",
       "      <td>0.210607</td>\n",
       "      <td>0.006172</td>\n",
       "      <td>0.000076</td>\n",
       "      <td>0.319059</td>\n",
       "      <td>0.201742</td>\n",
       "      <td>0.452098</td>\n",
       "      <td>0.120492</td>\n",
       "      <td>0.385731</td>\n",
       "      <td>0.288479</td>\n",
       "    </tr>\n",
       "    <tr>\n",
       "      <th>std</th>\n",
       "      <td>0.005040</td>\n",
       "      <td>0.035257</td>\n",
       "      <td>0.466384</td>\n",
       "      <td>0.122806</td>\n",
       "      <td>0.033789</td>\n",
       "      <td>0.388636</td>\n",
       "      <td>0.473504</td>\n",
       "      <td>0.269052</td>\n",
       "      <td>0.147001</td>\n",
       "      <td>0.483248</td>\n",
       "      <td>0.444811</td>\n",
       "      <td>0.407745</td>\n",
       "      <td>0.078320</td>\n",
       "      <td>0.008729</td>\n",
       "      <td>0.466118</td>\n",
       "      <td>0.401306</td>\n",
       "      <td>0.497706</td>\n",
       "      <td>0.325540</td>\n",
       "      <td>0.486774</td>\n",
       "      <td>0.453061</td>\n",
       "    </tr>\n",
       "    <tr>\n",
       "      <th>min</th>\n",
       "      <td>0.000000</td>\n",
       "      <td>0.000000</td>\n",
       "      <td>0.000000</td>\n",
       "      <td>0.000000</td>\n",
       "      <td>0.000000</td>\n",
       "      <td>0.000000</td>\n",
       "      <td>0.000000</td>\n",
       "      <td>0.000000</td>\n",
       "      <td>0.000000</td>\n",
       "      <td>0.000000</td>\n",
       "      <td>0.000000</td>\n",
       "      <td>0.000000</td>\n",
       "      <td>0.000000</td>\n",
       "      <td>0.000000</td>\n",
       "      <td>0.000000</td>\n",
       "      <td>0.000000</td>\n",
       "      <td>0.000000</td>\n",
       "      <td>0.000000</td>\n",
       "      <td>0.000000</td>\n",
       "      <td>0.000000</td>\n",
       "    </tr>\n",
       "    <tr>\n",
       "      <th>25%</th>\n",
       "      <td>1.000000</td>\n",
       "      <td>0.000000</td>\n",
       "      <td>0.000000</td>\n",
       "      <td>0.000000</td>\n",
       "      <td>0.000000</td>\n",
       "      <td>0.000000</td>\n",
       "      <td>0.000000</td>\n",
       "      <td>0.000000</td>\n",
       "      <td>0.000000</td>\n",
       "      <td>0.000000</td>\n",
       "      <td>0.000000</td>\n",
       "      <td>0.000000</td>\n",
       "      <td>0.000000</td>\n",
       "      <td>0.000000</td>\n",
       "      <td>0.000000</td>\n",
       "      <td>0.000000</td>\n",
       "      <td>0.000000</td>\n",
       "      <td>0.000000</td>\n",
       "      <td>0.000000</td>\n",
       "      <td>0.000000</td>\n",
       "    </tr>\n",
       "    <tr>\n",
       "      <th>50%</th>\n",
       "      <td>1.000000</td>\n",
       "      <td>0.000000</td>\n",
       "      <td>0.000000</td>\n",
       "      <td>0.000000</td>\n",
       "      <td>0.000000</td>\n",
       "      <td>0.000000</td>\n",
       "      <td>0.000000</td>\n",
       "      <td>0.000000</td>\n",
       "      <td>0.000000</td>\n",
       "      <td>0.000000</td>\n",
       "      <td>0.000000</td>\n",
       "      <td>0.000000</td>\n",
       "      <td>0.000000</td>\n",
       "      <td>0.000000</td>\n",
       "      <td>0.000000</td>\n",
       "      <td>0.000000</td>\n",
       "      <td>0.000000</td>\n",
       "      <td>0.000000</td>\n",
       "      <td>0.000000</td>\n",
       "      <td>0.000000</td>\n",
       "    </tr>\n",
       "    <tr>\n",
       "      <th>75%</th>\n",
       "      <td>1.000000</td>\n",
       "      <td>0.000000</td>\n",
       "      <td>1.000000</td>\n",
       "      <td>0.000000</td>\n",
       "      <td>0.000000</td>\n",
       "      <td>0.000000</td>\n",
       "      <td>1.000000</td>\n",
       "      <td>0.000000</td>\n",
       "      <td>0.000000</td>\n",
       "      <td>1.000000</td>\n",
       "      <td>1.000000</td>\n",
       "      <td>0.000000</td>\n",
       "      <td>0.000000</td>\n",
       "      <td>0.000000</td>\n",
       "      <td>1.000000</td>\n",
       "      <td>0.000000</td>\n",
       "      <td>1.000000</td>\n",
       "      <td>0.000000</td>\n",
       "      <td>1.000000</td>\n",
       "      <td>1.000000</td>\n",
       "    </tr>\n",
       "    <tr>\n",
       "      <th>max</th>\n",
       "      <td>1.000000</td>\n",
       "      <td>1.000000</td>\n",
       "      <td>1.000000</td>\n",
       "      <td>1.000000</td>\n",
       "      <td>1.000000</td>\n",
       "      <td>1.000000</td>\n",
       "      <td>1.000000</td>\n",
       "      <td>1.000000</td>\n",
       "      <td>1.000000</td>\n",
       "      <td>1.000000</td>\n",
       "      <td>1.000000</td>\n",
       "      <td>1.000000</td>\n",
       "      <td>1.000000</td>\n",
       "      <td>1.000000</td>\n",
       "      <td>1.000000</td>\n",
       "      <td>1.000000</td>\n",
       "      <td>1.000000</td>\n",
       "      <td>1.000000</td>\n",
       "      <td>1.000000</td>\n",
       "      <td>1.000000</td>\n",
       "    </tr>\n",
       "  </tbody>\n",
       "</table>\n",
       "</div>"
      ],
      "text/plain": [
       "         presence_1    presence_2    presence_3    presence_4    presence_5  \\\n",
       "count  39372.000000  39372.000000  39372.000000  39372.000000  39372.000000   \n",
       "mean       0.999975      0.001245      0.319745      0.015315      0.001143   \n",
       "std        0.005040      0.035257      0.466384      0.122806      0.033789   \n",
       "min        0.000000      0.000000      0.000000      0.000000      0.000000   \n",
       "25%        1.000000      0.000000      0.000000      0.000000      0.000000   \n",
       "50%        1.000000      0.000000      0.000000      0.000000      0.000000   \n",
       "75%        1.000000      0.000000      1.000000      0.000000      0.000000   \n",
       "max        1.000000      1.000000      1.000000      1.000000      1.000000   \n",
       "\n",
       "         presence_6    presence_7    presence_8    presence_9   presence_10  \\\n",
       "count  39372.000000  39372.000000  39372.000000  39372.000000  39372.000000   \n",
       "mean       0.185411      0.339378      0.078558      0.022097      0.371635   \n",
       "std        0.388636      0.473504      0.269052      0.147001      0.483248   \n",
       "min        0.000000      0.000000      0.000000      0.000000      0.000000   \n",
       "25%        0.000000      0.000000      0.000000      0.000000      0.000000   \n",
       "50%        0.000000      0.000000      0.000000      0.000000      0.000000   \n",
       "75%        0.000000      1.000000      0.000000      0.000000      1.000000   \n",
       "max        1.000000      1.000000      1.000000      1.000000      1.000000   \n",
       "\n",
       "        presence_11   presence_12   presence_13   presence_14   presence_15  \\\n",
       "count  39372.000000  39372.000000  39372.000000  39372.000000  39372.000000   \n",
       "mean       0.271640      0.210607      0.006172      0.000076      0.319059   \n",
       "std        0.444811      0.407745      0.078320      0.008729      0.466118   \n",
       "min        0.000000      0.000000      0.000000      0.000000      0.000000   \n",
       "25%        0.000000      0.000000      0.000000      0.000000      0.000000   \n",
       "50%        0.000000      0.000000      0.000000      0.000000      0.000000   \n",
       "75%        1.000000      0.000000      0.000000      0.000000      1.000000   \n",
       "max        1.000000      1.000000      1.000000      1.000000      1.000000   \n",
       "\n",
       "        presence_16   presence_17   presence_18   presence_19   presence_20  \n",
       "count  39372.000000  39372.000000  39372.000000  39372.000000  39372.000000  \n",
       "mean       0.201742      0.452098      0.120492      0.385731      0.288479  \n",
       "std        0.401306      0.497706      0.325540      0.486774      0.453061  \n",
       "min        0.000000      0.000000      0.000000      0.000000      0.000000  \n",
       "25%        0.000000      0.000000      0.000000      0.000000      0.000000  \n",
       "50%        0.000000      0.000000      0.000000      0.000000      0.000000  \n",
       "75%        0.000000      1.000000      0.000000      1.000000      1.000000  \n",
       "max        1.000000      1.000000      1.000000      1.000000      1.000000  "
      ]
     },
     "execution_count": 81,
     "metadata": {},
     "output_type": "execute_result"
    }
   ],
   "source": [
    "df[column_names].describe()"
   ]
  },
  {
   "cell_type": "code",
   "execution_count": 82,
   "id": "e54cb0cd",
   "metadata": {
    "scrolled": true
   },
   "outputs": [
    {
     "data": {
      "text/html": [
       "<div>\n",
       "<style scoped>\n",
       "    .dataframe tbody tr th:only-of-type {\n",
       "        vertical-align: middle;\n",
       "    }\n",
       "\n",
       "    .dataframe tbody tr th {\n",
       "        vertical-align: top;\n",
       "    }\n",
       "\n",
       "    .dataframe thead th {\n",
       "        text-align: right;\n",
       "    }\n",
       "</style>\n",
       "<table border=\"1\" class=\"dataframe\">\n",
       "  <thead>\n",
       "    <tr style=\"text-align: right;\">\n",
       "      <th></th>\n",
       "      <th>presence_1</th>\n",
       "      <th>presence_2</th>\n",
       "      <th>presence_3</th>\n",
       "      <th>presence_4</th>\n",
       "      <th>presence_5</th>\n",
       "      <th>presence_6</th>\n",
       "      <th>presence_7</th>\n",
       "      <th>presence_8</th>\n",
       "      <th>presence_9</th>\n",
       "      <th>presence_10</th>\n",
       "      <th>presence_11</th>\n",
       "      <th>presence_12</th>\n",
       "      <th>presence_13</th>\n",
       "      <th>presence_14</th>\n",
       "      <th>presence_15</th>\n",
       "      <th>presence_16</th>\n",
       "      <th>presence_17</th>\n",
       "      <th>presence_18</th>\n",
       "      <th>presence_19</th>\n",
       "      <th>presence_20</th>\n",
       "    </tr>\n",
       "  </thead>\n",
       "  <tbody>\n",
       "    <tr>\n",
       "      <th>count</th>\n",
       "      <td>39359.0</td>\n",
       "      <td>39359.000000</td>\n",
       "      <td>39359.00000</td>\n",
       "      <td>39359.000000</td>\n",
       "      <td>39359.000000</td>\n",
       "      <td>39359.000000</td>\n",
       "      <td>39359.000000</td>\n",
       "      <td>39359.000000</td>\n",
       "      <td>39359.000000</td>\n",
       "      <td>39359.000000</td>\n",
       "      <td>39359.000000</td>\n",
       "      <td>39359.000000</td>\n",
       "      <td>39359.000000</td>\n",
       "      <td>39359.000000</td>\n",
       "      <td>39359.000000</td>\n",
       "      <td>39359.000000</td>\n",
       "      <td>39359.000000</td>\n",
       "      <td>39359.000000</td>\n",
       "      <td>39359.00000</td>\n",
       "      <td>39359.000000</td>\n",
       "    </tr>\n",
       "    <tr>\n",
       "      <th>mean</th>\n",
       "      <td>1.0</td>\n",
       "      <td>0.080388</td>\n",
       "      <td>0.06461</td>\n",
       "      <td>0.059478</td>\n",
       "      <td>0.047206</td>\n",
       "      <td>0.040499</td>\n",
       "      <td>0.058741</td>\n",
       "      <td>0.053228</td>\n",
       "      <td>0.057166</td>\n",
       "      <td>0.053914</td>\n",
       "      <td>0.055337</td>\n",
       "      <td>0.048045</td>\n",
       "      <td>0.042862</td>\n",
       "      <td>0.055616</td>\n",
       "      <td>0.045225</td>\n",
       "      <td>0.048375</td>\n",
       "      <td>0.048528</td>\n",
       "      <td>0.056658</td>\n",
       "      <td>0.04370</td>\n",
       "      <td>0.038212</td>\n",
       "    </tr>\n",
       "    <tr>\n",
       "      <th>std</th>\n",
       "      <td>0.0</td>\n",
       "      <td>0.271897</td>\n",
       "      <td>0.24584</td>\n",
       "      <td>0.236520</td>\n",
       "      <td>0.212083</td>\n",
       "      <td>0.197129</td>\n",
       "      <td>0.235143</td>\n",
       "      <td>0.224491</td>\n",
       "      <td>0.232163</td>\n",
       "      <td>0.225851</td>\n",
       "      <td>0.228639</td>\n",
       "      <td>0.213864</td>\n",
       "      <td>0.202548</td>\n",
       "      <td>0.229182</td>\n",
       "      <td>0.207799</td>\n",
       "      <td>0.214561</td>\n",
       "      <td>0.214881</td>\n",
       "      <td>0.231191</td>\n",
       "      <td>0.20443</td>\n",
       "      <td>0.191711</td>\n",
       "    </tr>\n",
       "    <tr>\n",
       "      <th>min</th>\n",
       "      <td>1.0</td>\n",
       "      <td>0.000000</td>\n",
       "      <td>0.00000</td>\n",
       "      <td>0.000000</td>\n",
       "      <td>0.000000</td>\n",
       "      <td>0.000000</td>\n",
       "      <td>0.000000</td>\n",
       "      <td>0.000000</td>\n",
       "      <td>0.000000</td>\n",
       "      <td>0.000000</td>\n",
       "      <td>0.000000</td>\n",
       "      <td>0.000000</td>\n",
       "      <td>0.000000</td>\n",
       "      <td>0.000000</td>\n",
       "      <td>0.000000</td>\n",
       "      <td>0.000000</td>\n",
       "      <td>0.000000</td>\n",
       "      <td>0.000000</td>\n",
       "      <td>0.00000</td>\n",
       "      <td>0.000000</td>\n",
       "    </tr>\n",
       "    <tr>\n",
       "      <th>25%</th>\n",
       "      <td>1.0</td>\n",
       "      <td>0.000000</td>\n",
       "      <td>0.00000</td>\n",
       "      <td>0.000000</td>\n",
       "      <td>0.000000</td>\n",
       "      <td>0.000000</td>\n",
       "      <td>0.000000</td>\n",
       "      <td>0.000000</td>\n",
       "      <td>0.000000</td>\n",
       "      <td>0.000000</td>\n",
       "      <td>0.000000</td>\n",
       "      <td>0.000000</td>\n",
       "      <td>0.000000</td>\n",
       "      <td>0.000000</td>\n",
       "      <td>0.000000</td>\n",
       "      <td>0.000000</td>\n",
       "      <td>0.000000</td>\n",
       "      <td>0.000000</td>\n",
       "      <td>0.00000</td>\n",
       "      <td>0.000000</td>\n",
       "    </tr>\n",
       "    <tr>\n",
       "      <th>50%</th>\n",
       "      <td>1.0</td>\n",
       "      <td>0.000000</td>\n",
       "      <td>0.00000</td>\n",
       "      <td>0.000000</td>\n",
       "      <td>0.000000</td>\n",
       "      <td>0.000000</td>\n",
       "      <td>0.000000</td>\n",
       "      <td>0.000000</td>\n",
       "      <td>0.000000</td>\n",
       "      <td>0.000000</td>\n",
       "      <td>0.000000</td>\n",
       "      <td>0.000000</td>\n",
       "      <td>0.000000</td>\n",
       "      <td>0.000000</td>\n",
       "      <td>0.000000</td>\n",
       "      <td>0.000000</td>\n",
       "      <td>0.000000</td>\n",
       "      <td>0.000000</td>\n",
       "      <td>0.00000</td>\n",
       "      <td>0.000000</td>\n",
       "    </tr>\n",
       "    <tr>\n",
       "      <th>75%</th>\n",
       "      <td>1.0</td>\n",
       "      <td>0.000000</td>\n",
       "      <td>0.00000</td>\n",
       "      <td>0.000000</td>\n",
       "      <td>0.000000</td>\n",
       "      <td>0.000000</td>\n",
       "      <td>0.000000</td>\n",
       "      <td>0.000000</td>\n",
       "      <td>0.000000</td>\n",
       "      <td>0.000000</td>\n",
       "      <td>0.000000</td>\n",
       "      <td>0.000000</td>\n",
       "      <td>0.000000</td>\n",
       "      <td>0.000000</td>\n",
       "      <td>0.000000</td>\n",
       "      <td>0.000000</td>\n",
       "      <td>0.000000</td>\n",
       "      <td>0.000000</td>\n",
       "      <td>0.00000</td>\n",
       "      <td>0.000000</td>\n",
       "    </tr>\n",
       "    <tr>\n",
       "      <th>max</th>\n",
       "      <td>1.0</td>\n",
       "      <td>1.000000</td>\n",
       "      <td>1.00000</td>\n",
       "      <td>1.000000</td>\n",
       "      <td>1.000000</td>\n",
       "      <td>1.000000</td>\n",
       "      <td>1.000000</td>\n",
       "      <td>1.000000</td>\n",
       "      <td>1.000000</td>\n",
       "      <td>1.000000</td>\n",
       "      <td>1.000000</td>\n",
       "      <td>1.000000</td>\n",
       "      <td>1.000000</td>\n",
       "      <td>1.000000</td>\n",
       "      <td>1.000000</td>\n",
       "      <td>1.000000</td>\n",
       "      <td>1.000000</td>\n",
       "      <td>1.000000</td>\n",
       "      <td>1.00000</td>\n",
       "      <td>1.000000</td>\n",
       "    </tr>\n",
       "  </tbody>\n",
       "</table>\n",
       "</div>"
      ],
      "text/plain": [
       "       presence_1    presence_2   presence_3    presence_4    presence_5  \\\n",
       "count     39359.0  39359.000000  39359.00000  39359.000000  39359.000000   \n",
       "mean          1.0      0.080388      0.06461      0.059478      0.047206   \n",
       "std           0.0      0.271897      0.24584      0.236520      0.212083   \n",
       "min           1.0      0.000000      0.00000      0.000000      0.000000   \n",
       "25%           1.0      0.000000      0.00000      0.000000      0.000000   \n",
       "50%           1.0      0.000000      0.00000      0.000000      0.000000   \n",
       "75%           1.0      0.000000      0.00000      0.000000      0.000000   \n",
       "max           1.0      1.000000      1.00000      1.000000      1.000000   \n",
       "\n",
       "         presence_6    presence_7    presence_8    presence_9   presence_10  \\\n",
       "count  39359.000000  39359.000000  39359.000000  39359.000000  39359.000000   \n",
       "mean       0.040499      0.058741      0.053228      0.057166      0.053914   \n",
       "std        0.197129      0.235143      0.224491      0.232163      0.225851   \n",
       "min        0.000000      0.000000      0.000000      0.000000      0.000000   \n",
       "25%        0.000000      0.000000      0.000000      0.000000      0.000000   \n",
       "50%        0.000000      0.000000      0.000000      0.000000      0.000000   \n",
       "75%        0.000000      0.000000      0.000000      0.000000      0.000000   \n",
       "max        1.000000      1.000000      1.000000      1.000000      1.000000   \n",
       "\n",
       "        presence_11   presence_12   presence_13   presence_14   presence_15  \\\n",
       "count  39359.000000  39359.000000  39359.000000  39359.000000  39359.000000   \n",
       "mean       0.055337      0.048045      0.042862      0.055616      0.045225   \n",
       "std        0.228639      0.213864      0.202548      0.229182      0.207799   \n",
       "min        0.000000      0.000000      0.000000      0.000000      0.000000   \n",
       "25%        0.000000      0.000000      0.000000      0.000000      0.000000   \n",
       "50%        0.000000      0.000000      0.000000      0.000000      0.000000   \n",
       "75%        0.000000      0.000000      0.000000      0.000000      0.000000   \n",
       "max        1.000000      1.000000      1.000000      1.000000      1.000000   \n",
       "\n",
       "        presence_16   presence_17   presence_18  presence_19   presence_20  \n",
       "count  39359.000000  39359.000000  39359.000000  39359.00000  39359.000000  \n",
       "mean       0.048375      0.048528      0.056658      0.04370      0.038212  \n",
       "std        0.214561      0.214881      0.231191      0.20443      0.191711  \n",
       "min        0.000000      0.000000      0.000000      0.00000      0.000000  \n",
       "25%        0.000000      0.000000      0.000000      0.00000      0.000000  \n",
       "50%        0.000000      0.000000      0.000000      0.00000      0.000000  \n",
       "75%        0.000000      0.000000      0.000000      0.00000      0.000000  \n",
       "max        1.000000      1.000000      1.000000      1.00000      1.000000  "
      ]
     },
     "execution_count": 82,
     "metadata": {},
     "output_type": "execute_result"
    }
   ],
   "source": [
    "df_merged[column_names].describe()"
   ]
  },
  {
   "cell_type": "markdown",
   "id": "57ebd615",
   "metadata": {},
   "source": [
    "On observe que tous les quartiles ont été bien représentés pour les jours de présence. Quand aux moyennes, elles sont toutes du même ordre de grandeur , mais moins précises pour les premiers jours. De même pour les écarts type. \n",
    "\n",
    "Analysons les temps passés par séries , puis on essayera de voir si lorsque presence_i =0 , time_spend_i =0 également."
   ]
  },
  {
   "cell_type": "code",
   "execution_count": 83,
   "id": "9d7fcdba",
   "metadata": {},
   "outputs": [
    {
     "data": {
      "text/html": [
       "<div>\n",
       "<style scoped>\n",
       "    .dataframe tbody tr th:only-of-type {\n",
       "        vertical-align: middle;\n",
       "    }\n",
       "\n",
       "    .dataframe tbody tr th {\n",
       "        vertical-align: top;\n",
       "    }\n",
       "\n",
       "    .dataframe thead th {\n",
       "        text-align: right;\n",
       "    }\n",
       "</style>\n",
       "<table border=\"1\" class=\"dataframe\">\n",
       "  <thead>\n",
       "    <tr style=\"text-align: right;\">\n",
       "      <th></th>\n",
       "      <th>time_spend_1</th>\n",
       "      <th>time_spend_2</th>\n",
       "      <th>time_spend_3</th>\n",
       "      <th>time_spend_4</th>\n",
       "      <th>time_spend_5</th>\n",
       "      <th>time_spend_6</th>\n",
       "      <th>time_spend_7</th>\n",
       "      <th>time_spend_8</th>\n",
       "      <th>time_spend_9</th>\n",
       "      <th>time_spend_10</th>\n",
       "      <th>time_spend_11</th>\n",
       "      <th>time_spend_12</th>\n",
       "      <th>time_spend_13</th>\n",
       "      <th>time_spend_14</th>\n",
       "      <th>time_spend_15</th>\n",
       "      <th>time_spend_16</th>\n",
       "      <th>time_spend_17</th>\n",
       "      <th>time_spend_18</th>\n",
       "      <th>time_spend_19</th>\n",
       "      <th>time_spend_20</th>\n",
       "    </tr>\n",
       "  </thead>\n",
       "  <tbody>\n",
       "    <tr>\n",
       "      <th>count</th>\n",
       "      <td>39372.000000</td>\n",
       "      <td>39372.000000</td>\n",
       "      <td>39372.000000</td>\n",
       "      <td>39372.000000</td>\n",
       "      <td>39372.000000</td>\n",
       "      <td>39372.000000</td>\n",
       "      <td>39372.000000</td>\n",
       "      <td>39372.000000</td>\n",
       "      <td>39372.000000</td>\n",
       "      <td>39372.000000</td>\n",
       "      <td>39372.000000</td>\n",
       "      <td>39372.000000</td>\n",
       "      <td>39372.000000</td>\n",
       "      <td>39372.000000</td>\n",
       "      <td>39372.000000</td>\n",
       "      <td>39372.000000</td>\n",
       "      <td>39372.000000</td>\n",
       "      <td>39372.000000</td>\n",
       "      <td>39372.000000</td>\n",
       "      <td>39372.000000</td>\n",
       "    </tr>\n",
       "    <tr>\n",
       "      <th>mean</th>\n",
       "      <td>564.003861</td>\n",
       "      <td>469.246749</td>\n",
       "      <td>275.629940</td>\n",
       "      <td>279.712638</td>\n",
       "      <td>245.147846</td>\n",
       "      <td>205.519227</td>\n",
       "      <td>207.575358</td>\n",
       "      <td>329.484456</td>\n",
       "      <td>296.843467</td>\n",
       "      <td>292.164076</td>\n",
       "      <td>265.796962</td>\n",
       "      <td>213.772503</td>\n",
       "      <td>426.693081</td>\n",
       "      <td>387.431550</td>\n",
       "      <td>256.506400</td>\n",
       "      <td>273.786574</td>\n",
       "      <td>191.164076</td>\n",
       "      <td>326.190161</td>\n",
       "      <td>592.881642</td>\n",
       "      <td>306.021157</td>\n",
       "    </tr>\n",
       "    <tr>\n",
       "      <th>std</th>\n",
       "      <td>326.945837</td>\n",
       "      <td>298.015601</td>\n",
       "      <td>202.616049</td>\n",
       "      <td>269.487777</td>\n",
       "      <td>163.027600</td>\n",
       "      <td>132.110892</td>\n",
       "      <td>214.430492</td>\n",
       "      <td>250.469918</td>\n",
       "      <td>242.240010</td>\n",
       "      <td>260.312699</td>\n",
       "      <td>195.537830</td>\n",
       "      <td>196.776522</td>\n",
       "      <td>264.490065</td>\n",
       "      <td>267.943735</td>\n",
       "      <td>125.165173</td>\n",
       "      <td>245.319844</td>\n",
       "      <td>140.649355</td>\n",
       "      <td>227.895132</td>\n",
       "      <td>320.776898</td>\n",
       "      <td>222.101433</td>\n",
       "    </tr>\n",
       "    <tr>\n",
       "      <th>min</th>\n",
       "      <td>0.000000</td>\n",
       "      <td>0.000000</td>\n",
       "      <td>0.000000</td>\n",
       "      <td>0.000000</td>\n",
       "      <td>0.000000</td>\n",
       "      <td>0.000000</td>\n",
       "      <td>0.000000</td>\n",
       "      <td>0.000000</td>\n",
       "      <td>0.000000</td>\n",
       "      <td>0.000000</td>\n",
       "      <td>0.000000</td>\n",
       "      <td>0.000000</td>\n",
       "      <td>0.000000</td>\n",
       "      <td>0.000000</td>\n",
       "      <td>0.000000</td>\n",
       "      <td>0.000000</td>\n",
       "      <td>0.000000</td>\n",
       "      <td>0.000000</td>\n",
       "      <td>0.000000</td>\n",
       "      <td>0.000000</td>\n",
       "    </tr>\n",
       "    <tr>\n",
       "      <th>25%</th>\n",
       "      <td>292.000000</td>\n",
       "      <td>243.000000</td>\n",
       "      <td>141.000000</td>\n",
       "      <td>103.000000</td>\n",
       "      <td>113.000000</td>\n",
       "      <td>91.000000</td>\n",
       "      <td>85.000000</td>\n",
       "      <td>152.000000</td>\n",
       "      <td>109.000000</td>\n",
       "      <td>108.000000</td>\n",
       "      <td>119.000000</td>\n",
       "      <td>81.000000</td>\n",
       "      <td>212.000000</td>\n",
       "      <td>184.000000</td>\n",
       "      <td>177.000000</td>\n",
       "      <td>112.000000</td>\n",
       "      <td>63.000000</td>\n",
       "      <td>141.000000</td>\n",
       "      <td>329.000000</td>\n",
       "      <td>138.000000</td>\n",
       "    </tr>\n",
       "    <tr>\n",
       "      <th>50%</th>\n",
       "      <td>506.000000</td>\n",
       "      <td>413.000000</td>\n",
       "      <td>225.000000</td>\n",
       "      <td>198.000000</td>\n",
       "      <td>224.000000</td>\n",
       "      <td>210.000000</td>\n",
       "      <td>126.000000</td>\n",
       "      <td>248.000000</td>\n",
       "      <td>227.000000</td>\n",
       "      <td>211.000000</td>\n",
       "      <td>190.000000</td>\n",
       "      <td>140.000000</td>\n",
       "      <td>406.000000</td>\n",
       "      <td>296.000000</td>\n",
       "      <td>264.000000</td>\n",
       "      <td>192.000000</td>\n",
       "      <td>165.000000</td>\n",
       "      <td>271.000000</td>\n",
       "      <td>564.000000</td>\n",
       "      <td>245.000000</td>\n",
       "    </tr>\n",
       "    <tr>\n",
       "      <th>75%</th>\n",
       "      <td>820.000000</td>\n",
       "      <td>672.000000</td>\n",
       "      <td>355.000000</td>\n",
       "      <td>307.000000</td>\n",
       "      <td>358.000000</td>\n",
       "      <td>297.000000</td>\n",
       "      <td>203.000000</td>\n",
       "      <td>506.000000</td>\n",
       "      <td>442.000000</td>\n",
       "      <td>334.000000</td>\n",
       "      <td>333.000000</td>\n",
       "      <td>231.000000</td>\n",
       "      <td>622.000000</td>\n",
       "      <td>582.000000</td>\n",
       "      <td>339.000000</td>\n",
       "      <td>320.000000</td>\n",
       "      <td>306.000000</td>\n",
       "      <td>500.000000</td>\n",
       "      <td>836.000000</td>\n",
       "      <td>446.000000</td>\n",
       "    </tr>\n",
       "    <tr>\n",
       "      <th>max</th>\n",
       "      <td>1831.000000</td>\n",
       "      <td>1765.000000</td>\n",
       "      <td>1301.000000</td>\n",
       "      <td>1747.000000</td>\n",
       "      <td>943.000000</td>\n",
       "      <td>759.000000</td>\n",
       "      <td>1507.000000</td>\n",
       "      <td>1411.000000</td>\n",
       "      <td>1392.000000</td>\n",
       "      <td>1534.000000</td>\n",
       "      <td>1301.000000</td>\n",
       "      <td>1275.000000</td>\n",
       "      <td>1491.000000</td>\n",
       "      <td>1575.000000</td>\n",
       "      <td>789.000000</td>\n",
       "      <td>1498.000000</td>\n",
       "      <td>724.000000</td>\n",
       "      <td>1254.000000</td>\n",
       "      <td>1634.000000</td>\n",
       "      <td>1339.000000</td>\n",
       "    </tr>\n",
       "  </tbody>\n",
       "</table>\n",
       "</div>"
      ],
      "text/plain": [
       "       time_spend_1  time_spend_2  time_spend_3  time_spend_4  time_spend_5  \\\n",
       "count  39372.000000  39372.000000  39372.000000  39372.000000  39372.000000   \n",
       "mean     564.003861    469.246749    275.629940    279.712638    245.147846   \n",
       "std      326.945837    298.015601    202.616049    269.487777    163.027600   \n",
       "min        0.000000      0.000000      0.000000      0.000000      0.000000   \n",
       "25%      292.000000    243.000000    141.000000    103.000000    113.000000   \n",
       "50%      506.000000    413.000000    225.000000    198.000000    224.000000   \n",
       "75%      820.000000    672.000000    355.000000    307.000000    358.000000   \n",
       "max     1831.000000   1765.000000   1301.000000   1747.000000    943.000000   \n",
       "\n",
       "       time_spend_6  time_spend_7  time_spend_8  time_spend_9  time_spend_10  \\\n",
       "count  39372.000000  39372.000000  39372.000000  39372.000000   39372.000000   \n",
       "mean     205.519227    207.575358    329.484456    296.843467     292.164076   \n",
       "std      132.110892    214.430492    250.469918    242.240010     260.312699   \n",
       "min        0.000000      0.000000      0.000000      0.000000       0.000000   \n",
       "25%       91.000000     85.000000    152.000000    109.000000     108.000000   \n",
       "50%      210.000000    126.000000    248.000000    227.000000     211.000000   \n",
       "75%      297.000000    203.000000    506.000000    442.000000     334.000000   \n",
       "max      759.000000   1507.000000   1411.000000   1392.000000    1534.000000   \n",
       "\n",
       "       time_spend_11  time_spend_12  time_spend_13  time_spend_14  \\\n",
       "count   39372.000000   39372.000000   39372.000000   39372.000000   \n",
       "mean      265.796962     213.772503     426.693081     387.431550   \n",
       "std       195.537830     196.776522     264.490065     267.943735   \n",
       "min         0.000000       0.000000       0.000000       0.000000   \n",
       "25%       119.000000      81.000000     212.000000     184.000000   \n",
       "50%       190.000000     140.000000     406.000000     296.000000   \n",
       "75%       333.000000     231.000000     622.000000     582.000000   \n",
       "max      1301.000000    1275.000000    1491.000000    1575.000000   \n",
       "\n",
       "       time_spend_15  time_spend_16  time_spend_17  time_spend_18  \\\n",
       "count   39372.000000   39372.000000   39372.000000   39372.000000   \n",
       "mean      256.506400     273.786574     191.164076     326.190161   \n",
       "std       125.165173     245.319844     140.649355     227.895132   \n",
       "min         0.000000       0.000000       0.000000       0.000000   \n",
       "25%       177.000000     112.000000      63.000000     141.000000   \n",
       "50%       264.000000     192.000000     165.000000     271.000000   \n",
       "75%       339.000000     320.000000     306.000000     500.000000   \n",
       "max       789.000000    1498.000000     724.000000    1254.000000   \n",
       "\n",
       "       time_spend_19  time_spend_20  \n",
       "count   39372.000000   39372.000000  \n",
       "mean      592.881642     306.021157  \n",
       "std       320.776898     222.101433  \n",
       "min         0.000000       0.000000  \n",
       "25%       329.000000     138.000000  \n",
       "50%       564.000000     245.000000  \n",
       "75%       836.000000     446.000000  \n",
       "max      1634.000000    1339.000000  "
      ]
     },
     "execution_count": 83,
     "metadata": {},
     "output_type": "execute_result"
    }
   ],
   "source": [
    "df[column_names2].describe()"
   ]
  },
  {
   "cell_type": "code",
   "execution_count": 84,
   "id": "a8f67286",
   "metadata": {
    "scrolled": false
   },
   "outputs": [
    {
     "data": {
      "text/html": [
       "<div>\n",
       "<style scoped>\n",
       "    .dataframe tbody tr th:only-of-type {\n",
       "        vertical-align: middle;\n",
       "    }\n",
       "\n",
       "    .dataframe tbody tr th {\n",
       "        vertical-align: top;\n",
       "    }\n",
       "\n",
       "    .dataframe thead th {\n",
       "        text-align: right;\n",
       "    }\n",
       "</style>\n",
       "<table border=\"1\" class=\"dataframe\">\n",
       "  <thead>\n",
       "    <tr style=\"text-align: right;\">\n",
       "      <th></th>\n",
       "      <th>time_spend_1</th>\n",
       "      <th>time_spend_2</th>\n",
       "      <th>time_spend_3</th>\n",
       "      <th>time_spend_4</th>\n",
       "      <th>time_spend_5</th>\n",
       "      <th>time_spend_6</th>\n",
       "      <th>time_spend_7</th>\n",
       "      <th>time_spend_8</th>\n",
       "      <th>time_spend_9</th>\n",
       "      <th>time_spend_10</th>\n",
       "      <th>time_spend_11</th>\n",
       "      <th>time_spend_12</th>\n",
       "      <th>time_spend_13</th>\n",
       "      <th>time_spend_14</th>\n",
       "      <th>time_spend_15</th>\n",
       "      <th>time_spend_16</th>\n",
       "      <th>time_spend_17</th>\n",
       "      <th>time_spend_18</th>\n",
       "      <th>time_spend_19</th>\n",
       "      <th>time_spend_20</th>\n",
       "    </tr>\n",
       "  </thead>\n",
       "  <tbody>\n",
       "    <tr>\n",
       "      <th>count</th>\n",
       "      <td>39359.000000</td>\n",
       "      <td>39359.000000</td>\n",
       "      <td>39359.000000</td>\n",
       "      <td>39359.000000</td>\n",
       "      <td>39359.000000</td>\n",
       "      <td>39359.000000</td>\n",
       "      <td>39359.000000</td>\n",
       "      <td>39359.000000</td>\n",
       "      <td>39359.000000</td>\n",
       "      <td>39359.000000</td>\n",
       "      <td>39359.000000</td>\n",
       "      <td>39359.000000</td>\n",
       "      <td>39359.000000</td>\n",
       "      <td>39359.000000</td>\n",
       "      <td>39359.000000</td>\n",
       "      <td>39359.000000</td>\n",
       "      <td>39359.000000</td>\n",
       "      <td>39359.000000</td>\n",
       "      <td>39359.000000</td>\n",
       "      <td>39359.000000</td>\n",
       "    </tr>\n",
       "    <tr>\n",
       "      <th>mean</th>\n",
       "      <td>6.814374</td>\n",
       "      <td>1.115583</td>\n",
       "      <td>0.822607</td>\n",
       "      <td>0.768700</td>\n",
       "      <td>0.645295</td>\n",
       "      <td>0.578930</td>\n",
       "      <td>0.684937</td>\n",
       "      <td>0.797196</td>\n",
       "      <td>0.744486</td>\n",
       "      <td>0.783105</td>\n",
       "      <td>0.734430</td>\n",
       "      <td>0.541158</td>\n",
       "      <td>0.720798</td>\n",
       "      <td>0.835030</td>\n",
       "      <td>0.586891</td>\n",
       "      <td>0.755884</td>\n",
       "      <td>0.771310</td>\n",
       "      <td>1.049381</td>\n",
       "      <td>0.969865</td>\n",
       "      <td>0.614472</td>\n",
       "    </tr>\n",
       "    <tr>\n",
       "      <th>std</th>\n",
       "      <td>44.042546</td>\n",
       "      <td>20.315003</td>\n",
       "      <td>14.260112</td>\n",
       "      <td>16.517861</td>\n",
       "      <td>12.336024</td>\n",
       "      <td>10.767106</td>\n",
       "      <td>14.354503</td>\n",
       "      <td>15.421609</td>\n",
       "      <td>13.633480</td>\n",
       "      <td>14.908634</td>\n",
       "      <td>13.296938</td>\n",
       "      <td>11.654966</td>\n",
       "      <td>16.890564</td>\n",
       "      <td>15.129999</td>\n",
       "      <td>9.955369</td>\n",
       "      <td>14.199671</td>\n",
       "      <td>12.544715</td>\n",
       "      <td>18.237266</td>\n",
       "      <td>18.297534</td>\n",
       "      <td>12.801165</td>\n",
       "    </tr>\n",
       "    <tr>\n",
       "      <th>min</th>\n",
       "      <td>0.000000</td>\n",
       "      <td>0.000000</td>\n",
       "      <td>0.000000</td>\n",
       "      <td>0.000000</td>\n",
       "      <td>0.000000</td>\n",
       "      <td>0.000000</td>\n",
       "      <td>0.000000</td>\n",
       "      <td>0.000000</td>\n",
       "      <td>0.000000</td>\n",
       "      <td>0.000000</td>\n",
       "      <td>0.000000</td>\n",
       "      <td>0.000000</td>\n",
       "      <td>0.000000</td>\n",
       "      <td>0.000000</td>\n",
       "      <td>0.000000</td>\n",
       "      <td>0.000000</td>\n",
       "      <td>0.000000</td>\n",
       "      <td>0.000000</td>\n",
       "      <td>0.000000</td>\n",
       "      <td>0.000000</td>\n",
       "    </tr>\n",
       "    <tr>\n",
       "      <th>25%</th>\n",
       "      <td>0.030543</td>\n",
       "      <td>0.000000</td>\n",
       "      <td>0.000000</td>\n",
       "      <td>0.000000</td>\n",
       "      <td>0.000000</td>\n",
       "      <td>0.000000</td>\n",
       "      <td>0.000000</td>\n",
       "      <td>0.000000</td>\n",
       "      <td>0.000000</td>\n",
       "      <td>0.000000</td>\n",
       "      <td>0.000000</td>\n",
       "      <td>0.000000</td>\n",
       "      <td>0.000000</td>\n",
       "      <td>0.000000</td>\n",
       "      <td>0.000000</td>\n",
       "      <td>0.000000</td>\n",
       "      <td>0.000000</td>\n",
       "      <td>0.000000</td>\n",
       "      <td>0.000000</td>\n",
       "      <td>0.000000</td>\n",
       "    </tr>\n",
       "    <tr>\n",
       "      <th>50%</th>\n",
       "      <td>0.238631</td>\n",
       "      <td>0.000000</td>\n",
       "      <td>0.000000</td>\n",
       "      <td>0.000000</td>\n",
       "      <td>0.000000</td>\n",
       "      <td>0.000000</td>\n",
       "      <td>0.000000</td>\n",
       "      <td>0.000000</td>\n",
       "      <td>0.000000</td>\n",
       "      <td>0.000000</td>\n",
       "      <td>0.000000</td>\n",
       "      <td>0.000000</td>\n",
       "      <td>0.000000</td>\n",
       "      <td>0.000000</td>\n",
       "      <td>0.000000</td>\n",
       "      <td>0.000000</td>\n",
       "      <td>0.000000</td>\n",
       "      <td>0.000000</td>\n",
       "      <td>0.000000</td>\n",
       "      <td>0.000000</td>\n",
       "    </tr>\n",
       "    <tr>\n",
       "      <th>75%</th>\n",
       "      <td>1.422668</td>\n",
       "      <td>0.000000</td>\n",
       "      <td>0.000000</td>\n",
       "      <td>0.000000</td>\n",
       "      <td>0.000000</td>\n",
       "      <td>0.000000</td>\n",
       "      <td>0.000000</td>\n",
       "      <td>0.000000</td>\n",
       "      <td>0.000000</td>\n",
       "      <td>0.000000</td>\n",
       "      <td>0.000000</td>\n",
       "      <td>0.000000</td>\n",
       "      <td>0.000000</td>\n",
       "      <td>0.000000</td>\n",
       "      <td>0.000000</td>\n",
       "      <td>0.000000</td>\n",
       "      <td>0.000000</td>\n",
       "      <td>0.000000</td>\n",
       "      <td>0.000000</td>\n",
       "      <td>0.000000</td>\n",
       "    </tr>\n",
       "    <tr>\n",
       "      <th>max</th>\n",
       "      <td>1831.122712</td>\n",
       "      <td>1765.269726</td>\n",
       "      <td>1301.029843</td>\n",
       "      <td>1746.870532</td>\n",
       "      <td>943.308616</td>\n",
       "      <td>759.313209</td>\n",
       "      <td>1506.955224</td>\n",
       "      <td>1410.692171</td>\n",
       "      <td>1391.601146</td>\n",
       "      <td>1533.652409</td>\n",
       "      <td>1301.030383</td>\n",
       "      <td>1274.724828</td>\n",
       "      <td>1490.646635</td>\n",
       "      <td>1574.801676</td>\n",
       "      <td>788.794520</td>\n",
       "      <td>1497.551888</td>\n",
       "      <td>723.989529</td>\n",
       "      <td>1253.961298</td>\n",
       "      <td>1633.965828</td>\n",
       "      <td>1339.384179</td>\n",
       "    </tr>\n",
       "  </tbody>\n",
       "</table>\n",
       "</div>"
      ],
      "text/plain": [
       "       time_spend_1  time_spend_2  time_spend_3  time_spend_4  time_spend_5  \\\n",
       "count  39359.000000  39359.000000  39359.000000  39359.000000  39359.000000   \n",
       "mean       6.814374      1.115583      0.822607      0.768700      0.645295   \n",
       "std       44.042546     20.315003     14.260112     16.517861     12.336024   \n",
       "min        0.000000      0.000000      0.000000      0.000000      0.000000   \n",
       "25%        0.030543      0.000000      0.000000      0.000000      0.000000   \n",
       "50%        0.238631      0.000000      0.000000      0.000000      0.000000   \n",
       "75%        1.422668      0.000000      0.000000      0.000000      0.000000   \n",
       "max     1831.122712   1765.269726   1301.029843   1746.870532    943.308616   \n",
       "\n",
       "       time_spend_6  time_spend_7  time_spend_8  time_spend_9  time_spend_10  \\\n",
       "count  39359.000000  39359.000000  39359.000000  39359.000000   39359.000000   \n",
       "mean       0.578930      0.684937      0.797196      0.744486       0.783105   \n",
       "std       10.767106     14.354503     15.421609     13.633480      14.908634   \n",
       "min        0.000000      0.000000      0.000000      0.000000       0.000000   \n",
       "25%        0.000000      0.000000      0.000000      0.000000       0.000000   \n",
       "50%        0.000000      0.000000      0.000000      0.000000       0.000000   \n",
       "75%        0.000000      0.000000      0.000000      0.000000       0.000000   \n",
       "max      759.313209   1506.955224   1410.692171   1391.601146    1533.652409   \n",
       "\n",
       "       time_spend_11  time_spend_12  time_spend_13  time_spend_14  \\\n",
       "count   39359.000000   39359.000000   39359.000000   39359.000000   \n",
       "mean        0.734430       0.541158       0.720798       0.835030   \n",
       "std        13.296938      11.654966      16.890564      15.129999   \n",
       "min         0.000000       0.000000       0.000000       0.000000   \n",
       "25%         0.000000       0.000000       0.000000       0.000000   \n",
       "50%         0.000000       0.000000       0.000000       0.000000   \n",
       "75%         0.000000       0.000000       0.000000       0.000000   \n",
       "max      1301.030383    1274.724828    1490.646635    1574.801676   \n",
       "\n",
       "       time_spend_15  time_spend_16  time_spend_17  time_spend_18  \\\n",
       "count   39359.000000   39359.000000   39359.000000   39359.000000   \n",
       "mean        0.586891       0.755884       0.771310       1.049381   \n",
       "std         9.955369      14.199671      12.544715      18.237266   \n",
       "min         0.000000       0.000000       0.000000       0.000000   \n",
       "25%         0.000000       0.000000       0.000000       0.000000   \n",
       "50%         0.000000       0.000000       0.000000       0.000000   \n",
       "75%         0.000000       0.000000       0.000000       0.000000   \n",
       "max       788.794520    1497.551888     723.989529    1253.961298   \n",
       "\n",
       "       time_spend_19  time_spend_20  \n",
       "count   39359.000000   39359.000000  \n",
       "mean        0.969865       0.614472  \n",
       "std        18.297534      12.801165  \n",
       "min         0.000000       0.000000  \n",
       "25%         0.000000       0.000000  \n",
       "50%         0.000000       0.000000  \n",
       "75%         0.000000       0.000000  \n",
       "max      1633.965828    1339.384179  "
      ]
     },
     "execution_count": 84,
     "metadata": {},
     "output_type": "execute_result"
    }
   ],
   "source": [
    "df_merged[column_names2].describe()"
   ]
  },
  {
   "cell_type": "markdown",
   "id": "61559d37",
   "metadata": {},
   "source": [
    "Cette fois ci , que ce soient la moyenne , l'écart type ou les quartiles, tout est très mal prédits . Essayons de voir si en synchronisant les 0 de la catégorie presence_i et de la catégorie time_spend_i, les time_spend sont mieux prédits."
   ]
  },
  {
   "cell_type": "code",
   "execution_count": 85,
   "id": "48473cf8",
   "metadata": {},
   "outputs": [
    {
     "data": {
      "text/html": [
       "<div>\n",
       "<style scoped>\n",
       "    .dataframe tbody tr th:only-of-type {\n",
       "        vertical-align: middle;\n",
       "    }\n",
       "\n",
       "    .dataframe tbody tr th {\n",
       "        vertical-align: top;\n",
       "    }\n",
       "\n",
       "    .dataframe thead th {\n",
       "        text-align: right;\n",
       "    }\n",
       "</style>\n",
       "<table border=\"1\" class=\"dataframe\">\n",
       "  <thead>\n",
       "    <tr style=\"text-align: right;\">\n",
       "      <th></th>\n",
       "      <th>time_spend_1</th>\n",
       "      <th>time_spend_2</th>\n",
       "      <th>time_spend_3</th>\n",
       "      <th>time_spend_4</th>\n",
       "      <th>time_spend_5</th>\n",
       "      <th>time_spend_6</th>\n",
       "      <th>time_spend_7</th>\n",
       "      <th>time_spend_8</th>\n",
       "      <th>time_spend_9</th>\n",
       "      <th>time_spend_10</th>\n",
       "      <th>time_spend_11</th>\n",
       "      <th>time_spend_12</th>\n",
       "      <th>time_spend_13</th>\n",
       "      <th>time_spend_14</th>\n",
       "      <th>time_spend_15</th>\n",
       "      <th>time_spend_16</th>\n",
       "      <th>time_spend_17</th>\n",
       "      <th>time_spend_18</th>\n",
       "      <th>time_spend_19</th>\n",
       "      <th>time_spend_20</th>\n",
       "    </tr>\n",
       "  </thead>\n",
       "  <tbody>\n",
       "    <tr>\n",
       "      <th>count</th>\n",
       "      <td>39372.000000</td>\n",
       "      <td>39372.000000</td>\n",
       "      <td>39372.000000</td>\n",
       "      <td>39372.000000</td>\n",
       "      <td>39372.000000</td>\n",
       "      <td>39372.000000</td>\n",
       "      <td>39372.000000</td>\n",
       "      <td>39372.000000</td>\n",
       "      <td>39372.000000</td>\n",
       "      <td>39372.000000</td>\n",
       "      <td>39372.000000</td>\n",
       "      <td>39372.000000</td>\n",
       "      <td>39372.000000</td>\n",
       "      <td>39372.000000</td>\n",
       "      <td>39372.000000</td>\n",
       "      <td>39372.000000</td>\n",
       "      <td>39372.000000</td>\n",
       "      <td>39372.000000</td>\n",
       "      <td>39372.000000</td>\n",
       "      <td>39372.000000</td>\n",
       "    </tr>\n",
       "    <tr>\n",
       "      <th>mean</th>\n",
       "      <td>563.978132</td>\n",
       "      <td>0.837042</td>\n",
       "      <td>102.303998</td>\n",
       "      <td>5.152977</td>\n",
       "      <td>0.377934</td>\n",
       "      <td>52.285101</td>\n",
       "      <td>82.497257</td>\n",
       "      <td>32.180001</td>\n",
       "      <td>9.582368</td>\n",
       "      <td>124.796404</td>\n",
       "      <td>83.105024</td>\n",
       "      <td>52.032434</td>\n",
       "      <td>3.440973</td>\n",
       "      <td>0.025983</td>\n",
       "      <td>98.916768</td>\n",
       "      <td>61.526516</td>\n",
       "      <td>106.898456</td>\n",
       "      <td>51.576145</td>\n",
       "      <td>260.990679</td>\n",
       "      <td>104.898024</td>\n",
       "    </tr>\n",
       "    <tr>\n",
       "      <th>std</th>\n",
       "      <td>326.950362</td>\n",
       "      <td>25.730492</td>\n",
       "      <td>188.811699</td>\n",
       "      <td>52.268158</td>\n",
       "      <td>11.899143</td>\n",
       "      <td>120.067363</td>\n",
       "      <td>178.367160</td>\n",
       "      <td>128.892766</td>\n",
       "      <td>72.502175</td>\n",
       "      <td>227.914717</td>\n",
       "      <td>171.997541</td>\n",
       "      <td>137.189522</td>\n",
       "      <td>46.329978</td>\n",
       "      <td>3.209864</td>\n",
       "      <td>156.547534</td>\n",
       "      <td>166.287119</td>\n",
       "      <td>149.234195</td>\n",
       "      <td>158.984284</td>\n",
       "      <td>381.573310</td>\n",
       "      <td>204.984179</td>\n",
       "    </tr>\n",
       "    <tr>\n",
       "      <th>min</th>\n",
       "      <td>0.000000</td>\n",
       "      <td>0.000000</td>\n",
       "      <td>0.000000</td>\n",
       "      <td>0.000000</td>\n",
       "      <td>0.000000</td>\n",
       "      <td>0.000000</td>\n",
       "      <td>0.000000</td>\n",
       "      <td>0.000000</td>\n",
       "      <td>0.000000</td>\n",
       "      <td>0.000000</td>\n",
       "      <td>0.000000</td>\n",
       "      <td>0.000000</td>\n",
       "      <td>0.000000</td>\n",
       "      <td>0.000000</td>\n",
       "      <td>0.000000</td>\n",
       "      <td>0.000000</td>\n",
       "      <td>0.000000</td>\n",
       "      <td>0.000000</td>\n",
       "      <td>0.000000</td>\n",
       "      <td>0.000000</td>\n",
       "    </tr>\n",
       "    <tr>\n",
       "      <th>25%</th>\n",
       "      <td>292.000000</td>\n",
       "      <td>0.000000</td>\n",
       "      <td>0.000000</td>\n",
       "      <td>0.000000</td>\n",
       "      <td>0.000000</td>\n",
       "      <td>0.000000</td>\n",
       "      <td>0.000000</td>\n",
       "      <td>0.000000</td>\n",
       "      <td>0.000000</td>\n",
       "      <td>0.000000</td>\n",
       "      <td>0.000000</td>\n",
       "      <td>0.000000</td>\n",
       "      <td>0.000000</td>\n",
       "      <td>0.000000</td>\n",
       "      <td>0.000000</td>\n",
       "      <td>0.000000</td>\n",
       "      <td>0.000000</td>\n",
       "      <td>0.000000</td>\n",
       "      <td>0.000000</td>\n",
       "      <td>0.000000</td>\n",
       "    </tr>\n",
       "    <tr>\n",
       "      <th>50%</th>\n",
       "      <td>506.000000</td>\n",
       "      <td>0.000000</td>\n",
       "      <td>0.000000</td>\n",
       "      <td>0.000000</td>\n",
       "      <td>0.000000</td>\n",
       "      <td>0.000000</td>\n",
       "      <td>0.000000</td>\n",
       "      <td>0.000000</td>\n",
       "      <td>0.000000</td>\n",
       "      <td>0.000000</td>\n",
       "      <td>0.000000</td>\n",
       "      <td>0.000000</td>\n",
       "      <td>0.000000</td>\n",
       "      <td>0.000000</td>\n",
       "      <td>0.000000</td>\n",
       "      <td>0.000000</td>\n",
       "      <td>0.000000</td>\n",
       "      <td>0.000000</td>\n",
       "      <td>0.000000</td>\n",
       "      <td>0.000000</td>\n",
       "    </tr>\n",
       "    <tr>\n",
       "      <th>75%</th>\n",
       "      <td>820.000000</td>\n",
       "      <td>0.000000</td>\n",
       "      <td>169.000000</td>\n",
       "      <td>0.000000</td>\n",
       "      <td>0.000000</td>\n",
       "      <td>0.000000</td>\n",
       "      <td>105.000000</td>\n",
       "      <td>0.000000</td>\n",
       "      <td>0.000000</td>\n",
       "      <td>189.000000</td>\n",
       "      <td>107.000000</td>\n",
       "      <td>0.000000</td>\n",
       "      <td>0.000000</td>\n",
       "      <td>0.000000</td>\n",
       "      <td>232.000000</td>\n",
       "      <td>0.000000</td>\n",
       "      <td>195.000000</td>\n",
       "      <td>0.000000</td>\n",
       "      <td>517.000000</td>\n",
       "      <td>137.000000</td>\n",
       "    </tr>\n",
       "    <tr>\n",
       "      <th>max</th>\n",
       "      <td>1831.000000</td>\n",
       "      <td>1264.000000</td>\n",
       "      <td>1301.000000</td>\n",
       "      <td>1418.000000</td>\n",
       "      <td>664.000000</td>\n",
       "      <td>664.000000</td>\n",
       "      <td>1507.000000</td>\n",
       "      <td>1240.000000</td>\n",
       "      <td>1145.000000</td>\n",
       "      <td>1534.000000</td>\n",
       "      <td>1301.000000</td>\n",
       "      <td>1167.000000</td>\n",
       "      <td>1163.000000</td>\n",
       "      <td>501.000000</td>\n",
       "      <td>720.000000</td>\n",
       "      <td>1446.000000</td>\n",
       "      <td>722.000000</td>\n",
       "      <td>1164.000000</td>\n",
       "      <td>1634.000000</td>\n",
       "      <td>1339.000000</td>\n",
       "    </tr>\n",
       "  </tbody>\n",
       "</table>\n",
       "</div>"
      ],
      "text/plain": [
       "       time_spend_1  time_spend_2  time_spend_3  time_spend_4  time_spend_5  \\\n",
       "count  39372.000000  39372.000000  39372.000000  39372.000000  39372.000000   \n",
       "mean     563.978132      0.837042    102.303998      5.152977      0.377934   \n",
       "std      326.950362     25.730492    188.811699     52.268158     11.899143   \n",
       "min        0.000000      0.000000      0.000000      0.000000      0.000000   \n",
       "25%      292.000000      0.000000      0.000000      0.000000      0.000000   \n",
       "50%      506.000000      0.000000      0.000000      0.000000      0.000000   \n",
       "75%      820.000000      0.000000    169.000000      0.000000      0.000000   \n",
       "max     1831.000000   1264.000000   1301.000000   1418.000000    664.000000   \n",
       "\n",
       "       time_spend_6  time_spend_7  time_spend_8  time_spend_9  time_spend_10  \\\n",
       "count  39372.000000  39372.000000  39372.000000  39372.000000   39372.000000   \n",
       "mean      52.285101     82.497257     32.180001      9.582368     124.796404   \n",
       "std      120.067363    178.367160    128.892766     72.502175     227.914717   \n",
       "min        0.000000      0.000000      0.000000      0.000000       0.000000   \n",
       "25%        0.000000      0.000000      0.000000      0.000000       0.000000   \n",
       "50%        0.000000      0.000000      0.000000      0.000000       0.000000   \n",
       "75%        0.000000    105.000000      0.000000      0.000000     189.000000   \n",
       "max      664.000000   1507.000000   1240.000000   1145.000000    1534.000000   \n",
       "\n",
       "       time_spend_11  time_spend_12  time_spend_13  time_spend_14  \\\n",
       "count   39372.000000   39372.000000   39372.000000   39372.000000   \n",
       "mean       83.105024      52.032434       3.440973       0.025983   \n",
       "std       171.997541     137.189522      46.329978       3.209864   \n",
       "min         0.000000       0.000000       0.000000       0.000000   \n",
       "25%         0.000000       0.000000       0.000000       0.000000   \n",
       "50%         0.000000       0.000000       0.000000       0.000000   \n",
       "75%       107.000000       0.000000       0.000000       0.000000   \n",
       "max      1301.000000    1167.000000    1163.000000     501.000000   \n",
       "\n",
       "       time_spend_15  time_spend_16  time_spend_17  time_spend_18  \\\n",
       "count   39372.000000   39372.000000   39372.000000   39372.000000   \n",
       "mean       98.916768      61.526516     106.898456      51.576145   \n",
       "std       156.547534     166.287119     149.234195     158.984284   \n",
       "min         0.000000       0.000000       0.000000       0.000000   \n",
       "25%         0.000000       0.000000       0.000000       0.000000   \n",
       "50%         0.000000       0.000000       0.000000       0.000000   \n",
       "75%       232.000000       0.000000     195.000000       0.000000   \n",
       "max       720.000000    1446.000000     722.000000    1164.000000   \n",
       "\n",
       "       time_spend_19  time_spend_20  \n",
       "count   39372.000000   39372.000000  \n",
       "mean      260.990679     104.898024  \n",
       "std       381.573310     204.984179  \n",
       "min         0.000000       0.000000  \n",
       "25%         0.000000       0.000000  \n",
       "50%         0.000000       0.000000  \n",
       "75%       517.000000     137.000000  \n",
       "max      1634.000000    1339.000000  "
      ]
     },
     "execution_count": 85,
     "metadata": {},
     "output_type": "execute_result"
    }
   ],
   "source": [
    "for i in range(1, 21):  # Pour les colonnes de 1 à 20\n",
    "    presence_col = f'presence_{i}'\n",
    "    time_spend_col = f'time_spend_{i}'\n",
    "    \n",
    "    df.loc[df[presence_col] == 0, time_spend_col] = 0\n",
    "\n",
    "df[column_names2].describe()"
   ]
  },
  {
   "cell_type": "markdown",
   "id": "f5d06e9a",
   "metadata": {},
   "source": [
    "Même en synchronisant les presence aux time spend , les moyennes sont toujours très mauvaises.\n",
    "\n",
    "On finira par analyser les tailles des listes générées."
   ]
  },
  {
   "cell_type": "code",
   "execution_count": 86,
   "id": "ceed5687",
   "metadata": {},
   "outputs": [],
   "source": [
    "def synchronize_lists(row):\n",
    "    presence_list = row['presence_list']\n",
    "    time_spend_list = row['time_spend_list']\n",
    "    \n",
    "    assert len(presence_list) == len(time_spend_list), \"Les listes doivent avoir la même longueur\"\n",
    "    \n",
    "    synchronized_time_spend = [\n",
    "        0 if presence == 0 else time \n",
    "        for presence, time in zip(presence_list, time_spend_list)\n",
    "    ]\n",
    "    \n",
    "    return pd.Series({'presence_list': presence_list, 'time_spend_list': synchronized_time_spend})\n",
    "\n",
    "def trim_zeros_after_last_one(lst):\n",
    "    if 1 not in lst:\n",
    "        return []\n",
    "    return lst[:lst[::-1].index(1) + 1]\n",
    "\n",
    "def trim_zeros_after_last_non_zero(lst):\n",
    "    non_zero = [i for i, x in enumerate(lst) if x != 0]\n",
    "    if not non_zero:\n",
    "        return []\n",
    "    return lst[:max(non_zero) + 1]"
   ]
  },
  {
   "cell_type": "code",
   "execution_count": 87,
   "id": "435d9bc2",
   "metadata": {},
   "outputs": [
    {
     "data": {
      "text/html": [
       "<div>\n",
       "<style scoped>\n",
       "    .dataframe tbody tr th:only-of-type {\n",
       "        vertical-align: middle;\n",
       "    }\n",
       "\n",
       "    .dataframe tbody tr th {\n",
       "        vertical-align: top;\n",
       "    }\n",
       "\n",
       "    .dataframe thead th {\n",
       "        text-align: right;\n",
       "    }\n",
       "</style>\n",
       "<table border=\"1\" class=\"dataframe\">\n",
       "  <thead>\n",
       "    <tr style=\"text-align: right;\">\n",
       "      <th></th>\n",
       "      <th>A</th>\n",
       "      <th>B</th>\n",
       "      <th>transaction</th>\n",
       "      <th>size_time_serie</th>\n",
       "    </tr>\n",
       "  </thead>\n",
       "  <tbody>\n",
       "    <tr>\n",
       "      <th>count</th>\n",
       "      <td>22499.000000</td>\n",
       "      <td>16457.000000</td>\n",
       "      <td>39372.000000</td>\n",
       "      <td>39372.00000</td>\n",
       "    </tr>\n",
       "    <tr>\n",
       "      <th>mean</th>\n",
       "      <td>0.000444</td>\n",
       "      <td>0.006198</td>\n",
       "      <td>0.002845</td>\n",
       "      <td>4.49939</td>\n",
       "    </tr>\n",
       "    <tr>\n",
       "      <th>std</th>\n",
       "      <td>0.021078</td>\n",
       "      <td>0.078485</td>\n",
       "      <td>0.053260</td>\n",
       "      <td>5.00840</td>\n",
       "    </tr>\n",
       "    <tr>\n",
       "      <th>min</th>\n",
       "      <td>0.000000</td>\n",
       "      <td>0.000000</td>\n",
       "      <td>0.000000</td>\n",
       "      <td>1.00000</td>\n",
       "    </tr>\n",
       "    <tr>\n",
       "      <th>25%</th>\n",
       "      <td>0.000000</td>\n",
       "      <td>0.000000</td>\n",
       "      <td>0.000000</td>\n",
       "      <td>1.00000</td>\n",
       "    </tr>\n",
       "    <tr>\n",
       "      <th>50%</th>\n",
       "      <td>0.000000</td>\n",
       "      <td>0.000000</td>\n",
       "      <td>0.000000</td>\n",
       "      <td>2.00000</td>\n",
       "    </tr>\n",
       "    <tr>\n",
       "      <th>75%</th>\n",
       "      <td>0.000000</td>\n",
       "      <td>0.000000</td>\n",
       "      <td>0.000000</td>\n",
       "      <td>5.00000</td>\n",
       "    </tr>\n",
       "    <tr>\n",
       "      <th>max</th>\n",
       "      <td>1.000000</td>\n",
       "      <td>1.000000</td>\n",
       "      <td>1.000000</td>\n",
       "      <td>20.00000</td>\n",
       "    </tr>\n",
       "  </tbody>\n",
       "</table>\n",
       "</div>"
      ],
      "text/plain": [
       "                  A             B   transaction  size_time_serie\n",
       "count  22499.000000  16457.000000  39372.000000      39372.00000\n",
       "mean       0.000444      0.006198      0.002845          4.49939\n",
       "std        0.021078      0.078485      0.053260          5.00840\n",
       "min        0.000000      0.000000      0.000000          1.00000\n",
       "25%        0.000000      0.000000      0.000000          1.00000\n",
       "50%        0.000000      0.000000      0.000000          2.00000\n",
       "75%        0.000000      0.000000      0.000000          5.00000\n",
       "max        1.000000      1.000000      1.000000         20.00000"
      ]
     },
     "execution_count": 87,
     "metadata": {},
     "output_type": "execute_result"
    }
   ],
   "source": [
    "time_spend_columns = [col for col in df.columns if col.startswith('time_spend')]\n",
    "presence_columns = [col for col in df.columns if col.startswith('presence')]\n",
    "\n",
    "df['time_spend_list'] = df[time_spend_columns].values.tolist()\n",
    "df['presence_list'] = df[presence_columns].values.tolist()\n",
    "\n",
    "\n",
    "df[['presence_list', 'time_spend_list']] = df.apply(synchronize_lists, axis=1)\n",
    "\n",
    "df = df.drop(columns=time_spend_columns + presence_columns + ['check A', 'check B'])\n",
    "\n",
    "df['presence_list'] = df['presence_list'].apply(trim_zeros_after_last_one)\n",
    "df['time_spend_list'] = df['time_spend_list'].apply(trim_zeros_after_last_non_zero)\n",
    "\n",
    "df['size_time_serie'] = df['presence_list'].apply(len)\n",
    "df[[\"A\",\"B\",\"transaction\",\"size_time_serie\"]].describe()"
   ]
  },
  {
   "cell_type": "markdown",
   "id": "ec27a636",
   "metadata": {},
   "source": [
    "Une fois de plus , on observe que le modèle n'as pas correctement déterminé que lorsque presence_list[i]=0 , on a également time_spend_list[i]=0"
   ]
  },
  {
   "cell_type": "code",
   "execution_count": 88,
   "id": "1290be59",
   "metadata": {},
   "outputs": [
    {
     "data": {
      "text/html": [
       "<div>\n",
       "<style scoped>\n",
       "    .dataframe tbody tr th:only-of-type {\n",
       "        vertical-align: middle;\n",
       "    }\n",
       "\n",
       "    .dataframe tbody tr th {\n",
       "        vertical-align: top;\n",
       "    }\n",
       "\n",
       "    .dataframe thead th {\n",
       "        text-align: right;\n",
       "    }\n",
       "</style>\n",
       "<table border=\"1\" class=\"dataframe\">\n",
       "  <thead>\n",
       "    <tr style=\"text-align: right;\">\n",
       "      <th></th>\n",
       "      <th>A</th>\n",
       "      <th>B</th>\n",
       "      <th>transactions</th>\n",
       "      <th>size_time_serie</th>\n",
       "    </tr>\n",
       "  </thead>\n",
       "  <tbody>\n",
       "    <tr>\n",
       "      <th>count</th>\n",
       "      <td>22239.000000</td>\n",
       "      <td>17120.000000</td>\n",
       "      <td>39359.000000</td>\n",
       "      <td>39359.000000</td>\n",
       "    </tr>\n",
       "    <tr>\n",
       "      <th>mean</th>\n",
       "      <td>0.043392</td>\n",
       "      <td>0.040129</td>\n",
       "      <td>0.041973</td>\n",
       "      <td>4.543942</td>\n",
       "    </tr>\n",
       "    <tr>\n",
       "      <th>std</th>\n",
       "      <td>0.203743</td>\n",
       "      <td>0.196266</td>\n",
       "      <td>0.200529</td>\n",
       "      <td>6.949397</td>\n",
       "    </tr>\n",
       "    <tr>\n",
       "      <th>min</th>\n",
       "      <td>0.000000</td>\n",
       "      <td>0.000000</td>\n",
       "      <td>0.000000</td>\n",
       "      <td>1.000000</td>\n",
       "    </tr>\n",
       "    <tr>\n",
       "      <th>25%</th>\n",
       "      <td>0.000000</td>\n",
       "      <td>0.000000</td>\n",
       "      <td>0.000000</td>\n",
       "      <td>1.000000</td>\n",
       "    </tr>\n",
       "    <tr>\n",
       "      <th>50%</th>\n",
       "      <td>0.000000</td>\n",
       "      <td>0.000000</td>\n",
       "      <td>0.000000</td>\n",
       "      <td>1.000000</td>\n",
       "    </tr>\n",
       "    <tr>\n",
       "      <th>75%</th>\n",
       "      <td>0.000000</td>\n",
       "      <td>0.000000</td>\n",
       "      <td>0.000000</td>\n",
       "      <td>3.000000</td>\n",
       "    </tr>\n",
       "    <tr>\n",
       "      <th>max</th>\n",
       "      <td>1.000000</td>\n",
       "      <td>1.000000</td>\n",
       "      <td>1.000000</td>\n",
       "      <td>33.000000</td>\n",
       "    </tr>\n",
       "  </tbody>\n",
       "</table>\n",
       "</div>"
      ],
      "text/plain": [
       "                  A             B  transactions  size_time_serie\n",
       "count  22239.000000  17120.000000  39359.000000     39359.000000\n",
       "mean       0.043392      0.040129      0.041973         4.543942\n",
       "std        0.203743      0.196266      0.200529         6.949397\n",
       "min        0.000000      0.000000      0.000000         1.000000\n",
       "25%        0.000000      0.000000      0.000000         1.000000\n",
       "50%        0.000000      0.000000      0.000000         1.000000\n",
       "75%        0.000000      0.000000      0.000000         3.000000\n",
       "max        1.000000      1.000000      1.000000        33.000000"
      ]
     },
     "execution_count": 88,
     "metadata": {},
     "output_type": "execute_result"
    }
   ],
   "source": [
    "df_merged['size_time_serie'] = df_merged['size_time_serie'].replace(0, 1)\n",
    "df_merged[[\"A\",\"B\",\"transactions\",\"size_time_serie\"]].describe()"
   ]
  },
  {
   "cell_type": "markdown",
   "id": "64c4617b",
   "metadata": {},
   "source": [
    "La médiane des données générée ainsi que le premier quartile correspondent , le 3ème quartile est décalé de 2. La moyenne est plutot proche de la moyenne espérée."
   ]
  },
  {
   "cell_type": "markdown",
   "id": "cefad882",
   "metadata": {},
   "source": [
    "Pour conclure , après quelques ajustements,  la génération de données est décente pour prédire les colonnes \"A\" et \"B\" , ainsi que les jours de présence et des listes de taille cohérentes au dataset initial. Cependant , la méthode n'est pas efficace pour générer les temps de présence lors des connexions. Essayons de changer les hyperparamètres pour voir si on obtiens de meilleurs résultats.\n"
   ]
  },
  {
   "cell_type": "code",
   "execution_count": 89,
   "id": "6fe4facc",
   "metadata": {
    "scrolled": true
   },
   "outputs": [
    {
     "name": "stdout",
     "output_type": "stream",
     "text": [
      "Training model\n"
     ]
    },
    {
     "data": {
      "application/vnd.jupyter.widget-view+json": {
       "model_id": "3edc1fd07c9047438c79e10c18e65941",
       "version_major": 2,
       "version_minor": 0
      },
      "text/plain": [
       "  0%|          | 0/393 [00:00<?, ?it/s]"
      ]
     },
     "metadata": {},
     "output_type": "display_data"
    },
    {
     "data": {
      "application/vnd.jupyter.widget-view+json": {
       "model_id": "47adb5d57e764520a0eed4d0b88ea458",
       "version_major": 2,
       "version_minor": 0
      },
      "text/plain": [
       "  0%|          | 0/393 [00:00<?, ?it/s]"
      ]
     },
     "metadata": {},
     "output_type": "display_data"
    },
    {
     "data": {
      "application/vnd.jupyter.widget-view+json": {
       "model_id": "d13b9d6545a94fbcac349267a7a07e6f",
       "version_major": 2,
       "version_minor": 0
      },
      "text/plain": [
       "  0%|          | 0/393 [00:00<?, ?it/s]"
      ]
     },
     "metadata": {},
     "output_type": "display_data"
    },
    {
     "data": {
      "application/vnd.jupyter.widget-view+json": {
       "model_id": "d20ba37bf3d541d2a6a4598dcf238c29",
       "version_major": 2,
       "version_minor": 0
      },
      "text/plain": [
       "  0%|          | 0/393 [00:00<?, ?it/s]"
      ]
     },
     "metadata": {},
     "output_type": "display_data"
    },
    {
     "data": {
      "application/vnd.jupyter.widget-view+json": {
       "model_id": "3be5038ca9fa4e5ca0bf3533d3143a96",
       "version_major": 2,
       "version_minor": 0
      },
      "text/plain": [
       "  0%|          | 0/393 [00:00<?, ?it/s]"
      ]
     },
     "metadata": {},
     "output_type": "display_data"
    },
    {
     "data": {
      "application/vnd.jupyter.widget-view+json": {
       "model_id": "4b3c374ee6e24e9d8e04915c5db97a07",
       "version_major": 2,
       "version_minor": 0
      },
      "text/plain": [
       "  0%|          | 0/393 [00:00<?, ?it/s]"
      ]
     },
     "metadata": {},
     "output_type": "display_data"
    },
    {
     "data": {
      "application/vnd.jupyter.widget-view+json": {
       "model_id": "03189ed27026497aa5507a997838b85f",
       "version_major": 2,
       "version_minor": 0
      },
      "text/plain": [
       "  0%|          | 0/393 [00:00<?, ?it/s]"
      ]
     },
     "metadata": {},
     "output_type": "display_data"
    },
    {
     "data": {
      "application/vnd.jupyter.widget-view+json": {
       "model_id": "4ecefd6cb3db4869aadf77b9b1162a76",
       "version_major": 2,
       "version_minor": 0
      },
      "text/plain": [
       "  0%|          | 0/393 [00:00<?, ?it/s]"
      ]
     },
     "metadata": {},
     "output_type": "display_data"
    },
    {
     "data": {
      "application/vnd.jupyter.widget-view+json": {
       "model_id": "5e1427bad218477fb7d6d3ad490ed484",
       "version_major": 2,
       "version_minor": 0
      },
      "text/plain": [
       "  0%|          | 0/393 [00:00<?, ?it/s]"
      ]
     },
     "metadata": {},
     "output_type": "display_data"
    },
    {
     "data": {
      "application/vnd.jupyter.widget-view+json": {
       "model_id": "e2bc22df5aac479d9839723b5a69f529",
       "version_major": 2,
       "version_minor": 0
      },
      "text/plain": [
       "  0%|          | 0/393 [00:00<?, ?it/s]"
      ]
     },
     "metadata": {},
     "output_type": "display_data"
    },
    {
     "data": {
      "application/vnd.jupyter.widget-view+json": {
       "model_id": "a5b86729174e4bd4bf16164990327158",
       "version_major": 2,
       "version_minor": 0
      },
      "text/plain": [
       "  0%|          | 0/393 [00:00<?, ?it/s]"
      ]
     },
     "metadata": {},
     "output_type": "display_data"
    },
    {
     "data": {
      "application/vnd.jupyter.widget-view+json": {
       "model_id": "640ae2c1730f4b518fb3e68d3590c47b",
       "version_major": 2,
       "version_minor": 0
      },
      "text/plain": [
       "  0%|          | 0/393 [00:00<?, ?it/s]"
      ]
     },
     "metadata": {},
     "output_type": "display_data"
    },
    {
     "data": {
      "application/vnd.jupyter.widget-view+json": {
       "model_id": "a1f28897be264f78a0d906db5a2ac382",
       "version_major": 2,
       "version_minor": 0
      },
      "text/plain": [
       "  0%|          | 0/393 [00:00<?, ?it/s]"
      ]
     },
     "metadata": {},
     "output_type": "display_data"
    },
    {
     "data": {
      "application/vnd.jupyter.widget-view+json": {
       "model_id": "1a7eb868c58449eca014b1eaf8fa86df",
       "version_major": 2,
       "version_minor": 0
      },
      "text/plain": [
       "  0%|          | 0/393 [00:00<?, ?it/s]"
      ]
     },
     "metadata": {},
     "output_type": "display_data"
    },
    {
     "data": {
      "application/vnd.jupyter.widget-view+json": {
       "model_id": "084c8f45d4ed42979b48219da95534ac",
       "version_major": 2,
       "version_minor": 0
      },
      "text/plain": [
       "  0%|          | 0/393 [00:00<?, ?it/s]"
      ]
     },
     "metadata": {},
     "output_type": "display_data"
    },
    {
     "data": {
      "application/vnd.jupyter.widget-view+json": {
       "model_id": "6e4549cdfdfb4ef6bbd73bb7de699b92",
       "version_major": 2,
       "version_minor": 0
      },
      "text/plain": [
       "  0%|          | 0/393 [00:00<?, ?it/s]"
      ]
     },
     "metadata": {},
     "output_type": "display_data"
    },
    {
     "data": {
      "application/vnd.jupyter.widget-view+json": {
       "model_id": "4d716d002e4b4697b33dfdeb03acd0c4",
       "version_major": 2,
       "version_minor": 0
      },
      "text/plain": [
       "  0%|          | 0/393 [00:00<?, ?it/s]"
      ]
     },
     "metadata": {},
     "output_type": "display_data"
    },
    {
     "data": {
      "application/vnd.jupyter.widget-view+json": {
       "model_id": "1ba8ed7e6ed14365a4ff64f0ec1a9f37",
       "version_major": 2,
       "version_minor": 0
      },
      "text/plain": [
       "  0%|          | 0/393 [00:00<?, ?it/s]"
      ]
     },
     "metadata": {},
     "output_type": "display_data"
    },
    {
     "data": {
      "application/vnd.jupyter.widget-view+json": {
       "model_id": "56bdb3eea5a347e3aa00911ca73a8ada",
       "version_major": 2,
       "version_minor": 0
      },
      "text/plain": [
       "  0%|          | 0/393 [00:00<?, ?it/s]"
      ]
     },
     "metadata": {},
     "output_type": "display_data"
    },
    {
     "data": {
      "application/vnd.jupyter.widget-view+json": {
       "model_id": "3100a3aca0744a0b978b0b77306f245a",
       "version_major": 2,
       "version_minor": 0
      },
      "text/plain": [
       "  0%|          | 0/393 [00:00<?, ?it/s]"
      ]
     },
     "metadata": {},
     "output_type": "display_data"
    },
    {
     "data": {
      "application/vnd.jupyter.widget-view+json": {
       "model_id": "0c77413336db465c8a36f7be54d33204",
       "version_major": 2,
       "version_minor": 0
      },
      "text/plain": [
       "  0%|          | 0/393 [00:00<?, ?it/s]"
      ]
     },
     "metadata": {},
     "output_type": "display_data"
    },
    {
     "data": {
      "application/vnd.jupyter.widget-view+json": {
       "model_id": "fce5cab6b270464c84f88b704bba1630",
       "version_major": 2,
       "version_minor": 0
      },
      "text/plain": [
       "  0%|          | 0/393 [00:00<?, ?it/s]"
      ]
     },
     "metadata": {},
     "output_type": "display_data"
    },
    {
     "data": {
      "application/vnd.jupyter.widget-view+json": {
       "model_id": "7e642ff2727d4e9ea8eb4435db6d7cce",
       "version_major": 2,
       "version_minor": 0
      },
      "text/plain": [
       "  0%|          | 0/393 [00:00<?, ?it/s]"
      ]
     },
     "metadata": {},
     "output_type": "display_data"
    },
    {
     "data": {
      "application/vnd.jupyter.widget-view+json": {
       "model_id": "8e2c4c78c7e744978c4d19857238d75e",
       "version_major": 2,
       "version_minor": 0
      },
      "text/plain": [
       "  0%|          | 0/393 [00:00<?, ?it/s]"
      ]
     },
     "metadata": {},
     "output_type": "display_data"
    },
    {
     "data": {
      "application/vnd.jupyter.widget-view+json": {
       "model_id": "9585c29e1a7141eca1e9da888113b35d",
       "version_major": 2,
       "version_minor": 0
      },
      "text/plain": [
       "  0%|          | 0/393 [00:00<?, ?it/s]"
      ]
     },
     "metadata": {},
     "output_type": "display_data"
    },
    {
     "data": {
      "application/vnd.jupyter.widget-view+json": {
       "model_id": "59d6bac6fd7c4e4b894901d5b481e75e",
       "version_major": 2,
       "version_minor": 0
      },
      "text/plain": [
       "  0%|          | 0/393 [00:00<?, ?it/s]"
      ]
     },
     "metadata": {},
     "output_type": "display_data"
    },
    {
     "data": {
      "application/vnd.jupyter.widget-view+json": {
       "model_id": "ac279d1efe164d4ba1f4dd26b2a8e34c",
       "version_major": 2,
       "version_minor": 0
      },
      "text/plain": [
       "  0%|          | 0/393 [00:00<?, ?it/s]"
      ]
     },
     "metadata": {},
     "output_type": "display_data"
    },
    {
     "data": {
      "application/vnd.jupyter.widget-view+json": {
       "model_id": "8e883064ac064f3999897d6eb182bbc9",
       "version_major": 2,
       "version_minor": 0
      },
      "text/plain": [
       "  0%|          | 0/393 [00:00<?, ?it/s]"
      ]
     },
     "metadata": {},
     "output_type": "display_data"
    },
    {
     "data": {
      "application/vnd.jupyter.widget-view+json": {
       "model_id": "853118ef1e1c4912a9bf2b1d0d9253a9",
       "version_major": 2,
       "version_minor": 0
      },
      "text/plain": [
       "  0%|          | 0/393 [00:00<?, ?it/s]"
      ]
     },
     "metadata": {},
     "output_type": "display_data"
    },
    {
     "data": {
      "application/vnd.jupyter.widget-view+json": {
       "model_id": "4579216c8f07488c9187542ff1047865",
       "version_major": 2,
       "version_minor": 0
      },
      "text/plain": [
       "  0%|          | 0/393 [00:00<?, ?it/s]"
      ]
     },
     "metadata": {},
     "output_type": "display_data"
    },
    {
     "data": {
      "application/vnd.jupyter.widget-view+json": {
       "model_id": "ee3f2e8479324292bbebe243829f08e5",
       "version_major": 2,
       "version_minor": 0
      },
      "text/plain": [
       "  0%|          | 0/393 [00:00<?, ?it/s]"
      ]
     },
     "metadata": {},
     "output_type": "display_data"
    },
    {
     "data": {
      "application/vnd.jupyter.widget-view+json": {
       "model_id": "aab3034675ad4384a03b5c094bbbfd4f",
       "version_major": 2,
       "version_minor": 0
      },
      "text/plain": [
       "  0%|          | 0/393 [00:00<?, ?it/s]"
      ]
     },
     "metadata": {},
     "output_type": "display_data"
    },
    {
     "data": {
      "application/vnd.jupyter.widget-view+json": {
       "model_id": "3bd5f3aaa05d411b8413cd67d56e5ef2",
       "version_major": 2,
       "version_minor": 0
      },
      "text/plain": [
       "  0%|          | 0/393 [00:00<?, ?it/s]"
      ]
     },
     "metadata": {},
     "output_type": "display_data"
    },
    {
     "data": {
      "application/vnd.jupyter.widget-view+json": {
       "model_id": "0b994dd5bc3d4ef88511228aa6550cde",
       "version_major": 2,
       "version_minor": 0
      },
      "text/plain": [
       "  0%|          | 0/393 [00:00<?, ?it/s]"
      ]
     },
     "metadata": {},
     "output_type": "display_data"
    },
    {
     "data": {
      "application/vnd.jupyter.widget-view+json": {
       "model_id": "7698bc0a25b14c1181f82df1b3356902",
       "version_major": 2,
       "version_minor": 0
      },
      "text/plain": [
       "  0%|          | 0/393 [00:00<?, ?it/s]"
      ]
     },
     "metadata": {},
     "output_type": "display_data"
    },
    {
     "data": {
      "application/vnd.jupyter.widget-view+json": {
       "model_id": "29d9940d911440fd886f1b3b49c826c7",
       "version_major": 2,
       "version_minor": 0
      },
      "text/plain": [
       "  0%|          | 0/393 [00:00<?, ?it/s]"
      ]
     },
     "metadata": {},
     "output_type": "display_data"
    },
    {
     "data": {
      "application/vnd.jupyter.widget-view+json": {
       "model_id": "d8ab926ae1d343dc8370853fa2b54320",
       "version_major": 2,
       "version_minor": 0
      },
      "text/plain": [
       "  0%|          | 0/393 [00:00<?, ?it/s]"
      ]
     },
     "metadata": {},
     "output_type": "display_data"
    },
    {
     "data": {
      "application/vnd.jupyter.widget-view+json": {
       "model_id": "5fdcc354d7ae40a9a55a03826bf9aad6",
       "version_major": 2,
       "version_minor": 0
      },
      "text/plain": [
       "  0%|          | 0/393 [00:00<?, ?it/s]"
      ]
     },
     "metadata": {},
     "output_type": "display_data"
    },
    {
     "data": {
      "application/vnd.jupyter.widget-view+json": {
       "model_id": "a53953f5d9f44b1cab3546c8cfb7c9d7",
       "version_major": 2,
       "version_minor": 0
      },
      "text/plain": [
       "  0%|          | 0/393 [00:00<?, ?it/s]"
      ]
     },
     "metadata": {},
     "output_type": "display_data"
    },
    {
     "data": {
      "application/vnd.jupyter.widget-view+json": {
       "model_id": "f23eaa1982574f3e91e6f7ddb4c3e0c2",
       "version_major": 2,
       "version_minor": 0
      },
      "text/plain": [
       "  0%|          | 0/393 [00:00<?, ?it/s]"
      ]
     },
     "metadata": {},
     "output_type": "display_data"
    },
    {
     "data": {
      "application/vnd.jupyter.widget-view+json": {
       "model_id": "7db48b31c8f04d76a8fca73441c297a0",
       "version_major": 2,
       "version_minor": 0
      },
      "text/plain": [
       "  0%|          | 0/393 [00:00<?, ?it/s]"
      ]
     },
     "metadata": {},
     "output_type": "display_data"
    },
    {
     "data": {
      "application/vnd.jupyter.widget-view+json": {
       "model_id": "b35c2fb155d441efb0650bb9b7b76a85",
       "version_major": 2,
       "version_minor": 0
      },
      "text/plain": [
       "  0%|          | 0/393 [00:00<?, ?it/s]"
      ]
     },
     "metadata": {},
     "output_type": "display_data"
    },
    {
     "data": {
      "application/vnd.jupyter.widget-view+json": {
       "model_id": "2e90d0e895204a72bb76a74e7baaf02f",
       "version_major": 2,
       "version_minor": 0
      },
      "text/plain": [
       "  0%|          | 0/393 [00:00<?, ?it/s]"
      ]
     },
     "metadata": {},
     "output_type": "display_data"
    },
    {
     "data": {
      "application/vnd.jupyter.widget-view+json": {
       "model_id": "42ed9f177dd24fec896af03836e8e010",
       "version_major": 2,
       "version_minor": 0
      },
      "text/plain": [
       "  0%|          | 0/393 [00:00<?, ?it/s]"
      ]
     },
     "metadata": {},
     "output_type": "display_data"
    },
    {
     "data": {
      "application/vnd.jupyter.widget-view+json": {
       "model_id": "a45893101144439a9cd113ccea39c72e",
       "version_major": 2,
       "version_minor": 0
      },
      "text/plain": [
       "  0%|          | 0/393 [00:00<?, ?it/s]"
      ]
     },
     "metadata": {},
     "output_type": "display_data"
    },
    {
     "data": {
      "application/vnd.jupyter.widget-view+json": {
       "model_id": "c68ecf435e3d44f5b965fa535ed53675",
       "version_major": 2,
       "version_minor": 0
      },
      "text/plain": [
       "  0%|          | 0/393 [00:00<?, ?it/s]"
      ]
     },
     "metadata": {},
     "output_type": "display_data"
    },
    {
     "data": {
      "application/vnd.jupyter.widget-view+json": {
       "model_id": "284b798abb93488385328f964d487d4c",
       "version_major": 2,
       "version_minor": 0
      },
      "text/plain": [
       "  0%|          | 0/393 [00:00<?, ?it/s]"
      ]
     },
     "metadata": {},
     "output_type": "display_data"
    },
    {
     "data": {
      "application/vnd.jupyter.widget-view+json": {
       "model_id": "be194e0dd38f46d38242b97629916418",
       "version_major": 2,
       "version_minor": 0
      },
      "text/plain": [
       "  0%|          | 0/393 [00:00<?, ?it/s]"
      ]
     },
     "metadata": {},
     "output_type": "display_data"
    },
    {
     "data": {
      "application/vnd.jupyter.widget-view+json": {
       "model_id": "0bf21f3571eb4d6b81c26f6be954fc3d",
       "version_major": 2,
       "version_minor": 0
      },
      "text/plain": [
       "  0%|          | 0/393 [00:00<?, ?it/s]"
      ]
     },
     "metadata": {},
     "output_type": "display_data"
    },
    {
     "data": {
      "application/vnd.jupyter.widget-view+json": {
       "model_id": "8a7763b507ab4089be74a6fc1eb4889d",
       "version_major": 2,
       "version_minor": 0
      },
      "text/plain": [
       "  0%|          | 0/393 [00:00<?, ?it/s]"
      ]
     },
     "metadata": {},
     "output_type": "display_data"
    },
    {
     "data": {
      "application/vnd.jupyter.widget-view+json": {
       "model_id": "8f7f8fbc9a7a4416b574a757ce5c630a",
       "version_major": 2,
       "version_minor": 0
      },
      "text/plain": [
       "  0%|          | 0/393 [00:00<?, ?it/s]"
      ]
     },
     "metadata": {},
     "output_type": "display_data"
    },
    {
     "data": {
      "application/vnd.jupyter.widget-view+json": {
       "model_id": "b11695639a0442ecb532391be1b79f73",
       "version_major": 2,
       "version_minor": 0
      },
      "text/plain": [
       "  0%|          | 0/393 [00:00<?, ?it/s]"
      ]
     },
     "metadata": {},
     "output_type": "display_data"
    },
    {
     "data": {
      "application/vnd.jupyter.widget-view+json": {
       "model_id": "0a9f439d49474aeb93a9ddb49e0fc4e0",
       "version_major": 2,
       "version_minor": 0
      },
      "text/plain": [
       "  0%|          | 0/393 [00:00<?, ?it/s]"
      ]
     },
     "metadata": {},
     "output_type": "display_data"
    },
    {
     "data": {
      "application/vnd.jupyter.widget-view+json": {
       "model_id": "ce72c2365cb24a4597e59192ff6b7f0d",
       "version_major": 2,
       "version_minor": 0
      },
      "text/plain": [
       "  0%|          | 0/393 [00:00<?, ?it/s]"
      ]
     },
     "metadata": {},
     "output_type": "display_data"
    },
    {
     "data": {
      "application/vnd.jupyter.widget-view+json": {
       "model_id": "7629b83477ec4a55927bfd57c7109f6c",
       "version_major": 2,
       "version_minor": 0
      },
      "text/plain": [
       "  0%|          | 0/393 [00:00<?, ?it/s]"
      ]
     },
     "metadata": {},
     "output_type": "display_data"
    },
    {
     "data": {
      "application/vnd.jupyter.widget-view+json": {
       "model_id": "d60637c994264b299af28e8fe51012a1",
       "version_major": 2,
       "version_minor": 0
      },
      "text/plain": [
       "  0%|          | 0/393 [00:00<?, ?it/s]"
      ]
     },
     "metadata": {},
     "output_type": "display_data"
    },
    {
     "data": {
      "application/vnd.jupyter.widget-view+json": {
       "model_id": "e14cbce1d8544a14be37020371cdcc4a",
       "version_major": 2,
       "version_minor": 0
      },
      "text/plain": [
       "  0%|          | 0/393 [00:00<?, ?it/s]"
      ]
     },
     "metadata": {},
     "output_type": "display_data"
    },
    {
     "data": {
      "application/vnd.jupyter.widget-view+json": {
       "model_id": "64f9fe1a21ed4aed9e098b881b2e5581",
       "version_major": 2,
       "version_minor": 0
      },
      "text/plain": [
       "  0%|          | 0/393 [00:00<?, ?it/s]"
      ]
     },
     "metadata": {},
     "output_type": "display_data"
    },
    {
     "data": {
      "application/vnd.jupyter.widget-view+json": {
       "model_id": "241ca69aa28c4f05b7202f7892443f4f",
       "version_major": 2,
       "version_minor": 0
      },
      "text/plain": [
       "  0%|          | 0/393 [00:00<?, ?it/s]"
      ]
     },
     "metadata": {},
     "output_type": "display_data"
    },
    {
     "data": {
      "application/vnd.jupyter.widget-view+json": {
       "model_id": "f65905d2cd184fa89e9aa1fd67f12fc1",
       "version_major": 2,
       "version_minor": 0
      },
      "text/plain": [
       "  0%|          | 0/393 [00:00<?, ?it/s]"
      ]
     },
     "metadata": {},
     "output_type": "display_data"
    },
    {
     "data": {
      "application/vnd.jupyter.widget-view+json": {
       "model_id": "4b6cd29570ec40fabeb7d7407c24ef5b",
       "version_major": 2,
       "version_minor": 0
      },
      "text/plain": [
       "  0%|          | 0/393 [00:00<?, ?it/s]"
      ]
     },
     "metadata": {},
     "output_type": "display_data"
    },
    {
     "data": {
      "application/vnd.jupyter.widget-view+json": {
       "model_id": "210e73a1086a4c8b99be61e1216d816c",
       "version_major": 2,
       "version_minor": 0
      },
      "text/plain": [
       "  0%|          | 0/393 [00:00<?, ?it/s]"
      ]
     },
     "metadata": {},
     "output_type": "display_data"
    },
    {
     "data": {
      "application/vnd.jupyter.widget-view+json": {
       "model_id": "d4dafa763ea84e6aa07020d23c98beab",
       "version_major": 2,
       "version_minor": 0
      },
      "text/plain": [
       "  0%|          | 0/393 [00:00<?, ?it/s]"
      ]
     },
     "metadata": {},
     "output_type": "display_data"
    },
    {
     "data": {
      "application/vnd.jupyter.widget-view+json": {
       "model_id": "d46b37c47a054f2b8fa7b57405d0a091",
       "version_major": 2,
       "version_minor": 0
      },
      "text/plain": [
       "  0%|          | 0/393 [00:00<?, ?it/s]"
      ]
     },
     "metadata": {},
     "output_type": "display_data"
    },
    {
     "data": {
      "application/vnd.jupyter.widget-view+json": {
       "model_id": "4eea69c53d734d47a43c1dc011399a13",
       "version_major": 2,
       "version_minor": 0
      },
      "text/plain": [
       "  0%|          | 0/393 [00:00<?, ?it/s]"
      ]
     },
     "metadata": {},
     "output_type": "display_data"
    },
    {
     "data": {
      "application/vnd.jupyter.widget-view+json": {
       "model_id": "0f3edf0ec4ef44d2b0975ff2f8553957",
       "version_major": 2,
       "version_minor": 0
      },
      "text/plain": [
       "  0%|          | 0/393 [00:00<?, ?it/s]"
      ]
     },
     "metadata": {},
     "output_type": "display_data"
    },
    {
     "data": {
      "application/vnd.jupyter.widget-view+json": {
       "model_id": "263f3089ca9f4b3d9b994e06873786df",
       "version_major": 2,
       "version_minor": 0
      },
      "text/plain": [
       "  0%|          | 0/393 [00:00<?, ?it/s]"
      ]
     },
     "metadata": {},
     "output_type": "display_data"
    },
    {
     "data": {
      "application/vnd.jupyter.widget-view+json": {
       "model_id": "38c9b433f8c440abaff06990e0526901",
       "version_major": 2,
       "version_minor": 0
      },
      "text/plain": [
       "  0%|          | 0/393 [00:00<?, ?it/s]"
      ]
     },
     "metadata": {},
     "output_type": "display_data"
    },
    {
     "data": {
      "application/vnd.jupyter.widget-view+json": {
       "model_id": "c467a1a636d3488490ec11cc69fc5ff1",
       "version_major": 2,
       "version_minor": 0
      },
      "text/plain": [
       "  0%|          | 0/393 [00:00<?, ?it/s]"
      ]
     },
     "metadata": {},
     "output_type": "display_data"
    },
    {
     "data": {
      "application/vnd.jupyter.widget-view+json": {
       "model_id": "653c331427ae4030adce2e428cd4161c",
       "version_major": 2,
       "version_minor": 0
      },
      "text/plain": [
       "  0%|          | 0/393 [00:00<?, ?it/s]"
      ]
     },
     "metadata": {},
     "output_type": "display_data"
    },
    {
     "data": {
      "application/vnd.jupyter.widget-view+json": {
       "model_id": "a7419a83425542ac9b0de442f7d35c0e",
       "version_major": 2,
       "version_minor": 0
      },
      "text/plain": [
       "  0%|          | 0/393 [00:00<?, ?it/s]"
      ]
     },
     "metadata": {},
     "output_type": "display_data"
    },
    {
     "data": {
      "application/vnd.jupyter.widget-view+json": {
       "model_id": "b8989c302fa04a2dbf9f398b859439ea",
       "version_major": 2,
       "version_minor": 0
      },
      "text/plain": [
       "  0%|          | 0/393 [00:00<?, ?it/s]"
      ]
     },
     "metadata": {},
     "output_type": "display_data"
    },
    {
     "data": {
      "application/vnd.jupyter.widget-view+json": {
       "model_id": "de66d6a5bf284a83a1f677fa5973c81a",
       "version_major": 2,
       "version_minor": 0
      },
      "text/plain": [
       "  0%|          | 0/393 [00:00<?, ?it/s]"
      ]
     },
     "metadata": {},
     "output_type": "display_data"
    },
    {
     "data": {
      "application/vnd.jupyter.widget-view+json": {
       "model_id": "025565a6fded45bf9fd1e33e7d78d253",
       "version_major": 2,
       "version_minor": 0
      },
      "text/plain": [
       "  0%|          | 0/393 [00:00<?, ?it/s]"
      ]
     },
     "metadata": {},
     "output_type": "display_data"
    },
    {
     "data": {
      "application/vnd.jupyter.widget-view+json": {
       "model_id": "448499d0bb4f4473be9239a70f843b2d",
       "version_major": 2,
       "version_minor": 0
      },
      "text/plain": [
       "  0%|          | 0/393 [00:00<?, ?it/s]"
      ]
     },
     "metadata": {},
     "output_type": "display_data"
    },
    {
     "data": {
      "application/vnd.jupyter.widget-view+json": {
       "model_id": "ecb69e375d114c0e8dce6dad9a55aac4",
       "version_major": 2,
       "version_minor": 0
      },
      "text/plain": [
       "  0%|          | 0/393 [00:00<?, ?it/s]"
      ]
     },
     "metadata": {},
     "output_type": "display_data"
    },
    {
     "data": {
      "application/vnd.jupyter.widget-view+json": {
       "model_id": "c3828774ff994477b6468d702d0586ae",
       "version_major": 2,
       "version_minor": 0
      },
      "text/plain": [
       "  0%|          | 0/393 [00:00<?, ?it/s]"
      ]
     },
     "metadata": {},
     "output_type": "display_data"
    },
    {
     "data": {
      "application/vnd.jupyter.widget-view+json": {
       "model_id": "ca635a25eebe4674aae345b02e67549c",
       "version_major": 2,
       "version_minor": 0
      },
      "text/plain": [
       "  0%|          | 0/393 [00:00<?, ?it/s]"
      ]
     },
     "metadata": {},
     "output_type": "display_data"
    },
    {
     "data": {
      "application/vnd.jupyter.widget-view+json": {
       "model_id": "97b8bbbdc7494e5ba1ac37ba6e4f6ef7",
       "version_major": 2,
       "version_minor": 0
      },
      "text/plain": [
       "  0%|          | 0/393 [00:00<?, ?it/s]"
      ]
     },
     "metadata": {},
     "output_type": "display_data"
    },
    {
     "data": {
      "application/vnd.jupyter.widget-view+json": {
       "model_id": "025d6e9c667f483eb5f4436eef586996",
       "version_major": 2,
       "version_minor": 0
      },
      "text/plain": [
       "  0%|          | 0/393 [00:00<?, ?it/s]"
      ]
     },
     "metadata": {},
     "output_type": "display_data"
    },
    {
     "data": {
      "application/vnd.jupyter.widget-view+json": {
       "model_id": "793da4c86d0f469290e55ebd0989f223",
       "version_major": 2,
       "version_minor": 0
      },
      "text/plain": [
       "  0%|          | 0/393 [00:00<?, ?it/s]"
      ]
     },
     "metadata": {},
     "output_type": "display_data"
    },
    {
     "data": {
      "application/vnd.jupyter.widget-view+json": {
       "model_id": "01888a9fcdbb4c06950e5b7e119fa41c",
       "version_major": 2,
       "version_minor": 0
      },
      "text/plain": [
       "  0%|          | 0/393 [00:00<?, ?it/s]"
      ]
     },
     "metadata": {},
     "output_type": "display_data"
    },
    {
     "data": {
      "application/vnd.jupyter.widget-view+json": {
       "model_id": "6839df4fd84e47e9897af951d20fdce5",
       "version_major": 2,
       "version_minor": 0
      },
      "text/plain": [
       "  0%|          | 0/393 [00:00<?, ?it/s]"
      ]
     },
     "metadata": {},
     "output_type": "display_data"
    },
    {
     "data": {
      "application/vnd.jupyter.widget-view+json": {
       "model_id": "ecbc1cee141c41f9af7e2ff731235a52",
       "version_major": 2,
       "version_minor": 0
      },
      "text/plain": [
       "  0%|          | 0/393 [00:00<?, ?it/s]"
      ]
     },
     "metadata": {},
     "output_type": "display_data"
    },
    {
     "data": {
      "application/vnd.jupyter.widget-view+json": {
       "model_id": "a7da14fc5997456c8d32b6ac3f0d75d2",
       "version_major": 2,
       "version_minor": 0
      },
      "text/plain": [
       "  0%|          | 0/393 [00:00<?, ?it/s]"
      ]
     },
     "metadata": {},
     "output_type": "display_data"
    },
    {
     "data": {
      "application/vnd.jupyter.widget-view+json": {
       "model_id": "2ed96348e96b40ddb276ee1ee9f3c446",
       "version_major": 2,
       "version_minor": 0
      },
      "text/plain": [
       "  0%|          | 0/393 [00:00<?, ?it/s]"
      ]
     },
     "metadata": {},
     "output_type": "display_data"
    },
    {
     "data": {
      "application/vnd.jupyter.widget-view+json": {
       "model_id": "5eea6f8cad9f4adebe82947e821111d1",
       "version_major": 2,
       "version_minor": 0
      },
      "text/plain": [
       "  0%|          | 0/393 [00:00<?, ?it/s]"
      ]
     },
     "metadata": {},
     "output_type": "display_data"
    },
    {
     "data": {
      "application/vnd.jupyter.widget-view+json": {
       "model_id": "3ac9ca5cd3964187b3caa20c4f57620d",
       "version_major": 2,
       "version_minor": 0
      },
      "text/plain": [
       "  0%|          | 0/393 [00:00<?, ?it/s]"
      ]
     },
     "metadata": {},
     "output_type": "display_data"
    },
    {
     "data": {
      "application/vnd.jupyter.widget-view+json": {
       "model_id": "b03453ac6eb2467ca2ca1c11beb41239",
       "version_major": 2,
       "version_minor": 0
      },
      "text/plain": [
       "  0%|          | 0/393 [00:00<?, ?it/s]"
      ]
     },
     "metadata": {},
     "output_type": "display_data"
    },
    {
     "data": {
      "application/vnd.jupyter.widget-view+json": {
       "model_id": "45b966ce8d1143e499e53f2bb0441628",
       "version_major": 2,
       "version_minor": 0
      },
      "text/plain": [
       "  0%|          | 0/393 [00:00<?, ?it/s]"
      ]
     },
     "metadata": {},
     "output_type": "display_data"
    },
    {
     "data": {
      "application/vnd.jupyter.widget-view+json": {
       "model_id": "035fbb69c1e34f8c97af8633b4bef828",
       "version_major": 2,
       "version_minor": 0
      },
      "text/plain": [
       "  0%|          | 0/393 [00:00<?, ?it/s]"
      ]
     },
     "metadata": {},
     "output_type": "display_data"
    },
    {
     "data": {
      "application/vnd.jupyter.widget-view+json": {
       "model_id": "4dd276ae72864db88b3727fd5a32d896",
       "version_major": 2,
       "version_minor": 0
      },
      "text/plain": [
       "  0%|          | 0/393 [00:00<?, ?it/s]"
      ]
     },
     "metadata": {},
     "output_type": "display_data"
    },
    {
     "data": {
      "application/vnd.jupyter.widget-view+json": {
       "model_id": "e544d4ef478b41d3a883536acea8ee70",
       "version_major": 2,
       "version_minor": 0
      },
      "text/plain": [
       "  0%|          | 0/393 [00:00<?, ?it/s]"
      ]
     },
     "metadata": {},
     "output_type": "display_data"
    },
    {
     "data": {
      "application/vnd.jupyter.widget-view+json": {
       "model_id": "02ffeaed87ef44e2800bd31d76aa8caa",
       "version_major": 2,
       "version_minor": 0
      },
      "text/plain": [
       "  0%|          | 0/393 [00:00<?, ?it/s]"
      ]
     },
     "metadata": {},
     "output_type": "display_data"
    },
    {
     "data": {
      "application/vnd.jupyter.widget-view+json": {
       "model_id": "818b20ceadc947fea938fe8618bb2116",
       "version_major": 2,
       "version_minor": 0
      },
      "text/plain": [
       "  0%|          | 0/393 [00:00<?, ?it/s]"
      ]
     },
     "metadata": {},
     "output_type": "display_data"
    },
    {
     "data": {
      "application/vnd.jupyter.widget-view+json": {
       "model_id": "eabdb37bfadd43bfa80aa31b92aa8931",
       "version_major": 2,
       "version_minor": 0
      },
      "text/plain": [
       "  0%|          | 0/393 [00:00<?, ?it/s]"
      ]
     },
     "metadata": {},
     "output_type": "display_data"
    },
    {
     "data": {
      "application/vnd.jupyter.widget-view+json": {
       "model_id": "c07da373679a4af1a028359dc429f934",
       "version_major": 2,
       "version_minor": 0
      },
      "text/plain": [
       "  0%|          | 0/393 [00:00<?, ?it/s]"
      ]
     },
     "metadata": {},
     "output_type": "display_data"
    },
    {
     "data": {
      "application/vnd.jupyter.widget-view+json": {
       "model_id": "fd1fea698b97485db94ff9bc16dd8dd3",
       "version_major": 2,
       "version_minor": 0
      },
      "text/plain": [
       "  0%|          | 0/393 [00:00<?, ?it/s]"
      ]
     },
     "metadata": {},
     "output_type": "display_data"
    },
    {
     "data": {
      "application/vnd.jupyter.widget-view+json": {
       "model_id": "949afbbedf6f4bac810d229c6cd4a336",
       "version_major": 2,
       "version_minor": 0
      },
      "text/plain": [
       "  0%|          | 0/393 [00:00<?, ?it/s]"
      ]
     },
     "metadata": {},
     "output_type": "display_data"
    },
    {
     "data": {
      "application/vnd.jupyter.widget-view+json": {
       "model_id": "fd22d8d3cb0542068674d52c1bdf7079",
       "version_major": 2,
       "version_minor": 0
      },
      "text/plain": [
       "  0%|          | 0/393 [00:00<?, ?it/s]"
      ]
     },
     "metadata": {},
     "output_type": "display_data"
    },
    {
     "data": {
      "application/vnd.jupyter.widget-view+json": {
       "model_id": "a403b32a3309435e9b0b157e1c14347e",
       "version_major": 2,
       "version_minor": 0
      },
      "text/plain": [
       "  0%|          | 0/393 [00:00<?, ?it/s]"
      ]
     },
     "metadata": {},
     "output_type": "display_data"
    },
    {
     "data": {
      "application/vnd.jupyter.widget-view+json": {
       "model_id": "c3accac08ca943f1b6840bb7d29cf2b8",
       "version_major": 2,
       "version_minor": 0
      },
      "text/plain": [
       "  0%|          | 0/393 [00:00<?, ?it/s]"
      ]
     },
     "metadata": {},
     "output_type": "display_data"
    },
    {
     "data": {
      "application/vnd.jupyter.widget-view+json": {
       "model_id": "6bb528ba21534db3ab549957c867ed15",
       "version_major": 2,
       "version_minor": 0
      },
      "text/plain": [
       "  0%|          | 0/393 [00:00<?, ?it/s]"
      ]
     },
     "metadata": {},
     "output_type": "display_data"
    },
    {
     "data": {
      "application/vnd.jupyter.widget-view+json": {
       "model_id": "ee41339835af46ac9c15ca9f9c3fffc9",
       "version_major": 2,
       "version_minor": 0
      },
      "text/plain": [
       "  0%|          | 0/393 [00:00<?, ?it/s]"
      ]
     },
     "metadata": {},
     "output_type": "display_data"
    },
    {
     "data": {
      "application/vnd.jupyter.widget-view+json": {
       "model_id": "f9a7daea1e344b3ba32798e7d9cb402b",
       "version_major": 2,
       "version_minor": 0
      },
      "text/plain": [
       "  0%|          | 0/393 [00:00<?, ?it/s]"
      ]
     },
     "metadata": {},
     "output_type": "display_data"
    },
    {
     "data": {
      "application/vnd.jupyter.widget-view+json": {
       "model_id": "00c30df9974a43e18719403f9999ac9c",
       "version_major": 2,
       "version_minor": 0
      },
      "text/plain": [
       "  0%|          | 0/393 [00:00<?, ?it/s]"
      ]
     },
     "metadata": {},
     "output_type": "display_data"
    },
    {
     "data": {
      "application/vnd.jupyter.widget-view+json": {
       "model_id": "b5560deb6e1746f6826cab140a641568",
       "version_major": 2,
       "version_minor": 0
      },
      "text/plain": [
       "  0%|          | 0/393 [00:00<?, ?it/s]"
      ]
     },
     "metadata": {},
     "output_type": "display_data"
    },
    {
     "data": {
      "application/vnd.jupyter.widget-view+json": {
       "model_id": "94d1d2a0f65349ce9f466ad70a23003a",
       "version_major": 2,
       "version_minor": 0
      },
      "text/plain": [
       "  0%|          | 0/393 [00:00<?, ?it/s]"
      ]
     },
     "metadata": {},
     "output_type": "display_data"
    },
    {
     "data": {
      "application/vnd.jupyter.widget-view+json": {
       "model_id": "146fab9bf6c84b44a3d3262dd67a7e77",
       "version_major": 2,
       "version_minor": 0
      },
      "text/plain": [
       "  0%|          | 0/393 [00:00<?, ?it/s]"
      ]
     },
     "metadata": {},
     "output_type": "display_data"
    },
    {
     "data": {
      "application/vnd.jupyter.widget-view+json": {
       "model_id": "cf5d8b86f3e241ca94d89eb55fe5adc2",
       "version_major": 2,
       "version_minor": 0
      },
      "text/plain": [
       "  0%|          | 0/393 [00:00<?, ?it/s]"
      ]
     },
     "metadata": {},
     "output_type": "display_data"
    },
    {
     "data": {
      "application/vnd.jupyter.widget-view+json": {
       "model_id": "7df6acf296694aca889b0b610cfc46ed",
       "version_major": 2,
       "version_minor": 0
      },
      "text/plain": [
       "  0%|          | 0/393 [00:00<?, ?it/s]"
      ]
     },
     "metadata": {},
     "output_type": "display_data"
    },
    {
     "data": {
      "application/vnd.jupyter.widget-view+json": {
       "model_id": "dea527c5f51046ba8acca60ff9c6aae9",
       "version_major": 2,
       "version_minor": 0
      },
      "text/plain": [
       "  0%|          | 0/393 [00:00<?, ?it/s]"
      ]
     },
     "metadata": {},
     "output_type": "display_data"
    },
    {
     "data": {
      "application/vnd.jupyter.widget-view+json": {
       "model_id": "452fbab591e14593a7fde15d4bd514de",
       "version_major": 2,
       "version_minor": 0
      },
      "text/plain": [
       "  0%|          | 0/393 [00:00<?, ?it/s]"
      ]
     },
     "metadata": {},
     "output_type": "display_data"
    },
    {
     "data": {
      "application/vnd.jupyter.widget-view+json": {
       "model_id": "36731abc3e9a4dbea32b04d84268cc98",
       "version_major": 2,
       "version_minor": 0
      },
      "text/plain": [
       "  0%|          | 0/393 [00:00<?, ?it/s]"
      ]
     },
     "metadata": {},
     "output_type": "display_data"
    },
    {
     "data": {
      "application/vnd.jupyter.widget-view+json": {
       "model_id": "8fed30d85c3a485b9a592015d47bde20",
       "version_major": 2,
       "version_minor": 0
      },
      "text/plain": [
       "  0%|          | 0/393 [00:00<?, ?it/s]"
      ]
     },
     "metadata": {},
     "output_type": "display_data"
    },
    {
     "data": {
      "application/vnd.jupyter.widget-view+json": {
       "model_id": "d760aa1038bf4fe6b3f9d18e796c28a6",
       "version_major": 2,
       "version_minor": 0
      },
      "text/plain": [
       "  0%|          | 0/393 [00:00<?, ?it/s]"
      ]
     },
     "metadata": {},
     "output_type": "display_data"
    },
    {
     "data": {
      "application/vnd.jupyter.widget-view+json": {
       "model_id": "85a0a40a46ea45f989940e8ac06c2cec",
       "version_major": 2,
       "version_minor": 0
      },
      "text/plain": [
       "  0%|          | 0/393 [00:00<?, ?it/s]"
      ]
     },
     "metadata": {},
     "output_type": "display_data"
    },
    {
     "data": {
      "application/vnd.jupyter.widget-view+json": {
       "model_id": "2f2f5923239d4dc084622d806cfaa3e0",
       "version_major": 2,
       "version_minor": 0
      },
      "text/plain": [
       "  0%|          | 0/393 [00:00<?, ?it/s]"
      ]
     },
     "metadata": {},
     "output_type": "display_data"
    },
    {
     "data": {
      "application/vnd.jupyter.widget-view+json": {
       "model_id": "63350e54405f46eda3cd07d7bb855a24",
       "version_major": 2,
       "version_minor": 0
      },
      "text/plain": [
       "  0%|          | 0/393 [00:00<?, ?it/s]"
      ]
     },
     "metadata": {},
     "output_type": "display_data"
    },
    {
     "data": {
      "application/vnd.jupyter.widget-view+json": {
       "model_id": "d8ea5a504921488eb60ec3b7a4148f97",
       "version_major": 2,
       "version_minor": 0
      },
      "text/plain": [
       "  0%|          | 0/393 [00:00<?, ?it/s]"
      ]
     },
     "metadata": {},
     "output_type": "display_data"
    },
    {
     "data": {
      "application/vnd.jupyter.widget-view+json": {
       "model_id": "f0a45aea5e4d462cb450d13a14624f20",
       "version_major": 2,
       "version_minor": 0
      },
      "text/plain": [
       "  0%|          | 0/393 [00:00<?, ?it/s]"
      ]
     },
     "metadata": {},
     "output_type": "display_data"
    },
    {
     "data": {
      "application/vnd.jupyter.widget-view+json": {
       "model_id": "ab64e49478e449e58a483d71a07e9803",
       "version_major": 2,
       "version_minor": 0
      },
      "text/plain": [
       "  0%|          | 0/393 [00:00<?, ?it/s]"
      ]
     },
     "metadata": {},
     "output_type": "display_data"
    },
    {
     "data": {
      "application/vnd.jupyter.widget-view+json": {
       "model_id": "35bfe96af7b249f78f78f5ca46385f0b",
       "version_major": 2,
       "version_minor": 0
      },
      "text/plain": [
       "  0%|          | 0/393 [00:00<?, ?it/s]"
      ]
     },
     "metadata": {},
     "output_type": "display_data"
    },
    {
     "data": {
      "application/vnd.jupyter.widget-view+json": {
       "model_id": "dc915aa072f543f9ba951bcc9358774a",
       "version_major": 2,
       "version_minor": 0
      },
      "text/plain": [
       "  0%|          | 0/393 [00:00<?, ?it/s]"
      ]
     },
     "metadata": {},
     "output_type": "display_data"
    },
    {
     "data": {
      "application/vnd.jupyter.widget-view+json": {
       "model_id": "0b4dc7194e76462eb3216f4ddab74bdf",
       "version_major": 2,
       "version_minor": 0
      },
      "text/plain": [
       "  0%|          | 0/393 [00:00<?, ?it/s]"
      ]
     },
     "metadata": {},
     "output_type": "display_data"
    },
    {
     "data": {
      "application/vnd.jupyter.widget-view+json": {
       "model_id": "9e0c70c34c1b42d184f369a1cd774390",
       "version_major": 2,
       "version_minor": 0
      },
      "text/plain": [
       "  0%|          | 0/393 [00:00<?, ?it/s]"
      ]
     },
     "metadata": {},
     "output_type": "display_data"
    },
    {
     "data": {
      "application/vnd.jupyter.widget-view+json": {
       "model_id": "970f39dad44e43309c3077ccaab5a79d",
       "version_major": 2,
       "version_minor": 0
      },
      "text/plain": [
       "  0%|          | 0/393 [00:00<?, ?it/s]"
      ]
     },
     "metadata": {},
     "output_type": "display_data"
    },
    {
     "data": {
      "application/vnd.jupyter.widget-view+json": {
       "model_id": "e4d1268f9344451299ac4f162ee426d9",
       "version_major": 2,
       "version_minor": 0
      },
      "text/plain": [
       "  0%|          | 0/393 [00:00<?, ?it/s]"
      ]
     },
     "metadata": {},
     "output_type": "display_data"
    },
    {
     "data": {
      "application/vnd.jupyter.widget-view+json": {
       "model_id": "8edf09b37f2e45598efe48a1577596e4",
       "version_major": 2,
       "version_minor": 0
      },
      "text/plain": [
       "  0%|          | 0/393 [00:00<?, ?it/s]"
      ]
     },
     "metadata": {},
     "output_type": "display_data"
    },
    {
     "data": {
      "application/vnd.jupyter.widget-view+json": {
       "model_id": "3aaacca851e64f9a98db9f8b281b5f30",
       "version_major": 2,
       "version_minor": 0
      },
      "text/plain": [
       "  0%|          | 0/393 [00:00<?, ?it/s]"
      ]
     },
     "metadata": {},
     "output_type": "display_data"
    },
    {
     "data": {
      "application/vnd.jupyter.widget-view+json": {
       "model_id": "71ea46fa9c724b31b230b3e7378414fc",
       "version_major": 2,
       "version_minor": 0
      },
      "text/plain": [
       "  0%|          | 0/393 [00:00<?, ?it/s]"
      ]
     },
     "metadata": {},
     "output_type": "display_data"
    },
    {
     "data": {
      "application/vnd.jupyter.widget-view+json": {
       "model_id": "864ce11fbcc54265955f2c732c848bf4",
       "version_major": 2,
       "version_minor": 0
      },
      "text/plain": [
       "  0%|          | 0/393 [00:00<?, ?it/s]"
      ]
     },
     "metadata": {},
     "output_type": "display_data"
    },
    {
     "data": {
      "application/vnd.jupyter.widget-view+json": {
       "model_id": "c31a2f7b717549109ebed21c80340616",
       "version_major": 2,
       "version_minor": 0
      },
      "text/plain": [
       "  0%|          | 0/393 [00:00<?, ?it/s]"
      ]
     },
     "metadata": {},
     "output_type": "display_data"
    },
    {
     "data": {
      "application/vnd.jupyter.widget-view+json": {
       "model_id": "282873e77ac141f1bc3f69bae6f0c00f",
       "version_major": 2,
       "version_minor": 0
      },
      "text/plain": [
       "  0%|          | 0/393 [00:00<?, ?it/s]"
      ]
     },
     "metadata": {},
     "output_type": "display_data"
    },
    {
     "data": {
      "application/vnd.jupyter.widget-view+json": {
       "model_id": "0e38c9432ca04203bc11d600b089addb",
       "version_major": 2,
       "version_minor": 0
      },
      "text/plain": [
       "  0%|          | 0/393 [00:00<?, ?it/s]"
      ]
     },
     "metadata": {},
     "output_type": "display_data"
    },
    {
     "data": {
      "application/vnd.jupyter.widget-view+json": {
       "model_id": "72da028aa57c445995adcc62794be505",
       "version_major": 2,
       "version_minor": 0
      },
      "text/plain": [
       "  0%|          | 0/393 [00:00<?, ?it/s]"
      ]
     },
     "metadata": {},
     "output_type": "display_data"
    },
    {
     "data": {
      "application/vnd.jupyter.widget-view+json": {
       "model_id": "84532a895e6743148e6296d622a81c3b",
       "version_major": 2,
       "version_minor": 0
      },
      "text/plain": [
       "  0%|          | 0/393 [00:00<?, ?it/s]"
      ]
     },
     "metadata": {},
     "output_type": "display_data"
    },
    {
     "data": {
      "application/vnd.jupyter.widget-view+json": {
       "model_id": "e91adfcf70d94bda87cd07531409105a",
       "version_major": 2,
       "version_minor": 0
      },
      "text/plain": [
       "  0%|          | 0/393 [00:00<?, ?it/s]"
      ]
     },
     "metadata": {},
     "output_type": "display_data"
    },
    {
     "data": {
      "application/vnd.jupyter.widget-view+json": {
       "model_id": "e1b5531930d94f3381b9b0054097e667",
       "version_major": 2,
       "version_minor": 0
      },
      "text/plain": [
       "  0%|          | 0/393 [00:00<?, ?it/s]"
      ]
     },
     "metadata": {},
     "output_type": "display_data"
    },
    {
     "data": {
      "application/vnd.jupyter.widget-view+json": {
       "model_id": "925ca0ee9a37447883886822b8a8caf6",
       "version_major": 2,
       "version_minor": 0
      },
      "text/plain": [
       "  0%|          | 0/393 [00:00<?, ?it/s]"
      ]
     },
     "metadata": {},
     "output_type": "display_data"
    },
    {
     "data": {
      "application/vnd.jupyter.widget-view+json": {
       "model_id": "400ce03b98ff4cb8ac22b701aaaf673e",
       "version_major": 2,
       "version_minor": 0
      },
      "text/plain": [
       "  0%|          | 0/393 [00:00<?, ?it/s]"
      ]
     },
     "metadata": {},
     "output_type": "display_data"
    },
    {
     "data": {
      "application/vnd.jupyter.widget-view+json": {
       "model_id": "082710fbdcc141a9abae5263e8927ec3",
       "version_major": 2,
       "version_minor": 0
      },
      "text/plain": [
       "  0%|          | 0/393 [00:00<?, ?it/s]"
      ]
     },
     "metadata": {},
     "output_type": "display_data"
    },
    {
     "data": {
      "application/vnd.jupyter.widget-view+json": {
       "model_id": "a7914dd9cefd4a1987cf79496aedb7ac",
       "version_major": 2,
       "version_minor": 0
      },
      "text/plain": [
       "  0%|          | 0/393 [00:00<?, ?it/s]"
      ]
     },
     "metadata": {},
     "output_type": "display_data"
    },
    {
     "data": {
      "application/vnd.jupyter.widget-view+json": {
       "model_id": "ea910663eb8744089383fed5321315d7",
       "version_major": 2,
       "version_minor": 0
      },
      "text/plain": [
       "  0%|          | 0/393 [00:00<?, ?it/s]"
      ]
     },
     "metadata": {},
     "output_type": "display_data"
    },
    {
     "data": {
      "application/vnd.jupyter.widget-view+json": {
       "model_id": "081e0a2a591a4e6d99560cc9207e4b2d",
       "version_major": 2,
       "version_minor": 0
      },
      "text/plain": [
       "  0%|          | 0/393 [00:00<?, ?it/s]"
      ]
     },
     "metadata": {},
     "output_type": "display_data"
    },
    {
     "data": {
      "application/vnd.jupyter.widget-view+json": {
       "model_id": "0377affa45d742c590f700aaeb83b43e",
       "version_major": 2,
       "version_minor": 0
      },
      "text/plain": [
       "  0%|          | 0/393 [00:00<?, ?it/s]"
      ]
     },
     "metadata": {},
     "output_type": "display_data"
    },
    {
     "data": {
      "application/vnd.jupyter.widget-view+json": {
       "model_id": "ffe565bb97d84cbe8c28c03b9d552dd2",
       "version_major": 2,
       "version_minor": 0
      },
      "text/plain": [
       "  0%|          | 0/393 [00:00<?, ?it/s]"
      ]
     },
     "metadata": {},
     "output_type": "display_data"
    },
    {
     "data": {
      "application/vnd.jupyter.widget-view+json": {
       "model_id": "fb390e3069d740078ccd5df2550dc069",
       "version_major": 2,
       "version_minor": 0
      },
      "text/plain": [
       "  0%|          | 0/393 [00:00<?, ?it/s]"
      ]
     },
     "metadata": {},
     "output_type": "display_data"
    },
    {
     "data": {
      "application/vnd.jupyter.widget-view+json": {
       "model_id": "b2aae3bcc9964573a3b229efb577618e",
       "version_major": 2,
       "version_minor": 0
      },
      "text/plain": [
       "  0%|          | 0/393 [00:00<?, ?it/s]"
      ]
     },
     "metadata": {},
     "output_type": "display_data"
    },
    {
     "data": {
      "application/vnd.jupyter.widget-view+json": {
       "model_id": "f7bcf64ffe7c467fb8a1a7b55c98cadf",
       "version_major": 2,
       "version_minor": 0
      },
      "text/plain": [
       "  0%|          | 0/393 [00:00<?, ?it/s]"
      ]
     },
     "metadata": {},
     "output_type": "display_data"
    },
    {
     "data": {
      "application/vnd.jupyter.widget-view+json": {
       "model_id": "4dba514b3d384547822957f3e95eeb7d",
       "version_major": 2,
       "version_minor": 0
      },
      "text/plain": [
       "  0%|          | 0/393 [00:00<?, ?it/s]"
      ]
     },
     "metadata": {},
     "output_type": "display_data"
    },
    {
     "data": {
      "application/vnd.jupyter.widget-view+json": {
       "model_id": "796041a7789e4d54b7ab7dded14237aa",
       "version_major": 2,
       "version_minor": 0
      },
      "text/plain": [
       "  0%|          | 0/393 [00:00<?, ?it/s]"
      ]
     },
     "metadata": {},
     "output_type": "display_data"
    },
    {
     "data": {
      "application/vnd.jupyter.widget-view+json": {
       "model_id": "859a0b0c6ae74488a911ab1bc540274e",
       "version_major": 2,
       "version_minor": 0
      },
      "text/plain": [
       "  0%|          | 0/393 [00:00<?, ?it/s]"
      ]
     },
     "metadata": {},
     "output_type": "display_data"
    },
    {
     "data": {
      "application/vnd.jupyter.widget-view+json": {
       "model_id": "864fc52258d04825bd343cf7d5d03c66",
       "version_major": 2,
       "version_minor": 0
      },
      "text/plain": [
       "  0%|          | 0/393 [00:00<?, ?it/s]"
      ]
     },
     "metadata": {},
     "output_type": "display_data"
    },
    {
     "data": {
      "application/vnd.jupyter.widget-view+json": {
       "model_id": "1ea8daa46afa4b298c66734c0e3eed28",
       "version_major": 2,
       "version_minor": 0
      },
      "text/plain": [
       "  0%|          | 0/393 [00:00<?, ?it/s]"
      ]
     },
     "metadata": {},
     "output_type": "display_data"
    },
    {
     "data": {
      "application/vnd.jupyter.widget-view+json": {
       "model_id": "28e8290247d44c5caca3ad1fa93685c1",
       "version_major": 2,
       "version_minor": 0
      },
      "text/plain": [
       "  0%|          | 0/393 [00:00<?, ?it/s]"
      ]
     },
     "metadata": {},
     "output_type": "display_data"
    },
    {
     "data": {
      "application/vnd.jupyter.widget-view+json": {
       "model_id": "5d3bc620cf8e4d2eb1cb7f749a142ef5",
       "version_major": 2,
       "version_minor": 0
      },
      "text/plain": [
       "  0%|          | 0/393 [00:00<?, ?it/s]"
      ]
     },
     "metadata": {},
     "output_type": "display_data"
    },
    {
     "data": {
      "application/vnd.jupyter.widget-view+json": {
       "model_id": "7118ebb60bd94a168704a30147b7cbc7",
       "version_major": 2,
       "version_minor": 0
      },
      "text/plain": [
       "  0%|          | 0/393 [00:00<?, ?it/s]"
      ]
     },
     "metadata": {},
     "output_type": "display_data"
    },
    {
     "data": {
      "application/vnd.jupyter.widget-view+json": {
       "model_id": "1a768e4bdc8e46d994dc478d969bcb42",
       "version_major": 2,
       "version_minor": 0
      },
      "text/plain": [
       "  0%|          | 0/393 [00:00<?, ?it/s]"
      ]
     },
     "metadata": {},
     "output_type": "display_data"
    },
    {
     "data": {
      "application/vnd.jupyter.widget-view+json": {
       "model_id": "c7f670fc124c4aacb66080012c3e0c40",
       "version_major": 2,
       "version_minor": 0
      },
      "text/plain": [
       "  0%|          | 0/393 [00:00<?, ?it/s]"
      ]
     },
     "metadata": {},
     "output_type": "display_data"
    },
    {
     "data": {
      "application/vnd.jupyter.widget-view+json": {
       "model_id": "4a63edb30b7540feb02ebb47e4ad31a1",
       "version_major": 2,
       "version_minor": 0
      },
      "text/plain": [
       "  0%|          | 0/393 [00:00<?, ?it/s]"
      ]
     },
     "metadata": {},
     "output_type": "display_data"
    },
    {
     "data": {
      "application/vnd.jupyter.widget-view+json": {
       "model_id": "779287e19ab042139f70f308d33dacbb",
       "version_major": 2,
       "version_minor": 0
      },
      "text/plain": [
       "  0%|          | 0/393 [00:00<?, ?it/s]"
      ]
     },
     "metadata": {},
     "output_type": "display_data"
    },
    {
     "data": {
      "application/vnd.jupyter.widget-view+json": {
       "model_id": "fe71a3f9037e43f492caf31b3d5b1838",
       "version_major": 2,
       "version_minor": 0
      },
      "text/plain": [
       "  0%|          | 0/393 [00:00<?, ?it/s]"
      ]
     },
     "metadata": {},
     "output_type": "display_data"
    },
    {
     "data": {
      "application/vnd.jupyter.widget-view+json": {
       "model_id": "c5439428b5a94b148f935f68644080af",
       "version_major": 2,
       "version_minor": 0
      },
      "text/plain": [
       "  0%|          | 0/393 [00:00<?, ?it/s]"
      ]
     },
     "metadata": {},
     "output_type": "display_data"
    },
    {
     "data": {
      "application/vnd.jupyter.widget-view+json": {
       "model_id": "204dd38607ae4742bc6e3c2dbdadf35a",
       "version_major": 2,
       "version_minor": 0
      },
      "text/plain": [
       "  0%|          | 0/393 [00:00<?, ?it/s]"
      ]
     },
     "metadata": {},
     "output_type": "display_data"
    },
    {
     "data": {
      "application/vnd.jupyter.widget-view+json": {
       "model_id": "6d30cc1c9bf646a4ac656d93535dd946",
       "version_major": 2,
       "version_minor": 0
      },
      "text/plain": [
       "  0%|          | 0/393 [00:00<?, ?it/s]"
      ]
     },
     "metadata": {},
     "output_type": "display_data"
    },
    {
     "data": {
      "application/vnd.jupyter.widget-view+json": {
       "model_id": "bf756c90278f40a78c7d3053d5e36ce2",
       "version_major": 2,
       "version_minor": 0
      },
      "text/plain": [
       "  0%|          | 0/393 [00:00<?, ?it/s]"
      ]
     },
     "metadata": {},
     "output_type": "display_data"
    },
    {
     "data": {
      "application/vnd.jupyter.widget-view+json": {
       "model_id": "8a98405d2a104116ab76e4f8cfe8b1df",
       "version_major": 2,
       "version_minor": 0
      },
      "text/plain": [
       "  0%|          | 0/393 [00:00<?, ?it/s]"
      ]
     },
     "metadata": {},
     "output_type": "display_data"
    },
    {
     "data": {
      "application/vnd.jupyter.widget-view+json": {
       "model_id": "aaf6c32c0faf43b9812e312b749d109e",
       "version_major": 2,
       "version_minor": 0
      },
      "text/plain": [
       "  0%|          | 0/393 [00:00<?, ?it/s]"
      ]
     },
     "metadata": {},
     "output_type": "display_data"
    },
    {
     "data": {
      "application/vnd.jupyter.widget-view+json": {
       "model_id": "7e95733ce7dc4ad181b7097743e5030f",
       "version_major": 2,
       "version_minor": 0
      },
      "text/plain": [
       "  0%|          | 0/393 [00:00<?, ?it/s]"
      ]
     },
     "metadata": {},
     "output_type": "display_data"
    },
    {
     "data": {
      "application/vnd.jupyter.widget-view+json": {
       "model_id": "da2384276dbb408384043282896dbd2f",
       "version_major": 2,
       "version_minor": 0
      },
      "text/plain": [
       "  0%|          | 0/393 [00:00<?, ?it/s]"
      ]
     },
     "metadata": {},
     "output_type": "display_data"
    },
    {
     "data": {
      "application/vnd.jupyter.widget-view+json": {
       "model_id": "554be460207e408b9460ff6dda133b05",
       "version_major": 2,
       "version_minor": 0
      },
      "text/plain": [
       "  0%|          | 0/393 [00:00<?, ?it/s]"
      ]
     },
     "metadata": {},
     "output_type": "display_data"
    },
    {
     "data": {
      "application/vnd.jupyter.widget-view+json": {
       "model_id": "05a57b754f884c8dbff798e2495eb74d",
       "version_major": 2,
       "version_minor": 0
      },
      "text/plain": [
       "  0%|          | 0/393 [00:00<?, ?it/s]"
      ]
     },
     "metadata": {},
     "output_type": "display_data"
    },
    {
     "data": {
      "application/vnd.jupyter.widget-view+json": {
       "model_id": "b07213e2db324936b147871c8df25310",
       "version_major": 2,
       "version_minor": 0
      },
      "text/plain": [
       "  0%|          | 0/393 [00:00<?, ?it/s]"
      ]
     },
     "metadata": {},
     "output_type": "display_data"
    },
    {
     "data": {
      "application/vnd.jupyter.widget-view+json": {
       "model_id": "aa251929f6464047a5039c3410fb4c53",
       "version_major": 2,
       "version_minor": 0
      },
      "text/plain": [
       "  0%|          | 0/393 [00:00<?, ?it/s]"
      ]
     },
     "metadata": {},
     "output_type": "display_data"
    },
    {
     "data": {
      "application/vnd.jupyter.widget-view+json": {
       "model_id": "b423487f7a6e4e81b0c1d7c1da7f40cf",
       "version_major": 2,
       "version_minor": 0
      },
      "text/plain": [
       "  0%|          | 0/393 [00:00<?, ?it/s]"
      ]
     },
     "metadata": {},
     "output_type": "display_data"
    },
    {
     "data": {
      "application/vnd.jupyter.widget-view+json": {
       "model_id": "0efb0fe8791d484ab24ed3779aaa719f",
       "version_major": 2,
       "version_minor": 0
      },
      "text/plain": [
       "  0%|          | 0/393 [00:00<?, ?it/s]"
      ]
     },
     "metadata": {},
     "output_type": "display_data"
    },
    {
     "data": {
      "application/vnd.jupyter.widget-view+json": {
       "model_id": "1890d8e8376445caa94efb8fdeb4094b",
       "version_major": 2,
       "version_minor": 0
      },
      "text/plain": [
       "  0%|          | 0/393 [00:00<?, ?it/s]"
      ]
     },
     "metadata": {},
     "output_type": "display_data"
    },
    {
     "data": {
      "application/vnd.jupyter.widget-view+json": {
       "model_id": "3a6380b023df4278b8c777a96c18b19b",
       "version_major": 2,
       "version_minor": 0
      },
      "text/plain": [
       "  0%|          | 0/393 [00:00<?, ?it/s]"
      ]
     },
     "metadata": {},
     "output_type": "display_data"
    },
    {
     "data": {
      "application/vnd.jupyter.widget-view+json": {
       "model_id": "4425bd9d2cb7464381cb619d3412b53b",
       "version_major": 2,
       "version_minor": 0
      },
      "text/plain": [
       "  0%|          | 0/393 [00:00<?, ?it/s]"
      ]
     },
     "metadata": {},
     "output_type": "display_data"
    },
    {
     "data": {
      "application/vnd.jupyter.widget-view+json": {
       "model_id": "25ab4751500f4e0fa60f275b22aed913",
       "version_major": 2,
       "version_minor": 0
      },
      "text/plain": [
       "  0%|          | 0/393 [00:00<?, ?it/s]"
      ]
     },
     "metadata": {},
     "output_type": "display_data"
    },
    {
     "data": {
      "application/vnd.jupyter.widget-view+json": {
       "model_id": "83be63ba2a204a31a9de4460f05e2aed",
       "version_major": 2,
       "version_minor": 0
      },
      "text/plain": [
       "  0%|          | 0/393 [00:00<?, ?it/s]"
      ]
     },
     "metadata": {},
     "output_type": "display_data"
    },
    {
     "data": {
      "application/vnd.jupyter.widget-view+json": {
       "model_id": "0141f7a13fc74202892603824c5d0a0e",
       "version_major": 2,
       "version_minor": 0
      },
      "text/plain": [
       "  0%|          | 0/393 [00:00<?, ?it/s]"
      ]
     },
     "metadata": {},
     "output_type": "display_data"
    },
    {
     "data": {
      "application/vnd.jupyter.widget-view+json": {
       "model_id": "e32c51f4cfc7426da34eefe340fecd56",
       "version_major": 2,
       "version_minor": 0
      },
      "text/plain": [
       "  0%|          | 0/393 [00:00<?, ?it/s]"
      ]
     },
     "metadata": {},
     "output_type": "display_data"
    },
    {
     "data": {
      "application/vnd.jupyter.widget-view+json": {
       "model_id": "1f51fc63715443b2be921c599a349b39",
       "version_major": 2,
       "version_minor": 0
      },
      "text/plain": [
       "  0%|          | 0/393 [00:00<?, ?it/s]"
      ]
     },
     "metadata": {},
     "output_type": "display_data"
    },
    {
     "data": {
      "application/vnd.jupyter.widget-view+json": {
       "model_id": "71b33ccd1da441e8813eb37716882077",
       "version_major": 2,
       "version_minor": 0
      },
      "text/plain": [
       "  0%|          | 0/393 [00:00<?, ?it/s]"
      ]
     },
     "metadata": {},
     "output_type": "display_data"
    },
    {
     "data": {
      "application/vnd.jupyter.widget-view+json": {
       "model_id": "eaa97a51807c4fca8bffc67dafb954bb",
       "version_major": 2,
       "version_minor": 0
      },
      "text/plain": [
       "  0%|          | 0/393 [00:00<?, ?it/s]"
      ]
     },
     "metadata": {},
     "output_type": "display_data"
    },
    {
     "data": {
      "application/vnd.jupyter.widget-view+json": {
       "model_id": "78476a809fb24d8cbaa1825d8bdb7d07",
       "version_major": 2,
       "version_minor": 0
      },
      "text/plain": [
       "  0%|          | 0/393 [00:00<?, ?it/s]"
      ]
     },
     "metadata": {},
     "output_type": "display_data"
    },
    {
     "data": {
      "application/vnd.jupyter.widget-view+json": {
       "model_id": "67265cff581e4bf3b061fb7c57fce435",
       "version_major": 2,
       "version_minor": 0
      },
      "text/plain": [
       "  0%|          | 0/393 [00:00<?, ?it/s]"
      ]
     },
     "metadata": {},
     "output_type": "display_data"
    },
    {
     "data": {
      "application/vnd.jupyter.widget-view+json": {
       "model_id": "fddef4dc08d94e44a3daa8dbd756228e",
       "version_major": 2,
       "version_minor": 0
      },
      "text/plain": [
       "  0%|          | 0/393 [00:00<?, ?it/s]"
      ]
     },
     "metadata": {},
     "output_type": "display_data"
    },
    {
     "data": {
      "application/vnd.jupyter.widget-view+json": {
       "model_id": "2f557da9d7354a4bb6d67ee965fd9362",
       "version_major": 2,
       "version_minor": 0
      },
      "text/plain": [
       "  0%|          | 0/393 [00:00<?, ?it/s]"
      ]
     },
     "metadata": {},
     "output_type": "display_data"
    },
    {
     "data": {
      "application/vnd.jupyter.widget-view+json": {
       "model_id": "5ecf813c5ef04ce28b1994711462d91c",
       "version_major": 2,
       "version_minor": 0
      },
      "text/plain": [
       "  0%|          | 0/393 [00:00<?, ?it/s]"
      ]
     },
     "metadata": {},
     "output_type": "display_data"
    },
    {
     "data": {
      "application/vnd.jupyter.widget-view+json": {
       "model_id": "84c7fdf657954904beeb10f80f34e8af",
       "version_major": 2,
       "version_minor": 0
      },
      "text/plain": [
       "  0%|          | 0/393 [00:00<?, ?it/s]"
      ]
     },
     "metadata": {},
     "output_type": "display_data"
    },
    {
     "data": {
      "application/vnd.jupyter.widget-view+json": {
       "model_id": "623de0d8b7114f53bdc7793a97c09910",
       "version_major": 2,
       "version_minor": 0
      },
      "text/plain": [
       "  0%|          | 0/393 [00:00<?, ?it/s]"
      ]
     },
     "metadata": {},
     "output_type": "display_data"
    },
    {
     "data": {
      "application/vnd.jupyter.widget-view+json": {
       "model_id": "cf54cfc4e17a4dddac1330e5f2ba8bfd",
       "version_major": 2,
       "version_minor": 0
      },
      "text/plain": [
       "  0%|          | 0/393 [00:00<?, ?it/s]"
      ]
     },
     "metadata": {},
     "output_type": "display_data"
    },
    {
     "data": {
      "application/vnd.jupyter.widget-view+json": {
       "model_id": "127d4324e7e744c3b0d19fb1fe7e9cb1",
       "version_major": 2,
       "version_minor": 0
      },
      "text/plain": [
       "  0%|          | 0/393 [00:00<?, ?it/s]"
      ]
     },
     "metadata": {},
     "output_type": "display_data"
    },
    {
     "data": {
      "application/vnd.jupyter.widget-view+json": {
       "model_id": "72b1d78e713d451589f84a8b5ac2078c",
       "version_major": 2,
       "version_minor": 0
      },
      "text/plain": [
       "  0%|          | 0/393 [00:00<?, ?it/s]"
      ]
     },
     "metadata": {},
     "output_type": "display_data"
    },
    {
     "data": {
      "application/vnd.jupyter.widget-view+json": {
       "model_id": "aa7607cee0ff4f01b8a0d285c02e41d5",
       "version_major": 2,
       "version_minor": 0
      },
      "text/plain": [
       "  0%|          | 0/393 [00:00<?, ?it/s]"
      ]
     },
     "metadata": {},
     "output_type": "display_data"
    },
    {
     "data": {
      "application/vnd.jupyter.widget-view+json": {
       "model_id": "b9e88743c40c4ca1a3b625fd5b080898",
       "version_major": 2,
       "version_minor": 0
      },
      "text/plain": [
       "  0%|          | 0/393 [00:00<?, ?it/s]"
      ]
     },
     "metadata": {},
     "output_type": "display_data"
    },
    {
     "data": {
      "application/vnd.jupyter.widget-view+json": {
       "model_id": "3bc3b64caed6474399e302181eebb5c1",
       "version_major": 2,
       "version_minor": 0
      },
      "text/plain": [
       "  0%|          | 0/393 [00:00<?, ?it/s]"
      ]
     },
     "metadata": {},
     "output_type": "display_data"
    },
    {
     "data": {
      "application/vnd.jupyter.widget-view+json": {
       "model_id": "1b8d48a087ca4603ad0456628ed2c8ba",
       "version_major": 2,
       "version_minor": 0
      },
      "text/plain": [
       "  0%|          | 0/393 [00:00<?, ?it/s]"
      ]
     },
     "metadata": {},
     "output_type": "display_data"
    },
    {
     "data": {
      "application/vnd.jupyter.widget-view+json": {
       "model_id": "a859c9d099a74c108fce1529045216db",
       "version_major": 2,
       "version_minor": 0
      },
      "text/plain": [
       "  0%|          | 0/393 [00:00<?, ?it/s]"
      ]
     },
     "metadata": {},
     "output_type": "display_data"
    },
    {
     "data": {
      "application/vnd.jupyter.widget-view+json": {
       "model_id": "1ca628d701e6478b87d26016e28a0353",
       "version_major": 2,
       "version_minor": 0
      },
      "text/plain": [
       "  0%|          | 0/393 [00:00<?, ?it/s]"
      ]
     },
     "metadata": {},
     "output_type": "display_data"
    },
    {
     "data": {
      "application/vnd.jupyter.widget-view+json": {
       "model_id": "47efada0be9b48e7a3304518bebdde8a",
       "version_major": 2,
       "version_minor": 0
      },
      "text/plain": [
       "  0%|          | 0/393 [00:00<?, ?it/s]"
      ]
     },
     "metadata": {},
     "output_type": "display_data"
    },
    {
     "data": {
      "application/vnd.jupyter.widget-view+json": {
       "model_id": "a19c26b6109f4c6d8a71ae683bccd9d9",
       "version_major": 2,
       "version_minor": 0
      },
      "text/plain": [
       "  0%|          | 0/393 [00:00<?, ?it/s]"
      ]
     },
     "metadata": {},
     "output_type": "display_data"
    },
    {
     "data": {
      "application/vnd.jupyter.widget-view+json": {
       "model_id": "7ee4a3cc2d1f42ec82d9382f534c6f91",
       "version_major": 2,
       "version_minor": 0
      },
      "text/plain": [
       "  0%|          | 0/393 [00:00<?, ?it/s]"
      ]
     },
     "metadata": {},
     "output_type": "display_data"
    },
    {
     "data": {
      "application/vnd.jupyter.widget-view+json": {
       "model_id": "8af9f79f3bfc47dbb24e1e047d18111a",
       "version_major": 2,
       "version_minor": 0
      },
      "text/plain": [
       "  0%|          | 0/393 [00:00<?, ?it/s]"
      ]
     },
     "metadata": {},
     "output_type": "display_data"
    },
    {
     "data": {
      "application/vnd.jupyter.widget-view+json": {
       "model_id": "f4393e2654f844f197724175656cdc3d",
       "version_major": 2,
       "version_minor": 0
      },
      "text/plain": [
       "  0%|          | 0/393 [00:00<?, ?it/s]"
      ]
     },
     "metadata": {},
     "output_type": "display_data"
    },
    {
     "data": {
      "application/vnd.jupyter.widget-view+json": {
       "model_id": "368338b451dc4c46a89bfedc3d43979a",
       "version_major": 2,
       "version_minor": 0
      },
      "text/plain": [
       "  0%|          | 0/393 [00:00<?, ?it/s]"
      ]
     },
     "metadata": {},
     "output_type": "display_data"
    },
    {
     "data": {
      "application/vnd.jupyter.widget-view+json": {
       "model_id": "192dce4858264a4e9d8bbf09be11ff49",
       "version_major": 2,
       "version_minor": 0
      },
      "text/plain": [
       "  0%|          | 0/393 [00:00<?, ?it/s]"
      ]
     },
     "metadata": {},
     "output_type": "display_data"
    },
    {
     "data": {
      "application/vnd.jupyter.widget-view+json": {
       "model_id": "707909ffdd6e4f659afcd8a898399311",
       "version_major": 2,
       "version_minor": 0
      },
      "text/plain": [
       "  0%|          | 0/393 [00:00<?, ?it/s]"
      ]
     },
     "metadata": {},
     "output_type": "display_data"
    },
    {
     "data": {
      "application/vnd.jupyter.widget-view+json": {
       "model_id": "b156b6b1a341485085e0abe06ea9af83",
       "version_major": 2,
       "version_minor": 0
      },
      "text/plain": [
       "  0%|          | 0/393 [00:00<?, ?it/s]"
      ]
     },
     "metadata": {},
     "output_type": "display_data"
    },
    {
     "data": {
      "application/vnd.jupyter.widget-view+json": {
       "model_id": "cfc773af19824062b402aaace33292cb",
       "version_major": 2,
       "version_minor": 0
      },
      "text/plain": [
       "  0%|          | 0/393 [00:00<?, ?it/s]"
      ]
     },
     "metadata": {},
     "output_type": "display_data"
    },
    {
     "data": {
      "application/vnd.jupyter.widget-view+json": {
       "model_id": "ea909d2433934a2485e693ec76eaa502",
       "version_major": 2,
       "version_minor": 0
      },
      "text/plain": [
       "  0%|          | 0/393 [00:00<?, ?it/s]"
      ]
     },
     "metadata": {},
     "output_type": "display_data"
    },
    {
     "data": {
      "application/vnd.jupyter.widget-view+json": {
       "model_id": "4ce7140df1cc4726991dcfa8866beb16",
       "version_major": 2,
       "version_minor": 0
      },
      "text/plain": [
       "  0%|          | 0/393 [00:00<?, ?it/s]"
      ]
     },
     "metadata": {},
     "output_type": "display_data"
    },
    {
     "data": {
      "application/vnd.jupyter.widget-view+json": {
       "model_id": "a0ae70ddd86141489fd756211bc8ecb0",
       "version_major": 2,
       "version_minor": 0
      },
      "text/plain": [
       "  0%|          | 0/393 [00:00<?, ?it/s]"
      ]
     },
     "metadata": {},
     "output_type": "display_data"
    },
    {
     "data": {
      "application/vnd.jupyter.widget-view+json": {
       "model_id": "382dec9f35a24297bfaeb3a8846e4979",
       "version_major": 2,
       "version_minor": 0
      },
      "text/plain": [
       "  0%|          | 0/393 [00:00<?, ?it/s]"
      ]
     },
     "metadata": {},
     "output_type": "display_data"
    },
    {
     "data": {
      "application/vnd.jupyter.widget-view+json": {
       "model_id": "7dab00e26bb0497eb08a11c8ca2e914e",
       "version_major": 2,
       "version_minor": 0
      },
      "text/plain": [
       "  0%|          | 0/393 [00:00<?, ?it/s]"
      ]
     },
     "metadata": {},
     "output_type": "display_data"
    },
    {
     "data": {
      "application/vnd.jupyter.widget-view+json": {
       "model_id": "542dd6872a5143c799f5d9b5725b8fb3",
       "version_major": 2,
       "version_minor": 0
      },
      "text/plain": [
       "  0%|          | 0/393 [00:00<?, ?it/s]"
      ]
     },
     "metadata": {},
     "output_type": "display_data"
    },
    {
     "data": {
      "application/vnd.jupyter.widget-view+json": {
       "model_id": "fb60a5da84a342b1bbf87c2646397a71",
       "version_major": 2,
       "version_minor": 0
      },
      "text/plain": [
       "  0%|          | 0/393 [00:00<?, ?it/s]"
      ]
     },
     "metadata": {},
     "output_type": "display_data"
    },
    {
     "data": {
      "application/vnd.jupyter.widget-view+json": {
       "model_id": "35e9e46e510847b2a4d4ee729d248df8",
       "version_major": 2,
       "version_minor": 0
      },
      "text/plain": [
       "  0%|          | 0/393 [00:00<?, ?it/s]"
      ]
     },
     "metadata": {},
     "output_type": "display_data"
    },
    {
     "data": {
      "application/vnd.jupyter.widget-view+json": {
       "model_id": "6e605f785d9f4c599bc10efedc595c1e",
       "version_major": 2,
       "version_minor": 0
      },
      "text/plain": [
       "  0%|          | 0/393 [00:00<?, ?it/s]"
      ]
     },
     "metadata": {},
     "output_type": "display_data"
    },
    {
     "data": {
      "application/vnd.jupyter.widget-view+json": {
       "model_id": "d78773d2565244f4a71933206e616958",
       "version_major": 2,
       "version_minor": 0
      },
      "text/plain": [
       "  0%|          | 0/393 [00:00<?, ?it/s]"
      ]
     },
     "metadata": {},
     "output_type": "display_data"
    },
    {
     "data": {
      "application/vnd.jupyter.widget-view+json": {
       "model_id": "cd66774ffcdc482faacc1fe3524942f1",
       "version_major": 2,
       "version_minor": 0
      },
      "text/plain": [
       "  0%|          | 0/393 [00:00<?, ?it/s]"
      ]
     },
     "metadata": {},
     "output_type": "display_data"
    },
    {
     "data": {
      "application/vnd.jupyter.widget-view+json": {
       "model_id": "407a9559701847dfbfe3dabcfe89789b",
       "version_major": 2,
       "version_minor": 0
      },
      "text/plain": [
       "  0%|          | 0/393 [00:00<?, ?it/s]"
      ]
     },
     "metadata": {},
     "output_type": "display_data"
    },
    {
     "data": {
      "application/vnd.jupyter.widget-view+json": {
       "model_id": "d6647592f7a84adf859386eb07809da7",
       "version_major": 2,
       "version_minor": 0
      },
      "text/plain": [
       "  0%|          | 0/393 [00:00<?, ?it/s]"
      ]
     },
     "metadata": {},
     "output_type": "display_data"
    },
    {
     "data": {
      "application/vnd.jupyter.widget-view+json": {
       "model_id": "8156e0c6d364418984b260a8594ec287",
       "version_major": 2,
       "version_minor": 0
      },
      "text/plain": [
       "  0%|          | 0/393 [00:00<?, ?it/s]"
      ]
     },
     "metadata": {},
     "output_type": "display_data"
    },
    {
     "data": {
      "application/vnd.jupyter.widget-view+json": {
       "model_id": "0baa6692ebee46eeb4911371395d2697",
       "version_major": 2,
       "version_minor": 0
      },
      "text/plain": [
       "  0%|          | 0/393 [00:00<?, ?it/s]"
      ]
     },
     "metadata": {},
     "output_type": "display_data"
    },
    {
     "data": {
      "application/vnd.jupyter.widget-view+json": {
       "model_id": "12cd40fe83b746ccaef9c053802aef90",
       "version_major": 2,
       "version_minor": 0
      },
      "text/plain": [
       "  0%|          | 0/393 [00:00<?, ?it/s]"
      ]
     },
     "metadata": {},
     "output_type": "display_data"
    },
    {
     "data": {
      "application/vnd.jupyter.widget-view+json": {
       "model_id": "a31cb2ec2b5a437cb69b05268fcd9cbe",
       "version_major": 2,
       "version_minor": 0
      },
      "text/plain": [
       "  0%|          | 0/393 [00:00<?, ?it/s]"
      ]
     },
     "metadata": {},
     "output_type": "display_data"
    },
    {
     "data": {
      "application/vnd.jupyter.widget-view+json": {
       "model_id": "2f98cf7d68c14564b3da06dc8f41bc45",
       "version_major": 2,
       "version_minor": 0
      },
      "text/plain": [
       "  0%|          | 0/393 [00:00<?, ?it/s]"
      ]
     },
     "metadata": {},
     "output_type": "display_data"
    },
    {
     "data": {
      "application/vnd.jupyter.widget-view+json": {
       "model_id": "8255637071034958996f39a3d7972532",
       "version_major": 2,
       "version_minor": 0
      },
      "text/plain": [
       "  0%|          | 0/393 [00:00<?, ?it/s]"
      ]
     },
     "metadata": {},
     "output_type": "display_data"
    },
    {
     "data": {
      "application/vnd.jupyter.widget-view+json": {
       "model_id": "73a22a1475284532a7a5a9571a8489fc",
       "version_major": 2,
       "version_minor": 0
      },
      "text/plain": [
       "  0%|          | 0/393 [00:00<?, ?it/s]"
      ]
     },
     "metadata": {},
     "output_type": "display_data"
    },
    {
     "data": {
      "application/vnd.jupyter.widget-view+json": {
       "model_id": "dab4595775b74bf0917c54cf36c13c53",
       "version_major": 2,
       "version_minor": 0
      },
      "text/plain": [
       "  0%|          | 0/393 [00:00<?, ?it/s]"
      ]
     },
     "metadata": {},
     "output_type": "display_data"
    },
    {
     "data": {
      "application/vnd.jupyter.widget-view+json": {
       "model_id": "ba5d710994fc4ab09431d7d17dd944ce",
       "version_major": 2,
       "version_minor": 0
      },
      "text/plain": [
       "  0%|          | 0/393 [00:00<?, ?it/s]"
      ]
     },
     "metadata": {},
     "output_type": "display_data"
    },
    {
     "data": {
      "application/vnd.jupyter.widget-view+json": {
       "model_id": "59a9436ba659419fb2a4fac77a75868d",
       "version_major": 2,
       "version_minor": 0
      },
      "text/plain": [
       "  0%|          | 0/393 [00:00<?, ?it/s]"
      ]
     },
     "metadata": {},
     "output_type": "display_data"
    },
    {
     "data": {
      "application/vnd.jupyter.widget-view+json": {
       "model_id": "01288d9e02a24e859cbf8ac9f00c7804",
       "version_major": 2,
       "version_minor": 0
      },
      "text/plain": [
       "  0%|          | 0/393 [00:00<?, ?it/s]"
      ]
     },
     "metadata": {},
     "output_type": "display_data"
    },
    {
     "data": {
      "application/vnd.jupyter.widget-view+json": {
       "model_id": "82db1c21810c483cb88aad34f7131244",
       "version_major": 2,
       "version_minor": 0
      },
      "text/plain": [
       "  0%|          | 0/393 [00:00<?, ?it/s]"
      ]
     },
     "metadata": {},
     "output_type": "display_data"
    },
    {
     "data": {
      "application/vnd.jupyter.widget-view+json": {
       "model_id": "79a332e46df2411482793a3c22e10b3f",
       "version_major": 2,
       "version_minor": 0
      },
      "text/plain": [
       "  0%|          | 0/393 [00:00<?, ?it/s]"
      ]
     },
     "metadata": {},
     "output_type": "display_data"
    },
    {
     "data": {
      "application/vnd.jupyter.widget-view+json": {
       "model_id": "9844d3870b954714aa5ba51ffd3348a5",
       "version_major": 2,
       "version_minor": 0
      },
      "text/plain": [
       "  0%|          | 0/393 [00:00<?, ?it/s]"
      ]
     },
     "metadata": {},
     "output_type": "display_data"
    },
    {
     "data": {
      "application/vnd.jupyter.widget-view+json": {
       "model_id": "4ecf243da09b4c13a294366f9ff41332",
       "version_major": 2,
       "version_minor": 0
      },
      "text/plain": [
       "  0%|          | 0/393 [00:00<?, ?it/s]"
      ]
     },
     "metadata": {},
     "output_type": "display_data"
    },
    {
     "data": {
      "application/vnd.jupyter.widget-view+json": {
       "model_id": "5cec4fd0649a4a9380f56430dc27c510",
       "version_major": 2,
       "version_minor": 0
      },
      "text/plain": [
       "  0%|          | 0/393 [00:00<?, ?it/s]"
      ]
     },
     "metadata": {},
     "output_type": "display_data"
    },
    {
     "data": {
      "application/vnd.jupyter.widget-view+json": {
       "model_id": "e35629933d7042a0bcea27c19f14a817",
       "version_major": 2,
       "version_minor": 0
      },
      "text/plain": [
       "  0%|          | 0/393 [00:00<?, ?it/s]"
      ]
     },
     "metadata": {},
     "output_type": "display_data"
    },
    {
     "data": {
      "application/vnd.jupyter.widget-view+json": {
       "model_id": "80abf86ee8b444359fdf86c1a02d9842",
       "version_major": 2,
       "version_minor": 0
      },
      "text/plain": [
       "  0%|          | 0/393 [00:00<?, ?it/s]"
      ]
     },
     "metadata": {},
     "output_type": "display_data"
    },
    {
     "data": {
      "application/vnd.jupyter.widget-view+json": {
       "model_id": "7d1d70b560f64cc686a8c719c9d3adf3",
       "version_major": 2,
       "version_minor": 0
      },
      "text/plain": [
       "  0%|          | 0/393 [00:00<?, ?it/s]"
      ]
     },
     "metadata": {},
     "output_type": "display_data"
    },
    {
     "data": {
      "application/vnd.jupyter.widget-view+json": {
       "model_id": "26df1ea4973a4404b4cc4ad4eef86086",
       "version_major": 2,
       "version_minor": 0
      },
      "text/plain": [
       "  0%|          | 0/393 [00:00<?, ?it/s]"
      ]
     },
     "metadata": {},
     "output_type": "display_data"
    },
    {
     "data": {
      "application/vnd.jupyter.widget-view+json": {
       "model_id": "be4a802377c6497393f29d11f9c6258b",
       "version_major": 2,
       "version_minor": 0
      },
      "text/plain": [
       "  0%|          | 0/393 [00:00<?, ?it/s]"
      ]
     },
     "metadata": {},
     "output_type": "display_data"
    },
    {
     "data": {
      "application/vnd.jupyter.widget-view+json": {
       "model_id": "c37ea74ac4dc4b29942f7d9d713b3f56",
       "version_major": 2,
       "version_minor": 0
      },
      "text/plain": [
       "  0%|          | 0/393 [00:00<?, ?it/s]"
      ]
     },
     "metadata": {},
     "output_type": "display_data"
    },
    {
     "data": {
      "application/vnd.jupyter.widget-view+json": {
       "model_id": "0a7ce702c2d24a608bc03c942e8989df",
       "version_major": 2,
       "version_minor": 0
      },
      "text/plain": [
       "  0%|          | 0/393 [00:00<?, ?it/s]"
      ]
     },
     "metadata": {},
     "output_type": "display_data"
    },
    {
     "data": {
      "application/vnd.jupyter.widget-view+json": {
       "model_id": "c0522595f9b140a38cd1a2c14617d6a9",
       "version_major": 2,
       "version_minor": 0
      },
      "text/plain": [
       "  0%|          | 0/393 [00:00<?, ?it/s]"
      ]
     },
     "metadata": {},
     "output_type": "display_data"
    },
    {
     "data": {
      "application/vnd.jupyter.widget-view+json": {
       "model_id": "3a142b749c2446aa86fed132e4197f45",
       "version_major": 2,
       "version_minor": 0
      },
      "text/plain": [
       "  0%|          | 0/393 [00:00<?, ?it/s]"
      ]
     },
     "metadata": {},
     "output_type": "display_data"
    },
    {
     "data": {
      "application/vnd.jupyter.widget-view+json": {
       "model_id": "f3de4c0ca41b4711a006dcdb1405aa00",
       "version_major": 2,
       "version_minor": 0
      },
      "text/plain": [
       "  0%|          | 0/393 [00:00<?, ?it/s]"
      ]
     },
     "metadata": {},
     "output_type": "display_data"
    },
    {
     "data": {
      "application/vnd.jupyter.widget-view+json": {
       "model_id": "5706ed82385b48b0a91bc2438e64da8c",
       "version_major": 2,
       "version_minor": 0
      },
      "text/plain": [
       "  0%|          | 0/393 [00:00<?, ?it/s]"
      ]
     },
     "metadata": {},
     "output_type": "display_data"
    },
    {
     "data": {
      "application/vnd.jupyter.widget-view+json": {
       "model_id": "1abbb517dd7b4fc7b99845dada281d70",
       "version_major": 2,
       "version_minor": 0
      },
      "text/plain": [
       "  0%|          | 0/393 [00:00<?, ?it/s]"
      ]
     },
     "metadata": {},
     "output_type": "display_data"
    },
    {
     "data": {
      "application/vnd.jupyter.widget-view+json": {
       "model_id": "e7fa0b230b0d478681385a339f57601c",
       "version_major": 2,
       "version_minor": 0
      },
      "text/plain": [
       "  0%|          | 0/393 [00:00<?, ?it/s]"
      ]
     },
     "metadata": {},
     "output_type": "display_data"
    },
    {
     "data": {
      "application/vnd.jupyter.widget-view+json": {
       "model_id": "7bcdbff484a34d7e994cb38738da0bb0",
       "version_major": 2,
       "version_minor": 0
      },
      "text/plain": [
       "  0%|          | 0/393 [00:00<?, ?it/s]"
      ]
     },
     "metadata": {},
     "output_type": "display_data"
    },
    {
     "data": {
      "application/vnd.jupyter.widget-view+json": {
       "model_id": "51cc92334a494c93965c8aa1cf5abcbb",
       "version_major": 2,
       "version_minor": 0
      },
      "text/plain": [
       "  0%|          | 0/393 [00:00<?, ?it/s]"
      ]
     },
     "metadata": {},
     "output_type": "display_data"
    },
    {
     "data": {
      "application/vnd.jupyter.widget-view+json": {
       "model_id": "6c34011128d8446aa7f34aacb8f512e5",
       "version_major": 2,
       "version_minor": 0
      },
      "text/plain": [
       "  0%|          | 0/393 [00:00<?, ?it/s]"
      ]
     },
     "metadata": {},
     "output_type": "display_data"
    },
    {
     "data": {
      "application/vnd.jupyter.widget-view+json": {
       "model_id": "c04d3823424a4ba08e3f57888ac2d185",
       "version_major": 2,
       "version_minor": 0
      },
      "text/plain": [
       "  0%|          | 0/393 [00:00<?, ?it/s]"
      ]
     },
     "metadata": {},
     "output_type": "display_data"
    },
    {
     "data": {
      "application/vnd.jupyter.widget-view+json": {
       "model_id": "51fe3ca6d27e4063b59dff6609c933ec",
       "version_major": 2,
       "version_minor": 0
      },
      "text/plain": [
       "  0%|          | 0/393 [00:00<?, ?it/s]"
      ]
     },
     "metadata": {},
     "output_type": "display_data"
    },
    {
     "data": {
      "application/vnd.jupyter.widget-view+json": {
       "model_id": "4919e0f46a774073acd9ca1eec94a586",
       "version_major": 2,
       "version_minor": 0
      },
      "text/plain": [
       "  0%|          | 0/393 [00:00<?, ?it/s]"
      ]
     },
     "metadata": {},
     "output_type": "display_data"
    },
    {
     "data": {
      "application/vnd.jupyter.widget-view+json": {
       "model_id": "6639b4a554944bb488d9e3531e9038fc",
       "version_major": 2,
       "version_minor": 0
      },
      "text/plain": [
       "  0%|          | 0/393 [00:00<?, ?it/s]"
      ]
     },
     "metadata": {},
     "output_type": "display_data"
    },
    {
     "data": {
      "application/vnd.jupyter.widget-view+json": {
       "model_id": "dadd8ae4c5d14555b44ed74d6e1b123d",
       "version_major": 2,
       "version_minor": 0
      },
      "text/plain": [
       "  0%|          | 0/393 [00:00<?, ?it/s]"
      ]
     },
     "metadata": {},
     "output_type": "display_data"
    },
    {
     "data": {
      "application/vnd.jupyter.widget-view+json": {
       "model_id": "3ab61c856dce47b492bd2fb4e936ce74",
       "version_major": 2,
       "version_minor": 0
      },
      "text/plain": [
       "  0%|          | 0/393 [00:00<?, ?it/s]"
      ]
     },
     "metadata": {},
     "output_type": "display_data"
    },
    {
     "data": {
      "application/vnd.jupyter.widget-view+json": {
       "model_id": "c29cb48ee60848c6ba307b1cc6d4925d",
       "version_major": 2,
       "version_minor": 0
      },
      "text/plain": [
       "  0%|          | 0/393 [00:00<?, ?it/s]"
      ]
     },
     "metadata": {},
     "output_type": "display_data"
    },
    {
     "data": {
      "application/vnd.jupyter.widget-view+json": {
       "model_id": "bdfb41b50df34f50973fc4dce148f4e8",
       "version_major": 2,
       "version_minor": 0
      },
      "text/plain": [
       "  0%|          | 0/393 [00:00<?, ?it/s]"
      ]
     },
     "metadata": {},
     "output_type": "display_data"
    },
    {
     "data": {
      "application/vnd.jupyter.widget-view+json": {
       "model_id": "f5e53c5901af4de2ad7fb327c3cb8305",
       "version_major": 2,
       "version_minor": 0
      },
      "text/plain": [
       "  0%|          | 0/393 [00:00<?, ?it/s]"
      ]
     },
     "metadata": {},
     "output_type": "display_data"
    },
    {
     "data": {
      "application/vnd.jupyter.widget-view+json": {
       "model_id": "2e2e401397d24d33b13c4d852f58d4ad",
       "version_major": 2,
       "version_minor": 0
      },
      "text/plain": [
       "  0%|          | 0/393 [00:00<?, ?it/s]"
      ]
     },
     "metadata": {},
     "output_type": "display_data"
    },
    {
     "data": {
      "application/vnd.jupyter.widget-view+json": {
       "model_id": "42649b08fb174ca8912b322e77558c9c",
       "version_major": 2,
       "version_minor": 0
      },
      "text/plain": [
       "  0%|          | 0/393 [00:00<?, ?it/s]"
      ]
     },
     "metadata": {},
     "output_type": "display_data"
    },
    {
     "data": {
      "application/vnd.jupyter.widget-view+json": {
       "model_id": "1ba03f854bf24200ba4c63f28adc7764",
       "version_major": 2,
       "version_minor": 0
      },
      "text/plain": [
       "  0%|          | 0/393 [00:00<?, ?it/s]"
      ]
     },
     "metadata": {},
     "output_type": "display_data"
    },
    {
     "data": {
      "application/vnd.jupyter.widget-view+json": {
       "model_id": "7babd575e2c1426c803d53cdab74311b",
       "version_major": 2,
       "version_minor": 0
      },
      "text/plain": [
       "  0%|          | 0/393 [00:00<?, ?it/s]"
      ]
     },
     "metadata": {},
     "output_type": "display_data"
    },
    {
     "data": {
      "application/vnd.jupyter.widget-view+json": {
       "model_id": "67abe8293bf142b1a8cb4ebcd748fcfb",
       "version_major": 2,
       "version_minor": 0
      },
      "text/plain": [
       "  0%|          | 0/393 [00:00<?, ?it/s]"
      ]
     },
     "metadata": {},
     "output_type": "display_data"
    },
    {
     "data": {
      "application/vnd.jupyter.widget-view+json": {
       "model_id": "7817b2b842314d52a64bed205214c1ec",
       "version_major": 2,
       "version_minor": 0
      },
      "text/plain": [
       "  0%|          | 0/393 [00:00<?, ?it/s]"
      ]
     },
     "metadata": {},
     "output_type": "display_data"
    },
    {
     "data": {
      "application/vnd.jupyter.widget-view+json": {
       "model_id": "e0be769fb0bf44b0a6cc4b48754dca1e",
       "version_major": 2,
       "version_minor": 0
      },
      "text/plain": [
       "  0%|          | 0/393 [00:00<?, ?it/s]"
      ]
     },
     "metadata": {},
     "output_type": "display_data"
    },
    {
     "data": {
      "application/vnd.jupyter.widget-view+json": {
       "model_id": "27dffaea48fe43da840c327ebae718e6",
       "version_major": 2,
       "version_minor": 0
      },
      "text/plain": [
       "  0%|          | 0/393 [00:00<?, ?it/s]"
      ]
     },
     "metadata": {},
     "output_type": "display_data"
    },
    {
     "data": {
      "application/vnd.jupyter.widget-view+json": {
       "model_id": "03e0e67c2839492b8155cb8b51a599ff",
       "version_major": 2,
       "version_minor": 0
      },
      "text/plain": [
       "  0%|          | 0/393 [00:00<?, ?it/s]"
      ]
     },
     "metadata": {},
     "output_type": "display_data"
    },
    {
     "data": {
      "application/vnd.jupyter.widget-view+json": {
       "model_id": "ac2f9201ede04fe6a6db19a553b3cd61",
       "version_major": 2,
       "version_minor": 0
      },
      "text/plain": [
       "  0%|          | 0/393 [00:00<?, ?it/s]"
      ]
     },
     "metadata": {},
     "output_type": "display_data"
    },
    {
     "data": {
      "application/vnd.jupyter.widget-view+json": {
       "model_id": "fee63eddf5e843ac86a0ab3db2210156",
       "version_major": 2,
       "version_minor": 0
      },
      "text/plain": [
       "  0%|          | 0/393 [00:00<?, ?it/s]"
      ]
     },
     "metadata": {},
     "output_type": "display_data"
    },
    {
     "data": {
      "application/vnd.jupyter.widget-view+json": {
       "model_id": "e315d65a122c49a482f7bd24b1e1574a",
       "version_major": 2,
       "version_minor": 0
      },
      "text/plain": [
       "  0%|          | 0/393 [00:00<?, ?it/s]"
      ]
     },
     "metadata": {},
     "output_type": "display_data"
    },
    {
     "data": {
      "application/vnd.jupyter.widget-view+json": {
       "model_id": "f132abea92e144289c5b460e97c6d58b",
       "version_major": 2,
       "version_minor": 0
      },
      "text/plain": [
       "  0%|          | 0/393 [00:00<?, ?it/s]"
      ]
     },
     "metadata": {},
     "output_type": "display_data"
    },
    {
     "data": {
      "application/vnd.jupyter.widget-view+json": {
       "model_id": "55b4f1fc8b53445b9a331077eac0d925",
       "version_major": 2,
       "version_minor": 0
      },
      "text/plain": [
       "  0%|          | 0/393 [00:00<?, ?it/s]"
      ]
     },
     "metadata": {},
     "output_type": "display_data"
    },
    {
     "data": {
      "application/vnd.jupyter.widget-view+json": {
       "model_id": "a69da42a4e1f444ab45a117f4e3e96e2",
       "version_major": 2,
       "version_minor": 0
      },
      "text/plain": [
       "  0%|          | 0/393 [00:00<?, ?it/s]"
      ]
     },
     "metadata": {},
     "output_type": "display_data"
    },
    {
     "data": {
      "application/vnd.jupyter.widget-view+json": {
       "model_id": "82b02e26f332485881043c3f6e7d94c0",
       "version_major": 2,
       "version_minor": 0
      },
      "text/plain": [
       "  0%|          | 0/393 [00:00<?, ?it/s]"
      ]
     },
     "metadata": {},
     "output_type": "display_data"
    },
    {
     "data": {
      "application/vnd.jupyter.widget-view+json": {
       "model_id": "27a84a3c81894156afca60f5787780b4",
       "version_major": 2,
       "version_minor": 0
      },
      "text/plain": [
       "  0%|          | 0/393 [00:00<?, ?it/s]"
      ]
     },
     "metadata": {},
     "output_type": "display_data"
    },
    {
     "data": {
      "application/vnd.jupyter.widget-view+json": {
       "model_id": "fe28d40c1ac0498393f31758d94cb382",
       "version_major": 2,
       "version_minor": 0
      },
      "text/plain": [
       "  0%|          | 0/393 [00:00<?, ?it/s]"
      ]
     },
     "metadata": {},
     "output_type": "display_data"
    },
    {
     "data": {
      "application/vnd.jupyter.widget-view+json": {
       "model_id": "4d1a370533824513afe1730b85539711",
       "version_major": 2,
       "version_minor": 0
      },
      "text/plain": [
       "  0%|          | 0/393 [00:00<?, ?it/s]"
      ]
     },
     "metadata": {},
     "output_type": "display_data"
    },
    {
     "data": {
      "application/vnd.jupyter.widget-view+json": {
       "model_id": "a97758056e8f481b8370d01ecbeccbca",
       "version_major": 2,
       "version_minor": 0
      },
      "text/plain": [
       "  0%|          | 0/393 [00:00<?, ?it/s]"
      ]
     },
     "metadata": {},
     "output_type": "display_data"
    },
    {
     "data": {
      "application/vnd.jupyter.widget-view+json": {
       "model_id": "8dbdacd00d0f411fb822387294870a32",
       "version_major": 2,
       "version_minor": 0
      },
      "text/plain": [
       "  0%|          | 0/393 [00:00<?, ?it/s]"
      ]
     },
     "metadata": {},
     "output_type": "display_data"
    },
    {
     "data": {
      "application/vnd.jupyter.widget-view+json": {
       "model_id": "8e5b69903f014caa8f4e567e27e7244c",
       "version_major": 2,
       "version_minor": 0
      },
      "text/plain": [
       "  0%|          | 0/393 [00:00<?, ?it/s]"
      ]
     },
     "metadata": {},
     "output_type": "display_data"
    },
    {
     "data": {
      "application/vnd.jupyter.widget-view+json": {
       "model_id": "afedda7f91844bec80df85df28ed4057",
       "version_major": 2,
       "version_minor": 0
      },
      "text/plain": [
       "  0%|          | 0/393 [00:00<?, ?it/s]"
      ]
     },
     "metadata": {},
     "output_type": "display_data"
    },
    {
     "data": {
      "application/vnd.jupyter.widget-view+json": {
       "model_id": "27de6819af014dcf8ca8de45250f7e66",
       "version_major": 2,
       "version_minor": 0
      },
      "text/plain": [
       "  0%|          | 0/393 [00:00<?, ?it/s]"
      ]
     },
     "metadata": {},
     "output_type": "display_data"
    },
    {
     "data": {
      "application/vnd.jupyter.widget-view+json": {
       "model_id": "f67c3da3591746fb9c1588fbe3cdd4f8",
       "version_major": 2,
       "version_minor": 0
      },
      "text/plain": [
       "  0%|          | 0/393 [00:00<?, ?it/s]"
      ]
     },
     "metadata": {},
     "output_type": "display_data"
    },
    {
     "data": {
      "application/vnd.jupyter.widget-view+json": {
       "model_id": "783547fa3c8846aea5248b0d7b823189",
       "version_major": 2,
       "version_minor": 0
      },
      "text/plain": [
       "  0%|          | 0/393 [00:00<?, ?it/s]"
      ]
     },
     "metadata": {},
     "output_type": "display_data"
    },
    {
     "data": {
      "application/vnd.jupyter.widget-view+json": {
       "model_id": "a3a103159c2b41818eb536752998a971",
       "version_major": 2,
       "version_minor": 0
      },
      "text/plain": [
       "  0%|          | 0/393 [00:00<?, ?it/s]"
      ]
     },
     "metadata": {},
     "output_type": "display_data"
    },
    {
     "data": {
      "application/vnd.jupyter.widget-view+json": {
       "model_id": "fdbe1b8ec22241d9abdd37153122d6ae",
       "version_major": 2,
       "version_minor": 0
      },
      "text/plain": [
       "  0%|          | 0/393 [00:00<?, ?it/s]"
      ]
     },
     "metadata": {},
     "output_type": "display_data"
    },
    {
     "data": {
      "application/vnd.jupyter.widget-view+json": {
       "model_id": "f122d595ae5e4ca38d0aba5662574b61",
       "version_major": 2,
       "version_minor": 0
      },
      "text/plain": [
       "  0%|          | 0/393 [00:00<?, ?it/s]"
      ]
     },
     "metadata": {},
     "output_type": "display_data"
    },
    {
     "data": {
      "application/vnd.jupyter.widget-view+json": {
       "model_id": "1d7d41b387634ff1a4634d2dc4394e87",
       "version_major": 2,
       "version_minor": 0
      },
      "text/plain": [
       "  0%|          | 0/393 [00:00<?, ?it/s]"
      ]
     },
     "metadata": {},
     "output_type": "display_data"
    },
    {
     "data": {
      "application/vnd.jupyter.widget-view+json": {
       "model_id": "84962730c695475ca9f94114b7d6ce31",
       "version_major": 2,
       "version_minor": 0
      },
      "text/plain": [
       "  0%|          | 0/393 [00:00<?, ?it/s]"
      ]
     },
     "metadata": {},
     "output_type": "display_data"
    },
    {
     "data": {
      "application/vnd.jupyter.widget-view+json": {
       "model_id": "8d59ce21a2074fd8924597a4eb919aaa",
       "version_major": 2,
       "version_minor": 0
      },
      "text/plain": [
       "  0%|          | 0/393 [00:00<?, ?it/s]"
      ]
     },
     "metadata": {},
     "output_type": "display_data"
    },
    {
     "data": {
      "application/vnd.jupyter.widget-view+json": {
       "model_id": "41cd0cc598df4f9eaf4c9f3c19322f73",
       "version_major": 2,
       "version_minor": 0
      },
      "text/plain": [
       "  0%|          | 0/393 [00:00<?, ?it/s]"
      ]
     },
     "metadata": {},
     "output_type": "display_data"
    },
    {
     "data": {
      "application/vnd.jupyter.widget-view+json": {
       "model_id": "58bb9a5419764d16ae8c21531863d562",
       "version_major": 2,
       "version_minor": 0
      },
      "text/plain": [
       "  0%|          | 0/393 [00:00<?, ?it/s]"
      ]
     },
     "metadata": {},
     "output_type": "display_data"
    },
    {
     "data": {
      "application/vnd.jupyter.widget-view+json": {
       "model_id": "a6e5beea3c39498d977992064096a15e",
       "version_major": 2,
       "version_minor": 0
      },
      "text/plain": [
       "  0%|          | 0/393 [00:00<?, ?it/s]"
      ]
     },
     "metadata": {},
     "output_type": "display_data"
    },
    {
     "data": {
      "application/vnd.jupyter.widget-view+json": {
       "model_id": "6b60da26b2174ac4a3ff1acdd3527c51",
       "version_major": 2,
       "version_minor": 0
      },
      "text/plain": [
       "  0%|          | 0/393 [00:00<?, ?it/s]"
      ]
     },
     "metadata": {},
     "output_type": "display_data"
    },
    {
     "data": {
      "application/vnd.jupyter.widget-view+json": {
       "model_id": "9a6f79b680ee4b0d8dce3133b649c544",
       "version_major": 2,
       "version_minor": 0
      },
      "text/plain": [
       "  0%|          | 0/393 [00:00<?, ?it/s]"
      ]
     },
     "metadata": {},
     "output_type": "display_data"
    },
    {
     "data": {
      "application/vnd.jupyter.widget-view+json": {
       "model_id": "76672e57c81a4a71b6790f64c5906814",
       "version_major": 2,
       "version_minor": 0
      },
      "text/plain": [
       "  0%|          | 0/393 [00:00<?, ?it/s]"
      ]
     },
     "metadata": {},
     "output_type": "display_data"
    },
    {
     "data": {
      "application/vnd.jupyter.widget-view+json": {
       "model_id": "19a403f59fe245049084986662e2a9b8",
       "version_major": 2,
       "version_minor": 0
      },
      "text/plain": [
       "  0%|          | 0/393 [00:00<?, ?it/s]"
      ]
     },
     "metadata": {},
     "output_type": "display_data"
    },
    {
     "data": {
      "application/vnd.jupyter.widget-view+json": {
       "model_id": "89aace143a224ac990ad86c23886cbc7",
       "version_major": 2,
       "version_minor": 0
      },
      "text/plain": [
       "  0%|          | 0/393 [00:00<?, ?it/s]"
      ]
     },
     "metadata": {},
     "output_type": "display_data"
    },
    {
     "data": {
      "application/vnd.jupyter.widget-view+json": {
       "model_id": "8f16cd0aa9264c4d868fc793ade2bdf8",
       "version_major": 2,
       "version_minor": 0
      },
      "text/plain": [
       "  0%|          | 0/393 [00:00<?, ?it/s]"
      ]
     },
     "metadata": {},
     "output_type": "display_data"
    },
    {
     "data": {
      "application/vnd.jupyter.widget-view+json": {
       "model_id": "905b7429c062428dbcd4236581254956",
       "version_major": 2,
       "version_minor": 0
      },
      "text/plain": [
       "  0%|          | 0/393 [00:00<?, ?it/s]"
      ]
     },
     "metadata": {},
     "output_type": "display_data"
    },
    {
     "data": {
      "application/vnd.jupyter.widget-view+json": {
       "model_id": "9478fd7ef6864632b07cb069d41787e5",
       "version_major": 2,
       "version_minor": 0
      },
      "text/plain": [
       "  0%|          | 0/393 [00:00<?, ?it/s]"
      ]
     },
     "metadata": {},
     "output_type": "display_data"
    },
    {
     "data": {
      "application/vnd.jupyter.widget-view+json": {
       "model_id": "bf5de0053305446da799031553f0605b",
       "version_major": 2,
       "version_minor": 0
      },
      "text/plain": [
       "  0%|          | 0/393 [00:00<?, ?it/s]"
      ]
     },
     "metadata": {},
     "output_type": "display_data"
    },
    {
     "data": {
      "application/vnd.jupyter.widget-view+json": {
       "model_id": "28062ce9fd2c487e8febd3607ff64c26",
       "version_major": 2,
       "version_minor": 0
      },
      "text/plain": [
       "  0%|          | 0/393 [00:00<?, ?it/s]"
      ]
     },
     "metadata": {},
     "output_type": "display_data"
    },
    {
     "data": {
      "application/vnd.jupyter.widget-view+json": {
       "model_id": "092ef03b959e4a63ad31fdd207206cac",
       "version_major": 2,
       "version_minor": 0
      },
      "text/plain": [
       "  0%|          | 0/393 [00:00<?, ?it/s]"
      ]
     },
     "metadata": {},
     "output_type": "display_data"
    },
    {
     "data": {
      "application/vnd.jupyter.widget-view+json": {
       "model_id": "66390a8285fd4bfca0e64e6b774fad2a",
       "version_major": 2,
       "version_minor": 0
      },
      "text/plain": [
       "  0%|          | 0/393 [00:00<?, ?it/s]"
      ]
     },
     "metadata": {},
     "output_type": "display_data"
    },
    {
     "data": {
      "application/vnd.jupyter.widget-view+json": {
       "model_id": "03c7dad5fe604b8e9708b0211581738c",
       "version_major": 2,
       "version_minor": 0
      },
      "text/plain": [
       "  0%|          | 0/393 [00:00<?, ?it/s]"
      ]
     },
     "metadata": {},
     "output_type": "display_data"
    },
    {
     "data": {
      "application/vnd.jupyter.widget-view+json": {
       "model_id": "a20809ff8383400dabe0914077d71609",
       "version_major": 2,
       "version_minor": 0
      },
      "text/plain": [
       "  0%|          | 0/393 [00:00<?, ?it/s]"
      ]
     },
     "metadata": {},
     "output_type": "display_data"
    },
    {
     "data": {
      "application/vnd.jupyter.widget-view+json": {
       "model_id": "8ba503eccc8740e0a1dc604b7e2dd1bf",
       "version_major": 2,
       "version_minor": 0
      },
      "text/plain": [
       "  0%|          | 0/393 [00:00<?, ?it/s]"
      ]
     },
     "metadata": {},
     "output_type": "display_data"
    },
    {
     "data": {
      "application/vnd.jupyter.widget-view+json": {
       "model_id": "27bb8eb4d0324c608b348694e405fce6",
       "version_major": 2,
       "version_minor": 0
      },
      "text/plain": [
       "  0%|          | 0/393 [00:00<?, ?it/s]"
      ]
     },
     "metadata": {},
     "output_type": "display_data"
    },
    {
     "data": {
      "application/vnd.jupyter.widget-view+json": {
       "model_id": "7a68cb167f6f4b18b24815c58237cc93",
       "version_major": 2,
       "version_minor": 0
      },
      "text/plain": [
       "  0%|          | 0/393 [00:00<?, ?it/s]"
      ]
     },
     "metadata": {},
     "output_type": "display_data"
    },
    {
     "data": {
      "application/vnd.jupyter.widget-view+json": {
       "model_id": "afe9cb84a55d4fce946edfbb2068529d",
       "version_major": 2,
       "version_minor": 0
      },
      "text/plain": [
       "  0%|          | 0/393 [00:00<?, ?it/s]"
      ]
     },
     "metadata": {},
     "output_type": "display_data"
    },
    {
     "data": {
      "application/vnd.jupyter.widget-view+json": {
       "model_id": "1baadbd48efe4ec19d354b5c7e572a7b",
       "version_major": 2,
       "version_minor": 0
      },
      "text/plain": [
       "  0%|          | 0/393 [00:00<?, ?it/s]"
      ]
     },
     "metadata": {},
     "output_type": "display_data"
    },
    {
     "data": {
      "application/vnd.jupyter.widget-view+json": {
       "model_id": "347b1a26482649c8ac9537fafc386b80",
       "version_major": 2,
       "version_minor": 0
      },
      "text/plain": [
       "  0%|          | 0/393 [00:00<?, ?it/s]"
      ]
     },
     "metadata": {},
     "output_type": "display_data"
    },
    {
     "data": {
      "application/vnd.jupyter.widget-view+json": {
       "model_id": "52b33c311daa40f8a3d80ee30758b293",
       "version_major": 2,
       "version_minor": 0
      },
      "text/plain": [
       "  0%|          | 0/393 [00:00<?, ?it/s]"
      ]
     },
     "metadata": {},
     "output_type": "display_data"
    },
    {
     "data": {
      "application/vnd.jupyter.widget-view+json": {
       "model_id": "5ed56daf0a3c476e8aad270f2122b259",
       "version_major": 2,
       "version_minor": 0
      },
      "text/plain": [
       "  0%|          | 0/393 [00:00<?, ?it/s]"
      ]
     },
     "metadata": {},
     "output_type": "display_data"
    },
    {
     "data": {
      "application/vnd.jupyter.widget-view+json": {
       "model_id": "03feb9e12f6a4ef48d12bf2a52c585a0",
       "version_major": 2,
       "version_minor": 0
      },
      "text/plain": [
       "  0%|          | 0/393 [00:00<?, ?it/s]"
      ]
     },
     "metadata": {},
     "output_type": "display_data"
    },
    {
     "data": {
      "application/vnd.jupyter.widget-view+json": {
       "model_id": "02b486e006e143f49e9142b1c6a42140",
       "version_major": 2,
       "version_minor": 0
      },
      "text/plain": [
       "  0%|          | 0/393 [00:00<?, ?it/s]"
      ]
     },
     "metadata": {},
     "output_type": "display_data"
    },
    {
     "data": {
      "application/vnd.jupyter.widget-view+json": {
       "model_id": "e102200bc11e4a3c8df2dc0bcfe825af",
       "version_major": 2,
       "version_minor": 0
      },
      "text/plain": [
       "  0%|          | 0/393 [00:00<?, ?it/s]"
      ]
     },
     "metadata": {},
     "output_type": "display_data"
    },
    {
     "data": {
      "application/vnd.jupyter.widget-view+json": {
       "model_id": "424d0552abbb4545a7506d1fd2ebf76d",
       "version_major": 2,
       "version_minor": 0
      },
      "text/plain": [
       "  0%|          | 0/393 [00:00<?, ?it/s]"
      ]
     },
     "metadata": {},
     "output_type": "display_data"
    },
    {
     "data": {
      "application/vnd.jupyter.widget-view+json": {
       "model_id": "8b5093ed2cf64632a4e4ea238acd61a8",
       "version_major": 2,
       "version_minor": 0
      },
      "text/plain": [
       "  0%|          | 0/393 [00:00<?, ?it/s]"
      ]
     },
     "metadata": {},
     "output_type": "display_data"
    },
    {
     "data": {
      "application/vnd.jupyter.widget-view+json": {
       "model_id": "02587d4a63524e34880a5dae643f038c",
       "version_major": 2,
       "version_minor": 0
      },
      "text/plain": [
       "  0%|          | 0/393 [00:00<?, ?it/s]"
      ]
     },
     "metadata": {},
     "output_type": "display_data"
    },
    {
     "data": {
      "application/vnd.jupyter.widget-view+json": {
       "model_id": "9dc9cb5333f04fb88c8c320b4082a7fa",
       "version_major": 2,
       "version_minor": 0
      },
      "text/plain": [
       "  0%|          | 0/393 [00:00<?, ?it/s]"
      ]
     },
     "metadata": {},
     "output_type": "display_data"
    },
    {
     "data": {
      "application/vnd.jupyter.widget-view+json": {
       "model_id": "383ae6a655724348a99a31692c8ea93f",
       "version_major": 2,
       "version_minor": 0
      },
      "text/plain": [
       "  0%|          | 0/393 [00:00<?, ?it/s]"
      ]
     },
     "metadata": {},
     "output_type": "display_data"
    },
    {
     "data": {
      "application/vnd.jupyter.widget-view+json": {
       "model_id": "c9a23e1a31a74ad9a3f68b706c6bcea4",
       "version_major": 2,
       "version_minor": 0
      },
      "text/plain": [
       "  0%|          | 0/393 [00:00<?, ?it/s]"
      ]
     },
     "metadata": {},
     "output_type": "display_data"
    },
    {
     "data": {
      "application/vnd.jupyter.widget-view+json": {
       "model_id": "38820949ce5544d4ba9edb8aadc5d61f",
       "version_major": 2,
       "version_minor": 0
      },
      "text/plain": [
       "  0%|          | 0/393 [00:00<?, ?it/s]"
      ]
     },
     "metadata": {},
     "output_type": "display_data"
    },
    {
     "data": {
      "application/vnd.jupyter.widget-view+json": {
       "model_id": "9d510b0b5e4e480a8f6b1439b3c0ef0b",
       "version_major": 2,
       "version_minor": 0
      },
      "text/plain": [
       "  0%|          | 0/393 [00:00<?, ?it/s]"
      ]
     },
     "metadata": {},
     "output_type": "display_data"
    },
    {
     "data": {
      "application/vnd.jupyter.widget-view+json": {
       "model_id": "cc401d2db31f4659a00368fbd1615eb0",
       "version_major": 2,
       "version_minor": 0
      },
      "text/plain": [
       "  0%|          | 0/393 [00:00<?, ?it/s]"
      ]
     },
     "metadata": {},
     "output_type": "display_data"
    },
    {
     "data": {
      "application/vnd.jupyter.widget-view+json": {
       "model_id": "db131f166206444981986ededed6a441",
       "version_major": 2,
       "version_minor": 0
      },
      "text/plain": [
       "  0%|          | 0/393 [00:00<?, ?it/s]"
      ]
     },
     "metadata": {},
     "output_type": "display_data"
    },
    {
     "data": {
      "application/vnd.jupyter.widget-view+json": {
       "model_id": "9f00e0b6f5404e13bb9afb9f90069e1f",
       "version_major": 2,
       "version_minor": 0
      },
      "text/plain": [
       "  0%|          | 0/393 [00:00<?, ?it/s]"
      ]
     },
     "metadata": {},
     "output_type": "display_data"
    },
    {
     "data": {
      "application/vnd.jupyter.widget-view+json": {
       "model_id": "521e53e455224aa79f0e66701228e92c",
       "version_major": 2,
       "version_minor": 0
      },
      "text/plain": [
       "  0%|          | 0/393 [00:00<?, ?it/s]"
      ]
     },
     "metadata": {},
     "output_type": "display_data"
    },
    {
     "data": {
      "application/vnd.jupyter.widget-view+json": {
       "model_id": "f0c848b8ea4e448b9515c20f927b738a",
       "version_major": 2,
       "version_minor": 0
      },
      "text/plain": [
       "  0%|          | 0/393 [00:00<?, ?it/s]"
      ]
     },
     "metadata": {},
     "output_type": "display_data"
    },
    {
     "data": {
      "application/vnd.jupyter.widget-view+json": {
       "model_id": "17a52bcf825e40f4a2c2b4b9ef312e16",
       "version_major": 2,
       "version_minor": 0
      },
      "text/plain": [
       "  0%|          | 0/393 [00:00<?, ?it/s]"
      ]
     },
     "metadata": {},
     "output_type": "display_data"
    },
    {
     "data": {
      "application/vnd.jupyter.widget-view+json": {
       "model_id": "7e3e58472c8f4858aeb1963957f37880",
       "version_major": 2,
       "version_minor": 0
      },
      "text/plain": [
       "  0%|          | 0/393 [00:00<?, ?it/s]"
      ]
     },
     "metadata": {},
     "output_type": "display_data"
    },
    {
     "data": {
      "application/vnd.jupyter.widget-view+json": {
       "model_id": "a9b2492b9d5941be904782c47bf93284",
       "version_major": 2,
       "version_minor": 0
      },
      "text/plain": [
       "  0%|          | 0/393 [00:00<?, ?it/s]"
      ]
     },
     "metadata": {},
     "output_type": "display_data"
    },
    {
     "data": {
      "application/vnd.jupyter.widget-view+json": {
       "model_id": "0c7e44df835947ac94a9bf97e8951b67",
       "version_major": 2,
       "version_minor": 0
      },
      "text/plain": [
       "  0%|          | 0/393 [00:00<?, ?it/s]"
      ]
     },
     "metadata": {},
     "output_type": "display_data"
    },
    {
     "data": {
      "application/vnd.jupyter.widget-view+json": {
       "model_id": "8c7ab0fbd8504cd781a46ed771641075",
       "version_major": 2,
       "version_minor": 0
      },
      "text/plain": [
       "  0%|          | 0/393 [00:00<?, ?it/s]"
      ]
     },
     "metadata": {},
     "output_type": "display_data"
    },
    {
     "data": {
      "application/vnd.jupyter.widget-view+json": {
       "model_id": "b83d0f2aedaa45daa1472573560beb77",
       "version_major": 2,
       "version_minor": 0
      },
      "text/plain": [
       "  0%|          | 0/393 [00:00<?, ?it/s]"
      ]
     },
     "metadata": {},
     "output_type": "display_data"
    },
    {
     "data": {
      "application/vnd.jupyter.widget-view+json": {
       "model_id": "c33d5429d08d43a7b97ce5956978274e",
       "version_major": 2,
       "version_minor": 0
      },
      "text/plain": [
       "  0%|          | 0/393 [00:00<?, ?it/s]"
      ]
     },
     "metadata": {},
     "output_type": "display_data"
    },
    {
     "data": {
      "application/vnd.jupyter.widget-view+json": {
       "model_id": "59ad28a42a164a488321894a68d33410",
       "version_major": 2,
       "version_minor": 0
      },
      "text/plain": [
       "  0%|          | 0/393 [00:00<?, ?it/s]"
      ]
     },
     "metadata": {},
     "output_type": "display_data"
    },
    {
     "data": {
      "application/vnd.jupyter.widget-view+json": {
       "model_id": "d1d759278f4c44d0959fb83adb554bd3",
       "version_major": 2,
       "version_minor": 0
      },
      "text/plain": [
       "  0%|          | 0/393 [00:00<?, ?it/s]"
      ]
     },
     "metadata": {},
     "output_type": "display_data"
    },
    {
     "data": {
      "application/vnd.jupyter.widget-view+json": {
       "model_id": "976ce3a2b18c485382dfbbc8b69cd9de",
       "version_major": 2,
       "version_minor": 0
      },
      "text/plain": [
       "  0%|          | 0/393 [00:00<?, ?it/s]"
      ]
     },
     "metadata": {},
     "output_type": "display_data"
    },
    {
     "data": {
      "application/vnd.jupyter.widget-view+json": {
       "model_id": "9910d3aaa5a140f689fdf1034a510fc5",
       "version_major": 2,
       "version_minor": 0
      },
      "text/plain": [
       "  0%|          | 0/393 [00:00<?, ?it/s]"
      ]
     },
     "metadata": {},
     "output_type": "display_data"
    },
    {
     "data": {
      "application/vnd.jupyter.widget-view+json": {
       "model_id": "937988f7e25e4efda6de5a0870aab33c",
       "version_major": 2,
       "version_minor": 0
      },
      "text/plain": [
       "  0%|          | 0/393 [00:00<?, ?it/s]"
      ]
     },
     "metadata": {},
     "output_type": "display_data"
    },
    {
     "data": {
      "application/vnd.jupyter.widget-view+json": {
       "model_id": "0f8ee42a2728437d91ff05845e070d0f",
       "version_major": 2,
       "version_minor": 0
      },
      "text/plain": [
       "  0%|          | 0/393 [00:00<?, ?it/s]"
      ]
     },
     "metadata": {},
     "output_type": "display_data"
    },
    {
     "data": {
      "application/vnd.jupyter.widget-view+json": {
       "model_id": "0f241edadf094e12884a45f33125bfce",
       "version_major": 2,
       "version_minor": 0
      },
      "text/plain": [
       "  0%|          | 0/393 [00:00<?, ?it/s]"
      ]
     },
     "metadata": {},
     "output_type": "display_data"
    },
    {
     "data": {
      "application/vnd.jupyter.widget-view+json": {
       "model_id": "7a159cb1e7b1482fb98b9d90460f2700",
       "version_major": 2,
       "version_minor": 0
      },
      "text/plain": [
       "  0%|          | 0/393 [00:00<?, ?it/s]"
      ]
     },
     "metadata": {},
     "output_type": "display_data"
    },
    {
     "data": {
      "application/vnd.jupyter.widget-view+json": {
       "model_id": "773bf454fe68437b93cd243cdc9468a8",
       "version_major": 2,
       "version_minor": 0
      },
      "text/plain": [
       "  0%|          | 0/393 [00:00<?, ?it/s]"
      ]
     },
     "metadata": {},
     "output_type": "display_data"
    },
    {
     "data": {
      "application/vnd.jupyter.widget-view+json": {
       "model_id": "2ff514895dad41dc863ba74925a0519d",
       "version_major": 2,
       "version_minor": 0
      },
      "text/plain": [
       "  0%|          | 0/393 [00:00<?, ?it/s]"
      ]
     },
     "metadata": {},
     "output_type": "display_data"
    },
    {
     "data": {
      "application/vnd.jupyter.widget-view+json": {
       "model_id": "c4d70be542e64a11967eb73e2197318b",
       "version_major": 2,
       "version_minor": 0
      },
      "text/plain": [
       "  0%|          | 0/393 [00:00<?, ?it/s]"
      ]
     },
     "metadata": {},
     "output_type": "display_data"
    },
    {
     "data": {
      "application/vnd.jupyter.widget-view+json": {
       "model_id": "e6e6a2110b0a47ddb397c01de6acf29e",
       "version_major": 2,
       "version_minor": 0
      },
      "text/plain": [
       "  0%|          | 0/393 [00:00<?, ?it/s]"
      ]
     },
     "metadata": {},
     "output_type": "display_data"
    },
    {
     "data": {
      "application/vnd.jupyter.widget-view+json": {
       "model_id": "a6f7ff5f028c40208c8695b07577910f",
       "version_major": 2,
       "version_minor": 0
      },
      "text/plain": [
       "  0%|          | 0/393 [00:00<?, ?it/s]"
      ]
     },
     "metadata": {},
     "output_type": "display_data"
    },
    {
     "data": {
      "application/vnd.jupyter.widget-view+json": {
       "model_id": "16fd03d3f17046638f222377dfc5f47a",
       "version_major": 2,
       "version_minor": 0
      },
      "text/plain": [
       "  0%|          | 0/393 [00:00<?, ?it/s]"
      ]
     },
     "metadata": {},
     "output_type": "display_data"
    },
    {
     "data": {
      "application/vnd.jupyter.widget-view+json": {
       "model_id": "0eb74b444379433d8f5f2cc3fd280fca",
       "version_major": 2,
       "version_minor": 0
      },
      "text/plain": [
       "  0%|          | 0/393 [00:00<?, ?it/s]"
      ]
     },
     "metadata": {},
     "output_type": "display_data"
    },
    {
     "data": {
      "application/vnd.jupyter.widget-view+json": {
       "model_id": "5163f247b3264b5da04aec75cdd5204a",
       "version_major": 2,
       "version_minor": 0
      },
      "text/plain": [
       "  0%|          | 0/393 [00:00<?, ?it/s]"
      ]
     },
     "metadata": {},
     "output_type": "display_data"
    },
    {
     "data": {
      "application/vnd.jupyter.widget-view+json": {
       "model_id": "0ea78586478641d4bcfd81aea1f83e5e",
       "version_major": 2,
       "version_minor": 0
      },
      "text/plain": [
       "  0%|          | 0/393 [00:00<?, ?it/s]"
      ]
     },
     "metadata": {},
     "output_type": "display_data"
    },
    {
     "data": {
      "application/vnd.jupyter.widget-view+json": {
       "model_id": "9a243253ffb944429e4296c835c43e2d",
       "version_major": 2,
       "version_minor": 0
      },
      "text/plain": [
       "  0%|          | 0/393 [00:00<?, ?it/s]"
      ]
     },
     "metadata": {},
     "output_type": "display_data"
    },
    {
     "data": {
      "application/vnd.jupyter.widget-view+json": {
       "model_id": "7a829eeb70d14a86b51ace6d9d519ecd",
       "version_major": 2,
       "version_minor": 0
      },
      "text/plain": [
       "  0%|          | 0/393 [00:00<?, ?it/s]"
      ]
     },
     "metadata": {},
     "output_type": "display_data"
    },
    {
     "data": {
      "application/vnd.jupyter.widget-view+json": {
       "model_id": "4fbb73b9f39a4a83a39f5437b1ae4497",
       "version_major": 2,
       "version_minor": 0
      },
      "text/plain": [
       "  0%|          | 0/393 [00:00<?, ?it/s]"
      ]
     },
     "metadata": {},
     "output_type": "display_data"
    },
    {
     "data": {
      "application/vnd.jupyter.widget-view+json": {
       "model_id": "54eed9cebe25480a84cbf4a5e6e18bcd",
       "version_major": 2,
       "version_minor": 0
      },
      "text/plain": [
       "  0%|          | 0/393 [00:00<?, ?it/s]"
      ]
     },
     "metadata": {},
     "output_type": "display_data"
    },
    {
     "data": {
      "application/vnd.jupyter.widget-view+json": {
       "model_id": "8b3af0434b274268a02726c2fefb8593",
       "version_major": 2,
       "version_minor": 0
      },
      "text/plain": [
       "  0%|          | 0/393 [00:00<?, ?it/s]"
      ]
     },
     "metadata": {},
     "output_type": "display_data"
    },
    {
     "data": {
      "application/vnd.jupyter.widget-view+json": {
       "model_id": "957900d008df4ba1b03e4141a75e9ee1",
       "version_major": 2,
       "version_minor": 0
      },
      "text/plain": [
       "  0%|          | 0/393 [00:00<?, ?it/s]"
      ]
     },
     "metadata": {},
     "output_type": "display_data"
    },
    {
     "data": {
      "application/vnd.jupyter.widget-view+json": {
       "model_id": "9eb356a5764441c1b7fb624d1e81fa48",
       "version_major": 2,
       "version_minor": 0
      },
      "text/plain": [
       "  0%|          | 0/393 [00:00<?, ?it/s]"
      ]
     },
     "metadata": {},
     "output_type": "display_data"
    },
    {
     "data": {
      "application/vnd.jupyter.widget-view+json": {
       "model_id": "d682157e372342a89e64627a763eabaa",
       "version_major": 2,
       "version_minor": 0
      },
      "text/plain": [
       "  0%|          | 0/393 [00:00<?, ?it/s]"
      ]
     },
     "metadata": {},
     "output_type": "display_data"
    },
    {
     "data": {
      "application/vnd.jupyter.widget-view+json": {
       "model_id": "c54a948393f2431a8ffee67215109168",
       "version_major": 2,
       "version_minor": 0
      },
      "text/plain": [
       "  0%|          | 0/393 [00:00<?, ?it/s]"
      ]
     },
     "metadata": {},
     "output_type": "display_data"
    },
    {
     "data": {
      "application/vnd.jupyter.widget-view+json": {
       "model_id": "a7207b901abb46d0a66cc0763b81fabd",
       "version_major": 2,
       "version_minor": 0
      },
      "text/plain": [
       "  0%|          | 0/393 [00:00<?, ?it/s]"
      ]
     },
     "metadata": {},
     "output_type": "display_data"
    },
    {
     "data": {
      "application/vnd.jupyter.widget-view+json": {
       "model_id": "7d1c9c4724cf4a3a8a05af357c1397a8",
       "version_major": 2,
       "version_minor": 0
      },
      "text/plain": [
       "  0%|          | 0/393 [00:00<?, ?it/s]"
      ]
     },
     "metadata": {},
     "output_type": "display_data"
    },
    {
     "data": {
      "application/vnd.jupyter.widget-view+json": {
       "model_id": "386f84b3810e495fbf525176937440b0",
       "version_major": 2,
       "version_minor": 0
      },
      "text/plain": [
       "  0%|          | 0/393 [00:00<?, ?it/s]"
      ]
     },
     "metadata": {},
     "output_type": "display_data"
    },
    {
     "data": {
      "application/vnd.jupyter.widget-view+json": {
       "model_id": "199bf18561484ad3bd1e5fd17b16d9ca",
       "version_major": 2,
       "version_minor": 0
      },
      "text/plain": [
       "  0%|          | 0/393 [00:00<?, ?it/s]"
      ]
     },
     "metadata": {},
     "output_type": "display_data"
    },
    {
     "data": {
      "application/vnd.jupyter.widget-view+json": {
       "model_id": "e6ea9cf6641e4735a34cb0beb8b7d76b",
       "version_major": 2,
       "version_minor": 0
      },
      "text/plain": [
       "  0%|          | 0/393 [00:00<?, ?it/s]"
      ]
     },
     "metadata": {},
     "output_type": "display_data"
    },
    {
     "data": {
      "application/vnd.jupyter.widget-view+json": {
       "model_id": "4a3eeeaa74db433ca4f8c7c1fa24c7d5",
       "version_major": 2,
       "version_minor": 0
      },
      "text/plain": [
       "  0%|          | 0/393 [00:00<?, ?it/s]"
      ]
     },
     "metadata": {},
     "output_type": "display_data"
    },
    {
     "data": {
      "application/vnd.jupyter.widget-view+json": {
       "model_id": "6821bf6e9db2445598a9aad72f168c0c",
       "version_major": 2,
       "version_minor": 0
      },
      "text/plain": [
       "  0%|          | 0/393 [00:00<?, ?it/s]"
      ]
     },
     "metadata": {},
     "output_type": "display_data"
    },
    {
     "data": {
      "application/vnd.jupyter.widget-view+json": {
       "model_id": "41d166b50b2348e79e5567b9706e8262",
       "version_major": 2,
       "version_minor": 0
      },
      "text/plain": [
       "  0%|          | 0/393 [00:00<?, ?it/s]"
      ]
     },
     "metadata": {},
     "output_type": "display_data"
    },
    {
     "data": {
      "application/vnd.jupyter.widget-view+json": {
       "model_id": "1503b70f962642f4b29e48a74b2a65db",
       "version_major": 2,
       "version_minor": 0
      },
      "text/plain": [
       "  0%|          | 0/393 [00:00<?, ?it/s]"
      ]
     },
     "metadata": {},
     "output_type": "display_data"
    },
    {
     "data": {
      "application/vnd.jupyter.widget-view+json": {
       "model_id": "727d6faee3f34576af3f30306a2af1e6",
       "version_major": 2,
       "version_minor": 0
      },
      "text/plain": [
       "  0%|          | 0/393 [00:00<?, ?it/s]"
      ]
     },
     "metadata": {},
     "output_type": "display_data"
    },
    {
     "data": {
      "application/vnd.jupyter.widget-view+json": {
       "model_id": "b1c40031ca1345da8485779598e9f6a5",
       "version_major": 2,
       "version_minor": 0
      },
      "text/plain": [
       "  0%|          | 0/393 [00:00<?, ?it/s]"
      ]
     },
     "metadata": {},
     "output_type": "display_data"
    },
    {
     "data": {
      "application/vnd.jupyter.widget-view+json": {
       "model_id": "fc947e27adca4fb08c5922139265ceb4",
       "version_major": 2,
       "version_minor": 0
      },
      "text/plain": [
       "  0%|          | 0/393 [00:00<?, ?it/s]"
      ]
     },
     "metadata": {},
     "output_type": "display_data"
    },
    {
     "data": {
      "application/vnd.jupyter.widget-view+json": {
       "model_id": "a564d5b6365c454c936beba353ef7fc8",
       "version_major": 2,
       "version_minor": 0
      },
      "text/plain": [
       "  0%|          | 0/393 [00:00<?, ?it/s]"
      ]
     },
     "metadata": {},
     "output_type": "display_data"
    },
    {
     "data": {
      "application/vnd.jupyter.widget-view+json": {
       "model_id": "a29514bc37944da68e4c985ad6e1342c",
       "version_major": 2,
       "version_minor": 0
      },
      "text/plain": [
       "  0%|          | 0/393 [00:00<?, ?it/s]"
      ]
     },
     "metadata": {},
     "output_type": "display_data"
    },
    {
     "data": {
      "application/vnd.jupyter.widget-view+json": {
       "model_id": "4d0f9b540a704e8b8ea424dec8d1677b",
       "version_major": 2,
       "version_minor": 0
      },
      "text/plain": [
       "  0%|          | 0/393 [00:00<?, ?it/s]"
      ]
     },
     "metadata": {},
     "output_type": "display_data"
    },
    {
     "data": {
      "application/vnd.jupyter.widget-view+json": {
       "model_id": "f06df0f6f14d45fd8235e23f1a2022cd",
       "version_major": 2,
       "version_minor": 0
      },
      "text/plain": [
       "  0%|          | 0/393 [00:00<?, ?it/s]"
      ]
     },
     "metadata": {},
     "output_type": "display_data"
    },
    {
     "data": {
      "application/vnd.jupyter.widget-view+json": {
       "model_id": "176958089ce447d29c824185985edf1a",
       "version_major": 2,
       "version_minor": 0
      },
      "text/plain": [
       "  0%|          | 0/393 [00:00<?, ?it/s]"
      ]
     },
     "metadata": {},
     "output_type": "display_data"
    },
    {
     "data": {
      "application/vnd.jupyter.widget-view+json": {
       "model_id": "17353d52f37645fa80445a9e0993999a",
       "version_major": 2,
       "version_minor": 0
      },
      "text/plain": [
       "  0%|          | 0/393 [00:00<?, ?it/s]"
      ]
     },
     "metadata": {},
     "output_type": "display_data"
    },
    {
     "data": {
      "application/vnd.jupyter.widget-view+json": {
       "model_id": "cfac2c8b704645739e1894674415440a",
       "version_major": 2,
       "version_minor": 0
      },
      "text/plain": [
       "  0%|          | 0/393 [00:00<?, ?it/s]"
      ]
     },
     "metadata": {},
     "output_type": "display_data"
    },
    {
     "data": {
      "application/vnd.jupyter.widget-view+json": {
       "model_id": "a8e069e922c443b98b4c47d289089105",
       "version_major": 2,
       "version_minor": 0
      },
      "text/plain": [
       "  0%|          | 0/393 [00:00<?, ?it/s]"
      ]
     },
     "metadata": {},
     "output_type": "display_data"
    },
    {
     "data": {
      "application/vnd.jupyter.widget-view+json": {
       "model_id": "66d048b42ea546c69a8d10c1811daa5d",
       "version_major": 2,
       "version_minor": 0
      },
      "text/plain": [
       "  0%|          | 0/393 [00:00<?, ?it/s]"
      ]
     },
     "metadata": {},
     "output_type": "display_data"
    },
    {
     "data": {
      "application/vnd.jupyter.widget-view+json": {
       "model_id": "283ab0725f5e47f8bdb034c788f9ccc6",
       "version_major": 2,
       "version_minor": 0
      },
      "text/plain": [
       "  0%|          | 0/393 [00:00<?, ?it/s]"
      ]
     },
     "metadata": {},
     "output_type": "display_data"
    },
    {
     "data": {
      "application/vnd.jupyter.widget-view+json": {
       "model_id": "7d4e107de36d407ebb2b6a850409495d",
       "version_major": 2,
       "version_minor": 0
      },
      "text/plain": [
       "  0%|          | 0/393 [00:00<?, ?it/s]"
      ]
     },
     "metadata": {},
     "output_type": "display_data"
    },
    {
     "data": {
      "application/vnd.jupyter.widget-view+json": {
       "model_id": "260433bb1b704821a18ae1aedc77b876",
       "version_major": 2,
       "version_minor": 0
      },
      "text/plain": [
       "  0%|          | 0/393 [00:00<?, ?it/s]"
      ]
     },
     "metadata": {},
     "output_type": "display_data"
    },
    {
     "data": {
      "application/vnd.jupyter.widget-view+json": {
       "model_id": "23ef45a9880c49a49c1fb18985fdd77e",
       "version_major": 2,
       "version_minor": 0
      },
      "text/plain": [
       "  0%|          | 0/393 [00:00<?, ?it/s]"
      ]
     },
     "metadata": {},
     "output_type": "display_data"
    },
    {
     "data": {
      "application/vnd.jupyter.widget-view+json": {
       "model_id": "f43297457d464d9caae66489dfe77d72",
       "version_major": 2,
       "version_minor": 0
      },
      "text/plain": [
       "  0%|          | 0/393 [00:00<?, ?it/s]"
      ]
     },
     "metadata": {},
     "output_type": "display_data"
    },
    {
     "data": {
      "application/vnd.jupyter.widget-view+json": {
       "model_id": "ae01c087512741c195aa967b229d9a4d",
       "version_major": 2,
       "version_minor": 0
      },
      "text/plain": [
       "  0%|          | 0/393 [00:00<?, ?it/s]"
      ]
     },
     "metadata": {},
     "output_type": "display_data"
    }
   ],
   "source": [
    "num_epochs = 400\n",
    "lr = 1e-3\n",
    "num_timesteps = 100\n",
    "hidden_size = 256\n",
    "hidden_layers = 3\n",
    "time_emb = \"sinusoidal\"\n",
    "input_emb = \"sinusoidal\"\n",
    "batch_size = 100\n",
    "emb_size = 128\n",
    "input_dim = len(all_columns)\n",
    "\n",
    "\n",
    "dataloader = DataLoader(dataset, batch_size, shuffle=True, drop_last=True)\n",
    "model = MLP(input_dim, hidden_size, hidden_layers, emb_size, time_emb, input_emb)\n",
    "noise_scheduler = ddpm.NoiseScheduler(num_timesteps, beta_end=0.02, beta_schedule=\"linear\")\n",
    "\n",
    "optimizer = torch.optim.AdamW(model.parameters(), lr)\n",
    "global_step = 0\n",
    "frames = []\n",
    "losses = []\n",
    "\n",
    "\n",
    "print(\"Training model\")\n",
    "for epoch in range(num_epochs):\n",
    "    model.train()\n",
    "    progress_bar = tqdm(total=len(dataloader))\n",
    "    progress_bar.set_description(f\"Epoch {epoch}\")\n",
    "    \n",
    "    for step, batch in enumerate(dataloader):\n",
    "        batch = batch[0]\n",
    "        noise = torch.randn(batch.shape).float()  # Assurez-vous que le bruit est de type float\n",
    "        timesteps = torch.randint(0, noise_scheduler.num_timesteps, (batch.shape[0],)).long()\n",
    "\n",
    "        noisy = noise_scheduler.add_noise(batch, noise, timesteps)\n",
    "        noisy = noisy.float()  # Assurez-vous que le tenseur noisy est de type float\n",
    "        noise_pred = model(noisy, timesteps)\n",
    "        \n",
    "        loss = F.mse_loss(noise_pred, noise)\n",
    "        loss.backward()\n",
    "\n",
    "        nn.utils.clip_grad_norm_(model.parameters(), 1.0)\n",
    "        optimizer.step()\n",
    "        optimizer.zero_grad()\n",
    "\n",
    "        progress_bar.update(1)\n",
    "        logs = {\"loss\": loss.detach().item(), \"step\": global_step}\n",
    "        losses.append(loss.detach().item())\n",
    "        progress_bar.set_postfix(**logs)\n",
    "        global_step += 1\n",
    "    progress_bar.close()\n",
    "\n"
   ]
  },
  {
   "cell_type": "code",
   "execution_count": 90,
   "id": "40504889",
   "metadata": {},
   "outputs": [
    {
     "name": "stdout",
     "output_type": "stream",
     "text": [
      "Saving model...\n"
     ]
    }
   ],
   "source": [
    "print(\"Saving model...\")\n",
    "outdir = \"exps/base\"\n",
    "os.makedirs(outdir, exist_ok=True)\n",
    "torch.save(model.state_dict(), f\"{outdir}/modelWEBFINALlr10-3.pth\")"
   ]
  },
  {
   "cell_type": "code",
   "execution_count": null,
   "id": "f2e32716",
   "metadata": {},
   "outputs": [
    {
     "data": {
      "application/vnd.jupyter.widget-view+json": {
       "model_id": "50667a73c72b48458bc98d8b16f9fe28",
       "version_major": 2,
       "version_minor": 0
      },
      "text/plain": [
       "  0%|          | 0/100 [00:00<?, ?it/s]"
      ]
     },
     "metadata": {},
     "output_type": "display_data"
    }
   ],
   "source": [
    "# Initialisation des listes pour stocker les moyennes, écarts-types et médianes\n",
    "L_mean = []\n",
    "L_std = []\n",
    "L_median = []\n",
    "\n",
    "for j in range(1):\n",
    "    eval_batch_size = 393720\n",
    "    num_timesteps = 100\n",
    "    sample = torch.randn(eval_batch_size, input_dim)\n",
    "    timesteps = list(range(num_timesteps))[::-1]\n",
    "    samples = []\n",
    "\n",
    "    for i, t in enumerate(tqdm(timesteps)):\n",
    "        t = torch.from_numpy(np.repeat(t, eval_batch_size)).long()\n",
    "        with torch.no_grad():\n",
    "            residual = model(sample, t)\n",
    "        sample = noise_scheduler.step(residual, t[0], sample)\n",
    "        if (i + 1) % plot_step == 0:\n",
    "            samples.append(sample.numpy())\n",
    "\n",
    "    generated_data = samples[-1]\n",
    "    df = pd.DataFrame(generated_data, columns=all_columns)\n",
    "\n",
    "    for i in range(len(all_columns)-2):\n",
    "        x_min, x_max = df[all_columns[i]].min(), df[all_columns[i]].max()\n",
    "        y_min, y_max = df_merged[all_columns[i]].min(), df_merged[all_columns[i]].max()\n",
    "\n",
    "        if y_max != y_min:\n",
    "            a = (y_max - y_min) / (x_max - x_min)\n",
    "            b = y_max - a * x_max\n",
    "            df[all_columns[i]] = a * df[all_columns[i]] + b\n",
    "\n",
    "    for column in [\"A\", \"B\"]:\n",
    "        df[column] = (df[column] >= 0.5).astype(int)\n",
    "    \n",
    "    df.loc[df['check A'] < 0, 'A'] = np.nan\n",
    "    df.loc[df['check B'] < 0, 'B'] = np.nan\n",
    "\n",
    "    mean_A, mean_B = df['A'].mean(), df['B'].mean()\n",
    "    std_A, std_B = df['A'].std(), df['B'].std()\n",
    "    median_A, median_B = df['A'].median(), df['B'].median()\n",
    "    \n",
    "    L_mean.append([mean_A, mean_B])\n",
    "    L_std.append([std_A, std_B])\n",
    "    L_median.append([median_A, median_B])\n",
    "    \n",
    "    print(f\"Jeu de données {j+1}:\")\n",
    "    print(f\"  Moyenne - A: {mean_A}, B: {mean_B}\")\n",
    "    print(f\"  Écart-type - A: {std_A}, B: {std_B}\")\n",
    "    print(f\"  Médiane - A: {median_A}, B: {median_B}\")\n",
    "\n",
    "# Conversion des listes en arrays numpy\n",
    "L_mean = np.array(L_mean)\n",
    "L_std = np.array(L_std)\n",
    "L_median = np.array(L_median)\n",
    "\n",
    "# Calcul des moyennes finales pour chaque métrique\n",
    "moyennes_finales = np.mean(L_mean, axis=0)\n",
    "std_finales = np.mean(L_std, axis=0)\n",
    "medianes_finales = np.mean(L_median, axis=0)\n",
    "\n",
    "print(\"\\nRésultats finaux:\")\n",
    "print(\"Moyennes des moyennes:\")\n",
    "print(\"  A:\", moyennes_finales[0])\n",
    "print(\"  B:\", moyennes_finales[1])\n",
    "print(\"Moyennes des écarts-types:\")\n",
    "print(\"  A:\", std_finales[0])\n",
    "print(\"  B:\", std_finales[1])\n",
    "print(\"Moyennes des médianes:\")\n",
    "print(\"  A:\", medianes_finales[0])\n",
    "print(\"  B:\", medianes_finales[1])"
   ]
  },
  {
   "cell_type": "code",
   "execution_count": 92,
   "id": "c3408195",
   "metadata": {},
   "outputs": [
    {
     "data": {
      "text/html": [
       "<div>\n",
       "<style scoped>\n",
       "    .dataframe tbody tr th:only-of-type {\n",
       "        vertical-align: middle;\n",
       "    }\n",
       "\n",
       "    .dataframe tbody tr th {\n",
       "        vertical-align: top;\n",
       "    }\n",
       "\n",
       "    .dataframe thead th {\n",
       "        text-align: right;\n",
       "    }\n",
       "</style>\n",
       "<table border=\"1\" class=\"dataframe\">\n",
       "  <thead>\n",
       "    <tr style=\"text-align: right;\">\n",
       "      <th></th>\n",
       "      <th>A</th>\n",
       "      <th>B</th>\n",
       "      <th>transaction</th>\n",
       "      <th>presence_1</th>\n",
       "      <th>presence_2</th>\n",
       "      <th>presence_3</th>\n",
       "      <th>presence_4</th>\n",
       "      <th>presence_5</th>\n",
       "      <th>presence_6</th>\n",
       "      <th>presence_7</th>\n",
       "      <th>...</th>\n",
       "      <th>time_spend_13</th>\n",
       "      <th>time_spend_14</th>\n",
       "      <th>time_spend_15</th>\n",
       "      <th>time_spend_16</th>\n",
       "      <th>time_spend_17</th>\n",
       "      <th>time_spend_18</th>\n",
       "      <th>time_spend_19</th>\n",
       "      <th>time_spend_20</th>\n",
       "      <th>check A</th>\n",
       "      <th>check B</th>\n",
       "    </tr>\n",
       "  </thead>\n",
       "  <tbody>\n",
       "    <tr>\n",
       "      <th>0</th>\n",
       "      <td>0.0</td>\n",
       "      <td>NaN</td>\n",
       "      <td>0.0</td>\n",
       "      <td>1</td>\n",
       "      <td>0</td>\n",
       "      <td>0</td>\n",
       "      <td>0</td>\n",
       "      <td>0</td>\n",
       "      <td>0</td>\n",
       "      <td>0</td>\n",
       "      <td>...</td>\n",
       "      <td>58</td>\n",
       "      <td>231</td>\n",
       "      <td>28</td>\n",
       "      <td>55</td>\n",
       "      <td>34</td>\n",
       "      <td>42</td>\n",
       "      <td>36</td>\n",
       "      <td>54</td>\n",
       "      <td>4.012825</td>\n",
       "      <td>-3.993256</td>\n",
       "    </tr>\n",
       "    <tr>\n",
       "      <th>1</th>\n",
       "      <td>0.0</td>\n",
       "      <td>NaN</td>\n",
       "      <td>0.0</td>\n",
       "      <td>1</td>\n",
       "      <td>0</td>\n",
       "      <td>0</td>\n",
       "      <td>0</td>\n",
       "      <td>0</td>\n",
       "      <td>0</td>\n",
       "      <td>0</td>\n",
       "      <td>...</td>\n",
       "      <td>134</td>\n",
       "      <td>599</td>\n",
       "      <td>21</td>\n",
       "      <td>59</td>\n",
       "      <td>37</td>\n",
       "      <td>42</td>\n",
       "      <td>860</td>\n",
       "      <td>79</td>\n",
       "      <td>3.995309</td>\n",
       "      <td>-4.064244</td>\n",
       "    </tr>\n",
       "    <tr>\n",
       "      <th>2</th>\n",
       "      <td>0.0</td>\n",
       "      <td>0.0</td>\n",
       "      <td>0.0</td>\n",
       "      <td>1</td>\n",
       "      <td>0</td>\n",
       "      <td>0</td>\n",
       "      <td>0</td>\n",
       "      <td>0</td>\n",
       "      <td>0</td>\n",
       "      <td>0</td>\n",
       "      <td>...</td>\n",
       "      <td>63</td>\n",
       "      <td>287</td>\n",
       "      <td>48</td>\n",
       "      <td>729</td>\n",
       "      <td>37</td>\n",
       "      <td>36</td>\n",
       "      <td>61</td>\n",
       "      <td>68</td>\n",
       "      <td>2.546213</td>\n",
       "      <td>2.059411</td>\n",
       "    </tr>\n",
       "    <tr>\n",
       "      <th>3</th>\n",
       "      <td>0.0</td>\n",
       "      <td>NaN</td>\n",
       "      <td>0.0</td>\n",
       "      <td>1</td>\n",
       "      <td>0</td>\n",
       "      <td>0</td>\n",
       "      <td>0</td>\n",
       "      <td>0</td>\n",
       "      <td>0</td>\n",
       "      <td>0</td>\n",
       "      <td>...</td>\n",
       "      <td>77</td>\n",
       "      <td>232</td>\n",
       "      <td>172</td>\n",
       "      <td>37</td>\n",
       "      <td>123</td>\n",
       "      <td>36</td>\n",
       "      <td>33</td>\n",
       "      <td>321</td>\n",
       "      <td>3.940406</td>\n",
       "      <td>-4.086996</td>\n",
       "    </tr>\n",
       "    <tr>\n",
       "      <th>4</th>\n",
       "      <td>NaN</td>\n",
       "      <td>NaN</td>\n",
       "      <td>0.0</td>\n",
       "      <td>1</td>\n",
       "      <td>0</td>\n",
       "      <td>1</td>\n",
       "      <td>1</td>\n",
       "      <td>0</td>\n",
       "      <td>0</td>\n",
       "      <td>0</td>\n",
       "      <td>...</td>\n",
       "      <td>496</td>\n",
       "      <td>262</td>\n",
       "      <td>53</td>\n",
       "      <td>75</td>\n",
       "      <td>215</td>\n",
       "      <td>471</td>\n",
       "      <td>594</td>\n",
       "      <td>331</td>\n",
       "      <td>-2.711340</td>\n",
       "      <td>-1.613613</td>\n",
       "    </tr>\n",
       "    <tr>\n",
       "      <th>5</th>\n",
       "      <td>NaN</td>\n",
       "      <td>0.0</td>\n",
       "      <td>0.0</td>\n",
       "      <td>1</td>\n",
       "      <td>0</td>\n",
       "      <td>0</td>\n",
       "      <td>0</td>\n",
       "      <td>0</td>\n",
       "      <td>0</td>\n",
       "      <td>0</td>\n",
       "      <td>...</td>\n",
       "      <td>526</td>\n",
       "      <td>259</td>\n",
       "      <td>241</td>\n",
       "      <td>88</td>\n",
       "      <td>38</td>\n",
       "      <td>47</td>\n",
       "      <td>49</td>\n",
       "      <td>60</td>\n",
       "      <td>-3.820673</td>\n",
       "      <td>3.953736</td>\n",
       "    </tr>\n",
       "    <tr>\n",
       "      <th>6</th>\n",
       "      <td>NaN</td>\n",
       "      <td>NaN</td>\n",
       "      <td>0.0</td>\n",
       "      <td>1</td>\n",
       "      <td>0</td>\n",
       "      <td>1</td>\n",
       "      <td>0</td>\n",
       "      <td>0</td>\n",
       "      <td>0</td>\n",
       "      <td>0</td>\n",
       "      <td>...</td>\n",
       "      <td>148</td>\n",
       "      <td>249</td>\n",
       "      <td>24</td>\n",
       "      <td>63</td>\n",
       "      <td>33</td>\n",
       "      <td>165</td>\n",
       "      <td>57</td>\n",
       "      <td>110</td>\n",
       "      <td>-1.764194</td>\n",
       "      <td>-1.844628</td>\n",
       "    </tr>\n",
       "    <tr>\n",
       "      <th>7</th>\n",
       "      <td>NaN</td>\n",
       "      <td>0.0</td>\n",
       "      <td>0.0</td>\n",
       "      <td>1</td>\n",
       "      <td>0</td>\n",
       "      <td>0</td>\n",
       "      <td>0</td>\n",
       "      <td>0</td>\n",
       "      <td>0</td>\n",
       "      <td>0</td>\n",
       "      <td>...</td>\n",
       "      <td>67</td>\n",
       "      <td>238</td>\n",
       "      <td>24</td>\n",
       "      <td>51</td>\n",
       "      <td>32</td>\n",
       "      <td>80</td>\n",
       "      <td>57</td>\n",
       "      <td>60</td>\n",
       "      <td>-4.018368</td>\n",
       "      <td>4.009638</td>\n",
       "    </tr>\n",
       "    <tr>\n",
       "      <th>8</th>\n",
       "      <td>0.0</td>\n",
       "      <td>NaN</td>\n",
       "      <td>0.0</td>\n",
       "      <td>0</td>\n",
       "      <td>0</td>\n",
       "      <td>0</td>\n",
       "      <td>0</td>\n",
       "      <td>0</td>\n",
       "      <td>0</td>\n",
       "      <td>0</td>\n",
       "      <td>...</td>\n",
       "      <td>462</td>\n",
       "      <td>253</td>\n",
       "      <td>43</td>\n",
       "      <td>64</td>\n",
       "      <td>35</td>\n",
       "      <td>74</td>\n",
       "      <td>38</td>\n",
       "      <td>57</td>\n",
       "      <td>4.091462</td>\n",
       "      <td>-4.005824</td>\n",
       "    </tr>\n",
       "    <tr>\n",
       "      <th>9</th>\n",
       "      <td>NaN</td>\n",
       "      <td>0.0</td>\n",
       "      <td>0.0</td>\n",
       "      <td>1</td>\n",
       "      <td>0</td>\n",
       "      <td>0</td>\n",
       "      <td>0</td>\n",
       "      <td>0</td>\n",
       "      <td>0</td>\n",
       "      <td>0</td>\n",
       "      <td>...</td>\n",
       "      <td>61</td>\n",
       "      <td>766</td>\n",
       "      <td>97</td>\n",
       "      <td>226</td>\n",
       "      <td>202</td>\n",
       "      <td>893</td>\n",
       "      <td>46</td>\n",
       "      <td>73</td>\n",
       "      <td>-3.948457</td>\n",
       "      <td>3.955889</td>\n",
       "    </tr>\n",
       "  </tbody>\n",
       "</table>\n",
       "<p>10 rows × 45 columns</p>\n",
       "</div>"
      ],
      "text/plain": [
       "     A    B  transaction  presence_1  presence_2  presence_3  presence_4  \\\n",
       "0  0.0  NaN          0.0           1           0           0           0   \n",
       "1  0.0  NaN          0.0           1           0           0           0   \n",
       "2  0.0  0.0          0.0           1           0           0           0   \n",
       "3  0.0  NaN          0.0           1           0           0           0   \n",
       "4  NaN  NaN          0.0           1           0           1           1   \n",
       "5  NaN  0.0          0.0           1           0           0           0   \n",
       "6  NaN  NaN          0.0           1           0           1           0   \n",
       "7  NaN  0.0          0.0           1           0           0           0   \n",
       "8  0.0  NaN          0.0           0           0           0           0   \n",
       "9  NaN  0.0          0.0           1           0           0           0   \n",
       "\n",
       "   presence_5  presence_6  presence_7  ...  time_spend_13  time_spend_14  \\\n",
       "0           0           0           0  ...             58            231   \n",
       "1           0           0           0  ...            134            599   \n",
       "2           0           0           0  ...             63            287   \n",
       "3           0           0           0  ...             77            232   \n",
       "4           0           0           0  ...            496            262   \n",
       "5           0           0           0  ...            526            259   \n",
       "6           0           0           0  ...            148            249   \n",
       "7           0           0           0  ...             67            238   \n",
       "8           0           0           0  ...            462            253   \n",
       "9           0           0           0  ...             61            766   \n",
       "\n",
       "   time_spend_15  time_spend_16  time_spend_17  time_spend_18  time_spend_19  \\\n",
       "0             28             55             34             42             36   \n",
       "1             21             59             37             42            860   \n",
       "2             48            729             37             36             61   \n",
       "3            172             37            123             36             33   \n",
       "4             53             75            215            471            594   \n",
       "5            241             88             38             47             49   \n",
       "6             24             63             33            165             57   \n",
       "7             24             51             32             80             57   \n",
       "8             43             64             35             74             38   \n",
       "9             97            226            202            893             46   \n",
       "\n",
       "   time_spend_20   check A   check B  \n",
       "0             54  4.012825 -3.993256  \n",
       "1             79  3.995309 -4.064244  \n",
       "2             68  2.546213  2.059411  \n",
       "3            321  3.940406 -4.086996  \n",
       "4            331 -2.711340 -1.613613  \n",
       "5             60 -3.820673  3.953736  \n",
       "6            110 -1.764194 -1.844628  \n",
       "7             60 -4.018368  4.009638  \n",
       "8             57  4.091462 -4.005824  \n",
       "9             73 -3.948457  3.955889  \n",
       "\n",
       "[10 rows x 45 columns]"
      ]
     },
     "execution_count": 92,
     "metadata": {},
     "output_type": "execute_result"
    }
   ],
   "source": [
    "generated_data = samples[-1]\n",
    "df = pd.DataFrame(generated_data, columns=all_columns)\n",
    "    \n",
    "for i in range(len(all_columns)-2):\n",
    "    x_min ,x_max =df[all_columns[i]].min() , df[all_columns[i]].max()\n",
    "    y_min , y_max = df_merged[all_columns[i]].min() , df_merged[all_columns[i]].max()\n",
    "    \n",
    "    if y_max != y_min :\n",
    "        a=(y_max-y_min)/(x_max-x_min)\n",
    "        b=y_max-a*x_max\n",
    "        df[all_columns[i]]=a*df[all_columns[i]]+b\n",
    "df['presence_1'] = df['presence_1'].apply(lambda x: 0 if x < 0.5 else 1)\n",
    "#renormalisation\n",
    "\n",
    "Col=[\"A\",\"B\"] +column_names\n",
    "for column in Col:\n",
    "    df[column] = (df[column] >= 0.5).astype(int)\n",
    "#Presence et transaction 0 ou 1\n",
    "\n",
    "df.loc[df['check A'] < 0, 'A'] = np.nan\n",
    "df.loc[df['check B'] < 0, 'B'] = np.nan\n",
    "#Simuler les NaN\n",
    "\n",
    "df['transaction'] = df[['A', 'B']].max(axis=1).fillna(0)\n",
    "\n",
    "for i in range(1, 21):\n",
    "    column_name = f'time_spend_{i}'\n",
    "    if column_name in df.columns:\n",
    "        df[column_name] = np.round(df[column_name]).astype(int)\n",
    "#arrondir à l'entier par soucis de lisibilité\n",
    "\n",
    "cols = df.columns.tolist()\n",
    "cols.remove('transaction')\n",
    "cols.insert(2, 'transaction')\n",
    "df = df[cols]\n",
    "\n",
    "\n",
    "df.head(10)"
   ]
  },
  {
   "cell_type": "code",
   "execution_count": 93,
   "id": "d160ae44",
   "metadata": {},
   "outputs": [
    {
     "data": {
      "text/html": [
       "<div>\n",
       "<style scoped>\n",
       "    .dataframe tbody tr th:only-of-type {\n",
       "        vertical-align: middle;\n",
       "    }\n",
       "\n",
       "    .dataframe tbody tr th {\n",
       "        vertical-align: top;\n",
       "    }\n",
       "\n",
       "    .dataframe thead th {\n",
       "        text-align: right;\n",
       "    }\n",
       "</style>\n",
       "<table border=\"1\" class=\"dataframe\">\n",
       "  <thead>\n",
       "    <tr style=\"text-align: right;\">\n",
       "      <th></th>\n",
       "      <th>A</th>\n",
       "      <th>B</th>\n",
       "    </tr>\n",
       "  </thead>\n",
       "  <tbody>\n",
       "    <tr>\n",
       "      <th>count</th>\n",
       "      <td>19974.000000</td>\n",
       "      <td>19401.000000</td>\n",
       "    </tr>\n",
       "    <tr>\n",
       "      <th>mean</th>\n",
       "      <td>0.004406</td>\n",
       "      <td>0.012731</td>\n",
       "    </tr>\n",
       "    <tr>\n",
       "      <th>std</th>\n",
       "      <td>0.066231</td>\n",
       "      <td>0.112115</td>\n",
       "    </tr>\n",
       "    <tr>\n",
       "      <th>min</th>\n",
       "      <td>0.000000</td>\n",
       "      <td>0.000000</td>\n",
       "    </tr>\n",
       "    <tr>\n",
       "      <th>25%</th>\n",
       "      <td>0.000000</td>\n",
       "      <td>0.000000</td>\n",
       "    </tr>\n",
       "    <tr>\n",
       "      <th>50%</th>\n",
       "      <td>0.000000</td>\n",
       "      <td>0.000000</td>\n",
       "    </tr>\n",
       "    <tr>\n",
       "      <th>75%</th>\n",
       "      <td>0.000000</td>\n",
       "      <td>0.000000</td>\n",
       "    </tr>\n",
       "    <tr>\n",
       "      <th>max</th>\n",
       "      <td>1.000000</td>\n",
       "      <td>1.000000</td>\n",
       "    </tr>\n",
       "  </tbody>\n",
       "</table>\n",
       "</div>"
      ],
      "text/plain": [
       "                  A             B\n",
       "count  19974.000000  19401.000000\n",
       "mean       0.004406      0.012731\n",
       "std        0.066231      0.112115\n",
       "min        0.000000      0.000000\n",
       "25%        0.000000      0.000000\n",
       "50%        0.000000      0.000000\n",
       "75%        0.000000      0.000000\n",
       "max        1.000000      1.000000"
      ]
     },
     "execution_count": 93,
     "metadata": {},
     "output_type": "execute_result"
    }
   ],
   "source": [
    "df[[\"A\",\"B\"]].describe()"
   ]
  },
  {
   "cell_type": "code",
   "execution_count": 94,
   "id": "84e78a15",
   "metadata": {},
   "outputs": [
    {
     "name": "stdout",
     "output_type": "stream",
     "text": [
      "Nombre de lignes avant suppression : 39372\n",
      "Nombre de lignes après suppression : 39359\n",
      "Nombre de lignes supprimées : 13\n"
     ]
    },
    {
     "data": {
      "text/html": [
       "<div>\n",
       "<style scoped>\n",
       "    .dataframe tbody tr th:only-of-type {\n",
       "        vertical-align: middle;\n",
       "    }\n",
       "\n",
       "    .dataframe tbody tr th {\n",
       "        vertical-align: top;\n",
       "    }\n",
       "\n",
       "    .dataframe thead th {\n",
       "        text-align: right;\n",
       "    }\n",
       "</style>\n",
       "<table border=\"1\" class=\"dataframe\">\n",
       "  <thead>\n",
       "    <tr style=\"text-align: right;\">\n",
       "      <th></th>\n",
       "      <th>A</th>\n",
       "      <th>B</th>\n",
       "    </tr>\n",
       "  </thead>\n",
       "  <tbody>\n",
       "    <tr>\n",
       "      <th>count</th>\n",
       "      <td>22239.000000</td>\n",
       "      <td>17120.000000</td>\n",
       "    </tr>\n",
       "    <tr>\n",
       "      <th>mean</th>\n",
       "      <td>0.043392</td>\n",
       "      <td>0.040129</td>\n",
       "    </tr>\n",
       "    <tr>\n",
       "      <th>std</th>\n",
       "      <td>0.203743</td>\n",
       "      <td>0.196266</td>\n",
       "    </tr>\n",
       "    <tr>\n",
       "      <th>min</th>\n",
       "      <td>0.000000</td>\n",
       "      <td>0.000000</td>\n",
       "    </tr>\n",
       "    <tr>\n",
       "      <th>25%</th>\n",
       "      <td>0.000000</td>\n",
       "      <td>0.000000</td>\n",
       "    </tr>\n",
       "    <tr>\n",
       "      <th>50%</th>\n",
       "      <td>0.000000</td>\n",
       "      <td>0.000000</td>\n",
       "    </tr>\n",
       "    <tr>\n",
       "      <th>75%</th>\n",
       "      <td>0.000000</td>\n",
       "      <td>0.000000</td>\n",
       "    </tr>\n",
       "    <tr>\n",
       "      <th>max</th>\n",
       "      <td>1.000000</td>\n",
       "      <td>1.000000</td>\n",
       "    </tr>\n",
       "  </tbody>\n",
       "</table>\n",
       "</div>"
      ],
      "text/plain": [
       "                  A             B\n",
       "count  22239.000000  17120.000000\n",
       "mean       0.043392      0.040129\n",
       "std        0.203743      0.196266\n",
       "min        0.000000      0.000000\n",
       "25%        0.000000      0.000000\n",
       "50%        0.000000      0.000000\n",
       "75%        0.000000      0.000000\n",
       "max        1.000000      1.000000"
      ]
     },
     "execution_count": 94,
     "metadata": {},
     "output_type": "execute_result"
    }
   ],
   "source": [
    "dt = pd.read_json('parcoursuserDatabaseFinalABTastyDataset1_2023.JSON')\n",
    "dg = pd.read_json('parcours_reward_ABTastyDataset1_2023.JSON')\n",
    "df_merged = pd.merge(dg, dt, on='fullVisitorId', how='left')\n",
    "df_merged = remove_non_int_rows(df_merged, \"time_spend_time_serie\")\n",
    "\n",
    "padded_series = df_merged['presence_time_serie'].apply(pad_list)\n",
    "padded_series2= df_merged['time_spend_time_serie'].apply(pad_list)\n",
    "\n",
    "for i in range(20):\n",
    "    df_merged[f'presence_{i+1}'] = padded_series.apply(lambda x: x[i])\n",
    "for i in range(20):\n",
    "    df_merged[f'time_spend_{i+1}'] = padded_series2.apply(lambda x: x[i])/(10**6)\n",
    "\n",
    "df_merged.drop('fullVisitorId', axis=1, inplace=True)\n",
    "df_merged.drop('presence_time_serie' , axis=1 , inplace=True)\n",
    "df_merged.drop('time_spend_time_serie' , axis=1 , inplace=True)\n",
    "df_merged.drop('connexion_time_time_serie' , axis=1 , inplace=True)\n",
    "df_merged[[\"A\" , \"B\"]].describe()\n",
    "#df_merged.head()"
   ]
  },
  {
   "cell_type": "markdown",
   "id": "adc9d5b2",
   "metadata": {},
   "source": [
    "Cette fois ci , la moyenne de A est 2 fois plus grande , là où la moyenne de B est très proche de la réalité. De plus l'écart type de B est à nouveau très bon , mais pas celui de A. Finalement , les quartiles sont tous bons."
   ]
  },
  {
   "cell_type": "code",
   "execution_count": 95,
   "id": "6ab1b5d4",
   "metadata": {},
   "outputs": [
    {
     "data": {
      "text/html": [
       "<div>\n",
       "<style scoped>\n",
       "    .dataframe tbody tr th:only-of-type {\n",
       "        vertical-align: middle;\n",
       "    }\n",
       "\n",
       "    .dataframe tbody tr th {\n",
       "        vertical-align: top;\n",
       "    }\n",
       "\n",
       "    .dataframe thead th {\n",
       "        text-align: right;\n",
       "    }\n",
       "</style>\n",
       "<table border=\"1\" class=\"dataframe\">\n",
       "  <thead>\n",
       "    <tr style=\"text-align: right;\">\n",
       "      <th></th>\n",
       "      <th>presence_1</th>\n",
       "      <th>presence_2</th>\n",
       "      <th>presence_3</th>\n",
       "      <th>presence_4</th>\n",
       "      <th>presence_5</th>\n",
       "      <th>presence_6</th>\n",
       "      <th>presence_7</th>\n",
       "      <th>presence_8</th>\n",
       "      <th>presence_9</th>\n",
       "      <th>presence_10</th>\n",
       "      <th>presence_11</th>\n",
       "      <th>presence_12</th>\n",
       "      <th>presence_13</th>\n",
       "      <th>presence_14</th>\n",
       "      <th>presence_15</th>\n",
       "      <th>presence_16</th>\n",
       "      <th>presence_17</th>\n",
       "      <th>presence_18</th>\n",
       "      <th>presence_19</th>\n",
       "      <th>presence_20</th>\n",
       "    </tr>\n",
       "  </thead>\n",
       "  <tbody>\n",
       "    <tr>\n",
       "      <th>count</th>\n",
       "      <td>39372.000000</td>\n",
       "      <td>39372.000000</td>\n",
       "      <td>39372.000000</td>\n",
       "      <td>39372.000000</td>\n",
       "      <td>39372.000000</td>\n",
       "      <td>39372.000000</td>\n",
       "      <td>39372.000000</td>\n",
       "      <td>39372.000000</td>\n",
       "      <td>39372.000000</td>\n",
       "      <td>39372.000000</td>\n",
       "      <td>39372.000000</td>\n",
       "      <td>39372.000000</td>\n",
       "      <td>39372.000000</td>\n",
       "      <td>39372.000000</td>\n",
       "      <td>39372.000000</td>\n",
       "      <td>39372.000000</td>\n",
       "      <td>39372.000000</td>\n",
       "      <td>39372.000000</td>\n",
       "      <td>39372.000000</td>\n",
       "      <td>39372.000000</td>\n",
       "    </tr>\n",
       "    <tr>\n",
       "      <th>mean</th>\n",
       "      <td>0.971884</td>\n",
       "      <td>0.001981</td>\n",
       "      <td>0.205628</td>\n",
       "      <td>0.139388</td>\n",
       "      <td>0.005867</td>\n",
       "      <td>0.001168</td>\n",
       "      <td>0.040308</td>\n",
       "      <td>0.006908</td>\n",
       "      <td>0.227801</td>\n",
       "      <td>0.007518</td>\n",
       "      <td>0.012928</td>\n",
       "      <td>0.010464</td>\n",
       "      <td>0.009042</td>\n",
       "      <td>0.000406</td>\n",
       "      <td>0.019430</td>\n",
       "      <td>0.005054</td>\n",
       "      <td>0.007493</td>\n",
       "      <td>0.033374</td>\n",
       "      <td>0.007975</td>\n",
       "      <td>0.006350</td>\n",
       "    </tr>\n",
       "    <tr>\n",
       "      <th>std</th>\n",
       "      <td>0.165308</td>\n",
       "      <td>0.044466</td>\n",
       "      <td>0.404165</td>\n",
       "      <td>0.346356</td>\n",
       "      <td>0.076373</td>\n",
       "      <td>0.034161</td>\n",
       "      <td>0.196683</td>\n",
       "      <td>0.082831</td>\n",
       "      <td>0.419419</td>\n",
       "      <td>0.086381</td>\n",
       "      <td>0.112965</td>\n",
       "      <td>0.101760</td>\n",
       "      <td>0.094660</td>\n",
       "      <td>0.020155</td>\n",
       "      <td>0.138033</td>\n",
       "      <td>0.070915</td>\n",
       "      <td>0.086236</td>\n",
       "      <td>0.179613</td>\n",
       "      <td>0.088948</td>\n",
       "      <td>0.079433</td>\n",
       "    </tr>\n",
       "    <tr>\n",
       "      <th>min</th>\n",
       "      <td>0.000000</td>\n",
       "      <td>0.000000</td>\n",
       "      <td>0.000000</td>\n",
       "      <td>0.000000</td>\n",
       "      <td>0.000000</td>\n",
       "      <td>0.000000</td>\n",
       "      <td>0.000000</td>\n",
       "      <td>0.000000</td>\n",
       "      <td>0.000000</td>\n",
       "      <td>0.000000</td>\n",
       "      <td>0.000000</td>\n",
       "      <td>0.000000</td>\n",
       "      <td>0.000000</td>\n",
       "      <td>0.000000</td>\n",
       "      <td>0.000000</td>\n",
       "      <td>0.000000</td>\n",
       "      <td>0.000000</td>\n",
       "      <td>0.000000</td>\n",
       "      <td>0.000000</td>\n",
       "      <td>0.000000</td>\n",
       "    </tr>\n",
       "    <tr>\n",
       "      <th>25%</th>\n",
       "      <td>1.000000</td>\n",
       "      <td>0.000000</td>\n",
       "      <td>0.000000</td>\n",
       "      <td>0.000000</td>\n",
       "      <td>0.000000</td>\n",
       "      <td>0.000000</td>\n",
       "      <td>0.000000</td>\n",
       "      <td>0.000000</td>\n",
       "      <td>0.000000</td>\n",
       "      <td>0.000000</td>\n",
       "      <td>0.000000</td>\n",
       "      <td>0.000000</td>\n",
       "      <td>0.000000</td>\n",
       "      <td>0.000000</td>\n",
       "      <td>0.000000</td>\n",
       "      <td>0.000000</td>\n",
       "      <td>0.000000</td>\n",
       "      <td>0.000000</td>\n",
       "      <td>0.000000</td>\n",
       "      <td>0.000000</td>\n",
       "    </tr>\n",
       "    <tr>\n",
       "      <th>50%</th>\n",
       "      <td>1.000000</td>\n",
       "      <td>0.000000</td>\n",
       "      <td>0.000000</td>\n",
       "      <td>0.000000</td>\n",
       "      <td>0.000000</td>\n",
       "      <td>0.000000</td>\n",
       "      <td>0.000000</td>\n",
       "      <td>0.000000</td>\n",
       "      <td>0.000000</td>\n",
       "      <td>0.000000</td>\n",
       "      <td>0.000000</td>\n",
       "      <td>0.000000</td>\n",
       "      <td>0.000000</td>\n",
       "      <td>0.000000</td>\n",
       "      <td>0.000000</td>\n",
       "      <td>0.000000</td>\n",
       "      <td>0.000000</td>\n",
       "      <td>0.000000</td>\n",
       "      <td>0.000000</td>\n",
       "      <td>0.000000</td>\n",
       "    </tr>\n",
       "    <tr>\n",
       "      <th>75%</th>\n",
       "      <td>1.000000</td>\n",
       "      <td>0.000000</td>\n",
       "      <td>0.000000</td>\n",
       "      <td>0.000000</td>\n",
       "      <td>0.000000</td>\n",
       "      <td>0.000000</td>\n",
       "      <td>0.000000</td>\n",
       "      <td>0.000000</td>\n",
       "      <td>0.000000</td>\n",
       "      <td>0.000000</td>\n",
       "      <td>0.000000</td>\n",
       "      <td>0.000000</td>\n",
       "      <td>0.000000</td>\n",
       "      <td>0.000000</td>\n",
       "      <td>0.000000</td>\n",
       "      <td>0.000000</td>\n",
       "      <td>0.000000</td>\n",
       "      <td>0.000000</td>\n",
       "      <td>0.000000</td>\n",
       "      <td>0.000000</td>\n",
       "    </tr>\n",
       "    <tr>\n",
       "      <th>max</th>\n",
       "      <td>1.000000</td>\n",
       "      <td>1.000000</td>\n",
       "      <td>1.000000</td>\n",
       "      <td>1.000000</td>\n",
       "      <td>1.000000</td>\n",
       "      <td>1.000000</td>\n",
       "      <td>1.000000</td>\n",
       "      <td>1.000000</td>\n",
       "      <td>1.000000</td>\n",
       "      <td>1.000000</td>\n",
       "      <td>1.000000</td>\n",
       "      <td>1.000000</td>\n",
       "      <td>1.000000</td>\n",
       "      <td>1.000000</td>\n",
       "      <td>1.000000</td>\n",
       "      <td>1.000000</td>\n",
       "      <td>1.000000</td>\n",
       "      <td>1.000000</td>\n",
       "      <td>1.000000</td>\n",
       "      <td>1.000000</td>\n",
       "    </tr>\n",
       "  </tbody>\n",
       "</table>\n",
       "</div>"
      ],
      "text/plain": [
       "         presence_1    presence_2    presence_3    presence_4    presence_5  \\\n",
       "count  39372.000000  39372.000000  39372.000000  39372.000000  39372.000000   \n",
       "mean       0.971884      0.001981      0.205628      0.139388      0.005867   \n",
       "std        0.165308      0.044466      0.404165      0.346356      0.076373   \n",
       "min        0.000000      0.000000      0.000000      0.000000      0.000000   \n",
       "25%        1.000000      0.000000      0.000000      0.000000      0.000000   \n",
       "50%        1.000000      0.000000      0.000000      0.000000      0.000000   \n",
       "75%        1.000000      0.000000      0.000000      0.000000      0.000000   \n",
       "max        1.000000      1.000000      1.000000      1.000000      1.000000   \n",
       "\n",
       "         presence_6    presence_7    presence_8    presence_9   presence_10  \\\n",
       "count  39372.000000  39372.000000  39372.000000  39372.000000  39372.000000   \n",
       "mean       0.001168      0.040308      0.006908      0.227801      0.007518   \n",
       "std        0.034161      0.196683      0.082831      0.419419      0.086381   \n",
       "min        0.000000      0.000000      0.000000      0.000000      0.000000   \n",
       "25%        0.000000      0.000000      0.000000      0.000000      0.000000   \n",
       "50%        0.000000      0.000000      0.000000      0.000000      0.000000   \n",
       "75%        0.000000      0.000000      0.000000      0.000000      0.000000   \n",
       "max        1.000000      1.000000      1.000000      1.000000      1.000000   \n",
       "\n",
       "        presence_11   presence_12   presence_13   presence_14   presence_15  \\\n",
       "count  39372.000000  39372.000000  39372.000000  39372.000000  39372.000000   \n",
       "mean       0.012928      0.010464      0.009042      0.000406      0.019430   \n",
       "std        0.112965      0.101760      0.094660      0.020155      0.138033   \n",
       "min        0.000000      0.000000      0.000000      0.000000      0.000000   \n",
       "25%        0.000000      0.000000      0.000000      0.000000      0.000000   \n",
       "50%        0.000000      0.000000      0.000000      0.000000      0.000000   \n",
       "75%        0.000000      0.000000      0.000000      0.000000      0.000000   \n",
       "max        1.000000      1.000000      1.000000      1.000000      1.000000   \n",
       "\n",
       "        presence_16   presence_17   presence_18   presence_19   presence_20  \n",
       "count  39372.000000  39372.000000  39372.000000  39372.000000  39372.000000  \n",
       "mean       0.005054      0.007493      0.033374      0.007975      0.006350  \n",
       "std        0.070915      0.086236      0.179613      0.088948      0.079433  \n",
       "min        0.000000      0.000000      0.000000      0.000000      0.000000  \n",
       "25%        0.000000      0.000000      0.000000      0.000000      0.000000  \n",
       "50%        0.000000      0.000000      0.000000      0.000000      0.000000  \n",
       "75%        0.000000      0.000000      0.000000      0.000000      0.000000  \n",
       "max        1.000000      1.000000      1.000000      1.000000      1.000000  "
      ]
     },
     "execution_count": 95,
     "metadata": {},
     "output_type": "execute_result"
    }
   ],
   "source": [
    "df[column_names].describe()"
   ]
  },
  {
   "cell_type": "code",
   "execution_count": 96,
   "id": "ca0a24d0",
   "metadata": {
    "scrolled": true
   },
   "outputs": [
    {
     "data": {
      "text/html": [
       "<div>\n",
       "<style scoped>\n",
       "    .dataframe tbody tr th:only-of-type {\n",
       "        vertical-align: middle;\n",
       "    }\n",
       "\n",
       "    .dataframe tbody tr th {\n",
       "        vertical-align: top;\n",
       "    }\n",
       "\n",
       "    .dataframe thead th {\n",
       "        text-align: right;\n",
       "    }\n",
       "</style>\n",
       "<table border=\"1\" class=\"dataframe\">\n",
       "  <thead>\n",
       "    <tr style=\"text-align: right;\">\n",
       "      <th></th>\n",
       "      <th>presence_1</th>\n",
       "      <th>presence_2</th>\n",
       "      <th>presence_3</th>\n",
       "      <th>presence_4</th>\n",
       "      <th>presence_5</th>\n",
       "      <th>presence_6</th>\n",
       "      <th>presence_7</th>\n",
       "      <th>presence_8</th>\n",
       "      <th>presence_9</th>\n",
       "      <th>presence_10</th>\n",
       "      <th>presence_11</th>\n",
       "      <th>presence_12</th>\n",
       "      <th>presence_13</th>\n",
       "      <th>presence_14</th>\n",
       "      <th>presence_15</th>\n",
       "      <th>presence_16</th>\n",
       "      <th>presence_17</th>\n",
       "      <th>presence_18</th>\n",
       "      <th>presence_19</th>\n",
       "      <th>presence_20</th>\n",
       "    </tr>\n",
       "  </thead>\n",
       "  <tbody>\n",
       "    <tr>\n",
       "      <th>count</th>\n",
       "      <td>39359.0</td>\n",
       "      <td>39359.000000</td>\n",
       "      <td>39359.00000</td>\n",
       "      <td>39359.000000</td>\n",
       "      <td>39359.000000</td>\n",
       "      <td>39359.000000</td>\n",
       "      <td>39359.000000</td>\n",
       "      <td>39359.000000</td>\n",
       "      <td>39359.000000</td>\n",
       "      <td>39359.000000</td>\n",
       "      <td>39359.000000</td>\n",
       "      <td>39359.000000</td>\n",
       "      <td>39359.000000</td>\n",
       "      <td>39359.000000</td>\n",
       "      <td>39359.000000</td>\n",
       "      <td>39359.000000</td>\n",
       "      <td>39359.000000</td>\n",
       "      <td>39359.000000</td>\n",
       "      <td>39359.00000</td>\n",
       "      <td>39359.000000</td>\n",
       "    </tr>\n",
       "    <tr>\n",
       "      <th>mean</th>\n",
       "      <td>1.0</td>\n",
       "      <td>0.080388</td>\n",
       "      <td>0.06461</td>\n",
       "      <td>0.059478</td>\n",
       "      <td>0.047206</td>\n",
       "      <td>0.040499</td>\n",
       "      <td>0.058741</td>\n",
       "      <td>0.053228</td>\n",
       "      <td>0.057166</td>\n",
       "      <td>0.053914</td>\n",
       "      <td>0.055337</td>\n",
       "      <td>0.048045</td>\n",
       "      <td>0.042862</td>\n",
       "      <td>0.055616</td>\n",
       "      <td>0.045225</td>\n",
       "      <td>0.048375</td>\n",
       "      <td>0.048528</td>\n",
       "      <td>0.056658</td>\n",
       "      <td>0.04370</td>\n",
       "      <td>0.038212</td>\n",
       "    </tr>\n",
       "    <tr>\n",
       "      <th>std</th>\n",
       "      <td>0.0</td>\n",
       "      <td>0.271897</td>\n",
       "      <td>0.24584</td>\n",
       "      <td>0.236520</td>\n",
       "      <td>0.212083</td>\n",
       "      <td>0.197129</td>\n",
       "      <td>0.235143</td>\n",
       "      <td>0.224491</td>\n",
       "      <td>0.232163</td>\n",
       "      <td>0.225851</td>\n",
       "      <td>0.228639</td>\n",
       "      <td>0.213864</td>\n",
       "      <td>0.202548</td>\n",
       "      <td>0.229182</td>\n",
       "      <td>0.207799</td>\n",
       "      <td>0.214561</td>\n",
       "      <td>0.214881</td>\n",
       "      <td>0.231191</td>\n",
       "      <td>0.20443</td>\n",
       "      <td>0.191711</td>\n",
       "    </tr>\n",
       "    <tr>\n",
       "      <th>min</th>\n",
       "      <td>1.0</td>\n",
       "      <td>0.000000</td>\n",
       "      <td>0.00000</td>\n",
       "      <td>0.000000</td>\n",
       "      <td>0.000000</td>\n",
       "      <td>0.000000</td>\n",
       "      <td>0.000000</td>\n",
       "      <td>0.000000</td>\n",
       "      <td>0.000000</td>\n",
       "      <td>0.000000</td>\n",
       "      <td>0.000000</td>\n",
       "      <td>0.000000</td>\n",
       "      <td>0.000000</td>\n",
       "      <td>0.000000</td>\n",
       "      <td>0.000000</td>\n",
       "      <td>0.000000</td>\n",
       "      <td>0.000000</td>\n",
       "      <td>0.000000</td>\n",
       "      <td>0.00000</td>\n",
       "      <td>0.000000</td>\n",
       "    </tr>\n",
       "    <tr>\n",
       "      <th>25%</th>\n",
       "      <td>1.0</td>\n",
       "      <td>0.000000</td>\n",
       "      <td>0.00000</td>\n",
       "      <td>0.000000</td>\n",
       "      <td>0.000000</td>\n",
       "      <td>0.000000</td>\n",
       "      <td>0.000000</td>\n",
       "      <td>0.000000</td>\n",
       "      <td>0.000000</td>\n",
       "      <td>0.000000</td>\n",
       "      <td>0.000000</td>\n",
       "      <td>0.000000</td>\n",
       "      <td>0.000000</td>\n",
       "      <td>0.000000</td>\n",
       "      <td>0.000000</td>\n",
       "      <td>0.000000</td>\n",
       "      <td>0.000000</td>\n",
       "      <td>0.000000</td>\n",
       "      <td>0.00000</td>\n",
       "      <td>0.000000</td>\n",
       "    </tr>\n",
       "    <tr>\n",
       "      <th>50%</th>\n",
       "      <td>1.0</td>\n",
       "      <td>0.000000</td>\n",
       "      <td>0.00000</td>\n",
       "      <td>0.000000</td>\n",
       "      <td>0.000000</td>\n",
       "      <td>0.000000</td>\n",
       "      <td>0.000000</td>\n",
       "      <td>0.000000</td>\n",
       "      <td>0.000000</td>\n",
       "      <td>0.000000</td>\n",
       "      <td>0.000000</td>\n",
       "      <td>0.000000</td>\n",
       "      <td>0.000000</td>\n",
       "      <td>0.000000</td>\n",
       "      <td>0.000000</td>\n",
       "      <td>0.000000</td>\n",
       "      <td>0.000000</td>\n",
       "      <td>0.000000</td>\n",
       "      <td>0.00000</td>\n",
       "      <td>0.000000</td>\n",
       "    </tr>\n",
       "    <tr>\n",
       "      <th>75%</th>\n",
       "      <td>1.0</td>\n",
       "      <td>0.000000</td>\n",
       "      <td>0.00000</td>\n",
       "      <td>0.000000</td>\n",
       "      <td>0.000000</td>\n",
       "      <td>0.000000</td>\n",
       "      <td>0.000000</td>\n",
       "      <td>0.000000</td>\n",
       "      <td>0.000000</td>\n",
       "      <td>0.000000</td>\n",
       "      <td>0.000000</td>\n",
       "      <td>0.000000</td>\n",
       "      <td>0.000000</td>\n",
       "      <td>0.000000</td>\n",
       "      <td>0.000000</td>\n",
       "      <td>0.000000</td>\n",
       "      <td>0.000000</td>\n",
       "      <td>0.000000</td>\n",
       "      <td>0.00000</td>\n",
       "      <td>0.000000</td>\n",
       "    </tr>\n",
       "    <tr>\n",
       "      <th>max</th>\n",
       "      <td>1.0</td>\n",
       "      <td>1.000000</td>\n",
       "      <td>1.00000</td>\n",
       "      <td>1.000000</td>\n",
       "      <td>1.000000</td>\n",
       "      <td>1.000000</td>\n",
       "      <td>1.000000</td>\n",
       "      <td>1.000000</td>\n",
       "      <td>1.000000</td>\n",
       "      <td>1.000000</td>\n",
       "      <td>1.000000</td>\n",
       "      <td>1.000000</td>\n",
       "      <td>1.000000</td>\n",
       "      <td>1.000000</td>\n",
       "      <td>1.000000</td>\n",
       "      <td>1.000000</td>\n",
       "      <td>1.000000</td>\n",
       "      <td>1.000000</td>\n",
       "      <td>1.00000</td>\n",
       "      <td>1.000000</td>\n",
       "    </tr>\n",
       "  </tbody>\n",
       "</table>\n",
       "</div>"
      ],
      "text/plain": [
       "       presence_1    presence_2   presence_3    presence_4    presence_5  \\\n",
       "count     39359.0  39359.000000  39359.00000  39359.000000  39359.000000   \n",
       "mean          1.0      0.080388      0.06461      0.059478      0.047206   \n",
       "std           0.0      0.271897      0.24584      0.236520      0.212083   \n",
       "min           1.0      0.000000      0.00000      0.000000      0.000000   \n",
       "25%           1.0      0.000000      0.00000      0.000000      0.000000   \n",
       "50%           1.0      0.000000      0.00000      0.000000      0.000000   \n",
       "75%           1.0      0.000000      0.00000      0.000000      0.000000   \n",
       "max           1.0      1.000000      1.00000      1.000000      1.000000   \n",
       "\n",
       "         presence_6    presence_7    presence_8    presence_9   presence_10  \\\n",
       "count  39359.000000  39359.000000  39359.000000  39359.000000  39359.000000   \n",
       "mean       0.040499      0.058741      0.053228      0.057166      0.053914   \n",
       "std        0.197129      0.235143      0.224491      0.232163      0.225851   \n",
       "min        0.000000      0.000000      0.000000      0.000000      0.000000   \n",
       "25%        0.000000      0.000000      0.000000      0.000000      0.000000   \n",
       "50%        0.000000      0.000000      0.000000      0.000000      0.000000   \n",
       "75%        0.000000      0.000000      0.000000      0.000000      0.000000   \n",
       "max        1.000000      1.000000      1.000000      1.000000      1.000000   \n",
       "\n",
       "        presence_11   presence_12   presence_13   presence_14   presence_15  \\\n",
       "count  39359.000000  39359.000000  39359.000000  39359.000000  39359.000000   \n",
       "mean       0.055337      0.048045      0.042862      0.055616      0.045225   \n",
       "std        0.228639      0.213864      0.202548      0.229182      0.207799   \n",
       "min        0.000000      0.000000      0.000000      0.000000      0.000000   \n",
       "25%        0.000000      0.000000      0.000000      0.000000      0.000000   \n",
       "50%        0.000000      0.000000      0.000000      0.000000      0.000000   \n",
       "75%        0.000000      0.000000      0.000000      0.000000      0.000000   \n",
       "max        1.000000      1.000000      1.000000      1.000000      1.000000   \n",
       "\n",
       "        presence_16   presence_17   presence_18  presence_19   presence_20  \n",
       "count  39359.000000  39359.000000  39359.000000  39359.00000  39359.000000  \n",
       "mean       0.048375      0.048528      0.056658      0.04370      0.038212  \n",
       "std        0.214561      0.214881      0.231191      0.20443      0.191711  \n",
       "min        0.000000      0.000000      0.000000      0.00000      0.000000  \n",
       "25%        0.000000      0.000000      0.000000      0.00000      0.000000  \n",
       "50%        0.000000      0.000000      0.000000      0.00000      0.000000  \n",
       "75%        0.000000      0.000000      0.000000      0.00000      0.000000  \n",
       "max        1.000000      1.000000      1.000000      1.00000      1.000000  "
      ]
     },
     "execution_count": 96,
     "metadata": {},
     "output_type": "execute_result"
    }
   ],
   "source": [
    "df_merged[column_names].describe()"
   ]
  },
  {
   "cell_type": "markdown",
   "id": "385f7658",
   "metadata": {},
   "source": [
    "A nouveau , les prédictions de présence sont dans le même ordre de grandeur mais manquent de précision. Les quartiles sont bons et les écarts type 10 fois trop petits."
   ]
  },
  {
   "cell_type": "code",
   "execution_count": 97,
   "id": "7f9ee68e",
   "metadata": {
    "scrolled": true
   },
   "outputs": [
    {
     "data": {
      "text/html": [
       "<div>\n",
       "<style scoped>\n",
       "    .dataframe tbody tr th:only-of-type {\n",
       "        vertical-align: middle;\n",
       "    }\n",
       "\n",
       "    .dataframe tbody tr th {\n",
       "        vertical-align: top;\n",
       "    }\n",
       "\n",
       "    .dataframe thead th {\n",
       "        text-align: right;\n",
       "    }\n",
       "</style>\n",
       "<table border=\"1\" class=\"dataframe\">\n",
       "  <thead>\n",
       "    <tr style=\"text-align: right;\">\n",
       "      <th></th>\n",
       "      <th>time_spend_1</th>\n",
       "      <th>time_spend_2</th>\n",
       "      <th>time_spend_3</th>\n",
       "      <th>time_spend_4</th>\n",
       "      <th>time_spend_5</th>\n",
       "      <th>time_spend_6</th>\n",
       "      <th>time_spend_7</th>\n",
       "      <th>time_spend_8</th>\n",
       "      <th>time_spend_9</th>\n",
       "      <th>time_spend_10</th>\n",
       "      <th>time_spend_11</th>\n",
       "      <th>time_spend_12</th>\n",
       "      <th>time_spend_13</th>\n",
       "      <th>time_spend_14</th>\n",
       "      <th>time_spend_15</th>\n",
       "      <th>time_spend_16</th>\n",
       "      <th>time_spend_17</th>\n",
       "      <th>time_spend_18</th>\n",
       "      <th>time_spend_19</th>\n",
       "      <th>time_spend_20</th>\n",
       "    </tr>\n",
       "  </thead>\n",
       "  <tbody>\n",
       "    <tr>\n",
       "      <th>count</th>\n",
       "      <td>39372.000000</td>\n",
       "      <td>39372.000000</td>\n",
       "      <td>39372.000000</td>\n",
       "      <td>39372.000000</td>\n",
       "      <td>39372.000000</td>\n",
       "      <td>39372.000000</td>\n",
       "      <td>39372.000000</td>\n",
       "      <td>39372.000000</td>\n",
       "      <td>39372.000000</td>\n",
       "      <td>39372.000000</td>\n",
       "      <td>39372.000000</td>\n",
       "      <td>39372.000000</td>\n",
       "      <td>39372.000000</td>\n",
       "      <td>39372.000000</td>\n",
       "      <td>39372.000000</td>\n",
       "      <td>39372.000000</td>\n",
       "      <td>39372.000000</td>\n",
       "      <td>39372.000000</td>\n",
       "      <td>39372.000000</td>\n",
       "      <td>39372.000000</td>\n",
       "    </tr>\n",
       "    <tr>\n",
       "      <th>mean</th>\n",
       "      <td>389.982221</td>\n",
       "      <td>0.458041</td>\n",
       "      <td>34.975287</td>\n",
       "      <td>39.688332</td>\n",
       "      <td>1.304150</td>\n",
       "      <td>0.288301</td>\n",
       "      <td>10.314157</td>\n",
       "      <td>1.518490</td>\n",
       "      <td>50.945621</td>\n",
       "      <td>2.461699</td>\n",
       "      <td>2.459921</td>\n",
       "      <td>2.259067</td>\n",
       "      <td>1.835975</td>\n",
       "      <td>0.186732</td>\n",
       "      <td>3.077619</td>\n",
       "      <td>1.466423</td>\n",
       "      <td>1.117291</td>\n",
       "      <td>8.307731</td>\n",
       "      <td>2.516839</td>\n",
       "      <td>2.949177</td>\n",
       "    </tr>\n",
       "    <tr>\n",
       "      <th>std</th>\n",
       "      <td>324.878163</td>\n",
       "      <td>16.715592</td>\n",
       "      <td>109.915424</td>\n",
       "      <td>149.827668</td>\n",
       "      <td>20.037161</td>\n",
       "      <td>9.088152</td>\n",
       "      <td>73.379478</td>\n",
       "      <td>25.419406</td>\n",
       "      <td>142.770388</td>\n",
       "      <td>33.822397</td>\n",
       "      <td>30.638793</td>\n",
       "      <td>28.962121</td>\n",
       "      <td>28.777048</td>\n",
       "      <td>10.040573</td>\n",
       "      <td>28.170798</td>\n",
       "      <td>26.834937</td>\n",
       "      <td>16.563396</td>\n",
       "      <td>61.002555</td>\n",
       "      <td>37.492201</td>\n",
       "      <td>38.169800</td>\n",
       "    </tr>\n",
       "    <tr>\n",
       "      <th>min</th>\n",
       "      <td>0.000000</td>\n",
       "      <td>0.000000</td>\n",
       "      <td>0.000000</td>\n",
       "      <td>0.000000</td>\n",
       "      <td>0.000000</td>\n",
       "      <td>0.000000</td>\n",
       "      <td>0.000000</td>\n",
       "      <td>0.000000</td>\n",
       "      <td>0.000000</td>\n",
       "      <td>0.000000</td>\n",
       "      <td>0.000000</td>\n",
       "      <td>0.000000</td>\n",
       "      <td>0.000000</td>\n",
       "      <td>0.000000</td>\n",
       "      <td>0.000000</td>\n",
       "      <td>0.000000</td>\n",
       "      <td>0.000000</td>\n",
       "      <td>0.000000</td>\n",
       "      <td>0.000000</td>\n",
       "      <td>0.000000</td>\n",
       "    </tr>\n",
       "    <tr>\n",
       "      <th>25%</th>\n",
       "      <td>89.000000</td>\n",
       "      <td>0.000000</td>\n",
       "      <td>0.000000</td>\n",
       "      <td>0.000000</td>\n",
       "      <td>0.000000</td>\n",
       "      <td>0.000000</td>\n",
       "      <td>0.000000</td>\n",
       "      <td>0.000000</td>\n",
       "      <td>0.000000</td>\n",
       "      <td>0.000000</td>\n",
       "      <td>0.000000</td>\n",
       "      <td>0.000000</td>\n",
       "      <td>0.000000</td>\n",
       "      <td>0.000000</td>\n",
       "      <td>0.000000</td>\n",
       "      <td>0.000000</td>\n",
       "      <td>0.000000</td>\n",
       "      <td>0.000000</td>\n",
       "      <td>0.000000</td>\n",
       "      <td>0.000000</td>\n",
       "    </tr>\n",
       "    <tr>\n",
       "      <th>50%</th>\n",
       "      <td>295.000000</td>\n",
       "      <td>0.000000</td>\n",
       "      <td>0.000000</td>\n",
       "      <td>0.000000</td>\n",
       "      <td>0.000000</td>\n",
       "      <td>0.000000</td>\n",
       "      <td>0.000000</td>\n",
       "      <td>0.000000</td>\n",
       "      <td>0.000000</td>\n",
       "      <td>0.000000</td>\n",
       "      <td>0.000000</td>\n",
       "      <td>0.000000</td>\n",
       "      <td>0.000000</td>\n",
       "      <td>0.000000</td>\n",
       "      <td>0.000000</td>\n",
       "      <td>0.000000</td>\n",
       "      <td>0.000000</td>\n",
       "      <td>0.000000</td>\n",
       "      <td>0.000000</td>\n",
       "      <td>0.000000</td>\n",
       "    </tr>\n",
       "    <tr>\n",
       "      <th>75%</th>\n",
       "      <td>628.000000</td>\n",
       "      <td>0.000000</td>\n",
       "      <td>0.000000</td>\n",
       "      <td>0.000000</td>\n",
       "      <td>0.000000</td>\n",
       "      <td>0.000000</td>\n",
       "      <td>0.000000</td>\n",
       "      <td>0.000000</td>\n",
       "      <td>0.000000</td>\n",
       "      <td>0.000000</td>\n",
       "      <td>0.000000</td>\n",
       "      <td>0.000000</td>\n",
       "      <td>0.000000</td>\n",
       "      <td>0.000000</td>\n",
       "      <td>0.000000</td>\n",
       "      <td>0.000000</td>\n",
       "      <td>0.000000</td>\n",
       "      <td>0.000000</td>\n",
       "      <td>0.000000</td>\n",
       "      <td>0.000000</td>\n",
       "    </tr>\n",
       "    <tr>\n",
       "      <th>max</th>\n",
       "      <td>1831.000000</td>\n",
       "      <td>1380.000000</td>\n",
       "      <td>1284.000000</td>\n",
       "      <td>1747.000000</td>\n",
       "      <td>610.000000</td>\n",
       "      <td>401.000000</td>\n",
       "      <td>1401.000000</td>\n",
       "      <td>1025.000000</td>\n",
       "      <td>1361.000000</td>\n",
       "      <td>1133.000000</td>\n",
       "      <td>1106.000000</td>\n",
       "      <td>987.000000</td>\n",
       "      <td>1154.000000</td>\n",
       "      <td>955.000000</td>\n",
       "      <td>730.000000</td>\n",
       "      <td>1286.000000</td>\n",
       "      <td>581.000000</td>\n",
       "      <td>1191.000000</td>\n",
       "      <td>1394.000000</td>\n",
       "      <td>856.000000</td>\n",
       "    </tr>\n",
       "  </tbody>\n",
       "</table>\n",
       "</div>"
      ],
      "text/plain": [
       "       time_spend_1  time_spend_2  time_spend_3  time_spend_4  time_spend_5  \\\n",
       "count  39372.000000  39372.000000  39372.000000  39372.000000  39372.000000   \n",
       "mean     389.982221      0.458041     34.975287     39.688332      1.304150   \n",
       "std      324.878163     16.715592    109.915424    149.827668     20.037161   \n",
       "min        0.000000      0.000000      0.000000      0.000000      0.000000   \n",
       "25%       89.000000      0.000000      0.000000      0.000000      0.000000   \n",
       "50%      295.000000      0.000000      0.000000      0.000000      0.000000   \n",
       "75%      628.000000      0.000000      0.000000      0.000000      0.000000   \n",
       "max     1831.000000   1380.000000   1284.000000   1747.000000    610.000000   \n",
       "\n",
       "       time_spend_6  time_spend_7  time_spend_8  time_spend_9  time_spend_10  \\\n",
       "count  39372.000000  39372.000000  39372.000000  39372.000000   39372.000000   \n",
       "mean       0.288301     10.314157      1.518490     50.945621       2.461699   \n",
       "std        9.088152     73.379478     25.419406    142.770388      33.822397   \n",
       "min        0.000000      0.000000      0.000000      0.000000       0.000000   \n",
       "25%        0.000000      0.000000      0.000000      0.000000       0.000000   \n",
       "50%        0.000000      0.000000      0.000000      0.000000       0.000000   \n",
       "75%        0.000000      0.000000      0.000000      0.000000       0.000000   \n",
       "max      401.000000   1401.000000   1025.000000   1361.000000    1133.000000   \n",
       "\n",
       "       time_spend_11  time_spend_12  time_spend_13  time_spend_14  \\\n",
       "count   39372.000000   39372.000000   39372.000000   39372.000000   \n",
       "mean        2.459921       2.259067       1.835975       0.186732   \n",
       "std        30.638793      28.962121      28.777048      10.040573   \n",
       "min         0.000000       0.000000       0.000000       0.000000   \n",
       "25%         0.000000       0.000000       0.000000       0.000000   \n",
       "50%         0.000000       0.000000       0.000000       0.000000   \n",
       "75%         0.000000       0.000000       0.000000       0.000000   \n",
       "max      1106.000000     987.000000    1154.000000     955.000000   \n",
       "\n",
       "       time_spend_15  time_spend_16  time_spend_17  time_spend_18  \\\n",
       "count   39372.000000   39372.000000   39372.000000   39372.000000   \n",
       "mean        3.077619       1.466423       1.117291       8.307731   \n",
       "std        28.170798      26.834937      16.563396      61.002555   \n",
       "min         0.000000       0.000000       0.000000       0.000000   \n",
       "25%         0.000000       0.000000       0.000000       0.000000   \n",
       "50%         0.000000       0.000000       0.000000       0.000000   \n",
       "75%         0.000000       0.000000       0.000000       0.000000   \n",
       "max       730.000000    1286.000000     581.000000    1191.000000   \n",
       "\n",
       "       time_spend_19  time_spend_20  \n",
       "count   39372.000000   39372.000000  \n",
       "mean        2.516839       2.949177  \n",
       "std        37.492201      38.169800  \n",
       "min         0.000000       0.000000  \n",
       "25%         0.000000       0.000000  \n",
       "50%         0.000000       0.000000  \n",
       "75%         0.000000       0.000000  \n",
       "max      1394.000000     856.000000  "
      ]
     },
     "execution_count": 97,
     "metadata": {},
     "output_type": "execute_result"
    }
   ],
   "source": [
    "for i in range(1, 21):  # Pour les colonnes de 1 à 20\n",
    "    presence_col = f'presence_{i}'\n",
    "    time_spend_col = f'time_spend_{i}'\n",
    "    \n",
    "    df.loc[df[presence_col] == 0, time_spend_col] = 0\n",
    "df[column_names2].describe()"
   ]
  },
  {
   "cell_type": "code",
   "execution_count": 98,
   "id": "a84cf486",
   "metadata": {},
   "outputs": [
    {
     "data": {
      "text/html": [
       "<div>\n",
       "<style scoped>\n",
       "    .dataframe tbody tr th:only-of-type {\n",
       "        vertical-align: middle;\n",
       "    }\n",
       "\n",
       "    .dataframe tbody tr th {\n",
       "        vertical-align: top;\n",
       "    }\n",
       "\n",
       "    .dataframe thead th {\n",
       "        text-align: right;\n",
       "    }\n",
       "</style>\n",
       "<table border=\"1\" class=\"dataframe\">\n",
       "  <thead>\n",
       "    <tr style=\"text-align: right;\">\n",
       "      <th></th>\n",
       "      <th>time_spend_1</th>\n",
       "      <th>time_spend_2</th>\n",
       "      <th>time_spend_3</th>\n",
       "      <th>time_spend_4</th>\n",
       "      <th>time_spend_5</th>\n",
       "      <th>time_spend_6</th>\n",
       "      <th>time_spend_7</th>\n",
       "      <th>time_spend_8</th>\n",
       "      <th>time_spend_9</th>\n",
       "      <th>time_spend_10</th>\n",
       "      <th>time_spend_11</th>\n",
       "      <th>time_spend_12</th>\n",
       "      <th>time_spend_13</th>\n",
       "      <th>time_spend_14</th>\n",
       "      <th>time_spend_15</th>\n",
       "      <th>time_spend_16</th>\n",
       "      <th>time_spend_17</th>\n",
       "      <th>time_spend_18</th>\n",
       "      <th>time_spend_19</th>\n",
       "      <th>time_spend_20</th>\n",
       "    </tr>\n",
       "  </thead>\n",
       "  <tbody>\n",
       "    <tr>\n",
       "      <th>count</th>\n",
       "      <td>39359.000000</td>\n",
       "      <td>39359.000000</td>\n",
       "      <td>39359.000000</td>\n",
       "      <td>39359.000000</td>\n",
       "      <td>39359.000000</td>\n",
       "      <td>39359.000000</td>\n",
       "      <td>39359.000000</td>\n",
       "      <td>39359.000000</td>\n",
       "      <td>39359.000000</td>\n",
       "      <td>39359.000000</td>\n",
       "      <td>39359.000000</td>\n",
       "      <td>39359.000000</td>\n",
       "      <td>39359.000000</td>\n",
       "      <td>39359.000000</td>\n",
       "      <td>39359.000000</td>\n",
       "      <td>39359.000000</td>\n",
       "      <td>39359.000000</td>\n",
       "      <td>39359.000000</td>\n",
       "      <td>39359.000000</td>\n",
       "      <td>39359.000000</td>\n",
       "    </tr>\n",
       "    <tr>\n",
       "      <th>mean</th>\n",
       "      <td>6.814374</td>\n",
       "      <td>1.115583</td>\n",
       "      <td>0.822607</td>\n",
       "      <td>0.768700</td>\n",
       "      <td>0.645295</td>\n",
       "      <td>0.578930</td>\n",
       "      <td>0.684937</td>\n",
       "      <td>0.797196</td>\n",
       "      <td>0.744486</td>\n",
       "      <td>0.783105</td>\n",
       "      <td>0.734430</td>\n",
       "      <td>0.541158</td>\n",
       "      <td>0.720798</td>\n",
       "      <td>0.835030</td>\n",
       "      <td>0.586891</td>\n",
       "      <td>0.755884</td>\n",
       "      <td>0.771310</td>\n",
       "      <td>1.049381</td>\n",
       "      <td>0.969865</td>\n",
       "      <td>0.614472</td>\n",
       "    </tr>\n",
       "    <tr>\n",
       "      <th>std</th>\n",
       "      <td>44.042546</td>\n",
       "      <td>20.315003</td>\n",
       "      <td>14.260112</td>\n",
       "      <td>16.517861</td>\n",
       "      <td>12.336024</td>\n",
       "      <td>10.767106</td>\n",
       "      <td>14.354503</td>\n",
       "      <td>15.421609</td>\n",
       "      <td>13.633480</td>\n",
       "      <td>14.908634</td>\n",
       "      <td>13.296938</td>\n",
       "      <td>11.654966</td>\n",
       "      <td>16.890564</td>\n",
       "      <td>15.129999</td>\n",
       "      <td>9.955369</td>\n",
       "      <td>14.199671</td>\n",
       "      <td>12.544715</td>\n",
       "      <td>18.237266</td>\n",
       "      <td>18.297534</td>\n",
       "      <td>12.801165</td>\n",
       "    </tr>\n",
       "    <tr>\n",
       "      <th>min</th>\n",
       "      <td>0.000000</td>\n",
       "      <td>0.000000</td>\n",
       "      <td>0.000000</td>\n",
       "      <td>0.000000</td>\n",
       "      <td>0.000000</td>\n",
       "      <td>0.000000</td>\n",
       "      <td>0.000000</td>\n",
       "      <td>0.000000</td>\n",
       "      <td>0.000000</td>\n",
       "      <td>0.000000</td>\n",
       "      <td>0.000000</td>\n",
       "      <td>0.000000</td>\n",
       "      <td>0.000000</td>\n",
       "      <td>0.000000</td>\n",
       "      <td>0.000000</td>\n",
       "      <td>0.000000</td>\n",
       "      <td>0.000000</td>\n",
       "      <td>0.000000</td>\n",
       "      <td>0.000000</td>\n",
       "      <td>0.000000</td>\n",
       "    </tr>\n",
       "    <tr>\n",
       "      <th>25%</th>\n",
       "      <td>0.030543</td>\n",
       "      <td>0.000000</td>\n",
       "      <td>0.000000</td>\n",
       "      <td>0.000000</td>\n",
       "      <td>0.000000</td>\n",
       "      <td>0.000000</td>\n",
       "      <td>0.000000</td>\n",
       "      <td>0.000000</td>\n",
       "      <td>0.000000</td>\n",
       "      <td>0.000000</td>\n",
       "      <td>0.000000</td>\n",
       "      <td>0.000000</td>\n",
       "      <td>0.000000</td>\n",
       "      <td>0.000000</td>\n",
       "      <td>0.000000</td>\n",
       "      <td>0.000000</td>\n",
       "      <td>0.000000</td>\n",
       "      <td>0.000000</td>\n",
       "      <td>0.000000</td>\n",
       "      <td>0.000000</td>\n",
       "    </tr>\n",
       "    <tr>\n",
       "      <th>50%</th>\n",
       "      <td>0.238631</td>\n",
       "      <td>0.000000</td>\n",
       "      <td>0.000000</td>\n",
       "      <td>0.000000</td>\n",
       "      <td>0.000000</td>\n",
       "      <td>0.000000</td>\n",
       "      <td>0.000000</td>\n",
       "      <td>0.000000</td>\n",
       "      <td>0.000000</td>\n",
       "      <td>0.000000</td>\n",
       "      <td>0.000000</td>\n",
       "      <td>0.000000</td>\n",
       "      <td>0.000000</td>\n",
       "      <td>0.000000</td>\n",
       "      <td>0.000000</td>\n",
       "      <td>0.000000</td>\n",
       "      <td>0.000000</td>\n",
       "      <td>0.000000</td>\n",
       "      <td>0.000000</td>\n",
       "      <td>0.000000</td>\n",
       "    </tr>\n",
       "    <tr>\n",
       "      <th>75%</th>\n",
       "      <td>1.422668</td>\n",
       "      <td>0.000000</td>\n",
       "      <td>0.000000</td>\n",
       "      <td>0.000000</td>\n",
       "      <td>0.000000</td>\n",
       "      <td>0.000000</td>\n",
       "      <td>0.000000</td>\n",
       "      <td>0.000000</td>\n",
       "      <td>0.000000</td>\n",
       "      <td>0.000000</td>\n",
       "      <td>0.000000</td>\n",
       "      <td>0.000000</td>\n",
       "      <td>0.000000</td>\n",
       "      <td>0.000000</td>\n",
       "      <td>0.000000</td>\n",
       "      <td>0.000000</td>\n",
       "      <td>0.000000</td>\n",
       "      <td>0.000000</td>\n",
       "      <td>0.000000</td>\n",
       "      <td>0.000000</td>\n",
       "    </tr>\n",
       "    <tr>\n",
       "      <th>max</th>\n",
       "      <td>1831.122712</td>\n",
       "      <td>1765.269726</td>\n",
       "      <td>1301.029843</td>\n",
       "      <td>1746.870532</td>\n",
       "      <td>943.308616</td>\n",
       "      <td>759.313209</td>\n",
       "      <td>1506.955224</td>\n",
       "      <td>1410.692171</td>\n",
       "      <td>1391.601146</td>\n",
       "      <td>1533.652409</td>\n",
       "      <td>1301.030383</td>\n",
       "      <td>1274.724828</td>\n",
       "      <td>1490.646635</td>\n",
       "      <td>1574.801676</td>\n",
       "      <td>788.794520</td>\n",
       "      <td>1497.551888</td>\n",
       "      <td>723.989529</td>\n",
       "      <td>1253.961298</td>\n",
       "      <td>1633.965828</td>\n",
       "      <td>1339.384179</td>\n",
       "    </tr>\n",
       "  </tbody>\n",
       "</table>\n",
       "</div>"
      ],
      "text/plain": [
       "       time_spend_1  time_spend_2  time_spend_3  time_spend_4  time_spend_5  \\\n",
       "count  39359.000000  39359.000000  39359.000000  39359.000000  39359.000000   \n",
       "mean       6.814374      1.115583      0.822607      0.768700      0.645295   \n",
       "std       44.042546     20.315003     14.260112     16.517861     12.336024   \n",
       "min        0.000000      0.000000      0.000000      0.000000      0.000000   \n",
       "25%        0.030543      0.000000      0.000000      0.000000      0.000000   \n",
       "50%        0.238631      0.000000      0.000000      0.000000      0.000000   \n",
       "75%        1.422668      0.000000      0.000000      0.000000      0.000000   \n",
       "max     1831.122712   1765.269726   1301.029843   1746.870532    943.308616   \n",
       "\n",
       "       time_spend_6  time_spend_7  time_spend_8  time_spend_9  time_spend_10  \\\n",
       "count  39359.000000  39359.000000  39359.000000  39359.000000   39359.000000   \n",
       "mean       0.578930      0.684937      0.797196      0.744486       0.783105   \n",
       "std       10.767106     14.354503     15.421609     13.633480      14.908634   \n",
       "min        0.000000      0.000000      0.000000      0.000000       0.000000   \n",
       "25%        0.000000      0.000000      0.000000      0.000000       0.000000   \n",
       "50%        0.000000      0.000000      0.000000      0.000000       0.000000   \n",
       "75%        0.000000      0.000000      0.000000      0.000000       0.000000   \n",
       "max      759.313209   1506.955224   1410.692171   1391.601146    1533.652409   \n",
       "\n",
       "       time_spend_11  time_spend_12  time_spend_13  time_spend_14  \\\n",
       "count   39359.000000   39359.000000   39359.000000   39359.000000   \n",
       "mean        0.734430       0.541158       0.720798       0.835030   \n",
       "std        13.296938      11.654966      16.890564      15.129999   \n",
       "min         0.000000       0.000000       0.000000       0.000000   \n",
       "25%         0.000000       0.000000       0.000000       0.000000   \n",
       "50%         0.000000       0.000000       0.000000       0.000000   \n",
       "75%         0.000000       0.000000       0.000000       0.000000   \n",
       "max      1301.030383    1274.724828    1490.646635    1574.801676   \n",
       "\n",
       "       time_spend_15  time_spend_16  time_spend_17  time_spend_18  \\\n",
       "count   39359.000000   39359.000000   39359.000000   39359.000000   \n",
       "mean        0.586891       0.755884       0.771310       1.049381   \n",
       "std         9.955369      14.199671      12.544715      18.237266   \n",
       "min         0.000000       0.000000       0.000000       0.000000   \n",
       "25%         0.000000       0.000000       0.000000       0.000000   \n",
       "50%         0.000000       0.000000       0.000000       0.000000   \n",
       "75%         0.000000       0.000000       0.000000       0.000000   \n",
       "max       788.794520    1497.551888     723.989529    1253.961298   \n",
       "\n",
       "       time_spend_19  time_spend_20  \n",
       "count   39359.000000   39359.000000  \n",
       "mean        0.969865       0.614472  \n",
       "std        18.297534      12.801165  \n",
       "min         0.000000       0.000000  \n",
       "25%         0.000000       0.000000  \n",
       "50%         0.000000       0.000000  \n",
       "75%         0.000000       0.000000  \n",
       "max      1633.965828    1339.384179  "
      ]
     },
     "execution_count": 98,
     "metadata": {},
     "output_type": "execute_result"
    }
   ],
   "source": [
    "df_merged[column_names2].describe()"
   ]
  },
  {
   "cell_type": "markdown",
   "id": "10de28ab",
   "metadata": {},
   "source": [
    "Les quartiles sont bons car on s'est arrangé pour synchroniser les 0 de presence et de time spend. Les moyennes sont cependant bien meilleures qu'avec un lr de 10^-3.  Les écarts types sont toujours mauvais."
   ]
  },
  {
   "cell_type": "code",
   "execution_count": 99,
   "id": "2dbfa1ce",
   "metadata": {},
   "outputs": [
    {
     "data": {
      "text/html": [
       "<div>\n",
       "<style scoped>\n",
       "    .dataframe tbody tr th:only-of-type {\n",
       "        vertical-align: middle;\n",
       "    }\n",
       "\n",
       "    .dataframe tbody tr th {\n",
       "        vertical-align: top;\n",
       "    }\n",
       "\n",
       "    .dataframe thead th {\n",
       "        text-align: right;\n",
       "    }\n",
       "</style>\n",
       "<table border=\"1\" class=\"dataframe\">\n",
       "  <thead>\n",
       "    <tr style=\"text-align: right;\">\n",
       "      <th></th>\n",
       "      <th>A</th>\n",
       "      <th>B</th>\n",
       "      <th>transaction</th>\n",
       "      <th>size_time_serie</th>\n",
       "    </tr>\n",
       "  </thead>\n",
       "  <tbody>\n",
       "    <tr>\n",
       "      <th>count</th>\n",
       "      <td>19974.000000</td>\n",
       "      <td>19401.000000</td>\n",
       "      <td>39372.000000</td>\n",
       "      <td>39372.000000</td>\n",
       "    </tr>\n",
       "    <tr>\n",
       "      <th>mean</th>\n",
       "      <td>0.004406</td>\n",
       "      <td>0.012731</td>\n",
       "      <td>0.008483</td>\n",
       "      <td>16.330920</td>\n",
       "    </tr>\n",
       "    <tr>\n",
       "      <th>std</th>\n",
       "      <td>0.066231</td>\n",
       "      <td>0.112115</td>\n",
       "      <td>0.091714</td>\n",
       "      <td>5.210836</td>\n",
       "    </tr>\n",
       "    <tr>\n",
       "      <th>min</th>\n",
       "      <td>0.000000</td>\n",
       "      <td>0.000000</td>\n",
       "      <td>0.000000</td>\n",
       "      <td>0.000000</td>\n",
       "    </tr>\n",
       "    <tr>\n",
       "      <th>25%</th>\n",
       "      <td>0.000000</td>\n",
       "      <td>0.000000</td>\n",
       "      <td>0.000000</td>\n",
       "      <td>12.000000</td>\n",
       "    </tr>\n",
       "    <tr>\n",
       "      <th>50%</th>\n",
       "      <td>0.000000</td>\n",
       "      <td>0.000000</td>\n",
       "      <td>0.000000</td>\n",
       "      <td>20.000000</td>\n",
       "    </tr>\n",
       "    <tr>\n",
       "      <th>75%</th>\n",
       "      <td>0.000000</td>\n",
       "      <td>0.000000</td>\n",
       "      <td>0.000000</td>\n",
       "      <td>20.000000</td>\n",
       "    </tr>\n",
       "    <tr>\n",
       "      <th>max</th>\n",
       "      <td>1.000000</td>\n",
       "      <td>1.000000</td>\n",
       "      <td>1.000000</td>\n",
       "      <td>20.000000</td>\n",
       "    </tr>\n",
       "  </tbody>\n",
       "</table>\n",
       "</div>"
      ],
      "text/plain": [
       "                  A             B   transaction  size_time_serie\n",
       "count  19974.000000  19401.000000  39372.000000     39372.000000\n",
       "mean       0.004406      0.012731      0.008483        16.330920\n",
       "std        0.066231      0.112115      0.091714         5.210836\n",
       "min        0.000000      0.000000      0.000000         0.000000\n",
       "25%        0.000000      0.000000      0.000000        12.000000\n",
       "50%        0.000000      0.000000      0.000000        20.000000\n",
       "75%        0.000000      0.000000      0.000000        20.000000\n",
       "max        1.000000      1.000000      1.000000        20.000000"
      ]
     },
     "execution_count": 99,
     "metadata": {},
     "output_type": "execute_result"
    }
   ],
   "source": [
    "\n",
    "\n",
    "\n",
    "time_spend_columns = [col for col in df.columns if col.startswith('time_spend')]\n",
    "presence_columns = [col for col in df.columns if col.startswith('presence')]\n",
    "\n",
    "df['time_spend_list'] = df[time_spend_columns].values.tolist()\n",
    "df['presence_list'] = df[presence_columns].values.tolist()\n",
    "\n",
    "\n",
    "df[['presence_list', 'time_spend_list']] = df.apply(synchronize_lists, axis=1)\n",
    "\n",
    "df = df.drop(columns=time_spend_columns + presence_columns + ['check A', 'check B'])\n",
    "\n",
    "df['presence_list'] = df['presence_list'].apply(trim_zeros_after_last_one)\n",
    "df['time_spend_list'] = df['time_spend_list'].apply(trim_zeros_after_last_non_zero)\n",
    "\n",
    "df['size_time_serie'] = df['presence_list'].apply(len)\n",
    "df[[\"A\",\"B\",\"transaction\",\"size_time_serie\"]].describe()"
   ]
  },
  {
   "cell_type": "code",
   "execution_count": 100,
   "id": "b562c58f",
   "metadata": {},
   "outputs": [
    {
     "data": {
      "text/html": [
       "<div>\n",
       "<style scoped>\n",
       "    .dataframe tbody tr th:only-of-type {\n",
       "        vertical-align: middle;\n",
       "    }\n",
       "\n",
       "    .dataframe tbody tr th {\n",
       "        vertical-align: top;\n",
       "    }\n",
       "\n",
       "    .dataframe thead th {\n",
       "        text-align: right;\n",
       "    }\n",
       "</style>\n",
       "<table border=\"1\" class=\"dataframe\">\n",
       "  <thead>\n",
       "    <tr style=\"text-align: right;\">\n",
       "      <th></th>\n",
       "      <th>A</th>\n",
       "      <th>B</th>\n",
       "      <th>transactions</th>\n",
       "      <th>size_time_serie</th>\n",
       "    </tr>\n",
       "  </thead>\n",
       "  <tbody>\n",
       "    <tr>\n",
       "      <th>count</th>\n",
       "      <td>22239.000000</td>\n",
       "      <td>17120.000000</td>\n",
       "      <td>39359.000000</td>\n",
       "      <td>39359.000000</td>\n",
       "    </tr>\n",
       "    <tr>\n",
       "      <th>mean</th>\n",
       "      <td>0.043392</td>\n",
       "      <td>0.040129</td>\n",
       "      <td>0.041973</td>\n",
       "      <td>4.543942</td>\n",
       "    </tr>\n",
       "    <tr>\n",
       "      <th>std</th>\n",
       "      <td>0.203743</td>\n",
       "      <td>0.196266</td>\n",
       "      <td>0.200529</td>\n",
       "      <td>6.949397</td>\n",
       "    </tr>\n",
       "    <tr>\n",
       "      <th>min</th>\n",
       "      <td>0.000000</td>\n",
       "      <td>0.000000</td>\n",
       "      <td>0.000000</td>\n",
       "      <td>1.000000</td>\n",
       "    </tr>\n",
       "    <tr>\n",
       "      <th>25%</th>\n",
       "      <td>0.000000</td>\n",
       "      <td>0.000000</td>\n",
       "      <td>0.000000</td>\n",
       "      <td>1.000000</td>\n",
       "    </tr>\n",
       "    <tr>\n",
       "      <th>50%</th>\n",
       "      <td>0.000000</td>\n",
       "      <td>0.000000</td>\n",
       "      <td>0.000000</td>\n",
       "      <td>1.000000</td>\n",
       "    </tr>\n",
       "    <tr>\n",
       "      <th>75%</th>\n",
       "      <td>0.000000</td>\n",
       "      <td>0.000000</td>\n",
       "      <td>0.000000</td>\n",
       "      <td>3.000000</td>\n",
       "    </tr>\n",
       "    <tr>\n",
       "      <th>max</th>\n",
       "      <td>1.000000</td>\n",
       "      <td>1.000000</td>\n",
       "      <td>1.000000</td>\n",
       "      <td>33.000000</td>\n",
       "    </tr>\n",
       "  </tbody>\n",
       "</table>\n",
       "</div>"
      ],
      "text/plain": [
       "                  A             B  transactions  size_time_serie\n",
       "count  22239.000000  17120.000000  39359.000000     39359.000000\n",
       "mean       0.043392      0.040129      0.041973         4.543942\n",
       "std        0.203743      0.196266      0.200529         6.949397\n",
       "min        0.000000      0.000000      0.000000         1.000000\n",
       "25%        0.000000      0.000000      0.000000         1.000000\n",
       "50%        0.000000      0.000000      0.000000         1.000000\n",
       "75%        0.000000      0.000000      0.000000         3.000000\n",
       "max        1.000000      1.000000      1.000000        33.000000"
      ]
     },
     "execution_count": 100,
     "metadata": {},
     "output_type": "execute_result"
    }
   ],
   "source": [
    "df_merged['size_time_serie'] = df_merged['size_time_serie'].replace(0, 1)\n",
    "df_merged[[\"A\",\"B\",\"transactions\",\"size_time_serie\"]].describe()"
   ]
  },
  {
   "cell_type": "markdown",
   "id": "fa6ae1ad",
   "metadata": {},
   "source": [
    "La moyenne de nombre de jours de connexion total est du même ordre de grandeur que ce à quoi on s'attend. Les quartiles sont très satisfaisants."
   ]
  },
  {
   "cell_type": "markdown",
   "id": "f59873b4",
   "metadata": {},
   "source": [
    "En conclusion , un learning rate de 10^-4 a l'air de mieux prévoir la catégorie A , là où un learning rate de 10^-3 prédit mieux la catégorie B et les catégories time_spend.\n",
    "Il faudrait soit essayer des learning rate intermédiaires , soit on se contentera du 10^-3 , en effet , il ne semble pas que la catégorie A ou B aie plus d'importance qu'une autre , donc on cherchera à générer au mieux le plus de catégories possibles."
   ]
  }
 ],
 "metadata": {
  "kernelspec": {
   "display_name": "Python 3 (ipykernel)",
   "language": "python",
   "name": "python3"
  },
  "language_info": {
   "codemirror_mode": {
    "name": "ipython",
    "version": 3
   },
   "file_extension": ".py",
   "mimetype": "text/x-python",
   "name": "python",
   "nbconvert_exporter": "python",
   "pygments_lexer": "ipython3",
   "version": "3.11.5"
  }
 },
 "nbformat": 4,
 "nbformat_minor": 5
}
